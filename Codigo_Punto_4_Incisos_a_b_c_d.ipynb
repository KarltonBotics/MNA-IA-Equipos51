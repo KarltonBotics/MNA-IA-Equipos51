{
  "nbformat": 4,
  "nbformat_minor": 0,
  "metadata": {
    "colab": {
      "provenance": []
    },
    "kernelspec": {
      "name": "python3",
      "display_name": "Python 3"
    },
    "language_info": {
      "name": "python"
    }
  },
  "cells": [
    {
      "cell_type": "markdown",
      "source": [
        "#Union del codigo de modelos y calculo de metricas\n",
        "#Equipo 51"
      ],
      "metadata": {
        "id": "-VTteIkOu6zp"
      }
    },
    {
      "cell_type": "code",
      "execution_count": 36,
      "metadata": {
        "id": "TRwIyiheuZYH"
      },
      "outputs": [],
      "source": [
        "#Cargamos las diferentes librerias\n",
        "import numpy as np\n",
        "import pandas as pd\n",
        "import seaborn as sns \n",
        "import matplotlib.pyplot as plt\n",
        "import math\n",
        "\n",
        "from sklearn.metrics import confusion_matrix \n",
        "from sklearn.model_selection import train_test_split\n",
        "\n",
        "from sklearn.pipeline import Pipeline\n",
        "from sklearn.compose import ColumnTransformer\n",
        "\n",
        "from sklearn.impute import SimpleImputer\n",
        "from sklearn.preprocessing import MinMaxScaler, OneHotEncoder\n",
        "\n",
        "from sklearn.linear_model import LogisticRegression\n",
        "from sklearn.ensemble import RandomForestClassifier\n",
        "from sklearn.tree import DecisionTreeClassifier\n",
        "from sklearn.model_selection import  cross_validate,  RepeatedStratifiedKFold \n",
        "#from sklearn.model_selection import cross_val_score\n",
        "#from sklearn.model_selection import RepeatedStratifiedKFold\n",
        "from sklearn.metrics import make_scorer"
      ]
    },
    {
      "cell_type": "markdown",
      "source": [
        "##Inicio: Nuestras funciones\n"
      ],
      "metadata": {
        "id": "822Qasikv0E3"
      }
    },
    {
      "cell_type": "code",
      "source": [
        "#Función que permite determinar las diferentes metricas de los modelos de clasificación\n",
        "#utilizando los datos provenientes de las matriz de la matriz de confusión.\n",
        "#la función requiere las predicciones del modelos,  y los datos reales. \n",
        "def metricas(yreal, ypred):\n",
        "\n",
        "#Utilizamos la funcion \"confusion_matriz\", para obtener los verdaderos, positivos y negativos\n",
        "#lo mismo con los falsos, positivos y negativos.\n",
        " tn, fp, fn, tp = confusion_matrix(yreal, ypred).ravel()\n",
        "\n",
        "#Calculo de la metrica de exactitud \n",
        " accuracy  = (tp+tn)/(tp+tn+fp+fn)\n",
        "#Calculo de la metrica de precision\n",
        " precision = tp/(tp+fp)\n",
        "#Calculo de la metrica de recall\n",
        " recall    = tp/(tp+fn)\n",
        "#Calculo de la metrica f1score \n",
        " f1score   = 2*((precision*recall)/(precision+recall))\n",
        "#Calculo de la metrica gmen, para esta se requiere la metrica de especificidad\n",
        " specificity= tn/(tn+fp)\n",
        "#Ahora si el calculo de gmena\n",
        " gmean     = math.sqrt(recall*specificity)\n",
        "\n",
        " return accuracy, precision, recall, f1score, gmean\n"
      ],
      "metadata": {
        "id": "8RkHuEVnvvUJ"
      },
      "execution_count": 8,
      "outputs": []
    },
    {
      "cell_type": "code",
      "source": [
        "def mi_accuracy(yreal, ypred):\n",
        "\n",
        "#Utilizamos la funcion \"confusion_matriz\", para obtener los verdaderos, positivos y negativos\n",
        "#lo mismo con los falsos, positivos y negativos.\n",
        " tn, fp, fn, tp = confusion_matrix(yreal, ypred).ravel()\n",
        "\n",
        "#Calculo de la metrica de exactitud \n",
        " accuracy  = tp/(tp+fp)\n",
        " return accuracy"
      ],
      "metadata": {
        "id": "UpuS5yRs4F6w"
      },
      "execution_count": 45,
      "outputs": []
    },
    {
      "cell_type": "code",
      "source": [
        "def mi_precision(yreal, ypred):\n",
        "\n",
        "#Utilizamos la funcion \"confusion_matriz\", para obtener los verdaderos, positivos y negativos\n",
        "#lo mismo con los falsos, positivos y negativos.\n",
        " tn, fp, fn, tp = confusion_matrix(yreal, ypred).ravel()\n",
        "\n",
        "#Calculo de la metrica de exactitud \n",
        " precision  = (tp+tn)/(tp+tn+fp+fn)\n",
        " return precision"
      ],
      "metadata": {
        "id": "MqjE1mC5A8V5"
      },
      "execution_count": 44,
      "outputs": []
    },
    {
      "cell_type": "code",
      "source": [
        "def mi_recall(yreal, ypred):\n",
        "\n",
        "#Utilizamos la funcion \"confusion_matriz\", para obtener los verdaderos, positivos y negativos\n",
        "#lo mismo con los falsos, positivos y negativos.\n",
        " tn, fp, fn, tp = confusion_matrix(yreal, ypred).ravel()\n",
        "\n",
        "#Calculo de la metrica de exactitud \n",
        " recall  = tp/(tp+fn)\n",
        " return recall"
      ],
      "metadata": {
        "id": "i5SX2MDsBKQw"
      },
      "execution_count": 46,
      "outputs": []
    },
    {
      "cell_type": "code",
      "source": [
        "def mi_f1score(yreal, ypred):\n",
        "\n",
        "#Utilizamos la funcion \"confusion_matriz\", para obtener los verdaderos, positivos y negativos\n",
        "#lo mismo con los falsos, positivos y negativos.\n",
        " tn, fp, fn, tp = confusion_matrix(yreal, ypred).ravel()\n",
        "\n",
        "#Calculo de la metrica de precision\n",
        " precision = tp/(tp+fp)\n",
        "#Calculo de la metrica de recall\n",
        " recall    = tp/(tp+fn)\n",
        "#Calculo de la metrica f1score \n",
        " f1score   = 2*((precision*recall)/(precision+recall))\n",
        " return f1score"
      ],
      "metadata": {
        "id": "7qkpufFfBXAp"
      },
      "execution_count": 47,
      "outputs": []
    },
    {
      "cell_type": "code",
      "source": [
        "def mi_gmean(yreal, ypred):\n",
        "\n",
        "#Utilizamos la funcion \"confusion_matriz\", para obtener los verdaderos, positivos y negativos\n",
        "#lo mismo con los falsos, positivos y negativos.\n",
        " tn, fp, fn, tp = confusion_matrix(yreal, ypred).ravel()\n",
        "\n",
        "#Calculo de la metrica de recall\n",
        " recall    = tp/(tp+fn)\n",
        "#Calculo de la metrica gmen, para esta se requiere la metrica de especificidad\n",
        " specificity= tn/(tn+fp)\n",
        "#Ahora si el calculo de gmena\n",
        " gmean     = math.sqrt(recall*specificity)\n",
        " return gmean"
      ],
      "metadata": {
        "id": "h5JYBO6yBxVh"
      },
      "execution_count": 50,
      "outputs": []
    },
    {
      "cell_type": "code",
      "source": [
        "#Funcion que permite llamar los diferentes modelos de aprendizaje automatico a entrenar\n",
        "#los modelos que se van a entrenar son : Regresion Logistica, Arboles de Decision y Bosque Aleatorio\n",
        "def get_models():\n",
        "  modelos = list()\n",
        "  nombres = list()\n",
        "\n",
        "#LR - Modelo de Regresion Logistica\n",
        "  modelos.append(LogisticRegression(solver='liblinear'))\n",
        "  nombres.append('LR')\n",
        "\n",
        "#DT - Modelo de Arbol de Decision\n",
        "  modelos.append(DecisionTreeClassifier())\n",
        "  nombres.append('DT')\n",
        "\n",
        "#RF - Modelo de Bosque Aleatorio\n",
        "  modelos.append(RandomForestClassifier(n_estimators=50))\n",
        "  nombres.append('RF')\n",
        " \n",
        "  return modelos, nombres"
      ],
      "metadata": {
        "id": "loxox06ewRip"
      },
      "execution_count": 29,
      "outputs": []
    },
    {
      "cell_type": "markdown",
      "source": [
        "##Fin: Nuestras Funciones\n"
      ],
      "metadata": {
        "id": "GThtBQwNvzYf"
      }
    },
    {
      "cell_type": "markdown",
      "source": [
        "#Cargamos los datos de prueba para entrenar los modelos y poner a prueba las funciones"
      ],
      "metadata": {
        "id": "Za0ReIjvw5FQ"
      }
    },
    {
      "cell_type": "code",
      "source": [
        "#Cargamos los datos de prueba, estos datos se deben de modificar por los datos que vamos a utilizar.\n",
        "mypath = \"https://archive.ics.uci.edu/ml/machine-learning-databases/statlog/australian/australian.dat\"\n",
        "\n",
        "data = pd.read_csv(mypath, sep=\" \", header=None)\n",
        "\n",
        "data.columns = ['A1','A2','A3','A4','A5','A6','A7','A8','A9','A10','A11','A12','A13','A14','class']\n",
        "\n",
        "print(data.shape)\n",
        "data.head()"
      ],
      "metadata": {
        "id": "poeJi-Awvj3x"
      },
      "execution_count": null,
      "outputs": []
    },
    {
      "cell_type": "code",
      "source": [
        "data['A4'] = data['A4'].map({2:2, 1:0, 3:0})\n",
        "data['A5'] = data['A5'].map({1:1,2:0,3:3,4:4,5:0,6:6,7:7,8:8,9:9,10:0,11:11,12:0,13:13,14:14})\n",
        "data['A6'] = data['A6'].map({1:1,2:0,3:0,4:4,5:5,7:0,8:8,9:0})"
      ],
      "metadata": {
        "id": "O6cr1OJXwwEA"
      },
      "execution_count": 3,
      "outputs": []
    },
    {
      "cell_type": "code",
      "source": [
        "# Ahora sí, definamos nuestras variables de entrada y de salida, observa que ambas son DataFrames de Pandas:\n",
        "\n",
        "X = data.iloc[:,:-1]  \n",
        "\n",
        "Y = data.iloc[:,-1]     # También puede ser: data[['class']]     "
      ],
      "metadata": {
        "id": "PlBn28ESw1jI"
      },
      "execution_count": 4,
      "outputs": []
    },
    {
      "cell_type": "code",
      "source": [
        "Xtv, Xtest, ytv, ytest = train_test_split(X, Y, test_size=0.2, stratify=Y, random_state=1)  \n",
        "\n",
        "print(Xtv.shape, ': dimensión de datos de entrada para entrenamiento y validación')\n",
        "print(Xtest.shape, ': dimensión de datos de entrada para prueba')  \n",
        "\n",
        "print(ytv.shape, ': dimensión de variable de salida para entrenamiento y validación')\n",
        "print(ytest.shape, ': dimensión de variable de salida para prueba')"
      ],
      "metadata": {
        "colab": {
          "base_uri": "https://localhost:8080/",
          "height": 0
        },
        "id": "F0aVD_spw2_o",
        "outputId": "c4400f59-3f9a-4480-a579-3ae37661e59d"
      },
      "execution_count": 5,
      "outputs": [
        {
          "output_type": "stream",
          "name": "stdout",
          "text": [
            "(552, 14) : dimensión de datos de entrada para entrenamiento y validación\n",
            "(138, 14) : dimensión de datos de entrada para prueba\n",
            "(552,) : dimensión de variable de salida para entrenamiento y validación\n",
            "(138,) : dimensión de variable de salida para prueba\n"
          ]
        }
      ]
    },
    {
      "cell_type": "code",
      "source": [
        "# Transformaciones a factores numéricos de entrada:\n",
        "num_pipeline = Pipeline(steps = [('impMediana', SimpleImputer(strategy='median')),\n",
        "                                 ('escalaNum', MinMaxScaler(feature_range=(1,2)))])   \n",
        "num_pipeline_nombres = ['A2','A3','A7','A10','A13','A14']\n",
        "\n",
        "# Transformaciones a factores categóricos de entrada:\n",
        "catImp_pipeline = Pipeline(steps = [('impModa', SimpleImputer(strategy='most_frequent'))])  \n",
        "catImp_pipeline_nombres = ['A1', 'A4', 'A5', 'A6', 'A8', 'A9', 'A11', 'A12']\n",
        "\n",
        "catOHE_pipeline = Pipeline(steps = [('OneHotE', OneHotEncoder(drop='first'))])\n",
        "catOHE_pipeline_nombres = [ 'A4','A5','A6','A12']\n",
        "\n",
        "\n",
        "# Conjuntamos las transformaciones numéricas y categóricas que se estarán aplicando a los datos de entrada:\n",
        "columnasTransformer = ColumnTransformer(transformers = [('numpipe', num_pipeline, num_pipeline_nombres),\n",
        "                                                        ('catimp', catImp_pipeline, catImp_pipeline_nombres),\n",
        "                                                        ('catohe', catOHE_pipeline, catOHE_pipeline_nombres)],\n",
        "                                        remainder='passthrough')"
      ],
      "metadata": {
        "id": "Md_682fcxKtR"
      },
      "execution_count": 40,
      "outputs": []
    },
    {
      "cell_type": "markdown",
      "source": [
        "#En este punto los datos ya quedaron preprocesados y cargados. \n",
        "#Aqui inicia el entrenamiento de los modelos y la prueba de las diferentes funciones que creamos "
      ],
      "metadata": {
        "id": "dt-kAYktxP8x"
      }
    },
    {
      "cell_type": "code",
      "source": [
        "modelos, nombres = get_models()  # cargamos los modelos a comparar\n",
        "resultados = list()   \n",
        "\n",
        "for i in range(len(modelos)):\n",
        "\n",
        "  pipeline = Pipeline(steps=[('ct',columnasTransformer),('m',modelos[i])])\n",
        "  cv = RepeatedStratifiedKFold(n_splits=5, n_repeats=3, random_state=0)\n",
        "  mis_metricas ={'mi_accuracy':make_scorer(mi_accuracy),\n",
        "                 'mi_precision':make_scorer(mi_precision),\n",
        "                 'mi_recall':make_scorer(mi_recall),\n",
        "                 'mi_f1score':make_scorer(mi_f1score),\n",
        "                 'mi_gmean':make_scorer(mi_gmean)}\n",
        "  scores = cross_validate(pipeline, Xtv, np.ravel(ytv), scoring= mis_metricas, cv=cv)\n",
        "  resultados.append(scores)\n",
        "  print('%s:\\nAccuracy: %.3f\\nPrecision: %.3f\\nRecall: %.3f\\nF1-Score: %.3f\\nGmean: %.3f\\n' % (nombres[i],\n",
        "                                                                          np.mean(scores['test_mi_accuracy']),\n",
        "                                                                          np.mean(scores['test_mi_precision']),\n",
        "                                                                          np.mean(scores['test_mi_recall']),\n",
        "                                                                          np.mean(scores['test_mi_f1score']),\n",
        "                                                                          np.mean(scores['test_mi_gmean']),\n",
        "                                                                          ))\n",
        "\n",
        "\n"
      ],
      "metadata": {
        "colab": {
          "base_uri": "https://localhost:8080/",
          "height": 0
        },
        "id": "Bqbn3UaVxfsQ",
        "outputId": "5e4fdbda-f46f-4de6-b17d-80612bd5a14a"
      },
      "execution_count": 84,
      "outputs": [
        {
          "output_type": "stream",
          "name": "stdout",
          "text": [
            "LR:\n",
            "Accuracy: 0.825\n",
            "Precision: 0.863\n",
            "Recall: 0.884\n",
            "F1-Score: 0.852\n",
            "Gmean: 0.864\n",
            "\n",
            "DT:\n",
            "Accuracy: 0.785\n",
            "Precision: 0.810\n",
            "Recall: 0.798\n",
            "F1-Score: 0.788\n",
            "Gmean: 0.806\n",
            "\n",
            "RF:\n",
            "Accuracy: 0.865\n",
            "Precision: 0.870\n",
            "Recall: 0.841\n",
            "F1-Score: 0.852\n",
            "Gmean: 0.866\n",
            "\n"
          ]
        }
      ]
    },
    {
      "cell_type": "code",
      "source": [
        "bpRecall = list()\n",
        "for i in range(len(resultados)):\n",
        "  Recall_metric = resultados[i]['test_mi_recall']\n",
        "  bpRecall.append(Recall_metric)\n",
        "\n",
        "plt.boxplot(bpRecall, labels=nombres, showmeans=True)\n",
        "plt.show()"
      ],
      "metadata": {
        "colab": {
          "base_uri": "https://localhost:8080/",
          "height": 265
        },
        "id": "6CCRCHIT09Gx",
        "outputId": "d4461d99-de9a-4b61-de76-e54b4833a51d"
      },
      "execution_count": 87,
      "outputs": [
        {
          "output_type": "display_data",
          "data": {
            "text/plain": [
              "<Figure size 432x288 with 1 Axes>"
            ],
            "image/png": "[encoded data removed]"
          },
          "metadata": {
            "needs_background": "light"
          }
        }
      ]
    },
    {
      "cell_type": "markdown",
      "source": [
        "#Saludos, les comento que al parecer, ya quedo parte del punto del inciso a al d.Lo unico que se cambia en este codigo son los datos de entrada la parte del entrenamiento al parecer ya quedo, si gustar revisarlo y comentar adelante. El día de mañana continuo con el inciso e."
      ],
      "metadata": {
        "id": "Vpr1uqTjKPiQ"
      }
    }
  ]
}
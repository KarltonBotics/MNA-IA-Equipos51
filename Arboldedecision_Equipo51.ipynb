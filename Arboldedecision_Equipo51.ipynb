{
  "cells": [
    {
      "cell_type": "markdown",
      "metadata": {
        "id": "view-in-github",
        "colab_type": "text"
      },
      "source": [
        "<a href=\"https://colab.research.google.com/github/KarltonBotics/MNA-IA-Equipos51/blob/main/Arboldedecision_Equipo51.ipynb\" target=\"_parent\"><img src=\"https://colab.research.google.com/assets/colab-badge.svg\" alt=\"Open In Colab\"/></a>"
      ]
    },
    {
      "cell_type": "markdown",
      "metadata": {
        "id": "VFj0sSM06dYa"
      },
      "source": [
        "# <center> **Maestría en Inteligencia Artificial Aplicada** </center>\n",
        "## **Curso: Inteligencia Artificial y Aprendizaje Automático**\n",
        "### Tecnológico de Monterrey\n",
        "### Prof Luis Eduardo Falcón Morales\n",
        "\n",
        "## **Adtividad de la Semana 6**\n",
        "### **Árboles de decisión y bosque aleatorio.**\n"
      ]
    },
    {
      "cell_type": "markdown",
      "metadata": {
        "id": "Qgrvy0RGB9XI"
      },
      "source": [
        "**Nombres y matrículas de los integrantes del equipo:**\n",
        "\n",
        "*   Carlos Enríquez Gorgonio A01793102\n",
        "*   Fernando Ramírez Gómez A01298109\n",
        "*   Francisco Javier Ramírez Arias A01316379\n",
        "*   Jessica Lechuga Ramos A01793512\n",
        "*   Moisés Rangel Silva A00143704\n"
      ]
    },
    {
      "cell_type": "markdown",
      "metadata": {
        "id": "6YU3mIYO2G1M"
      },
      "source": [
        "Esta Tarea se deberá resolver en equipos, de acuerdo a como fueron integrados en semanas pasadas. El asignar un crédito sabemos que conlleva un riesgo para el prestamista en caso de que el deudor no  pague al final la cantidad asignada, o inclusive el equivocarnos al negarle el préstamo a alguien que sí era confiable. Durante décadas se ha tratado de resolver dicho problema desde muchas áreas del  conocimiento y en particular las técnicas de Aprendizaje Automático (Machine Learning) han brindado  y siguen proporcionando nuevas formas de enfrentar este problema.\n",
        "\n",
        "No existen muchas bases de datos abiertas bien documentadas sobre este problema, sin embargo los  datos del archivo SouthGermanCredit.asc del South_German_Credit_Data_Set de la página de la UCI es una sobre la cual se hace mucha investigación en torno a minimizar el riesgo en la asignación de créditos. En esta tarea se trabajará con dichos datos y los puedes encontrar dentro del archivo zip de la siguiente liga:  https://archive.ics.uci.edu/ml/datasets/South+German+Credit.\n",
        "\n",
        "En la página de la liga anterior también se encuentra el archivo codetable.txt en el archivo zip. Ahí puedes encontrar más información detallada sobre el significado y tipo de cada variable. \n",
        "\n",
        "Al menos en las siguientes ligas puedes encontrar mayor información de dichos datos: \n",
        "https://www.kaggle.com/competitions/south-german-credit-prediction/overview  \n",
        "https://www.semanticscholar.org/paper/South-German-Credit-Data-Classification-Using-to-Religia-Pranoto/219c9968cfa2cbb802376cf88035fe5e664b4418  \n",
        "https://ieeexplore.ieee.org/document/9239944  \n",
        "\n",
        "Así, con base a datos históricos, el objetivo es predecir si una persona es clasificada como confiable a la asignación de un crédito, o no lo es. La variable de salida se llama “kredit”.  "
      ]
    },
    {
      "cell_type": "markdown",
      "metadata": {
        "id": "hJiECmsk2G1O"
      },
      "source": [
        "### Descripción de los datos\n",
        "* Number of Instances:  1000\n",
        "* Number of Attributes german: 20 (7 numerical, 13 categorical)\n",
        "* Number of Attributes german.numer: 24 (24 numerical)\n",
        "\n",
        "* Attribute description\n",
        "\n",
        " * Attribute 1:  (qualitative) [status]\n",
        "\t- Status of existing checking account\n",
        "    - A11 :      ... <    0 DM\n",
        "\t- A12 : 0 <= ... <  200 DM\n",
        "\t- A13 :      ... >= 200 DM /salary assignments for at least 1 year\n",
        "    - A14 : no checking account\n",
        "\n",
        " * Attribute 2:  (numerical) [duration]\n",
        "\t- Duration in month\n",
        "\n",
        " * Attribute 3:  (qualitative) [credit_history]\n",
        "\t- Credit history\n",
        "\t- A30 : no credits taken/all credits paid back duly\n",
        "    - A31 : all credits at this bank paid back duly\n",
        "\t- A32 : existing credits paid back duly till now\n",
        "    - A33 : delay in paying off in the past\n",
        "\t- A34 : critical account/other credits existing (not at this bank)\n",
        "\n",
        " * Attribute 4:  (qualitative) [purpose]\n",
        "\t- Purpose\n",
        "\t- A40 : car (new)\n",
        "\t- A41 : car (used)\n",
        "\t- A42 : furniture/equipment\n",
        "\t- A43 : radio/television\n",
        "\t- A44 : domestic appliances\n",
        "\t- A45 : repairs\n",
        "\t- A46 : education\n",
        "\t- A47 : (vacation - does not exist?)\n",
        "\t- A48 : retraining\n",
        "\t- A49 : business\n",
        "\t- A410 : others\n",
        "\n",
        " * Attribute 5:  (numerical) [credit_amount]\n",
        "\t- Credit amount\n",
        "\n",
        " * Attibute 6:  (qualitative) [savings]\n",
        "\t- Savings account/bonds\n",
        "\t- A61 :          ... <  100 DM\n",
        "\t- A62 :   100 <= ... <  500 DM\n",
        "\t- A63 :   500 <= ... < 1000 DM\n",
        "\t- A64 :          .. >= 1000 DM\n",
        "    - A65 :   unknown/ no savings account\n",
        "\n",
        " * Attribute 7:  (qualitative) [employment_duration]\n",
        "\t- Present employment since\n",
        "\t- A71 : unemployed\n",
        "\t- A72 :       ... < 1 year\n",
        "\t- A73 : 1  <= ... < 4 years  \n",
        "\t- A74 : 4  <= ... < 7 years\n",
        "\t- A75 :       .. >= 7 years\n",
        "\n",
        " * Attribute 8:  (numerical) [installment_rate]\n",
        "\t- Installment rate in percentage of disposable income\n",
        "\n",
        " * Attribute 9:  (qualitative) [personal_status_sex]\n",
        "\t- Personal status and sex\n",
        "\t- A91 : male   : divorced/separated\n",
        "\t- A92 : female : divorced/separated/married\n",
        "    - A93 : male   : single\n",
        "\t- A94 : male   : married/widowed\n",
        "\t- A95 : female : single\n",
        "\n",
        " * Attribute 10: (qualitative) [other_debtors]\n",
        "\t- Other debtors / guarantors\n",
        "\t- A101 : none\n",
        "\t- A102 : co-applicant\n",
        "\t- A103 : guarantor\n",
        "\n",
        " * Attribute 11: (numerical) [present_residence]\n",
        "\t- Present residence since\n",
        "\n",
        " * Attribute 12: (qualitative) [property]\n",
        "\t- Property\n",
        "\t- A121 : real estate\n",
        "\t- A122 : if not A121 : building society savings agreement/life insurance\n",
        "    - A123 : if not A121/A122 : car or other, not in attribute 6\n",
        "\t- A124 : unknown / no property\n",
        "\n",
        " * Attribute 13: (numerical) [age]\n",
        "\t- Age in years\n",
        "\n",
        " * Attribute 14: (qualitative) [other_installment_plans]\n",
        "\t- Other installment plans \n",
        "\t- A141 : bank\n",
        "\t- A142 : stores\n",
        "\t- A143 : none\n",
        "\n",
        " * Attribute 15: (qualitative) [housing]\n",
        "\t- Housing\n",
        "\t- A151 : rent\n",
        "\t- A152 : own\n",
        "\t- A153 : for free\n",
        "\n",
        " * Attribute 16: (numerical) [number_credits]\n",
        "    - Number of existing credits at this bank\n",
        "\n",
        " * Attribute 17: (qualitative) [job]\n",
        "\t- Job\n",
        "\t- A171 : unemployed / unskilled  - non-resident\n",
        "\t- A172 : unskilled - resident\n",
        "\t- A173 : skilled employee / official\n",
        "\t- A174 : management/ self-employed / highly qualified employee/ officer\n",
        "\n",
        " * Attribute 18: (numerical) [people_liable]\n",
        "\t- Number of people being liable to provide maintenance for\n",
        "\n",
        " * Attribute 19: (qualitative) [telephone]\n",
        "\t- Telephone\n",
        "\t- A191 : none\n",
        "\t- A192 : yes, registered under the customers name\n",
        "\n",
        "\n",
        " * Attribute 20: (qualitative) [foreign_worker]\n",
        "\t- foreign worker\n",
        "\t- A201 : yes\n",
        "\t- A202 : no\n",
        "\n",
        "* Attribute 20: (qualitative) [credit_risk]\n",
        "\t- foreign worker\n",
        "\t- A201 : yes\n",
        "\t- A202 : no"
      ]
    },
    {
      "cell_type": "markdown",
      "metadata": {
        "id": "FrJ2ahMODVj1"
      },
      "source": [
        "En cada sección deberás incluir todas las líneas de código necesarias para responder a cada uno de los ejercicios."
      ]
    },
    {
      "cell_type": "code",
      "execution_count": 4,
      "metadata": {
        "id": "exXsscs-Dh-2"
      },
      "outputs": [],
      "source": [
        "# Incluye aquí todos módulos, librerías y paquetes que requieras.\n",
        "import graphviz\n",
        "import math\n",
        "import matplotlib.pyplot as plt\n",
        "import missingno as msno\n",
        "import numpy as np\n",
        "import pandas as pd\n",
        "import pydotplus\n",
        "import seaborn as sns\n",
        "\n",
        "from IPython.display import Image\n",
        "from sklearn import tree\n",
        "from sklearn.compose import ColumnTransformer\n",
        "from sklearn.ensemble import RandomForestClassifier\n",
        "from sklearn.impute import SimpleImputer\n",
        "from sklearn.linear_model import LogisticRegression\n",
        "from sklearn.metrics import confusion_matrix, make_scorer\n",
        "from sklearn.model_selection import GridSearchCV, RepeatedStratifiedKFold, train_test_split, cross_validate, learning_curve\n",
        "from sklearn.preprocessing import MinMaxScaler, OneHotEncoder, OneHotEncoder, FunctionTransformer\n",
        "from sklearn.pipeline import Pipeline\n",
        "from sklearn.tree import DecisionTreeClassifier"
      ]
    },
    {
      "cell_type": "markdown",
      "metadata": {
        "id": "X25brD-gQdZM"
      },
      "source": [
        "## **Ejercicio 1** "
      ]
    },
    {
      "cell_type": "markdown",
      "metadata": {
        "id": "0kNZls8n2G1Z"
      },
      "source": [
        "Carga los datos y sustituye los nombres de las columnas del alemán al inglés de acuerdo a como se indica en la página de la UCI.\n",
        "\n",
        "NOTA: Si lo deseas, puedes traducirlos y ponerlas en español. "
      ]
    },
    {
      "cell_type": "code",
      "execution_count": 5,
      "metadata": {
        "colab": {
          "base_uri": "https://localhost:8080/",
          "height": 297
        },
        "id": "SE6skq5z2YTO",
        "outputId": "dc65af26-9e7d-4fd3-a975-150b361961b8"
      },
      "outputs": [
        {
          "output_type": "execute_result",
          "data": {
            "text/plain": [
              "   laufkont  laufzeit  moral  verw  hoehe  sparkont  beszeit  rate  famges  \\\n",
              "0         1        18      4     2   1049         1        2     4       2   \n",
              "1         1         9      4     0   2799         1        3     2       3   \n",
              "2         2        12      2     9    841         2        4     2       2   \n",
              "3         1        12      4     0   2122         1        3     3       3   \n",
              "4         1        12      4     0   2171         1        3     4       3   \n",
              "\n",
              "   buerge  ...  verm  alter  weitkred  wohn  bishkred  beruf  pers  telef  \\\n",
              "0       1  ...     2     21         3     1         1      3     2      1   \n",
              "1       1  ...     1     36         3     1         2      3     1      1   \n",
              "2       1  ...     1     23         3     1         1      2     2      1   \n",
              "3       1  ...     1     39         3     1         2      2     1      1   \n",
              "4       1  ...     2     38         1     2         2      2     2      1   \n",
              "\n",
              "   gastarb  kredit  \n",
              "0        2       1  \n",
              "1        2       1  \n",
              "2        2       1  \n",
              "3        1       1  \n",
              "4        1       1  \n",
              "\n",
              "[5 rows x 21 columns]"
            ],
            "text/html": [
              "\n",
              "  <div id=\"df-13b621eb-8bff-4bbe-bfa8-dd3e387cf37e\">\n",
              "    <div class=\"colab-df-container\">\n",
              "      <div>\n",
              "<style scoped>\n",
              "    .dataframe tbody tr th:only-of-type {\n",
              "        vertical-align: middle;\n",
              "    }\n",
              "\n",
              "    .dataframe tbody tr th {\n",
              "        vertical-align: top;\n",
              "    }\n",
              "\n",
              "    .dataframe thead th {\n",
              "        text-align: right;\n",
              "    }\n",
              "</style>\n",
              "<table border=\"1\" class=\"dataframe\">\n",
              "  <thead>\n",
              "    <tr style=\"text-align: right;\">\n",
              "      <th></th>\n",
              "      <th>laufkont</th>\n",
              "      <th>laufzeit</th>\n",
              "      <th>moral</th>\n",
              "      <th>verw</th>\n",
              "      <th>hoehe</th>\n",
              "      <th>sparkont</th>\n",
              "      <th>beszeit</th>\n",
              "      <th>rate</th>\n",
              "      <th>famges</th>\n",
              "      <th>buerge</th>\n",
              "      <th>...</th>\n",
              "      <th>verm</th>\n",
              "      <th>alter</th>\n",
              "      <th>weitkred</th>\n",
              "      <th>wohn</th>\n",
              "      <th>bishkred</th>\n",
              "      <th>beruf</th>\n",
              "      <th>pers</th>\n",
              "      <th>telef</th>\n",
              "      <th>gastarb</th>\n",
              "      <th>kredit</th>\n",
              "    </tr>\n",
              "  </thead>\n",
              "  <tbody>\n",
              "    <tr>\n",
              "      <th>0</th>\n",
              "      <td>1</td>\n",
              "      <td>18</td>\n",
              "      <td>4</td>\n",
              "      <td>2</td>\n",
              "      <td>1049</td>\n",
              "      <td>1</td>\n",
              "      <td>2</td>\n",
              "      <td>4</td>\n",
              "      <td>2</td>\n",
              "      <td>1</td>\n",
              "      <td>...</td>\n",
              "      <td>2</td>\n",
              "      <td>21</td>\n",
              "      <td>3</td>\n",
              "      <td>1</td>\n",
              "      <td>1</td>\n",
              "      <td>3</td>\n",
              "      <td>2</td>\n",
              "      <td>1</td>\n",
              "      <td>2</td>\n",
              "      <td>1</td>\n",
              "    </tr>\n",
              "    <tr>\n",
              "      <th>1</th>\n",
              "      <td>1</td>\n",
              "      <td>9</td>\n",
              "      <td>4</td>\n",
              "      <td>0</td>\n",
              "      <td>2799</td>\n",
              "      <td>1</td>\n",
              "      <td>3</td>\n",
              "      <td>2</td>\n",
              "      <td>3</td>\n",
              "      <td>1</td>\n",
              "      <td>...</td>\n",
              "      <td>1</td>\n",
              "      <td>36</td>\n",
              "      <td>3</td>\n",
              "      <td>1</td>\n",
              "      <td>2</td>\n",
              "      <td>3</td>\n",
              "      <td>1</td>\n",
              "      <td>1</td>\n",
              "      <td>2</td>\n",
              "      <td>1</td>\n",
              "    </tr>\n",
              "    <tr>\n",
              "      <th>2</th>\n",
              "      <td>2</td>\n",
              "      <td>12</td>\n",
              "      <td>2</td>\n",
              "      <td>9</td>\n",
              "      <td>841</td>\n",
              "      <td>2</td>\n",
              "      <td>4</td>\n",
              "      <td>2</td>\n",
              "      <td>2</td>\n",
              "      <td>1</td>\n",
              "      <td>...</td>\n",
              "      <td>1</td>\n",
              "      <td>23</td>\n",
              "      <td>3</td>\n",
              "      <td>1</td>\n",
              "      <td>1</td>\n",
              "      <td>2</td>\n",
              "      <td>2</td>\n",
              "      <td>1</td>\n",
              "      <td>2</td>\n",
              "      <td>1</td>\n",
              "    </tr>\n",
              "    <tr>\n",
              "      <th>3</th>\n",
              "      <td>1</td>\n",
              "      <td>12</td>\n",
              "      <td>4</td>\n",
              "      <td>0</td>\n",
              "      <td>2122</td>\n",
              "      <td>1</td>\n",
              "      <td>3</td>\n",
              "      <td>3</td>\n",
              "      <td>3</td>\n",
              "      <td>1</td>\n",
              "      <td>...</td>\n",
              "      <td>1</td>\n",
              "      <td>39</td>\n",
              "      <td>3</td>\n",
              "      <td>1</td>\n",
              "      <td>2</td>\n",
              "      <td>2</td>\n",
              "      <td>1</td>\n",
              "      <td>1</td>\n",
              "      <td>1</td>\n",
              "      <td>1</td>\n",
              "    </tr>\n",
              "    <tr>\n",
              "      <th>4</th>\n",
              "      <td>1</td>\n",
              "      <td>12</td>\n",
              "      <td>4</td>\n",
              "      <td>0</td>\n",
              "      <td>2171</td>\n",
              "      <td>1</td>\n",
              "      <td>3</td>\n",
              "      <td>4</td>\n",
              "      <td>3</td>\n",
              "      <td>1</td>\n",
              "      <td>...</td>\n",
              "      <td>2</td>\n",
              "      <td>38</td>\n",
              "      <td>1</td>\n",
              "      <td>2</td>\n",
              "      <td>2</td>\n",
              "      <td>2</td>\n",
              "      <td>2</td>\n",
              "      <td>1</td>\n",
              "      <td>1</td>\n",
              "      <td>1</td>\n",
              "    </tr>\n",
              "  </tbody>\n",
              "</table>\n",
              "<p>5 rows × 21 columns</p>\n",
              "</div>\n",
              "      <button class=\"colab-df-convert\" onclick=\"convertToInteractive('df-13b621eb-8bff-4bbe-bfa8-dd3e387cf37e')\"\n",
              "              title=\"Convert this dataframe to an interactive table.\"\n",
              "              style=\"display:none;\">\n",
              "        \n",
              "  <svg xmlns=\"http://www.w3.org/2000/svg\" height=\"24px\"viewBox=\"0 0 24 24\"\n",
              "       width=\"24px\">\n",
              "    <path d=\"M0 0h24v24H0V0z\" fill=\"none\"/>\n",
              "    <path d=\"M18.56 5.44l.94 2.06.94-2.06 2.06-.94-2.06-.94-.94-2.06-.94 2.06-2.06.94zm-11 1L8.5 8.5l.94-2.06 2.06-.94-2.06-.94L8.5 2.5l-.94 2.06-2.06.94zm10 10l.94 2.06.94-2.06 2.06-.94-2.06-.94-.94-2.06-.94 2.06-2.06.94z\"/><path d=\"M17.41 7.96l-1.37-1.37c-.4-.4-.92-.59-1.43-.59-.52 0-1.04.2-1.43.59L10.3 9.45l-7.72 7.72c-.78.78-.78 2.05 0 2.83L4 21.41c.39.39.9.59 1.41.59.51 0 1.02-.2 1.41-.59l7.78-7.78 2.81-2.81c.8-.78.8-2.07 0-2.86zM5.41 20L4 18.59l7.72-7.72 1.47 1.35L5.41 20z\"/>\n",
              "  </svg>\n",
              "      </button>\n",
              "      \n",
              "  <style>\n",
              "    .colab-df-container {\n",
              "      display:flex;\n",
              "      flex-wrap:wrap;\n",
              "      gap: 12px;\n",
              "    }\n",
              "\n",
              "    .colab-df-convert {\n",
              "      background-color: #E8F0FE;\n",
              "      border: none;\n",
              "      border-radius: 50%;\n",
              "      cursor: pointer;\n",
              "      display: none;\n",
              "      fill: #1967D2;\n",
              "      height: 32px;\n",
              "      padding: 0 0 0 0;\n",
              "      width: 32px;\n",
              "    }\n",
              "\n",
              "    .colab-df-convert:hover {\n",
              "      background-color: #E2EBFA;\n",
              "      box-shadow: 0px 1px 2px rgba(60, 64, 67, 0.3), 0px 1px 3px 1px rgba(60, 64, 67, 0.15);\n",
              "      fill: #174EA6;\n",
              "    }\n",
              "\n",
              "    [theme=dark] .colab-df-convert {\n",
              "      background-color: #3B4455;\n",
              "      fill: #D2E3FC;\n",
              "    }\n",
              "\n",
              "    [theme=dark] .colab-df-convert:hover {\n",
              "      background-color: #434B5C;\n",
              "      box-shadow: 0px 1px 3px 1px rgba(0, 0, 0, 0.15);\n",
              "      filter: drop-shadow(0px 1px 2px rgba(0, 0, 0, 0.3));\n",
              "      fill: #FFFFFF;\n",
              "    }\n",
              "  </style>\n",
              "\n",
              "      <script>\n",
              "        const buttonEl =\n",
              "          document.querySelector('#df-13b621eb-8bff-4bbe-bfa8-dd3e387cf37e button.colab-df-convert');\n",
              "        buttonEl.style.display =\n",
              "          google.colab.kernel.accessAllowed ? 'block' : 'none';\n",
              "\n",
              "        async function convertToInteractive(key) {\n",
              "          const element = document.querySelector('#df-13b621eb-8bff-4bbe-bfa8-dd3e387cf37e');\n",
              "          const dataTable =\n",
              "            await google.colab.kernel.invokeFunction('convertToInteractive',\n",
              "                                                     [key], {});\n",
              "          if (!dataTable) return;\n",
              "\n",
              "          const docLinkHtml = 'Like what you see? Visit the ' +\n",
              "            '<a target=\"_blank\" href=https://colab.research.google.com/notebooks/data_table.ipynb>data table notebook</a>'\n",
              "            + ' to learn more about interactive tables.';\n",
              "          element.innerHTML = '';\n",
              "          dataTable['output_type'] = 'display_data';\n",
              "          await google.colab.output.renderOutput(dataTable, element);\n",
              "          const docLink = document.createElement('div');\n",
              "          docLink.innerHTML = docLinkHtml;\n",
              "          element.appendChild(docLink);\n",
              "        }\n",
              "      </script>\n",
              "    </div>\n",
              "  </div>\n",
              "  "
            ]
          },
          "metadata": {},
          "execution_count": 5
        }
      ],
      "source": [
        "#Ruta del archivo a descargarse\n",
        "#Usamos el mismo metodo read_csv, con el argumento s+, para identificar los espacios en vez de separacion por coma\n",
        "df= pd.read_csv('https://raw.githubusercontent.com/PosgradoMNA/actividades-de-aprendizaje-KarltonBotics/main/DataFrames/SouthGermanCredit.asc', sep='\\s+')\n",
        "df.head()"
      ]
    },
    {
      "cell_type": "code",
      "execution_count": 6,
      "metadata": {
        "colab": {
          "base_uri": "https://localhost:8080/",
          "height": 297
        },
        "id": "oymAL7An2G1c",
        "outputId": "f8a73456-1829-4ec7-a7ed-e466084c0f84"
      },
      "outputs": [
        {
          "output_type": "execute_result",
          "data": {
            "text/plain": [
              "   status  duration  credit_history  purpose  amount  savings  \\\n",
              "0       1        18               4        2    1049        1   \n",
              "1       1         9               4        0    2799        1   \n",
              "2       2        12               2        9     841        2   \n",
              "3       1        12               4        0    2122        1   \n",
              "4       1        12               4        0    2171        1   \n",
              "\n",
              "   employment_duration  installment_rate  personal_status_sex  other_debtors  \\\n",
              "0                    2                 4                    2              1   \n",
              "1                    3                 2                    3              1   \n",
              "2                    4                 2                    2              1   \n",
              "3                    3                 3                    3              1   \n",
              "4                    3                 4                    3              1   \n",
              "\n",
              "   ...  property  age  other_installment_plans  housing  number_credits  job  \\\n",
              "0  ...         2   21                        3        1               1    3   \n",
              "1  ...         1   36                        3        1               2    3   \n",
              "2  ...         1   23                        3        1               1    2   \n",
              "3  ...         1   39                        3        1               2    2   \n",
              "4  ...         2   38                        1        2               2    2   \n",
              "\n",
              "   people_liable  telephone  foreign_worker  credit_risk  \n",
              "0              2          1               2            1  \n",
              "1              1          1               2            1  \n",
              "2              2          1               2            1  \n",
              "3              1          1               1            1  \n",
              "4              2          1               1            1  \n",
              "\n",
              "[5 rows x 21 columns]"
            ],
            "text/html": [
              "\n",
              "  <div id=\"df-1f3aebc8-7815-4985-8550-6df438d77347\">\n",
              "    <div class=\"colab-df-container\">\n",
              "      <div>\n",
              "<style scoped>\n",
              "    .dataframe tbody tr th:only-of-type {\n",
              "        vertical-align: middle;\n",
              "    }\n",
              "\n",
              "    .dataframe tbody tr th {\n",
              "        vertical-align: top;\n",
              "    }\n",
              "\n",
              "    .dataframe thead th {\n",
              "        text-align: right;\n",
              "    }\n",
              "</style>\n",
              "<table border=\"1\" class=\"dataframe\">\n",
              "  <thead>\n",
              "    <tr style=\"text-align: right;\">\n",
              "      <th></th>\n",
              "      <th>status</th>\n",
              "      <th>duration</th>\n",
              "      <th>credit_history</th>\n",
              "      <th>purpose</th>\n",
              "      <th>amount</th>\n",
              "      <th>savings</th>\n",
              "      <th>employment_duration</th>\n",
              "      <th>installment_rate</th>\n",
              "      <th>personal_status_sex</th>\n",
              "      <th>other_debtors</th>\n",
              "      <th>...</th>\n",
              "      <th>property</th>\n",
              "      <th>age</th>\n",
              "      <th>other_installment_plans</th>\n",
              "      <th>housing</th>\n",
              "      <th>number_credits</th>\n",
              "      <th>job</th>\n",
              "      <th>people_liable</th>\n",
              "      <th>telephone</th>\n",
              "      <th>foreign_worker</th>\n",
              "      <th>credit_risk</th>\n",
              "    </tr>\n",
              "  </thead>\n",
              "  <tbody>\n",
              "    <tr>\n",
              "      <th>0</th>\n",
              "      <td>1</td>\n",
              "      <td>18</td>\n",
              "      <td>4</td>\n",
              "      <td>2</td>\n",
              "      <td>1049</td>\n",
              "      <td>1</td>\n",
              "      <td>2</td>\n",
              "      <td>4</td>\n",
              "      <td>2</td>\n",
              "      <td>1</td>\n",
              "      <td>...</td>\n",
              "      <td>2</td>\n",
              "      <td>21</td>\n",
              "      <td>3</td>\n",
              "      <td>1</td>\n",
              "      <td>1</td>\n",
              "      <td>3</td>\n",
              "      <td>2</td>\n",
              "      <td>1</td>\n",
              "      <td>2</td>\n",
              "      <td>1</td>\n",
              "    </tr>\n",
              "    <tr>\n",
              "      <th>1</th>\n",
              "      <td>1</td>\n",
              "      <td>9</td>\n",
              "      <td>4</td>\n",
              "      <td>0</td>\n",
              "      <td>2799</td>\n",
              "      <td>1</td>\n",
              "      <td>3</td>\n",
              "      <td>2</td>\n",
              "      <td>3</td>\n",
              "      <td>1</td>\n",
              "      <td>...</td>\n",
              "      <td>1</td>\n",
              "      <td>36</td>\n",
              "      <td>3</td>\n",
              "      <td>1</td>\n",
              "      <td>2</td>\n",
              "      <td>3</td>\n",
              "      <td>1</td>\n",
              "      <td>1</td>\n",
              "      <td>2</td>\n",
              "      <td>1</td>\n",
              "    </tr>\n",
              "    <tr>\n",
              "      <th>2</th>\n",
              "      <td>2</td>\n",
              "      <td>12</td>\n",
              "      <td>2</td>\n",
              "      <td>9</td>\n",
              "      <td>841</td>\n",
              "      <td>2</td>\n",
              "      <td>4</td>\n",
              "      <td>2</td>\n",
              "      <td>2</td>\n",
              "      <td>1</td>\n",
              "      <td>...</td>\n",
              "      <td>1</td>\n",
              "      <td>23</td>\n",
              "      <td>3</td>\n",
              "      <td>1</td>\n",
              "      <td>1</td>\n",
              "      <td>2</td>\n",
              "      <td>2</td>\n",
              "      <td>1</td>\n",
              "      <td>2</td>\n",
              "      <td>1</td>\n",
              "    </tr>\n",
              "    <tr>\n",
              "      <th>3</th>\n",
              "      <td>1</td>\n",
              "      <td>12</td>\n",
              "      <td>4</td>\n",
              "      <td>0</td>\n",
              "      <td>2122</td>\n",
              "      <td>1</td>\n",
              "      <td>3</td>\n",
              "      <td>3</td>\n",
              "      <td>3</td>\n",
              "      <td>1</td>\n",
              "      <td>...</td>\n",
              "      <td>1</td>\n",
              "      <td>39</td>\n",
              "      <td>3</td>\n",
              "      <td>1</td>\n",
              "      <td>2</td>\n",
              "      <td>2</td>\n",
              "      <td>1</td>\n",
              "      <td>1</td>\n",
              "      <td>1</td>\n",
              "      <td>1</td>\n",
              "    </tr>\n",
              "    <tr>\n",
              "      <th>4</th>\n",
              "      <td>1</td>\n",
              "      <td>12</td>\n",
              "      <td>4</td>\n",
              "      <td>0</td>\n",
              "      <td>2171</td>\n",
              "      <td>1</td>\n",
              "      <td>3</td>\n",
              "      <td>4</td>\n",
              "      <td>3</td>\n",
              "      <td>1</td>\n",
              "      <td>...</td>\n",
              "      <td>2</td>\n",
              "      <td>38</td>\n",
              "      <td>1</td>\n",
              "      <td>2</td>\n",
              "      <td>2</td>\n",
              "      <td>2</td>\n",
              "      <td>2</td>\n",
              "      <td>1</td>\n",
              "      <td>1</td>\n",
              "      <td>1</td>\n",
              "    </tr>\n",
              "  </tbody>\n",
              "</table>\n",
              "<p>5 rows × 21 columns</p>\n",
              "</div>\n",
              "      <button class=\"colab-df-convert\" onclick=\"convertToInteractive('df-1f3aebc8-7815-4985-8550-6df438d77347')\"\n",
              "              title=\"Convert this dataframe to an interactive table.\"\n",
              "              style=\"display:none;\">\n",
              "        \n",
              "  <svg xmlns=\"http://www.w3.org/2000/svg\" height=\"24px\"viewBox=\"0 0 24 24\"\n",
              "       width=\"24px\">\n",
              "    <path d=\"M0 0h24v24H0V0z\" fill=\"none\"/>\n",
              "    <path d=\"M18.56 5.44l.94 2.06.94-2.06 2.06-.94-2.06-.94-.94-2.06-.94 2.06-2.06.94zm-11 1L8.5 8.5l.94-2.06 2.06-.94-2.06-.94L8.5 2.5l-.94 2.06-2.06.94zm10 10l.94 2.06.94-2.06 2.06-.94-2.06-.94-.94-2.06-.94 2.06-2.06.94z\"/><path d=\"M17.41 7.96l-1.37-1.37c-.4-.4-.92-.59-1.43-.59-.52 0-1.04.2-1.43.59L10.3 9.45l-7.72 7.72c-.78.78-.78 2.05 0 2.83L4 21.41c.39.39.9.59 1.41.59.51 0 1.02-.2 1.41-.59l7.78-7.78 2.81-2.81c.8-.78.8-2.07 0-2.86zM5.41 20L4 18.59l7.72-7.72 1.47 1.35L5.41 20z\"/>\n",
              "  </svg>\n",
              "      </button>\n",
              "      \n",
              "  <style>\n",
              "    .colab-df-container {\n",
              "      display:flex;\n",
              "      flex-wrap:wrap;\n",
              "      gap: 12px;\n",
              "    }\n",
              "\n",
              "    .colab-df-convert {\n",
              "      background-color: #E8F0FE;\n",
              "      border: none;\n",
              "      border-radius: 50%;\n",
              "      cursor: pointer;\n",
              "      display: none;\n",
              "      fill: #1967D2;\n",
              "      height: 32px;\n",
              "      padding: 0 0 0 0;\n",
              "      width: 32px;\n",
              "    }\n",
              "\n",
              "    .colab-df-convert:hover {\n",
              "      background-color: #E2EBFA;\n",
              "      box-shadow: 0px 1px 2px rgba(60, 64, 67, 0.3), 0px 1px 3px 1px rgba(60, 64, 67, 0.15);\n",
              "      fill: #174EA6;\n",
              "    }\n",
              "\n",
              "    [theme=dark] .colab-df-convert {\n",
              "      background-color: #3B4455;\n",
              "      fill: #D2E3FC;\n",
              "    }\n",
              "\n",
              "    [theme=dark] .colab-df-convert:hover {\n",
              "      background-color: #434B5C;\n",
              "      box-shadow: 0px 1px 3px 1px rgba(0, 0, 0, 0.15);\n",
              "      filter: drop-shadow(0px 1px 2px rgba(0, 0, 0, 0.3));\n",
              "      fill: #FFFFFF;\n",
              "    }\n",
              "  </style>\n",
              "\n",
              "      <script>\n",
              "        const buttonEl =\n",
              "          document.querySelector('#df-1f3aebc8-7815-4985-8550-6df438d77347 button.colab-df-convert');\n",
              "        buttonEl.style.display =\n",
              "          google.colab.kernel.accessAllowed ? 'block' : 'none';\n",
              "\n",
              "        async function convertToInteractive(key) {\n",
              "          const element = document.querySelector('#df-1f3aebc8-7815-4985-8550-6df438d77347');\n",
              "          const dataTable =\n",
              "            await google.colab.kernel.invokeFunction('convertToInteractive',\n",
              "                                                     [key], {});\n",
              "          if (!dataTable) return;\n",
              "\n",
              "          const docLinkHtml = 'Like what you see? Visit the ' +\n",
              "            '<a target=\"_blank\" href=https://colab.research.google.com/notebooks/data_table.ipynb>data table notebook</a>'\n",
              "            + ' to learn more about interactive tables.';\n",
              "          element.innerHTML = '';\n",
              "          dataTable['output_type'] = 'display_data';\n",
              "          await google.colab.output.renderOutput(dataTable, element);\n",
              "          const docLink = document.createElement('div');\n",
              "          docLink.innerHTML = docLinkHtml;\n",
              "          element.appendChild(docLink);\n",
              "        }\n",
              "      </script>\n",
              "    </div>\n",
              "  </div>\n",
              "  "
            ]
          },
          "metadata": {},
          "execution_count": 6
        }
      ],
      "source": [
        "#Carga los datos y sustituye los nombres de las columnas del alemán al inglés de acuerdo a como se indica en la página de la UCI.\n",
        "df.rename(columns = {\n",
        "    'laufkont':'status',\n",
        "    'laufzeit':'duration',\n",
        "    'moral':'credit_history',\n",
        "    'verw':'purpose',\n",
        "    'hoehe':'amount',\n",
        "    'sparkont':'savings',\n",
        "    'beszeit':'employment_duration',\n",
        "    'rate':'installment_rate',\n",
        "    'famges':'personal_status_sex',\n",
        "    'buerge':'other_debtors',\n",
        "    'wohnzeit':'present_residence',\n",
        "    'verm':'property',\n",
        "    'alter':'age',\n",
        "    'weitkred':'other_installment_plans',\n",
        "    'wohn':'housing',\n",
        "    'bishkred':'number_credits',\n",
        "    'beruf':'job',\n",
        "    'pers':'people_liable',\n",
        "    'telef':'telephone',\n",
        "    'gastarb':'foreign_worker',\n",
        "    'kredit':'credit_risk'\n",
        "}, inplace = True)\n",
        "#El inplace true, nos permite hacer la mutación sobre el mismo dataframe, sin necesidad de crear otro nuevo\n",
        "df.head()"
      ]
    },
    {
      "cell_type": "markdown",
      "metadata": {
        "id": "xZhr2hkECzVv"
      },
      "source": [
        "# **Ejercicio 2**"
      ]
    },
    {
      "cell_type": "markdown",
      "metadata": {
        "id": "pnnCqRL-2G1e"
      },
      "source": [
        "Realiza una partición de los datos en el conjunto de entrenamiento del 85% y el de prueba de \n",
        "15%. Los modelos se estarán entrenando con el método de validación cruzada, así que no es \n",
        "necesario en este paso generar el conjunto de validación. Define como la variable X a todas las \n",
        "variables de entrada y a la variable Y como la variable de salida. "
      ]
    },
    {
      "cell_type": "code",
      "execution_count": 7,
      "metadata": {
        "colab": {
          "base_uri": "https://localhost:8080/",
          "height": 268
        },
        "id": "Sec46_qTN92R",
        "outputId": "d1433444-3cd2-4ab1-8fc9-cd2a9c187f7d"
      },
      "outputs": [
        {
          "output_type": "execute_result",
          "data": {
            "text/plain": [
              "     status  duration  credit_history  purpose  amount  savings  \\\n",
              "548       2        12               2        0    1007        4   \n",
              "335       1        24               2        2    1747        1   \n",
              "793       1        12               2        6     795        1   \n",
              "848       2        36               2        3    2671        2   \n",
              "295       4        36               2        1    8133        1   \n",
              "\n",
              "     employment_duration  installment_rate  personal_status_sex  \\\n",
              "548                    3                 4                    4   \n",
              "335                    2                 4                    3   \n",
              "793                    2                 4                    2   \n",
              "848                    3                 4                    2   \n",
              "295                    3                 1                    2   \n",
              "\n",
              "     other_debtors  present_residence  property  age  other_installment_plans  \\\n",
              "548              1                  1         1   22                        3   \n",
              "335              2                  1         2   24                        3   \n",
              "793              1                  4         2   53                        3   \n",
              "848              2                  4         4   50                        3   \n",
              "295              1                  2         2   30                        1   \n",
              "\n",
              "     housing  number_credits  job  people_liable  telephone  foreign_worker  \n",
              "548        2               1    3              2          1               2  \n",
              "335        2               1    2              2          1               1  \n",
              "793        2               1    3              2          1               2  \n",
              "848        3               1    3              2          1               2  \n",
              "295        2               1    3              2          1               2  "
            ],
            "text/html": [
              "\n",
              "  <div id=\"df-0efaf069-311b-4680-8e9d-56f86308b21c\">\n",
              "    <div class=\"colab-df-container\">\n",
              "      <div>\n",
              "<style scoped>\n",
              "    .dataframe tbody tr th:only-of-type {\n",
              "        vertical-align: middle;\n",
              "    }\n",
              "\n",
              "    .dataframe tbody tr th {\n",
              "        vertical-align: top;\n",
              "    }\n",
              "\n",
              "    .dataframe thead th {\n",
              "        text-align: right;\n",
              "    }\n",
              "</style>\n",
              "<table border=\"1\" class=\"dataframe\">\n",
              "  <thead>\n",
              "    <tr style=\"text-align: right;\">\n",
              "      <th></th>\n",
              "      <th>status</th>\n",
              "      <th>duration</th>\n",
              "      <th>credit_history</th>\n",
              "      <th>purpose</th>\n",
              "      <th>amount</th>\n",
              "      <th>savings</th>\n",
              "      <th>employment_duration</th>\n",
              "      <th>installment_rate</th>\n",
              "      <th>personal_status_sex</th>\n",
              "      <th>other_debtors</th>\n",
              "      <th>present_residence</th>\n",
              "      <th>property</th>\n",
              "      <th>age</th>\n",
              "      <th>other_installment_plans</th>\n",
              "      <th>housing</th>\n",
              "      <th>number_credits</th>\n",
              "      <th>job</th>\n",
              "      <th>people_liable</th>\n",
              "      <th>telephone</th>\n",
              "      <th>foreign_worker</th>\n",
              "    </tr>\n",
              "  </thead>\n",
              "  <tbody>\n",
              "    <tr>\n",
              "      <th>548</th>\n",
              "      <td>2</td>\n",
              "      <td>12</td>\n",
              "      <td>2</td>\n",
              "      <td>0</td>\n",
              "      <td>1007</td>\n",
              "      <td>4</td>\n",
              "      <td>3</td>\n",
              "      <td>4</td>\n",
              "      <td>4</td>\n",
              "      <td>1</td>\n",
              "      <td>1</td>\n",
              "      <td>1</td>\n",
              "      <td>22</td>\n",
              "      <td>3</td>\n",
              "      <td>2</td>\n",
              "      <td>1</td>\n",
              "      <td>3</td>\n",
              "      <td>2</td>\n",
              "      <td>1</td>\n",
              "      <td>2</td>\n",
              "    </tr>\n",
              "    <tr>\n",
              "      <th>335</th>\n",
              "      <td>1</td>\n",
              "      <td>24</td>\n",
              "      <td>2</td>\n",
              "      <td>2</td>\n",
              "      <td>1747</td>\n",
              "      <td>1</td>\n",
              "      <td>2</td>\n",
              "      <td>4</td>\n",
              "      <td>3</td>\n",
              "      <td>2</td>\n",
              "      <td>1</td>\n",
              "      <td>2</td>\n",
              "      <td>24</td>\n",
              "      <td>3</td>\n",
              "      <td>2</td>\n",
              "      <td>1</td>\n",
              "      <td>2</td>\n",
              "      <td>2</td>\n",
              "      <td>1</td>\n",
              "      <td>1</td>\n",
              "    </tr>\n",
              "    <tr>\n",
              "      <th>793</th>\n",
              "      <td>1</td>\n",
              "      <td>12</td>\n",
              "      <td>2</td>\n",
              "      <td>6</td>\n",
              "      <td>795</td>\n",
              "      <td>1</td>\n",
              "      <td>2</td>\n",
              "      <td>4</td>\n",
              "      <td>2</td>\n",
              "      <td>1</td>\n",
              "      <td>4</td>\n",
              "      <td>2</td>\n",
              "      <td>53</td>\n",
              "      <td>3</td>\n",
              "      <td>2</td>\n",
              "      <td>1</td>\n",
              "      <td>3</td>\n",
              "      <td>2</td>\n",
              "      <td>1</td>\n",
              "      <td>2</td>\n",
              "    </tr>\n",
              "    <tr>\n",
              "      <th>848</th>\n",
              "      <td>2</td>\n",
              "      <td>36</td>\n",
              "      <td>2</td>\n",
              "      <td>3</td>\n",
              "      <td>2671</td>\n",
              "      <td>2</td>\n",
              "      <td>3</td>\n",
              "      <td>4</td>\n",
              "      <td>2</td>\n",
              "      <td>2</td>\n",
              "      <td>4</td>\n",
              "      <td>4</td>\n",
              "      <td>50</td>\n",
              "      <td>3</td>\n",
              "      <td>3</td>\n",
              "      <td>1</td>\n",
              "      <td>3</td>\n",
              "      <td>2</td>\n",
              "      <td>1</td>\n",
              "      <td>2</td>\n",
              "    </tr>\n",
              "    <tr>\n",
              "      <th>295</th>\n",
              "      <td>4</td>\n",
              "      <td>36</td>\n",
              "      <td>2</td>\n",
              "      <td>1</td>\n",
              "      <td>8133</td>\n",
              "      <td>1</td>\n",
              "      <td>3</td>\n",
              "      <td>1</td>\n",
              "      <td>2</td>\n",
              "      <td>1</td>\n",
              "      <td>2</td>\n",
              "      <td>2</td>\n",
              "      <td>30</td>\n",
              "      <td>1</td>\n",
              "      <td>2</td>\n",
              "      <td>1</td>\n",
              "      <td>3</td>\n",
              "      <td>2</td>\n",
              "      <td>1</td>\n",
              "      <td>2</td>\n",
              "    </tr>\n",
              "  </tbody>\n",
              "</table>\n",
              "</div>\n",
              "      <button class=\"colab-df-convert\" onclick=\"convertToInteractive('df-0efaf069-311b-4680-8e9d-56f86308b21c')\"\n",
              "              title=\"Convert this dataframe to an interactive table.\"\n",
              "              style=\"display:none;\">\n",
              "        \n",
              "  <svg xmlns=\"http://www.w3.org/2000/svg\" height=\"24px\"viewBox=\"0 0 24 24\"\n",
              "       width=\"24px\">\n",
              "    <path d=\"M0 0h24v24H0V0z\" fill=\"none\"/>\n",
              "    <path d=\"M18.56 5.44l.94 2.06.94-2.06 2.06-.94-2.06-.94-.94-2.06-.94 2.06-2.06.94zm-11 1L8.5 8.5l.94-2.06 2.06-.94-2.06-.94L8.5 2.5l-.94 2.06-2.06.94zm10 10l.94 2.06.94-2.06 2.06-.94-2.06-.94-.94-2.06-.94 2.06-2.06.94z\"/><path d=\"M17.41 7.96l-1.37-1.37c-.4-.4-.92-.59-1.43-.59-.52 0-1.04.2-1.43.59L10.3 9.45l-7.72 7.72c-.78.78-.78 2.05 0 2.83L4 21.41c.39.39.9.59 1.41.59.51 0 1.02-.2 1.41-.59l7.78-7.78 2.81-2.81c.8-.78.8-2.07 0-2.86zM5.41 20L4 18.59l7.72-7.72 1.47 1.35L5.41 20z\"/>\n",
              "  </svg>\n",
              "      </button>\n",
              "      \n",
              "  <style>\n",
              "    .colab-df-container {\n",
              "      display:flex;\n",
              "      flex-wrap:wrap;\n",
              "      gap: 12px;\n",
              "    }\n",
              "\n",
              "    .colab-df-convert {\n",
              "      background-color: #E8F0FE;\n",
              "      border: none;\n",
              "      border-radius: 50%;\n",
              "      cursor: pointer;\n",
              "      display: none;\n",
              "      fill: #1967D2;\n",
              "      height: 32px;\n",
              "      padding: 0 0 0 0;\n",
              "      width: 32px;\n",
              "    }\n",
              "\n",
              "    .colab-df-convert:hover {\n",
              "      background-color: #E2EBFA;\n",
              "      box-shadow: 0px 1px 2px rgba(60, 64, 67, 0.3), 0px 1px 3px 1px rgba(60, 64, 67, 0.15);\n",
              "      fill: #174EA6;\n",
              "    }\n",
              "\n",
              "    [theme=dark] .colab-df-convert {\n",
              "      background-color: #3B4455;\n",
              "      fill: #D2E3FC;\n",
              "    }\n",
              "\n",
              "    [theme=dark] .colab-df-convert:hover {\n",
              "      background-color: #434B5C;\n",
              "      box-shadow: 0px 1px 3px 1px rgba(0, 0, 0, 0.15);\n",
              "      filter: drop-shadow(0px 1px 2px rgba(0, 0, 0, 0.3));\n",
              "      fill: #FFFFFF;\n",
              "    }\n",
              "  </style>\n",
              "\n",
              "      <script>\n",
              "        const buttonEl =\n",
              "          document.querySelector('#df-0efaf069-311b-4680-8e9d-56f86308b21c button.colab-df-convert');\n",
              "        buttonEl.style.display =\n",
              "          google.colab.kernel.accessAllowed ? 'block' : 'none';\n",
              "\n",
              "        async function convertToInteractive(key) {\n",
              "          const element = document.querySelector('#df-0efaf069-311b-4680-8e9d-56f86308b21c');\n",
              "          const dataTable =\n",
              "            await google.colab.kernel.invokeFunction('convertToInteractive',\n",
              "                                                     [key], {});\n",
              "          if (!dataTable) return;\n",
              "\n",
              "          const docLinkHtml = 'Like what you see? Visit the ' +\n",
              "            '<a target=\"_blank\" href=https://colab.research.google.com/notebooks/data_table.ipynb>data table notebook</a>'\n",
              "            + ' to learn more about interactive tables.';\n",
              "          element.innerHTML = '';\n",
              "          dataTable['output_type'] = 'display_data';\n",
              "          await google.colab.output.renderOutput(dataTable, element);\n",
              "          const docLink = document.createElement('div');\n",
              "          docLink.innerHTML = docLinkHtml;\n",
              "          element.appendChild(docLink);\n",
              "        }\n",
              "      </script>\n",
              "    </div>\n",
              "  </div>\n",
              "  "
            ]
          },
          "metadata": {},
          "execution_count": 7
        }
      ],
      "source": [
        "#Creación de espacios validación y prueba\n",
        "\n",
        "#Determinamos las columnas que tenga el eje x\n",
        "X = df.iloc[: , 0:20]\n",
        "\n",
        "#Determinamos las columnas que contendrá el eje y\n",
        "y = df.iloc[: , -1]\n",
        "\n",
        "#creamos nuestros datos de validación con la función trains_test_split\n",
        "X_train, X_val, y_train, y_val = train_test_split(X, y, train_size=0.85, random_state=10)\n",
        "\n",
        "X_train.head()"
      ]
    },
    {
      "cell_type": "code",
      "execution_count": 8,
      "metadata": {
        "colab": {
          "base_uri": "https://localhost:8080/",
          "height": 361
        },
        "id": "LeEQJjDOQav-",
        "outputId": "bd869cbc-f645-41f7-8f93-9dba8b44feae"
      },
      "outputs": [
        {
          "output_type": "execute_result",
          "data": {
            "text/plain": [
              "           status    duration  credit_history     purpose        amount  \\\n",
              "count  850.000000  850.000000      850.000000  850.000000    850.000000   \n",
              "mean     2.595294   20.462353        2.527059    2.851765   3216.104706   \n",
              "std      1.260425   11.726531        1.077600    2.762129   2748.335186   \n",
              "min      1.000000    4.000000        0.000000    0.000000    250.000000   \n",
              "25%      1.000000   12.000000        2.000000    1.000000   1374.000000   \n",
              "50%      2.000000   18.000000        2.000000    2.000000   2301.500000   \n",
              "75%      4.000000   24.000000        4.000000    3.000000   3959.000000   \n",
              "max      4.000000   72.000000        4.000000   10.000000  15945.000000   \n",
              "\n",
              "          savings  employment_duration  installment_rate  personal_status_sex  \\\n",
              "count  850.000000           850.000000        850.000000           850.000000   \n",
              "mean     2.121176             3.384706          2.981176             2.690588   \n",
              "std      1.590060             1.228442          1.114049             0.714666   \n",
              "min      1.000000             1.000000          1.000000             1.000000   \n",
              "25%      1.000000             3.000000          2.000000             2.000000   \n",
              "50%      1.000000             3.000000          3.000000             3.000000   \n",
              "75%      3.000000             5.000000          4.000000             3.000000   \n",
              "max      5.000000             5.000000          4.000000             4.000000   \n",
              "\n",
              "       other_debtors  present_residence   property         age  \\\n",
              "count     850.000000         850.000000  850.00000  850.000000   \n",
              "mean        1.155294           2.852941    2.34000   35.603529   \n",
              "std         0.491987           1.102849    1.04928   11.464257   \n",
              "min         1.000000           1.000000    1.00000   19.000000   \n",
              "25%         1.000000           2.000000    1.00000   27.000000   \n",
              "50%         1.000000           3.000000    2.00000   33.000000   \n",
              "75%         1.000000           4.000000    3.00000   42.000000   \n",
              "max         3.000000           4.000000    4.00000   75.000000   \n",
              "\n",
              "       other_installment_plans     housing  number_credits         job  \\\n",
              "count               850.000000  850.000000      850.000000  850.000000   \n",
              "mean                  2.663529    1.924706        1.402353    2.900000   \n",
              "std                   0.716431    0.524074        0.570573    0.651627   \n",
              "min                   1.000000    1.000000        1.000000    1.000000   \n",
              "25%                   3.000000    2.000000        1.000000    3.000000   \n",
              "50%                   3.000000    2.000000        1.000000    3.000000   \n",
              "75%                   3.000000    2.000000        2.000000    3.000000   \n",
              "max                   3.000000    3.000000        4.000000    4.000000   \n",
              "\n",
              "       people_liable   telephone  foreign_worker  \n",
              "count     850.000000  850.000000      850.000000  \n",
              "mean        1.848235    1.403529        1.963529  \n",
              "std         0.359004    0.490894        0.187568  \n",
              "min         1.000000    1.000000        1.000000  \n",
              "25%         2.000000    1.000000        2.000000  \n",
              "50%         2.000000    1.000000        2.000000  \n",
              "75%         2.000000    2.000000        2.000000  \n",
              "max         2.000000    2.000000        2.000000  "
            ],
            "text/html": [
              "\n",
              "  <div id=\"df-3a7f0a61-1926-4208-aedb-5e68b81ca3c1\">\n",
              "    <div class=\"colab-df-container\">\n",
              "      <div>\n",
              "<style scoped>\n",
              "    .dataframe tbody tr th:only-of-type {\n",
              "        vertical-align: middle;\n",
              "    }\n",
              "\n",
              "    .dataframe tbody tr th {\n",
              "        vertical-align: top;\n",
              "    }\n",
              "\n",
              "    .dataframe thead th {\n",
              "        text-align: right;\n",
              "    }\n",
              "</style>\n",
              "<table border=\"1\" class=\"dataframe\">\n",
              "  <thead>\n",
              "    <tr style=\"text-align: right;\">\n",
              "      <th></th>\n",
              "      <th>status</th>\n",
              "      <th>duration</th>\n",
              "      <th>credit_history</th>\n",
              "      <th>purpose</th>\n",
              "      <th>amount</th>\n",
              "      <th>savings</th>\n",
              "      <th>employment_duration</th>\n",
              "      <th>installment_rate</th>\n",
              "      <th>personal_status_sex</th>\n",
              "      <th>other_debtors</th>\n",
              "      <th>present_residence</th>\n",
              "      <th>property</th>\n",
              "      <th>age</th>\n",
              "      <th>other_installment_plans</th>\n",
              "      <th>housing</th>\n",
              "      <th>number_credits</th>\n",
              "      <th>job</th>\n",
              "      <th>people_liable</th>\n",
              "      <th>telephone</th>\n",
              "      <th>foreign_worker</th>\n",
              "    </tr>\n",
              "  </thead>\n",
              "  <tbody>\n",
              "    <tr>\n",
              "      <th>count</th>\n",
              "      <td>850.000000</td>\n",
              "      <td>850.000000</td>\n",
              "      <td>850.000000</td>\n",
              "      <td>850.000000</td>\n",
              "      <td>850.000000</td>\n",
              "      <td>850.000000</td>\n",
              "      <td>850.000000</td>\n",
              "      <td>850.000000</td>\n",
              "      <td>850.000000</td>\n",
              "      <td>850.000000</td>\n",
              "      <td>850.000000</td>\n",
              "      <td>850.00000</td>\n",
              "      <td>850.000000</td>\n",
              "      <td>850.000000</td>\n",
              "      <td>850.000000</td>\n",
              "      <td>850.000000</td>\n",
              "      <td>850.000000</td>\n",
              "      <td>850.000000</td>\n",
              "      <td>850.000000</td>\n",
              "      <td>850.000000</td>\n",
              "    </tr>\n",
              "    <tr>\n",
              "      <th>mean</th>\n",
              "      <td>2.595294</td>\n",
              "      <td>20.462353</td>\n",
              "      <td>2.527059</td>\n",
              "      <td>2.851765</td>\n",
              "      <td>3216.104706</td>\n",
              "      <td>2.121176</td>\n",
              "      <td>3.384706</td>\n",
              "      <td>2.981176</td>\n",
              "      <td>2.690588</td>\n",
              "      <td>1.155294</td>\n",
              "      <td>2.852941</td>\n",
              "      <td>2.34000</td>\n",
              "      <td>35.603529</td>\n",
              "      <td>2.663529</td>\n",
              "      <td>1.924706</td>\n",
              "      <td>1.402353</td>\n",
              "      <td>2.900000</td>\n",
              "      <td>1.848235</td>\n",
              "      <td>1.403529</td>\n",
              "      <td>1.963529</td>\n",
              "    </tr>\n",
              "    <tr>\n",
              "      <th>std</th>\n",
              "      <td>1.260425</td>\n",
              "      <td>11.726531</td>\n",
              "      <td>1.077600</td>\n",
              "      <td>2.762129</td>\n",
              "      <td>2748.335186</td>\n",
              "      <td>1.590060</td>\n",
              "      <td>1.228442</td>\n",
              "      <td>1.114049</td>\n",
              "      <td>0.714666</td>\n",
              "      <td>0.491987</td>\n",
              "      <td>1.102849</td>\n",
              "      <td>1.04928</td>\n",
              "      <td>11.464257</td>\n",
              "      <td>0.716431</td>\n",
              "      <td>0.524074</td>\n",
              "      <td>0.570573</td>\n",
              "      <td>0.651627</td>\n",
              "      <td>0.359004</td>\n",
              "      <td>0.490894</td>\n",
              "      <td>0.187568</td>\n",
              "    </tr>\n",
              "    <tr>\n",
              "      <th>min</th>\n",
              "      <td>1.000000</td>\n",
              "      <td>4.000000</td>\n",
              "      <td>0.000000</td>\n",
              "      <td>0.000000</td>\n",
              "      <td>250.000000</td>\n",
              "      <td>1.000000</td>\n",
              "      <td>1.000000</td>\n",
              "      <td>1.000000</td>\n",
              "      <td>1.000000</td>\n",
              "      <td>1.000000</td>\n",
              "      <td>1.000000</td>\n",
              "      <td>1.00000</td>\n",
              "      <td>19.000000</td>\n",
              "      <td>1.000000</td>\n",
              "      <td>1.000000</td>\n",
              "      <td>1.000000</td>\n",
              "      <td>1.000000</td>\n",
              "      <td>1.000000</td>\n",
              "      <td>1.000000</td>\n",
              "      <td>1.000000</td>\n",
              "    </tr>\n",
              "    <tr>\n",
              "      <th>25%</th>\n",
              "      <td>1.000000</td>\n",
              "      <td>12.000000</td>\n",
              "      <td>2.000000</td>\n",
              "      <td>1.000000</td>\n",
              "      <td>1374.000000</td>\n",
              "      <td>1.000000</td>\n",
              "      <td>3.000000</td>\n",
              "      <td>2.000000</td>\n",
              "      <td>2.000000</td>\n",
              "      <td>1.000000</td>\n",
              "      <td>2.000000</td>\n",
              "      <td>1.00000</td>\n",
              "      <td>27.000000</td>\n",
              "      <td>3.000000</td>\n",
              "      <td>2.000000</td>\n",
              "      <td>1.000000</td>\n",
              "      <td>3.000000</td>\n",
              "      <td>2.000000</td>\n",
              "      <td>1.000000</td>\n",
              "      <td>2.000000</td>\n",
              "    </tr>\n",
              "    <tr>\n",
              "      <th>50%</th>\n",
              "      <td>2.000000</td>\n",
              "      <td>18.000000</td>\n",
              "      <td>2.000000</td>\n",
              "      <td>2.000000</td>\n",
              "      <td>2301.500000</td>\n",
              "      <td>1.000000</td>\n",
              "      <td>3.000000</td>\n",
              "      <td>3.000000</td>\n",
              "      <td>3.000000</td>\n",
              "      <td>1.000000</td>\n",
              "      <td>3.000000</td>\n",
              "      <td>2.00000</td>\n",
              "      <td>33.000000</td>\n",
              "      <td>3.000000</td>\n",
              "      <td>2.000000</td>\n",
              "      <td>1.000000</td>\n",
              "      <td>3.000000</td>\n",
              "      <td>2.000000</td>\n",
              "      <td>1.000000</td>\n",
              "      <td>2.000000</td>\n",
              "    </tr>\n",
              "    <tr>\n",
              "      <th>75%</th>\n",
              "      <td>4.000000</td>\n",
              "      <td>24.000000</td>\n",
              "      <td>4.000000</td>\n",
              "      <td>3.000000</td>\n",
              "      <td>3959.000000</td>\n",
              "      <td>3.000000</td>\n",
              "      <td>5.000000</td>\n",
              "      <td>4.000000</td>\n",
              "      <td>3.000000</td>\n",
              "      <td>1.000000</td>\n",
              "      <td>4.000000</td>\n",
              "      <td>3.00000</td>\n",
              "      <td>42.000000</td>\n",
              "      <td>3.000000</td>\n",
              "      <td>2.000000</td>\n",
              "      <td>2.000000</td>\n",
              "      <td>3.000000</td>\n",
              "      <td>2.000000</td>\n",
              "      <td>2.000000</td>\n",
              "      <td>2.000000</td>\n",
              "    </tr>\n",
              "    <tr>\n",
              "      <th>max</th>\n",
              "      <td>4.000000</td>\n",
              "      <td>72.000000</td>\n",
              "      <td>4.000000</td>\n",
              "      <td>10.000000</td>\n",
              "      <td>15945.000000</td>\n",
              "      <td>5.000000</td>\n",
              "      <td>5.000000</td>\n",
              "      <td>4.000000</td>\n",
              "      <td>4.000000</td>\n",
              "      <td>3.000000</td>\n",
              "      <td>4.000000</td>\n",
              "      <td>4.00000</td>\n",
              "      <td>75.000000</td>\n",
              "      <td>3.000000</td>\n",
              "      <td>3.000000</td>\n",
              "      <td>4.000000</td>\n",
              "      <td>4.000000</td>\n",
              "      <td>2.000000</td>\n",
              "      <td>2.000000</td>\n",
              "      <td>2.000000</td>\n",
              "    </tr>\n",
              "  </tbody>\n",
              "</table>\n",
              "</div>\n",
              "      <button class=\"colab-df-convert\" onclick=\"convertToInteractive('df-3a7f0a61-1926-4208-aedb-5e68b81ca3c1')\"\n",
              "              title=\"Convert this dataframe to an interactive table.\"\n",
              "              style=\"display:none;\">\n",
              "        \n",
              "  <svg xmlns=\"http://www.w3.org/2000/svg\" height=\"24px\"viewBox=\"0 0 24 24\"\n",
              "       width=\"24px\">\n",
              "    <path d=\"M0 0h24v24H0V0z\" fill=\"none\"/>\n",
              "    <path d=\"M18.56 5.44l.94 2.06.94-2.06 2.06-.94-2.06-.94-.94-2.06-.94 2.06-2.06.94zm-11 1L8.5 8.5l.94-2.06 2.06-.94-2.06-.94L8.5 2.5l-.94 2.06-2.06.94zm10 10l.94 2.06.94-2.06 2.06-.94-2.06-.94-.94-2.06-.94 2.06-2.06.94z\"/><path d=\"M17.41 7.96l-1.37-1.37c-.4-.4-.92-.59-1.43-.59-.52 0-1.04.2-1.43.59L10.3 9.45l-7.72 7.72c-.78.78-.78 2.05 0 2.83L4 21.41c.39.39.9.59 1.41.59.51 0 1.02-.2 1.41-.59l7.78-7.78 2.81-2.81c.8-.78.8-2.07 0-2.86zM5.41 20L4 18.59l7.72-7.72 1.47 1.35L5.41 20z\"/>\n",
              "  </svg>\n",
              "      </button>\n",
              "      \n",
              "  <style>\n",
              "    .colab-df-container {\n",
              "      display:flex;\n",
              "      flex-wrap:wrap;\n",
              "      gap: 12px;\n",
              "    }\n",
              "\n",
              "    .colab-df-convert {\n",
              "      background-color: #E8F0FE;\n",
              "      border: none;\n",
              "      border-radius: 50%;\n",
              "      cursor: pointer;\n",
              "      display: none;\n",
              "      fill: #1967D2;\n",
              "      height: 32px;\n",
              "      padding: 0 0 0 0;\n",
              "      width: 32px;\n",
              "    }\n",
              "\n",
              "    .colab-df-convert:hover {\n",
              "      background-color: #E2EBFA;\n",
              "      box-shadow: 0px 1px 2px rgba(60, 64, 67, 0.3), 0px 1px 3px 1px rgba(60, 64, 67, 0.15);\n",
              "      fill: #174EA6;\n",
              "    }\n",
              "\n",
              "    [theme=dark] .colab-df-convert {\n",
              "      background-color: #3B4455;\n",
              "      fill: #D2E3FC;\n",
              "    }\n",
              "\n",
              "    [theme=dark] .colab-df-convert:hover {\n",
              "      background-color: #434B5C;\n",
              "      box-shadow: 0px 1px 3px 1px rgba(0, 0, 0, 0.15);\n",
              "      filter: drop-shadow(0px 1px 2px rgba(0, 0, 0, 0.3));\n",
              "      fill: #FFFFFF;\n",
              "    }\n",
              "  </style>\n",
              "\n",
              "      <script>\n",
              "        const buttonEl =\n",
              "          document.querySelector('#df-3a7f0a61-1926-4208-aedb-5e68b81ca3c1 button.colab-df-convert');\n",
              "        buttonEl.style.display =\n",
              "          google.colab.kernel.accessAllowed ? 'block' : 'none';\n",
              "\n",
              "        async function convertToInteractive(key) {\n",
              "          const element = document.querySelector('#df-3a7f0a61-1926-4208-aedb-5e68b81ca3c1');\n",
              "          const dataTable =\n",
              "            await google.colab.kernel.invokeFunction('convertToInteractive',\n",
              "                                                     [key], {});\n",
              "          if (!dataTable) return;\n",
              "\n",
              "          const docLinkHtml = 'Like what you see? Visit the ' +\n",
              "            '<a target=\"_blank\" href=https://colab.research.google.com/notebooks/data_table.ipynb>data table notebook</a>'\n",
              "            + ' to learn more about interactive tables.';\n",
              "          element.innerHTML = '';\n",
              "          dataTable['output_type'] = 'display_data';\n",
              "          await google.colab.output.renderOutput(dataTable, element);\n",
              "          const docLink = document.createElement('div');\n",
              "          docLink.innerHTML = docLinkHtml;\n",
              "          element.appendChild(docLink);\n",
              "        }\n",
              "      </script>\n",
              "    </div>\n",
              "  </div>\n",
              "  "
            ]
          },
          "metadata": {},
          "execution_count": 8
        }
      ],
      "source": [
        "#Se muestra la información general del DataFrame\n",
        "X_train.describe()"
      ]
    },
    {
      "cell_type": "markdown",
      "metadata": {
        "id": "NCunuooTC2W3"
      },
      "source": [
        "## **Ejercicio 3**"
      ]
    },
    {
      "cell_type": "markdown",
      "metadata": {
        "id": "PK0_HoPP2G1i"
      },
      "source": [
        "Como una primera aproximación (baseline) realizarás las siguientes transformaciones mínimas \n",
        "para generar los primeros modelos. En la misma página de la UCI se indica el tipo de variable de \n",
        "cada uno de los factores. Definen cuatro tipo de variables: categórica (categorical), ordinal \n",
        "(discretized quantitative), numérica (quantitative) y binaria (binary). Con base a dicha \n",
        "información realiza un Pipeline que incluya al menos las siguientes transformaciones: "
      ]
    },
    {
      "cell_type": "markdown",
      "metadata": {
        "id": "cNyWCUUV2G1j"
      },
      "source": [
        "- a.  Imputación a todas las variables de entrada, diferenciando entre el tipo de cada variable (decide y justifica que tipo de imputación realizas en cada caso). \n",
        "\n",
        "- b.  Realiza un análisis de las variables numéricas (quantitative) de entrada y aplica una transformación que escale a todas ellas en un rango equiparable. \n",
        "\n",
        "- c.  Aplica la transformación One-Hot encoding a las variables de entrada de tipo categórico y  binaria. En particular, justifica por qué una variable binaria requeriría que se le aplique la transformación one-hot encoding. Por el momento dejar las variables ordinales sin  transformar. "
      ]
    },
    {
      "cell_type": "code",
      "execution_count": 9,
      "metadata": {
        "id": "YXlcSWA-C4Dj"
      },
      "outputs": [],
      "source": [
        "#Ejercicio 3\n",
        "#Columnas categóricas\n",
        "df_name_cate = ['status','credit_history','purpose','savings','personal_status_sex','other_debtors','other_installment_plans','housing']\n",
        "#Columnas ordinales o discretas cuantitativas: beszeit, rate, wohnzeit, bishkred, beruf, pers\n",
        "df_name_ord = ['employment_duration','installment_rate','present_residence','property','number_credits','job']\n",
        "#Columnas numéricas o cuantitativas: laufzeit, hoehe\n",
        "df_name_num = ['duration','amount','age']\n",
        "#Columnas binarias: pers, telef, gastarb, kredit\n",
        "df_name_bin = ['people_liable','telephone','foreign_worker']"
      ]
    },
    {
      "cell_type": "markdown",
      "metadata": {
        "id": "WbAO7hQZ2G1l"
      },
      "source": [
        "### Ejercicio 3.a\n",
        "\n",
        "Imputación a todas las variables de entrada, diferenciando entre el tipo de cada variable (decide y justifica que tipo de imputación realizas en cada caso). "
      ]
    },
    {
      "cell_type": "code",
      "execution_count": 10,
      "metadata": {
        "colab": {
          "base_uri": "https://localhost:8080/"
        },
        "id": "CCLp2ei42G1m",
        "outputId": "4d4c116e-ae52-48ea-fe84-c1f3d35417f4"
      },
      "outputs": [
        {
          "output_type": "stream",
          "name": "stdout",
          "text": [
            "status:  [2 1 4 3]\n",
            "credit_history:  [2 4 0 3 1]\n",
            "purpose:  [ 0  2  6  3  1  5  9  8 10  4]\n",
            "savings:  [4 1 2 5 3]\n",
            "personal_status_sex:  [4 3 2 1]\n",
            "other_debtors:  [1 2 3]\n",
            "other_installment_plans:  [3 1 2]\n",
            "housing:  [2 3 1]\n"
          ]
        }
      ],
      "source": [
        "#Revisión de los posibles valores de cada propiedad categóricas\n",
        "for n in df_name_cate:\n",
        "  print(n + \": \", X_train[n].unique())"
      ]
    },
    {
      "cell_type": "code",
      "execution_count": 11,
      "metadata": {
        "colab": {
          "base_uri": "https://localhost:8080/"
        },
        "id": "F6eiAwhb2G1n",
        "outputId": "ffc23aa4-c5c3-44af-bf75-6bac9726b5f9"
      },
      "outputs": [
        {
          "output_type": "stream",
          "name": "stdout",
          "text": [
            "employment_duration:  [3 2 1 4 5]\n",
            "installment_rate:  [4 1 2 3]\n",
            "present_residence:  [1 4 2 3]\n",
            "property:  [1 2 4 3]\n",
            "number_credits:  [1 2 3 4]\n",
            "job:  [3 2 1 4]\n"
          ]
        }
      ],
      "source": [
        "#Revisión de los posibles valores de cada propiedad ordinal\n",
        "for n in df_name_ord:\n",
        "  print(n + \": \", X_train[n].unique())"
      ]
    },
    {
      "cell_type": "code",
      "execution_count": 12,
      "metadata": {
        "colab": {
          "base_uri": "https://localhost:8080/"
        },
        "id": "Y-T8snXf2G1n",
        "outputId": "fb548f78-b655-4356-83f9-486f2fa58f6e"
      },
      "outputs": [
        {
          "output_type": "stream",
          "name": "stdout",
          "text": [
            "people_liable:  [2 1]\n",
            "telephone:  [1 2]\n",
            "foreign_worker:  [2 1]\n"
          ]
        }
      ],
      "source": [
        "#Revisión de los posibles valores de cada propiedad binarias\n",
        "for n in df_name_bin:\n",
        "  print(n + \": \", X_train[n].unique())"
      ]
    },
    {
      "cell_type": "code",
      "execution_count": 13,
      "metadata": {
        "colab": {
          "base_uri": "https://localhost:8080/"
        },
        "id": "T4jlDEgf2G1o",
        "outputId": "42c1b24c-39cf-4177-cc2e-fa196fc3b61d"
      },
      "outputs": [
        {
          "output_type": "execute_result",
          "data": {
            "text/plain": [
              "status                     0\n",
              "duration                   0\n",
              "credit_history             0\n",
              "purpose                    0\n",
              "amount                     0\n",
              "savings                    0\n",
              "employment_duration        0\n",
              "installment_rate           0\n",
              "personal_status_sex        0\n",
              "other_debtors              0\n",
              "present_residence          0\n",
              "property                   0\n",
              "age                        0\n",
              "other_installment_plans    0\n",
              "housing                    0\n",
              "number_credits             0\n",
              "job                        0\n",
              "people_liable              0\n",
              "telephone                  0\n",
              "foreign_worker             0\n",
              "dtype: int64"
            ]
          },
          "metadata": {},
          "execution_count": 13
        }
      ],
      "source": [
        "#Revisión de nulos en el DataFrame\n",
        "X_train.isnull().sum()"
      ]
    },
    {
      "cell_type": "code",
      "execution_count": 14,
      "metadata": {
        "colab": {
          "base_uri": "https://localhost:8080/"
        },
        "id": "DcqQjiKC2G1q",
        "outputId": "e5356a69-bf6e-4cbe-fdca-9ed4e3e35c31"
      },
      "outputs": [
        {
          "output_type": "execute_result",
          "data": {
            "text/plain": [
              "status                     False\n",
              "duration                   False\n",
              "credit_history             False\n",
              "purpose                    False\n",
              "amount                     False\n",
              "savings                    False\n",
              "employment_duration        False\n",
              "installment_rate           False\n",
              "personal_status_sex        False\n",
              "other_debtors              False\n",
              "present_residence          False\n",
              "property                   False\n",
              "age                        False\n",
              "other_installment_plans    False\n",
              "housing                    False\n",
              "number_credits             False\n",
              "job                        False\n",
              "people_liable              False\n",
              "telephone                  False\n",
              "foreign_worker             False\n",
              "dtype: bool"
            ]
          },
          "metadata": {},
          "execution_count": 14
        }
      ],
      "source": [
        "#Revisión de faltantes en el DataFrame\n",
        "X_train.isna().any()"
      ]
    },
    {
      "cell_type": "code",
      "execution_count": 15,
      "metadata": {
        "colab": {
          "base_uri": "https://localhost:8080/",
          "height": 645
        },
        "id": "1hYBI-7V2G1r",
        "outputId": "c3b7dc3a-77f6-4619-fb40-4e8f1ba3cc8d"
      },
      "outputs": [
        {
          "output_type": "execute_result",
          "data": {
            "text/plain": [
              "<matplotlib.axes._subplots.AxesSubplot at 0x7fa7b957eb10>"
            ]
          },
          "metadata": {},
          "execution_count": 15
        },
        {
          "output_type": "display_data",
          "data": {
            "text/plain": [
              "<Figure size 1800x720 with 2 Axes>"
            ],
            "image/png": "[encoded data removed]"
          },
          "metadata": {
            "needs_background": "light"
          }
        }
      ],
      "source": [
        "#Revisión de datos faltantes\n",
        "msno.matrix(X_train)"
      ]
    },
    {
      "cell_type": "markdown",
      "metadata": {
        "id": "TmnrfnWd2G1s"
      },
      "source": [
        "#### Justificación \n",
        "Para este punto se considera que no fue necesaria realizar de forma inmediata ningún tipo de imputación, debido a que se realizaron varios procedimientos de verificación de datos sobre los datos entrenamiento, utilizando las funciones: isnull, isna y unique, las cuales nos permitieron descartar la existencia de datos nulos, de datos vacíos, así como de columnas vacías. Sin embargo, existirá la posibilidad de imputación posteriormente cuando se realice la generación de otras funciones dentro de los pipelines, a manera un código preventivo, atendiendo a las buenas prácticas de programación."
      ]
    },
    {
      "cell_type": "code",
      "source": [],
      "metadata": {
        "id": "HXQnMKud4EGT"
      },
      "execution_count": null,
      "outputs": []
    },
    {
      "cell_type": "markdown",
      "metadata": {
        "id": "9I6gcsK92G1s"
      },
      "source": [
        "### Ejercicio 3.b \n",
        "Realiza un análisis de las variables numéricas (quantitative) de entrada y aplica una transformación que escale a todas ellas en un rango equiparable."
      ]
    },
    {
      "cell_type": "code",
      "execution_count": 16,
      "metadata": {
        "id": "VpMdz6c-2G1t"
      },
      "outputs": [],
      "source": [
        "#Función que grafica un histograma de acuerdo a los parámetros predefinidos\n",
        "def plot_hist(X_train_data):\n",
        "  #Tamaño de la figura\n",
        "  sns.set(rc={'figure.figsize':(10,4)})\n",
        "  len_col = len(X_train_data.columns)\n",
        "  # ventana de 1x3 nichos para incluir en cada uno de ellos un gráfico.\n",
        "  fig, axes = plt.subplots(1, len_col)\n",
        "  for k in range(0,len_col):\n",
        "    plt.subplot(1, len_col, k+1)\n",
        "    # X_train_data.columns devuelve una lista con los nombres de las columnas.\n",
        "    plt.hist(X_train_data[X_train_data.columns[k]], bins=20)\n",
        "    plt.xlabel(X_train_data.columns[k])\n",
        "  plt.show()\n",
        "\n",
        "  X_train_data.describe()"
      ]
    },
    {
      "cell_type": "code",
      "execution_count": 17,
      "metadata": {
        "colab": {
          "base_uri": "https://localhost:8080/",
          "height": 285
        },
        "id": "P33TSeNF2G1u",
        "outputId": "1dd8ad3b-c0a5-43ca-ec56-3fb3ddee87ec"
      },
      "outputs": [
        {
          "output_type": "display_data",
          "data": {
            "text/plain": [
              "<Figure size 720x288 with 3 Axes>"
            ],
            "image/png": "[encoded data removed]"
          },
          "metadata": {}
        }
      ],
      "source": [
        "#Copia de los features numéricos e impresión de la grafica de los datos del DataFrame\n",
        "X_train_num = X_train[df_name_num].copy()\n",
        "plot_hist(X_train_num)\n"
      ]
    },
    {
      "cell_type": "markdown",
      "metadata": {
        "id": "U48TlIsK2G1u"
      },
      "source": [
        "Podemos ver las distribuciones de los datos numéricos, nos damos cuanta que los tres gráficos tienen distribución sesgda a la izquierda, por lo que usando el modelo Regresión Logística consideramos estandarizar los datos con la función de logaritmo, ya que es el método que permite que la distribución datos se normalice, es decir su acampanado se centre."
      ]
    },
    {
      "cell_type": "code",
      "execution_count": 18,
      "metadata": {
        "id": "BKI80-YdC4HN",
        "colab": {
          "base_uri": "https://localhost:8080/"
        },
        "outputId": "bdb03b6f-08f9-4bc8-f48d-ffb08bd1d2a6"
      },
      "outputs": [
        {
          "output_type": "execute_result",
          "data": {
            "text/plain": [
              "array([[0.38009377, 0.33528822, 0.1067722 ],\n",
              "       [0.61990623, 0.46786731, 0.17014311],\n",
              "       [0.38009377, 0.27840164, 0.7471349 ],\n",
              "       ...,\n",
              "       [0.61990623, 0.5343615 , 0.6279626 ],\n",
              "       [0.61990623, 0.72582523, 0.65963307],\n",
              "       [0.58980236, 0.57039542, 0.54218051]])"
            ]
          },
          "metadata": {},
          "execution_count": 18
        }
      ],
      "source": [
        "#Transformación y normalización de los datos númericos\n",
        "num_pipeline = Pipeline(steps = [('impPromedio', SimpleImputer(strategy='mean')),\n",
        "                                 ('log', FunctionTransformer(np.log)),\n",
        "                                 ('scalar', MinMaxScaler(feature_range=(0,1)))])\n",
        "\n",
        "X_train_num = X_train[df_name_num].copy()\n",
        "\n",
        "columnasTransformerNum = ColumnTransformer(transformers = [('numerical', num_pipeline, df_name_num)])\n",
        "XtrainFit = columnasTransformerNum.fit(X_train_num)\n",
        "XtrainTransf = XtrainFit.transform(X_train_num)\n",
        "XtrainTransf"
      ]
    },
    {
      "cell_type": "code",
      "execution_count": 19,
      "metadata": {
        "colab": {
          "base_uri": "https://localhost:8080/",
          "height": 419
        },
        "id": "qXnls0LY2G1w",
        "outputId": "ebf326f7-a932-42e9-d03f-5d36280e8919"
      },
      "outputs": [
        {
          "output_type": "execute_result",
          "data": {
            "text/plain": [
              "     duration    amount       age\n",
              "0    0.380094  0.335288  0.106772\n",
              "1    0.619906  0.467867  0.170143\n",
              "2    0.380094  0.278402  0.747135\n",
              "3    0.760188  0.570035  0.704697\n",
              "4    0.760188  0.837992  0.332660\n",
              "..        ...       ...       ...\n",
              "845  0.317015  0.446264  0.542181\n",
              "846  0.380094  0.592307  0.255925\n",
              "847  0.619906  0.534362  0.627963\n",
              "848  0.619906  0.725825  0.659633\n",
              "849  0.589802  0.570395  0.542181\n",
              "\n",
              "[850 rows x 3 columns]"
            ],
            "text/html": [
              "\n",
              "  <div id=\"df-fb015275-ac58-40b7-9ffb-584d1c7b444a\">\n",
              "    <div class=\"colab-df-container\">\n",
              "      <div>\n",
              "<style scoped>\n",
              "    .dataframe tbody tr th:only-of-type {\n",
              "        vertical-align: middle;\n",
              "    }\n",
              "\n",
              "    .dataframe tbody tr th {\n",
              "        vertical-align: top;\n",
              "    }\n",
              "\n",
              "    .dataframe thead th {\n",
              "        text-align: right;\n",
              "    }\n",
              "</style>\n",
              "<table border=\"1\" class=\"dataframe\">\n",
              "  <thead>\n",
              "    <tr style=\"text-align: right;\">\n",
              "      <th></th>\n",
              "      <th>duration</th>\n",
              "      <th>amount</th>\n",
              "      <th>age</th>\n",
              "    </tr>\n",
              "  </thead>\n",
              "  <tbody>\n",
              "    <tr>\n",
              "      <th>0</th>\n",
              "      <td>0.380094</td>\n",
              "      <td>0.335288</td>\n",
              "      <td>0.106772</td>\n",
              "    </tr>\n",
              "    <tr>\n",
              "      <th>1</th>\n",
              "      <td>0.619906</td>\n",
              "      <td>0.467867</td>\n",
              "      <td>0.170143</td>\n",
              "    </tr>\n",
              "    <tr>\n",
              "      <th>2</th>\n",
              "      <td>0.380094</td>\n",
              "      <td>0.278402</td>\n",
              "      <td>0.747135</td>\n",
              "    </tr>\n",
              "    <tr>\n",
              "      <th>3</th>\n",
              "      <td>0.760188</td>\n",
              "      <td>0.570035</td>\n",
              "      <td>0.704697</td>\n",
              "    </tr>\n",
              "    <tr>\n",
              "      <th>4</th>\n",
              "      <td>0.760188</td>\n",
              "      <td>0.837992</td>\n",
              "      <td>0.332660</td>\n",
              "    </tr>\n",
              "    <tr>\n",
              "      <th>...</th>\n",
              "      <td>...</td>\n",
              "      <td>...</td>\n",
              "      <td>...</td>\n",
              "    </tr>\n",
              "    <tr>\n",
              "      <th>845</th>\n",
              "      <td>0.317015</td>\n",
              "      <td>0.446264</td>\n",
              "      <td>0.542181</td>\n",
              "    </tr>\n",
              "    <tr>\n",
              "      <th>846</th>\n",
              "      <td>0.380094</td>\n",
              "      <td>0.592307</td>\n",
              "      <td>0.255925</td>\n",
              "    </tr>\n",
              "    <tr>\n",
              "      <th>847</th>\n",
              "      <td>0.619906</td>\n",
              "      <td>0.534362</td>\n",
              "      <td>0.627963</td>\n",
              "    </tr>\n",
              "    <tr>\n",
              "      <th>848</th>\n",
              "      <td>0.619906</td>\n",
              "      <td>0.725825</td>\n",
              "      <td>0.659633</td>\n",
              "    </tr>\n",
              "    <tr>\n",
              "      <th>849</th>\n",
              "      <td>0.589802</td>\n",
              "      <td>0.570395</td>\n",
              "      <td>0.542181</td>\n",
              "    </tr>\n",
              "  </tbody>\n",
              "</table>\n",
              "<p>850 rows × 3 columns</p>\n",
              "</div>\n",
              "      <button class=\"colab-df-convert\" onclick=\"convertToInteractive('df-fb015275-ac58-40b7-9ffb-584d1c7b444a')\"\n",
              "              title=\"Convert this dataframe to an interactive table.\"\n",
              "              style=\"display:none;\">\n",
              "        \n",
              "  <svg xmlns=\"http://www.w3.org/2000/svg\" height=\"24px\"viewBox=\"0 0 24 24\"\n",
              "       width=\"24px\">\n",
              "    <path d=\"M0 0h24v24H0V0z\" fill=\"none\"/>\n",
              "    <path d=\"M18.56 5.44l.94 2.06.94-2.06 2.06-.94-2.06-.94-.94-2.06-.94 2.06-2.06.94zm-11 1L8.5 8.5l.94-2.06 2.06-.94-2.06-.94L8.5 2.5l-.94 2.06-2.06.94zm10 10l.94 2.06.94-2.06 2.06-.94-2.06-.94-.94-2.06-.94 2.06-2.06.94z\"/><path d=\"M17.41 7.96l-1.37-1.37c-.4-.4-.92-.59-1.43-.59-.52 0-1.04.2-1.43.59L10.3 9.45l-7.72 7.72c-.78.78-.78 2.05 0 2.83L4 21.41c.39.39.9.59 1.41.59.51 0 1.02-.2 1.41-.59l7.78-7.78 2.81-2.81c.8-.78.8-2.07 0-2.86zM5.41 20L4 18.59l7.72-7.72 1.47 1.35L5.41 20z\"/>\n",
              "  </svg>\n",
              "      </button>\n",
              "      \n",
              "  <style>\n",
              "    .colab-df-container {\n",
              "      display:flex;\n",
              "      flex-wrap:wrap;\n",
              "      gap: 12px;\n",
              "    }\n",
              "\n",
              "    .colab-df-convert {\n",
              "      background-color: #E8F0FE;\n",
              "      border: none;\n",
              "      border-radius: 50%;\n",
              "      cursor: pointer;\n",
              "      display: none;\n",
              "      fill: #1967D2;\n",
              "      height: 32px;\n",
              "      padding: 0 0 0 0;\n",
              "      width: 32px;\n",
              "    }\n",
              "\n",
              "    .colab-df-convert:hover {\n",
              "      background-color: #E2EBFA;\n",
              "      box-shadow: 0px 1px 2px rgba(60, 64, 67, 0.3), 0px 1px 3px 1px rgba(60, 64, 67, 0.15);\n",
              "      fill: #174EA6;\n",
              "    }\n",
              "\n",
              "    [theme=dark] .colab-df-convert {\n",
              "      background-color: #3B4455;\n",
              "      fill: #D2E3FC;\n",
              "    }\n",
              "\n",
              "    [theme=dark] .colab-df-convert:hover {\n",
              "      background-color: #434B5C;\n",
              "      box-shadow: 0px 1px 3px 1px rgba(0, 0, 0, 0.15);\n",
              "      filter: drop-shadow(0px 1px 2px rgba(0, 0, 0, 0.3));\n",
              "      fill: #FFFFFF;\n",
              "    }\n",
              "  </style>\n",
              "\n",
              "      <script>\n",
              "        const buttonEl =\n",
              "          document.querySelector('#df-fb015275-ac58-40b7-9ffb-584d1c7b444a button.colab-df-convert');\n",
              "        buttonEl.style.display =\n",
              "          google.colab.kernel.accessAllowed ? 'block' : 'none';\n",
              "\n",
              "        async function convertToInteractive(key) {\n",
              "          const element = document.querySelector('#df-fb015275-ac58-40b7-9ffb-584d1c7b444a');\n",
              "          const dataTable =\n",
              "            await google.colab.kernel.invokeFunction('convertToInteractive',\n",
              "                                                     [key], {});\n",
              "          if (!dataTable) return;\n",
              "\n",
              "          const docLinkHtml = 'Like what you see? Visit the ' +\n",
              "            '<a target=\"_blank\" href=https://colab.research.google.com/notebooks/data_table.ipynb>data table notebook</a>'\n",
              "            + ' to learn more about interactive tables.';\n",
              "          element.innerHTML = '';\n",
              "          dataTable['output_type'] = 'display_data';\n",
              "          await google.colab.output.renderOutput(dataTable, element);\n",
              "          const docLink = document.createElement('div');\n",
              "          docLink.innerHTML = docLinkHtml;\n",
              "          element.appendChild(docLink);\n",
              "        }\n",
              "      </script>\n",
              "    </div>\n",
              "  </div>\n",
              "  "
            ]
          },
          "metadata": {},
          "execution_count": 19
        }
      ],
      "source": [
        "#Pasando el array que se arroja como resultado de la transformación y normalización a un DaatFrame\n",
        "df_numb = pd.DataFrame(XtrainTransf, columns = ['duration','amount','age'])\n",
        "df_numb"
      ]
    },
    {
      "cell_type": "code",
      "execution_count": 20,
      "metadata": {
        "colab": {
          "base_uri": "https://localhost:8080/",
          "height": 285
        },
        "id": "iXKNg5m22G1x",
        "outputId": "baa494e2-30bc-45bb-91ae-4597ada6c033"
      },
      "outputs": [
        {
          "output_type": "display_data",
          "data": {
            "text/plain": [
              "<Figure size 720x288 with 3 Axes>"
            ],
            "image/png": "[encoded data removed]"
          },
          "metadata": {}
        }
      ],
      "source": [
        "#Impresión de la grafica de los datos del DataFrame númerico\n",
        "plot_hist(df_numb)"
      ]
    },
    {
      "cell_type": "markdown",
      "metadata": {
        "id": "b6ZLduXt2G1z"
      },
      "source": [
        "Podemos ver aquí, como los datos después de estandarizarlos y normalizarlos muestran un comportamiento casi nornal, en un rango de 0 a 1, mejorando la simetría. Es importante mencionar que el pipeline utilizando la función de logaritmo, tiene que hacer primero la estandarización de datos, para que estén todos en la misma escala, antes de hacer la normalización. Esto solo se hace principalmente para los casos de usar la regresión logística."
      ]
    },
    {
      "cell_type": "markdown",
      "metadata": {
        "id": "3eNiXTu62G12"
      },
      "source": [
        "### Ejercicio 3.c\n",
        "Aplica la transformación One-Hot encoding a las variables de entrada de tipo categórico y \n",
        "binaria. En particular, justifica por qué una variable binaria requeriría que se le aplique  la  transformación one-hot encoding. Por el momento dejar las variables ordinales sin transformar. "
      ]
    },
    {
      "cell_type": "code",
      "execution_count": 21,
      "metadata": {
        "id": "qs5ml2lX2G13"
      },
      "outputs": [],
      "source": [
        "#Transformaciones a factores categóricos de entrada\n",
        "catOHE_pipeline = Pipeline(steps = [('impModa', SimpleImputer(strategy='most_frequent')), ('OneHotE', OneHotEncoder())])"
      ]
    },
    {
      "cell_type": "code",
      "execution_count": 22,
      "metadata": {
        "id": "xDGwOncO2G14"
      },
      "outputs": [],
      "source": [
        "#Transformaciones a factores categóricos de entrada\n",
        "X_train_cat = X_train[df_name_cate].copy()\n",
        "columnasTransformerCat = ColumnTransformer(transformers = [('catohe', catOHE_pipeline, df_name_cate)])\n",
        "XtrainFitCat = columnasTransformerCat.fit(X_train_cat)\n",
        "XtrainTransfCat = XtrainFitCat.transform(X_train_cat)"
      ]
    },
    {
      "cell_type": "code",
      "execution_count": 23,
      "metadata": {
        "colab": {
          "base_uri": "https://localhost:8080/",
          "height": 419
        },
        "id": "vd10B17u2G15",
        "outputId": "ba942308-3387-4981-db34-9981a2edb264"
      },
      "outputs": [
        {
          "output_type": "execute_result",
          "data": {
            "text/plain": [
              "      0    1    2    3    4    5    6    7    8    9   ...   27   28   29  \\\n",
              "0    0.0  1.0  0.0  0.0  0.0  0.0  1.0  0.0  0.0  1.0  ...  1.0  1.0  0.0   \n",
              "1    1.0  0.0  0.0  0.0  0.0  0.0  1.0  0.0  0.0  0.0  ...  0.0  0.0  1.0   \n",
              "2    1.0  0.0  0.0  0.0  0.0  0.0  1.0  0.0  0.0  0.0  ...  0.0  1.0  0.0   \n",
              "3    0.0  1.0  0.0  0.0  0.0  0.0  1.0  0.0  0.0  0.0  ...  0.0  0.0  1.0   \n",
              "4    0.0  0.0  0.0  1.0  0.0  0.0  1.0  0.0  0.0  0.0  ...  0.0  1.0  0.0   \n",
              "..   ...  ...  ...  ...  ...  ...  ...  ...  ...  ...  ...  ...  ...  ...   \n",
              "845  0.0  0.0  0.0  1.0  0.0  0.0  1.0  0.0  0.0  1.0  ...  0.0  1.0  0.0   \n",
              "846  0.0  1.0  0.0  0.0  0.0  0.0  1.0  0.0  0.0  0.0  ...  0.0  1.0  0.0   \n",
              "847  1.0  0.0  0.0  0.0  0.0  0.0  1.0  0.0  0.0  1.0  ...  0.0  0.0  1.0   \n",
              "848  0.0  0.0  0.0  1.0  0.0  0.0  0.0  0.0  1.0  0.0  ...  1.0  1.0  0.0   \n",
              "849  0.0  0.0  0.0  1.0  0.0  0.0  1.0  0.0  0.0  0.0  ...  0.0  1.0  0.0   \n",
              "\n",
              "      30   31   32   33   34   35   36  \n",
              "0    0.0  0.0  0.0  1.0  0.0  1.0  0.0  \n",
              "1    0.0  0.0  0.0  1.0  0.0  1.0  0.0  \n",
              "2    0.0  0.0  0.0  1.0  0.0  1.0  0.0  \n",
              "3    0.0  0.0  0.0  1.0  0.0  0.0  1.0  \n",
              "4    0.0  1.0  0.0  0.0  0.0  1.0  0.0  \n",
              "..   ...  ...  ...  ...  ...  ...  ...  \n",
              "845  0.0  0.0  0.0  1.0  1.0  0.0  0.0  \n",
              "846  0.0  0.0  0.0  1.0  0.0  1.0  0.0  \n",
              "847  0.0  0.0  0.0  1.0  0.0  1.0  0.0  \n",
              "848  0.0  0.0  0.0  1.0  0.0  0.0  1.0  \n",
              "849  0.0  0.0  0.0  1.0  0.0  1.0  0.0  \n",
              "\n",
              "[850 rows x 37 columns]"
            ],
            "text/html": [
              "\n",
              "  <div id=\"df-6b848ab9-bf54-420e-bc3c-ab85de6c5033\">\n",
              "    <div class=\"colab-df-container\">\n",
              "      <div>\n",
              "<style scoped>\n",
              "    .dataframe tbody tr th:only-of-type {\n",
              "        vertical-align: middle;\n",
              "    }\n",
              "\n",
              "    .dataframe tbody tr th {\n",
              "        vertical-align: top;\n",
              "    }\n",
              "\n",
              "    .dataframe thead th {\n",
              "        text-align: right;\n",
              "    }\n",
              "</style>\n",
              "<table border=\"1\" class=\"dataframe\">\n",
              "  <thead>\n",
              "    <tr style=\"text-align: right;\">\n",
              "      <th></th>\n",
              "      <th>0</th>\n",
              "      <th>1</th>\n",
              "      <th>2</th>\n",
              "      <th>3</th>\n",
              "      <th>4</th>\n",
              "      <th>5</th>\n",
              "      <th>6</th>\n",
              "      <th>7</th>\n",
              "      <th>8</th>\n",
              "      <th>9</th>\n",
              "      <th>...</th>\n",
              "      <th>27</th>\n",
              "      <th>28</th>\n",
              "      <th>29</th>\n",
              "      <th>30</th>\n",
              "      <th>31</th>\n",
              "      <th>32</th>\n",
              "      <th>33</th>\n",
              "      <th>34</th>\n",
              "      <th>35</th>\n",
              "      <th>36</th>\n",
              "    </tr>\n",
              "  </thead>\n",
              "  <tbody>\n",
              "    <tr>\n",
              "      <th>0</th>\n",
              "      <td>0.0</td>\n",
              "      <td>1.0</td>\n",
              "      <td>0.0</td>\n",
              "      <td>0.0</td>\n",
              "      <td>0.0</td>\n",
              "      <td>0.0</td>\n",
              "      <td>1.0</td>\n",
              "      <td>0.0</td>\n",
              "      <td>0.0</td>\n",
              "      <td>1.0</td>\n",
              "      <td>...</td>\n",
              "      <td>1.0</td>\n",
              "      <td>1.0</td>\n",
              "      <td>0.0</td>\n",
              "      <td>0.0</td>\n",
              "      <td>0.0</td>\n",
              "      <td>0.0</td>\n",
              "      <td>1.0</td>\n",
              "      <td>0.0</td>\n",
              "      <td>1.0</td>\n",
              "      <td>0.0</td>\n",
              "    </tr>\n",
              "    <tr>\n",
              "      <th>1</th>\n",
              "      <td>1.0</td>\n",
              "      <td>0.0</td>\n",
              "      <td>0.0</td>\n",
              "      <td>0.0</td>\n",
              "      <td>0.0</td>\n",
              "      <td>0.0</td>\n",
              "      <td>1.0</td>\n",
              "      <td>0.0</td>\n",
              "      <td>0.0</td>\n",
              "      <td>0.0</td>\n",
              "      <td>...</td>\n",
              "      <td>0.0</td>\n",
              "      <td>0.0</td>\n",
              "      <td>1.0</td>\n",
              "      <td>0.0</td>\n",
              "      <td>0.0</td>\n",
              "      <td>0.0</td>\n",
              "      <td>1.0</td>\n",
              "      <td>0.0</td>\n",
              "      <td>1.0</td>\n",
              "      <td>0.0</td>\n",
              "    </tr>\n",
              "    <tr>\n",
              "      <th>2</th>\n",
              "      <td>1.0</td>\n",
              "      <td>0.0</td>\n",
              "      <td>0.0</td>\n",
              "      <td>0.0</td>\n",
              "      <td>0.0</td>\n",
              "      <td>0.0</td>\n",
              "      <td>1.0</td>\n",
              "      <td>0.0</td>\n",
              "      <td>0.0</td>\n",
              "      <td>0.0</td>\n",
              "      <td>...</td>\n",
              "      <td>0.0</td>\n",
              "      <td>1.0</td>\n",
              "      <td>0.0</td>\n",
              "      <td>0.0</td>\n",
              "      <td>0.0</td>\n",
              "      <td>0.0</td>\n",
              "      <td>1.0</td>\n",
              "      <td>0.0</td>\n",
              "      <td>1.0</td>\n",
              "      <td>0.0</td>\n",
              "    </tr>\n",
              "    <tr>\n",
              "      <th>3</th>\n",
              "      <td>0.0</td>\n",
              "      <td>1.0</td>\n",
              "      <td>0.0</td>\n",
              "      <td>0.0</td>\n",
              "      <td>0.0</td>\n",
              "      <td>0.0</td>\n",
              "      <td>1.0</td>\n",
              "      <td>0.0</td>\n",
              "      <td>0.0</td>\n",
              "      <td>0.0</td>\n",
              "      <td>...</td>\n",
              "      <td>0.0</td>\n",
              "      <td>0.0</td>\n",
              "      <td>1.0</td>\n",
              "      <td>0.0</td>\n",
              "      <td>0.0</td>\n",
              "      <td>0.0</td>\n",
              "      <td>1.0</td>\n",
              "      <td>0.0</td>\n",
              "      <td>0.0</td>\n",
              "      <td>1.0</td>\n",
              "    </tr>\n",
              "    <tr>\n",
              "      <th>4</th>\n",
              "      <td>0.0</td>\n",
              "      <td>0.0</td>\n",
              "      <td>0.0</td>\n",
              "      <td>1.0</td>\n",
              "      <td>0.0</td>\n",
              "      <td>0.0</td>\n",
              "      <td>1.0</td>\n",
              "      <td>0.0</td>\n",
              "      <td>0.0</td>\n",
              "      <td>0.0</td>\n",
              "      <td>...</td>\n",
              "      <td>0.0</td>\n",
              "      <td>1.0</td>\n",
              "      <td>0.0</td>\n",
              "      <td>0.0</td>\n",
              "      <td>1.0</td>\n",
              "      <td>0.0</td>\n",
              "      <td>0.0</td>\n",
              "      <td>0.0</td>\n",
              "      <td>1.0</td>\n",
              "      <td>0.0</td>\n",
              "    </tr>\n",
              "    <tr>\n",
              "      <th>...</th>\n",
              "      <td>...</td>\n",
              "      <td>...</td>\n",
              "      <td>...</td>\n",
              "      <td>...</td>\n",
              "      <td>...</td>\n",
              "      <td>...</td>\n",
              "      <td>...</td>\n",
              "      <td>...</td>\n",
              "      <td>...</td>\n",
              "      <td>...</td>\n",
              "      <td>...</td>\n",
              "      <td>...</td>\n",
              "      <td>...</td>\n",
              "      <td>...</td>\n",
              "      <td>...</td>\n",
              "      <td>...</td>\n",
              "      <td>...</td>\n",
              "      <td>...</td>\n",
              "      <td>...</td>\n",
              "      <td>...</td>\n",
              "      <td>...</td>\n",
              "    </tr>\n",
              "    <tr>\n",
              "      <th>845</th>\n",
              "      <td>0.0</td>\n",
              "      <td>0.0</td>\n",
              "      <td>0.0</td>\n",
              "      <td>1.0</td>\n",
              "      <td>0.0</td>\n",
              "      <td>0.0</td>\n",
              "      <td>1.0</td>\n",
              "      <td>0.0</td>\n",
              "      <td>0.0</td>\n",
              "      <td>1.0</td>\n",
              "      <td>...</td>\n",
              "      <td>0.0</td>\n",
              "      <td>1.0</td>\n",
              "      <td>0.0</td>\n",
              "      <td>0.0</td>\n",
              "      <td>0.0</td>\n",
              "      <td>0.0</td>\n",
              "      <td>1.0</td>\n",
              "      <td>1.0</td>\n",
              "      <td>0.0</td>\n",
              "      <td>0.0</td>\n",
              "    </tr>\n",
              "    <tr>\n",
              "      <th>846</th>\n",
              "      <td>0.0</td>\n",
              "      <td>1.0</td>\n",
              "      <td>0.0</td>\n",
              "      <td>0.0</td>\n",
              "      <td>0.0</td>\n",
              "      <td>0.0</td>\n",
              "      <td>1.0</td>\n",
              "      <td>0.0</td>\n",
              "      <td>0.0</td>\n",
              "      <td>0.0</td>\n",
              "      <td>...</td>\n",
              "      <td>0.0</td>\n",
              "      <td>1.0</td>\n",
              "      <td>0.0</td>\n",
              "      <td>0.0</td>\n",
              "      <td>0.0</td>\n",
              "      <td>0.0</td>\n",
              "      <td>1.0</td>\n",
              "      <td>0.0</td>\n",
              "      <td>1.0</td>\n",
              "      <td>0.0</td>\n",
              "    </tr>\n",
              "    <tr>\n",
              "      <th>847</th>\n",
              "      <td>1.0</td>\n",
              "      <td>0.0</td>\n",
              "      <td>0.0</td>\n",
              "      <td>0.0</td>\n",
              "      <td>0.0</td>\n",
              "      <td>0.0</td>\n",
              "      <td>1.0</td>\n",
              "      <td>0.0</td>\n",
              "      <td>0.0</td>\n",
              "      <td>1.0</td>\n",
              "      <td>...</td>\n",
              "      <td>0.0</td>\n",
              "      <td>0.0</td>\n",
              "      <td>1.0</td>\n",
              "      <td>0.0</td>\n",
              "      <td>0.0</td>\n",
              "      <td>0.0</td>\n",
              "      <td>1.0</td>\n",
              "      <td>0.0</td>\n",
              "      <td>1.0</td>\n",
              "      <td>0.0</td>\n",
              "    </tr>\n",
              "    <tr>\n",
              "      <th>848</th>\n",
              "      <td>0.0</td>\n",
              "      <td>0.0</td>\n",
              "      <td>0.0</td>\n",
              "      <td>1.0</td>\n",
              "      <td>0.0</td>\n",
              "      <td>0.0</td>\n",
              "      <td>0.0</td>\n",
              "      <td>0.0</td>\n",
              "      <td>1.0</td>\n",
              "      <td>0.0</td>\n",
              "      <td>...</td>\n",
              "      <td>1.0</td>\n",
              "      <td>1.0</td>\n",
              "      <td>0.0</td>\n",
              "      <td>0.0</td>\n",
              "      <td>0.0</td>\n",
              "      <td>0.0</td>\n",
              "      <td>1.0</td>\n",
              "      <td>0.0</td>\n",
              "      <td>0.0</td>\n",
              "      <td>1.0</td>\n",
              "    </tr>\n",
              "    <tr>\n",
              "      <th>849</th>\n",
              "      <td>0.0</td>\n",
              "      <td>0.0</td>\n",
              "      <td>0.0</td>\n",
              "      <td>1.0</td>\n",
              "      <td>0.0</td>\n",
              "      <td>0.0</td>\n",
              "      <td>1.0</td>\n",
              "      <td>0.0</td>\n",
              "      <td>0.0</td>\n",
              "      <td>0.0</td>\n",
              "      <td>...</td>\n",
              "      <td>0.0</td>\n",
              "      <td>1.0</td>\n",
              "      <td>0.0</td>\n",
              "      <td>0.0</td>\n",
              "      <td>0.0</td>\n",
              "      <td>0.0</td>\n",
              "      <td>1.0</td>\n",
              "      <td>0.0</td>\n",
              "      <td>1.0</td>\n",
              "      <td>0.0</td>\n",
              "    </tr>\n",
              "  </tbody>\n",
              "</table>\n",
              "<p>850 rows × 37 columns</p>\n",
              "</div>\n",
              "      <button class=\"colab-df-convert\" onclick=\"convertToInteractive('df-6b848ab9-bf54-420e-bc3c-ab85de6c5033')\"\n",
              "              title=\"Convert this dataframe to an interactive table.\"\n",
              "              style=\"display:none;\">\n",
              "        \n",
              "  <svg xmlns=\"http://www.w3.org/2000/svg\" height=\"24px\"viewBox=\"0 0 24 24\"\n",
              "       width=\"24px\">\n",
              "    <path d=\"M0 0h24v24H0V0z\" fill=\"none\"/>\n",
              "    <path d=\"M18.56 5.44l.94 2.06.94-2.06 2.06-.94-2.06-.94-.94-2.06-.94 2.06-2.06.94zm-11 1L8.5 8.5l.94-2.06 2.06-.94-2.06-.94L8.5 2.5l-.94 2.06-2.06.94zm10 10l.94 2.06.94-2.06 2.06-.94-2.06-.94-.94-2.06-.94 2.06-2.06.94z\"/><path d=\"M17.41 7.96l-1.37-1.37c-.4-.4-.92-.59-1.43-.59-.52 0-1.04.2-1.43.59L10.3 9.45l-7.72 7.72c-.78.78-.78 2.05 0 2.83L4 21.41c.39.39.9.59 1.41.59.51 0 1.02-.2 1.41-.59l7.78-7.78 2.81-2.81c.8-.78.8-2.07 0-2.86zM5.41 20L4 18.59l7.72-7.72 1.47 1.35L5.41 20z\"/>\n",
              "  </svg>\n",
              "      </button>\n",
              "      \n",
              "  <style>\n",
              "    .colab-df-container {\n",
              "      display:flex;\n",
              "      flex-wrap:wrap;\n",
              "      gap: 12px;\n",
              "    }\n",
              "\n",
              "    .colab-df-convert {\n",
              "      background-color: #E8F0FE;\n",
              "      border: none;\n",
              "      border-radius: 50%;\n",
              "      cursor: pointer;\n",
              "      display: none;\n",
              "      fill: #1967D2;\n",
              "      height: 32px;\n",
              "      padding: 0 0 0 0;\n",
              "      width: 32px;\n",
              "    }\n",
              "\n",
              "    .colab-df-convert:hover {\n",
              "      background-color: #E2EBFA;\n",
              "      box-shadow: 0px 1px 2px rgba(60, 64, 67, 0.3), 0px 1px 3px 1px rgba(60, 64, 67, 0.15);\n",
              "      fill: #174EA6;\n",
              "    }\n",
              "\n",
              "    [theme=dark] .colab-df-convert {\n",
              "      background-color: #3B4455;\n",
              "      fill: #D2E3FC;\n",
              "    }\n",
              "\n",
              "    [theme=dark] .colab-df-convert:hover {\n",
              "      background-color: #434B5C;\n",
              "      box-shadow: 0px 1px 3px 1px rgba(0, 0, 0, 0.15);\n",
              "      filter: drop-shadow(0px 1px 2px rgba(0, 0, 0, 0.3));\n",
              "      fill: #FFFFFF;\n",
              "    }\n",
              "  </style>\n",
              "\n",
              "      <script>\n",
              "        const buttonEl =\n",
              "          document.querySelector('#df-6b848ab9-bf54-420e-bc3c-ab85de6c5033 button.colab-df-convert');\n",
              "        buttonEl.style.display =\n",
              "          google.colab.kernel.accessAllowed ? 'block' : 'none';\n",
              "\n",
              "        async function convertToInteractive(key) {\n",
              "          const element = document.querySelector('#df-6b848ab9-bf54-420e-bc3c-ab85de6c5033');\n",
              "          const dataTable =\n",
              "            await google.colab.kernel.invokeFunction('convertToInteractive',\n",
              "                                                     [key], {});\n",
              "          if (!dataTable) return;\n",
              "\n",
              "          const docLinkHtml = 'Like what you see? Visit the ' +\n",
              "            '<a target=\"_blank\" href=https://colab.research.google.com/notebooks/data_table.ipynb>data table notebook</a>'\n",
              "            + ' to learn more about interactive tables.';\n",
              "          element.innerHTML = '';\n",
              "          dataTable['output_type'] = 'display_data';\n",
              "          await google.colab.output.renderOutput(dataTable, element);\n",
              "          const docLink = document.createElement('div');\n",
              "          docLink.innerHTML = docLinkHtml;\n",
              "          element.appendChild(docLink);\n",
              "        }\n",
              "      </script>\n",
              "    </div>\n",
              "  </div>\n",
              "  "
            ]
          },
          "metadata": {},
          "execution_count": 23
        }
      ],
      "source": [
        "#Pasando el array que se arroja como resultado de la normalización a un DaatFrame\n",
        "df_cat = pd.DataFrame(XtrainTransfCat.toarray())\n",
        "df_cat"
      ]
    },
    {
      "cell_type": "markdown",
      "metadata": {
        "id": "hWxSca9J2G16"
      },
      "source": [
        "En este apartado lo que buscamos es revisar que el One Hot Encoder tome todos los valores de los datos categóricos y esté creando correctamente las columnas, así como la asignación de cada valor categórico por registro."
      ]
    },
    {
      "cell_type": "code",
      "execution_count": 24,
      "metadata": {
        "colab": {
          "base_uri": "https://localhost:8080/"
        },
        "id": "DAgaTowd2G17",
        "outputId": "cac08f89-f88f-4f8d-ffce-5b61f595c24d"
      },
      "outputs": [
        {
          "output_type": "execute_result",
          "data": {
            "text/plain": [
              "array([[0., 1., 1., 0., 0., 1.],\n",
              "       [0., 1., 1., 0., 1., 0.],\n",
              "       [0., 1., 1., 0., 0., 1.],\n",
              "       ...,\n",
              "       [0., 1., 1., 0., 0., 1.],\n",
              "       [0., 1., 0., 1., 0., 1.],\n",
              "       [0., 1., 1., 0., 0., 1.]])"
            ]
          },
          "metadata": {},
          "execution_count": 24
        }
      ],
      "source": [
        "#Transformaciones a factores binarios de entrada\n",
        "X_train_bin = X_train[df_name_bin].copy()\n",
        "columnasTransformerBin = ColumnTransformer(transformers = [('catohe', catOHE_pipeline, df_name_bin)])\n",
        "XtrainFitBin = columnasTransformerBin.fit(X_train_bin)\n",
        "XtrainTransfBin = XtrainFitBin.transform(X_train_bin)\n",
        "XtrainTransfBin"
      ]
    },
    {
      "cell_type": "code",
      "execution_count": 25,
      "metadata": {
        "colab": {
          "base_uri": "https://localhost:8080/",
          "height": 419
        },
        "id": "xFy6hSHm2G18",
        "outputId": "8b382cc0-7a34-47a4-9b2d-b54d5d39bbb4"
      },
      "outputs": [
        {
          "output_type": "execute_result",
          "data": {
            "text/plain": [
              "       0    1    2    3    4    5\n",
              "0    0.0  1.0  1.0  0.0  0.0  1.0\n",
              "1    0.0  1.0  1.0  0.0  1.0  0.0\n",
              "2    0.0  1.0  1.0  0.0  0.0  1.0\n",
              "3    0.0  1.0  1.0  0.0  0.0  1.0\n",
              "4    0.0  1.0  1.0  0.0  0.0  1.0\n",
              "..   ...  ...  ...  ...  ...  ...\n",
              "845  1.0  0.0  1.0  0.0  1.0  0.0\n",
              "846  0.0  1.0  1.0  0.0  0.0  1.0\n",
              "847  0.0  1.0  1.0  0.0  0.0  1.0\n",
              "848  0.0  1.0  0.0  1.0  0.0  1.0\n",
              "849  0.0  1.0  1.0  0.0  0.0  1.0\n",
              "\n",
              "[850 rows x 6 columns]"
            ],
            "text/html": [
              "\n",
              "  <div id=\"df-d3f4ed9a-1664-45d5-89a9-2f98f89436aa\">\n",
              "    <div class=\"colab-df-container\">\n",
              "      <div>\n",
              "<style scoped>\n",
              "    .dataframe tbody tr th:only-of-type {\n",
              "        vertical-align: middle;\n",
              "    }\n",
              "\n",
              "    .dataframe tbody tr th {\n",
              "        vertical-align: top;\n",
              "    }\n",
              "\n",
              "    .dataframe thead th {\n",
              "        text-align: right;\n",
              "    }\n",
              "</style>\n",
              "<table border=\"1\" class=\"dataframe\">\n",
              "  <thead>\n",
              "    <tr style=\"text-align: right;\">\n",
              "      <th></th>\n",
              "      <th>0</th>\n",
              "      <th>1</th>\n",
              "      <th>2</th>\n",
              "      <th>3</th>\n",
              "      <th>4</th>\n",
              "      <th>5</th>\n",
              "    </tr>\n",
              "  </thead>\n",
              "  <tbody>\n",
              "    <tr>\n",
              "      <th>0</th>\n",
              "      <td>0.0</td>\n",
              "      <td>1.0</td>\n",
              "      <td>1.0</td>\n",
              "      <td>0.0</td>\n",
              "      <td>0.0</td>\n",
              "      <td>1.0</td>\n",
              "    </tr>\n",
              "    <tr>\n",
              "      <th>1</th>\n",
              "      <td>0.0</td>\n",
              "      <td>1.0</td>\n",
              "      <td>1.0</td>\n",
              "      <td>0.0</td>\n",
              "      <td>1.0</td>\n",
              "      <td>0.0</td>\n",
              "    </tr>\n",
              "    <tr>\n",
              "      <th>2</th>\n",
              "      <td>0.0</td>\n",
              "      <td>1.0</td>\n",
              "      <td>1.0</td>\n",
              "      <td>0.0</td>\n",
              "      <td>0.0</td>\n",
              "      <td>1.0</td>\n",
              "    </tr>\n",
              "    <tr>\n",
              "      <th>3</th>\n",
              "      <td>0.0</td>\n",
              "      <td>1.0</td>\n",
              "      <td>1.0</td>\n",
              "      <td>0.0</td>\n",
              "      <td>0.0</td>\n",
              "      <td>1.0</td>\n",
              "    </tr>\n",
              "    <tr>\n",
              "      <th>4</th>\n",
              "      <td>0.0</td>\n",
              "      <td>1.0</td>\n",
              "      <td>1.0</td>\n",
              "      <td>0.0</td>\n",
              "      <td>0.0</td>\n",
              "      <td>1.0</td>\n",
              "    </tr>\n",
              "    <tr>\n",
              "      <th>...</th>\n",
              "      <td>...</td>\n",
              "      <td>...</td>\n",
              "      <td>...</td>\n",
              "      <td>...</td>\n",
              "      <td>...</td>\n",
              "      <td>...</td>\n",
              "    </tr>\n",
              "    <tr>\n",
              "      <th>845</th>\n",
              "      <td>1.0</td>\n",
              "      <td>0.0</td>\n",
              "      <td>1.0</td>\n",
              "      <td>0.0</td>\n",
              "      <td>1.0</td>\n",
              "      <td>0.0</td>\n",
              "    </tr>\n",
              "    <tr>\n",
              "      <th>846</th>\n",
              "      <td>0.0</td>\n",
              "      <td>1.0</td>\n",
              "      <td>1.0</td>\n",
              "      <td>0.0</td>\n",
              "      <td>0.0</td>\n",
              "      <td>1.0</td>\n",
              "    </tr>\n",
              "    <tr>\n",
              "      <th>847</th>\n",
              "      <td>0.0</td>\n",
              "      <td>1.0</td>\n",
              "      <td>1.0</td>\n",
              "      <td>0.0</td>\n",
              "      <td>0.0</td>\n",
              "      <td>1.0</td>\n",
              "    </tr>\n",
              "    <tr>\n",
              "      <th>848</th>\n",
              "      <td>0.0</td>\n",
              "      <td>1.0</td>\n",
              "      <td>0.0</td>\n",
              "      <td>1.0</td>\n",
              "      <td>0.0</td>\n",
              "      <td>1.0</td>\n",
              "    </tr>\n",
              "    <tr>\n",
              "      <th>849</th>\n",
              "      <td>0.0</td>\n",
              "      <td>1.0</td>\n",
              "      <td>1.0</td>\n",
              "      <td>0.0</td>\n",
              "      <td>0.0</td>\n",
              "      <td>1.0</td>\n",
              "    </tr>\n",
              "  </tbody>\n",
              "</table>\n",
              "<p>850 rows × 6 columns</p>\n",
              "</div>\n",
              "      <button class=\"colab-df-convert\" onclick=\"convertToInteractive('df-d3f4ed9a-1664-45d5-89a9-2f98f89436aa')\"\n",
              "              title=\"Convert this dataframe to an interactive table.\"\n",
              "              style=\"display:none;\">\n",
              "        \n",
              "  <svg xmlns=\"http://www.w3.org/2000/svg\" height=\"24px\"viewBox=\"0 0 24 24\"\n",
              "       width=\"24px\">\n",
              "    <path d=\"M0 0h24v24H0V0z\" fill=\"none\"/>\n",
              "    <path d=\"M18.56 5.44l.94 2.06.94-2.06 2.06-.94-2.06-.94-.94-2.06-.94 2.06-2.06.94zm-11 1L8.5 8.5l.94-2.06 2.06-.94-2.06-.94L8.5 2.5l-.94 2.06-2.06.94zm10 10l.94 2.06.94-2.06 2.06-.94-2.06-.94-.94-2.06-.94 2.06-2.06.94z\"/><path d=\"M17.41 7.96l-1.37-1.37c-.4-.4-.92-.59-1.43-.59-.52 0-1.04.2-1.43.59L10.3 9.45l-7.72 7.72c-.78.78-.78 2.05 0 2.83L4 21.41c.39.39.9.59 1.41.59.51 0 1.02-.2 1.41-.59l7.78-7.78 2.81-2.81c.8-.78.8-2.07 0-2.86zM5.41 20L4 18.59l7.72-7.72 1.47 1.35L5.41 20z\"/>\n",
              "  </svg>\n",
              "      </button>\n",
              "      \n",
              "  <style>\n",
              "    .colab-df-container {\n",
              "      display:flex;\n",
              "      flex-wrap:wrap;\n",
              "      gap: 12px;\n",
              "    }\n",
              "\n",
              "    .colab-df-convert {\n",
              "      background-color: #E8F0FE;\n",
              "      border: none;\n",
              "      border-radius: 50%;\n",
              "      cursor: pointer;\n",
              "      display: none;\n",
              "      fill: #1967D2;\n",
              "      height: 32px;\n",
              "      padding: 0 0 0 0;\n",
              "      width: 32px;\n",
              "    }\n",
              "\n",
              "    .colab-df-convert:hover {\n",
              "      background-color: #E2EBFA;\n",
              "      box-shadow: 0px 1px 2px rgba(60, 64, 67, 0.3), 0px 1px 3px 1px rgba(60, 64, 67, 0.15);\n",
              "      fill: #174EA6;\n",
              "    }\n",
              "\n",
              "    [theme=dark] .colab-df-convert {\n",
              "      background-color: #3B4455;\n",
              "      fill: #D2E3FC;\n",
              "    }\n",
              "\n",
              "    [theme=dark] .colab-df-convert:hover {\n",
              "      background-color: #434B5C;\n",
              "      box-shadow: 0px 1px 3px 1px rgba(0, 0, 0, 0.15);\n",
              "      filter: drop-shadow(0px 1px 2px rgba(0, 0, 0, 0.3));\n",
              "      fill: #FFFFFF;\n",
              "    }\n",
              "  </style>\n",
              "\n",
              "      <script>\n",
              "        const buttonEl =\n",
              "          document.querySelector('#df-d3f4ed9a-1664-45d5-89a9-2f98f89436aa button.colab-df-convert');\n",
              "        buttonEl.style.display =\n",
              "          google.colab.kernel.accessAllowed ? 'block' : 'none';\n",
              "\n",
              "        async function convertToInteractive(key) {\n",
              "          const element = document.querySelector('#df-d3f4ed9a-1664-45d5-89a9-2f98f89436aa');\n",
              "          const dataTable =\n",
              "            await google.colab.kernel.invokeFunction('convertToInteractive',\n",
              "                                                     [key], {});\n",
              "          if (!dataTable) return;\n",
              "\n",
              "          const docLinkHtml = 'Like what you see? Visit the ' +\n",
              "            '<a target=\"_blank\" href=https://colab.research.google.com/notebooks/data_table.ipynb>data table notebook</a>'\n",
              "            + ' to learn more about interactive tables.';\n",
              "          element.innerHTML = '';\n",
              "          dataTable['output_type'] = 'display_data';\n",
              "          await google.colab.output.renderOutput(dataTable, element);\n",
              "          const docLink = document.createElement('div');\n",
              "          docLink.innerHTML = docLinkHtml;\n",
              "          element.appendChild(docLink);\n",
              "        }\n",
              "      </script>\n",
              "    </div>\n",
              "  </div>\n",
              "  "
            ]
          },
          "metadata": {},
          "execution_count": 25
        }
      ],
      "source": [
        "#Pasando el array que se arroja como resultado de la normalización a un DaatFrame\n",
        "df_bin = pd.DataFrame(XtrainTransfBin)\n",
        "df_bin"
      ]
    },
    {
      "cell_type": "markdown",
      "metadata": {
        "id": "OCloBQii2G1_"
      },
      "source": [
        "En este apartado lo que buscamos es revisar que el One Hot Encoder tome todos los valores de los datos binarios y esté creando correctamente las columnas, así como la asignación de cada valor binario por registro."
      ]
    },
    {
      "cell_type": "code",
      "execution_count": 26,
      "metadata": {
        "id": "JALYJy5O2G2A"
      },
      "outputs": [],
      "source": [
        "# Conjuntamos las transformaciones numéricas y categóricas que se estarán aplicando a los datos de entrada:\n",
        "columnasTransformer = ColumnTransformer(transformers = [\n",
        "                                                        ('numpipe', num_pipeline, df_name_num),\n",
        "                                                        ('catohecat', catOHE_pipeline, df_name_cate),\n",
        "                                                        ('catohebin', catOHE_pipeline, df_name_bin),\n",
        "                                                    ])"
      ]
    },
    {
      "cell_type": "markdown",
      "metadata": {
        "id": "chqk9jIDC5Pq"
      },
      "source": [
        "# **Ejercicio 4**\n",
        "Llevarás un entrenamiento usando validación cruzada entre los siguientes tres modelos de aprendizaje automático: Regresión Logística, Árbol de Decisión y Bosque Aleatorio. Deberás llevar a cabo el entrenamiento de los tres de manera conjunta usando un ciclo FOR. Recuerda aplicar las transformaciones que definiste en tu Pipeline. El entrenamiento debe ser con las siguientes características: \n",
        "\n",
        "- a.  Usa los parámetros predeterminados de cada modelo.\n",
        "\n",
        "- b.  En cada iteración deben calcularse todas las siguientes métricas: accuracy, precision, recall, f1-score y Gmean. Todas estas métricas deben ser funciones que tú mismo debes definir (Es decir, no usar las funciones de dichas métricas que te proporciona scikit-learn. \n",
        "Sin embargo, sí puedes usar la información regresada por el método confusion_matrix() de scikit-learn para definir las métricas).\n",
        "\n",
        "- c.  Usar validación cruzada estratificada con 5 particiones y con 3 repeticiones.\n",
        "\n",
        "- d.  Imprimir el valor de todas estas métricas, tanto para los datos de entrenamiento, como para los de validación. Así como los diagramas de caja y bigotes de los tres modelos con la  métrica “recall”. ¿Alguno de los modelos está subentrenado o sobreentrenado? Justifica tu respuesta. \n",
        "\n",
        "- e.  En particular obtengamos algunas de las llamadas curvas de aprendizaje para algunos de \n",
        "estos casos. En dada gráfico debes incluir tus comentarios sobre el modelo generado: \n",
        "\n",
        "    - i.  Obtener las curvas de aprendizaje (learning_curve) en la cual se va incrementando el tamaño de la muestra para el modelo de regresión Logística con su hiperparámetros predeterminados. Utilizar al menos 20 puntos en la partición de los conjuntos de entrenamiento y la métrica “f1-score”, como evaluación del desempeño de dicha función “learning_curve()”.\n",
        "\n",
        "    - ii.  Obtener las curvas de validación (validation_curve) en la cual se va incrementando la complejidad del hiperparámetro “max_depth” para el modelo de árbol de decisión con sus hiperparámetros predeterminados. Utilizar valores de máxima profundidad desde 1 hasta 20 y con la métrica “f1-score” para la evaluación del desempeño del modelo.\n",
        "\n",
        "    - iii.  Obtener las curvas de aprendizaje (learning_curve) en la cual se va incrementando el tamaño de la muestra para el modelo de regresión bosque aleatorio (random forest) con su hiperparámetros predeterminados. Utilizar al menos 20 puntos en la partición de los conjuntos de entrenamiento y la métrica “recall”, como evaluación del desempeño del modelo. "
      ]
    },
    {
      "cell_type": "markdown",
      "metadata": {
        "id": "xjDTccYt2G2C"
      },
      "source": [
        "a.  Usa los parámetros predeterminados de cada modelo."
      ]
    },
    {
      "cell_type": "code",
      "execution_count": 27,
      "metadata": {
        "id": "RBVSFwK4C6g9"
      },
      "outputs": [],
      "source": [
        "#Función que permite llamar los diferentes modelos de aprendizaje automatico a entrenar\n",
        "#los modelos que se van a entrenar son : Regresión Logística, Árboles de Decision y Bosque Aleatorio\n",
        "def get_models():\n",
        "  modelos = list()\n",
        "  nombres = list()\n",
        "\n",
        "#LR - Modelo de Regresion Logistica\n",
        "  modelos.append(LogisticRegression(solver='liblinear'))\n",
        "  nombres.append('LR')\n",
        "\n",
        "#DT - Modelo de Arbol de Decision\n",
        "  modelos.append(DecisionTreeClassifier())\n",
        "  nombres.append('DT')\n",
        "\n",
        "#RF - Modelo de Bosque Aleatorio\n",
        "  modelos.append(RandomForestClassifier())\n",
        "  nombres.append('RF')\n",
        " \n",
        "  return modelos, nombres"
      ]
    },
    {
      "cell_type": "markdown",
      "metadata": {
        "id": "QUMpfn8T2G2D"
      },
      "source": [
        "b.  En cada iteración deben calcularse todas las siguientes métricas: accuracy, precision, recall, f1-score y Gmean. Todas estas métricas deben ser funciones que tú mismo debes definir (Es decir, no usar las funciones de dichas métricas que te proporciona scikit-learn. \n",
        "Sin embargo, sí puedes usar la información regresada por el método confusion_matrix() de scikit-learn para definir las métricas)."
      ]
    },
    {
      "cell_type": "code",
      "execution_count": 28,
      "metadata": {
        "id": "7KXnlNzAC69Y"
      },
      "outputs": [],
      "source": [
        "def mi_accuracy(yreal, ypred):\n",
        "\n",
        "  #Utilizamos la funcion \"confusion_matriz\", para obtener los verdaderos, positivos y negativos\n",
        "  #lo mismo con los falsos, positivos y negativos.\n",
        "  tn, fp, fn, tp = confusion_matrix(yreal, ypred).ravel()\n",
        "\n",
        "  #Cálculo de la métrica de exactitud \n",
        "  accuracy  = tp/(tp+fp)\n",
        "  return accuracy"
      ]
    },
    {
      "cell_type": "code",
      "execution_count": 29,
      "metadata": {
        "id": "hshl_jSf2G2E"
      },
      "outputs": [],
      "source": [
        "def mi_precision(yreal, ypred):\n",
        "\n",
        "  #Utilizamos la función \"confusion_matriz\", para obtener los verdaderos, positivos y negativos\n",
        "  #Lo mismo con los falsos, positivos y negativos.\n",
        "  tn, fp, fn, tp = confusion_matrix(yreal, ypred).ravel()\n",
        "\n",
        "  #Cálculo de la métrica de exactitud \n",
        "  precision  = (tp+tn)/(tp+tn+fp+fn)\n",
        "  return precision"
      ]
    },
    {
      "cell_type": "code",
      "execution_count": 30,
      "metadata": {
        "id": "QnUpdTym2G2F"
      },
      "outputs": [],
      "source": [
        "def mi_recall(yreal, ypred):\n",
        "\n",
        "  #Utilizamos la función \"confusion_matriz\", para obtener los verdaderos, positivos y negativos\n",
        "  #Lo mismo con los falsos, positivos y negativos.\n",
        "  tn, fp, fn, tp = confusion_matrix(yreal, ypred).ravel()\n",
        "\n",
        "  #Cálculo de la métrica de exactitud \n",
        "  recall  = tp / (tp + fn)\n",
        "  return recall"
      ]
    },
    {
      "cell_type": "code",
      "execution_count": 31,
      "metadata": {
        "id": "QbnhQ-MS2G2G"
      },
      "outputs": [],
      "source": [
        "def mi_f1score(yreal, ypred):\n",
        "\n",
        "  #Utilizamos la función \"confusion_matriz\", para obtener los verdaderos, positivos y negativos\n",
        "  #Lo mismo con los falsos, positivos y negativos.\n",
        "  tn, fp, fn, tp = confusion_matrix(yreal, ypred).ravel()\n",
        "\n",
        "  #Cálculo de la métrica de precision\n",
        "  precision = tp / (tp + fp)\n",
        "  #Cálculo de la métrica de recall\n",
        "  recall    = tp / (tp + fn)\n",
        "  #Cálculo de la métrica f1score \n",
        "  f1score   = 2 * ((precision * recall) / (precision + recall))\n",
        "  return f1score"
      ]
    },
    {
      "cell_type": "code",
      "execution_count": 32,
      "metadata": {
        "id": "lzjWyGl62G2G"
      },
      "outputs": [],
      "source": [
        "def mi_gmean(yreal, ypred):\n",
        "\n",
        "  #Utilizamos la funcion \"confusion_matriz\", para obtener los verdaderos, positivos y negativos\n",
        "  #Lo mismo con los falsos, positivos y negativos.\n",
        "  tn, fp, fn, tp = confusion_matrix(yreal, ypred).ravel()\n",
        "\n",
        "  #Cálculo de la métrica de recall\n",
        "  recall    = tp / (tp + fn)\n",
        "  #Cálculo de la métrica gmen, para esta se requiere la métrica de especificidad\n",
        "  specificity= tn / (tn + fp)\n",
        "  #Cálculo de gmena\n",
        "  gmean = math.sqrt(recall * specificity)\n",
        "  return gmean"
      ]
    },
    {
      "cell_type": "markdown",
      "metadata": {
        "id": "d9ztFuMt2G2H"
      },
      "source": [
        "c.  Usar validación cruzada estratificada con 5 particiones y con 3 repeticiones."
      ]
    },
    {
      "cell_type": "code",
      "execution_count": 33,
      "metadata": {
        "id": "FjO8cSpk2G2H"
      },
      "outputs": [],
      "source": [
        "# Validación cruzada\n",
        "cv = RepeatedStratifiedKFold(n_splits=5, n_repeats=3, random_state=0)"
      ]
    },
    {
      "cell_type": "code",
      "execution_count": 34,
      "metadata": {
        "colab": {
          "base_uri": "https://localhost:8080/"
        },
        "id": "_F0dJtSM2G2I",
        "outputId": "dbc490df-d0dd-4f88-e944-026f7c1d79b9"
      },
      "outputs": [
        {
          "output_type": "stream",
          "name": "stdout",
          "text": [
            "LR:\n",
            "Accuracy: 0.794\n",
            "Precision: 0.754\n",
            "Recall: 0.882\n",
            "F1-Score: 0.836\n",
            "Gmean: 0.624\n",
            "\n",
            "DT:\n",
            "Accuracy: 0.779\n",
            "Precision: 0.676\n",
            "Recall: 0.757\n",
            "F1-Score: 0.767\n",
            "Gmean: 0.600\n",
            "\n",
            "RF:\n",
            "Accuracy: 0.785\n",
            "Precision: 0.751\n",
            "Recall: 0.894\n",
            "F1-Score: 0.836\n",
            "Gmean: 0.600\n",
            "\n"
          ]
        }
      ],
      "source": [
        "#Entrenamiento del modelo\n",
        "#Cargamos los modelos a comparar\n",
        "modelos, nombres = get_models()\n",
        "resultados = list()   \n",
        "\n",
        "for i in range(len(modelos)):\n",
        "  pipeline = Pipeline(steps=[('ct', columnasTransformer),('m',modelos[i])])\n",
        "  mis_metricas ={'mi_accuracy':make_scorer(mi_accuracy),\n",
        "                 'mi_precision':make_scorer(mi_precision),\n",
        "                 'mi_recall':make_scorer(mi_recall),\n",
        "                 'mi_f1score':make_scorer(mi_f1score),\n",
        "                 'mi_gmean':make_scorer(mi_gmean)}\n",
        "  scores = cross_validate(pipeline, X_train, y_train, scoring = mis_metricas, cv = cv)\n",
        "  resultados.append(scores)\n",
        "  print('%s:\\nAccuracy: %.3f\\nPrecision: %.3f\\nRecall: %.3f\\nF1-Score: %.3f\\nGmean: %.3f\\n' % (nombres[i],\n",
        "                                                                          np.mean(scores['test_mi_accuracy']),\n",
        "                                                                          np.mean(scores['test_mi_precision']),\n",
        "                                                                          np.mean(scores['test_mi_recall']),\n",
        "                                                                          np.mean(scores['test_mi_f1score']),\n",
        "                                                                          np.mean(scores['test_mi_gmean']),\n",
        "                                                                          ))"
      ]
    },
    {
      "cell_type": "markdown",
      "metadata": {
        "id": "4K7PFfP32G2K"
      },
      "source": [
        "- d.  Imprimir el valor de todas estas métricas, tanto para los datos de entrenamiento, como para los de validación. Así como los diagramas de caja y bigotes de los tres modelos con la  métrica “recall”. ¿Alguno de los modelos está subentrenado o sobreentrenado? Justifica tu respuesta. "
      ]
    },
    {
      "cell_type": "code",
      "execution_count": 35,
      "metadata": {
        "colab": {
          "base_uri": "https://localhost:8080/",
          "height": 268
        },
        "id": "fUWYpj3Z2G2L",
        "outputId": "2beff5ff-69f9-4570-d220-dce5932219d8"
      },
      "outputs": [
        {
          "output_type": "display_data",
          "data": {
            "text/plain": [
              "<Figure size 720x288 with 1 Axes>"
            ],
            "image/png": "[encoded data removed]"
          },
          "metadata": {}
        }
      ],
      "source": [
        "#Diagrama de caja de los resultados de los diferentes modelos\n",
        "bpRecall = list()\n",
        "for i in range(len(resultados)):\n",
        "  Recall_metric = resultados[i]['test_mi_recall']\n",
        "  bpRecall.append(Recall_metric)\n",
        "\n",
        "plt.boxplot(bpRecall, labels=nombres, showmeans=True)\n",
        "plt.show()"
      ]
    },
    {
      "cell_type": "markdown",
      "metadata": {
        "id": "R5cXUN4W2G2M"
      },
      "source": [
        "# Conclusión\n",
        "\n",
        "Por el momento observando los gráficos de los tres modelos, se aprecia que el mejor es el RF, ya que muestra un \"recall\" mayor entre los tres, además en su gráfica se observa que la media y la mediana son prácticamente iguales, lo que habla de una curva normal, con una desviación estándar mayor en la sección derecha en relación a la izquierda, sin embargo su variación no es muy diferente. El modelo DT a pesar de que muestra que la media y la mediana son casi iguales, se observa poca variación, siendo una curva muy delgada, donde no se observa la variación de los datos y además no pudo integra algunos valores (outliers). Respecto al modelo LR muestra una diferencia significativa entre la media y la mediana, asi como la tendencia de datos hacia la derecha, lo que indica una asimetría, además deja fuera algunos datos (outliers) que no se integran al aprendiaje del modelo.\n",
        "\n",
        "Se observa que modelo LR está sub entrenado ya que su gráfica muestra una brecha significativa entre los datos de entrenamiento y validación. En cuanto a los modelos DT y RF, por el contrario, se observa un sobre entrenamiento, porque los datos de entreanmiento no muestran variación alguna en todo el rango de análsis.\n"
      ]
    },
    {
      "cell_type": "markdown",
      "metadata": {
        "id": "umhQOjk52G2N"
      },
      "source": [
        "- e.  En particular obtengamos algunas de las llamadas curvas de aprendizaje para algunos de \n",
        "estos casos. En dada gráfico debes incluir tus comentarios sobre el modelo generado: \n",
        "\n",
        "    - i.  Obtener las curvas de aprendizaje (learning_curve) en la cual se va incrementando el tamaño de la muestra para el modelo de regresión Logística con su hiperparámetros predeterminados. Utilizar al menos 20 puntos en la partición de los conjuntos de entrenamiento y la métrica “f1-score”, como evaluación del desempeño de dicha función “learning_curve()”.\n",
        "\n",
        "    - ii.  Obtener las curvas de validación (validation_curve) en la cual se va incrementando la complejidad del hiperparámetro “max_depth” para el modelo de árbol de decisión con sus hiperparámetros predeterminados. Utilizar valores de máxima profundidad desde 1 hasta 20 y con la métrica “f1-score” para la evaluación del desempeño del modelo.\n",
        "\n",
        "    - iii.  Obtener las curvas de aprendizaje (learning_curve) en la cual se va incrementando el tamaño de la muestra para el modelo de regresión bosque aleatorio (random forest) con su hiperparámetros predeterminados. Utilizar al menos 20 puntos en la partición de los conjuntos de entrenamiento y la métrica “recall”, como evaluación del desempeño del modelo. "
      ]
    },
    {
      "cell_type": "code",
      "execution_count": 36,
      "metadata": {
        "id": "idgGE1UN2G2N"
      },
      "outputs": [],
      "source": [
        "#Función que grafica dado un conjunto de datos y parámetros predeterminados\n",
        "def graph(train_sizes, train_mean, valid_mean, etiqueta, metric, x_label):\n",
        "  plt.plot(train_sizes, train_mean, color='blue', marker='o', markersize=5, label='Training')\n",
        "  plt.plot(train_sizes, valid_mean, color='red', marker='o', markersize=5, label='Validation')\n",
        "  plt.title(etiqueta)\n",
        "  plt.xlabel(x_label)\n",
        "  plt.ylabel(metric)\n",
        "  plt.grid()\n",
        "  plt.legend(loc='lower right')\n",
        "  plt.show()"
      ]
    },
    {
      "cell_type": "code",
      "execution_count": 37,
      "metadata": {
        "colab": {
          "base_uri": "https://localhost:8080/",
          "height": 869
        },
        "id": "FL5RIF0p2G2O",
        "outputId": "471799ea-8c30-48e5-d0bf-031aec2017b2"
      },
      "outputs": [
        {
          "output_type": "display_data",
          "data": {
            "text/plain": [
              "<Figure size 720x288 with 1 Axes>"
            ],
            "image/png": "[encoded data removed]"
          },
          "metadata": {}
        },
        {
          "output_type": "display_data",
          "data": {
            "text/plain": [
              "<Figure size 720x288 with 1 Axes>"
            ],
            "image/png": "[encoded data removed]"
          },
          "metadata": {}
        },
        {
          "output_type": "display_data",
          "data": {
            "text/plain": [
              "<Figure size 720x288 with 1 Axes>"
            ],
            "image/png": "[encoded data removed]"
          },
          "metadata": {}
        }
      ],
      "source": [
        "#Curva de Aprendizaje del modelo de Regresion Logistica \n",
        "delta_train = np.linspace(0.1, 1.0, 20)\n",
        "\n",
        "cvLC = RepeatedStratifiedKFold(n_splits=5, n_repeats=3, random_state=0)\n",
        "Xx = columnasTransformer.fit_transform(X_val)\n",
        "metrics_used = ['f1','f1','recall']\n",
        "etiquetas = ['Funcion learning curve: LR',\n",
        "             'Funcion learning curve: DT',\n",
        "             'Funcion learning curve: RF'] \n",
        "for i in range(len(modelos)):\n",
        "\n",
        "  train_sizes, train_scores, valid_scores = learning_curve(estimator=modelos[i], \n",
        "                                                        X=Xx, \n",
        "                                                        y=np.ravel(y_val),\n",
        "                                                        cv=cvLC, \n",
        "                                                        train_sizes=delta_train,\n",
        "                                                        scoring= metrics_used[i])\n",
        "\n",
        "  train_mean = np.mean(train_scores, axis=1)\n",
        "  valid_mean = np.mean(valid_scores, axis=1)\n",
        "  #train_std = np.std(train_scores, axis=1)\n",
        "  #valid_std = np.std(valid_scores, axis=1)\n",
        "\n",
        "  graph(train_sizes, train_mean, valid_mean, etiquetas[i], metrics_used[i], 'Tamaño del conjunto de entrenamiento')"
      ]
    },
    {
      "cell_type": "markdown",
      "metadata": {
        "id": "Rv7KFq-mC7PS"
      },
      "source": [
        "## **Ejercicio 5**"
      ]
    },
    {
      "cell_type": "markdown",
      "metadata": {
        "id": "Zp4SLXHw2G2R"
      },
      "source": [
        "Finalmente veamos la manera de mejorar los valores de los hiperparámetros de cada modelo, así \n",
        "como el problema del sobreentrenamiento de algunos de ellos. Para ello deberás usar el método \n",
        "GridSearchCV() de scikit-learn. Recuerda que este método hace una búsqueda de los mejores \n",
        "hiperparámetros de un modelo mediante el llamada formato de malla y aplicando validación \n",
        "cruzada. En cada caso puedes incrementar el máximo de iteraciones,”max_iter” para que tengas \n",
        "la convergencia adecuada para todas las combinaciones en cada modelo. Recuerda también \n",
        "aplicar las transformaciones que definiste en tu Pipeline. Para fines de este ejercicio se ha \n",
        "seleccionado para cada modelo una métrica diferente, que permita irte familiarizando con ellas. \n",
        "Puedes consultar su documentación de GridSearchCV en la siguiente liga: https://scikit-learn.org/stable/modules/generated/sklearn.model_selection.GridSearchCV.html\n",
        "\n",
        "- a.  Para el modelo de regresión logística realizar el entrenamiento buscando sus mejores \n",
        "hiperparámetros con GridSearchCV(). Los hiperparámetros que debes incluir en su \n",
        "búsqueda deben ser al menos los siguientes: C, solver, class_weight y penalty. En este caso \n",
        "deberás usar la métrica (scoring) “f1-score”. Imprime la mejor combinación de \n",
        "parámetros obtenidos, así como el valor del mejor desempeño (score) obtenido con la \n",
        "métrica f1. ¿Cuál es la utilidad de la métrica “f1-score”? Incluye tus conclusiones. \n",
        "NOTA: Toma en cuenta que no todas las combinaciones de “solver” y “penalty” son \n",
        "posibles, para que lo tomes en cuenta al momento de realizar la búsqueda. Revisa la \n",
        "documentación.\n",
        "\n",
        "\n",
        "- b.  Con los mejores valores de los hiperparámetros encontrados con la métrica “f1-score” \n",
        "para el modelo de regresión logística, obtener las curvas de aprendizaje (learning curve), \n",
        "incrementando el tamaño del conjunto de entrenamiento al menos 20 veces. Si lo crees \n",
        "adecuado, puedes hacer los ajustes que consideres adecuados para mejorar el resultado y \n",
        "evitar el sobreentrenamiento o el subentrenamiento.\n",
        "\n",
        "\n",
        "- c.  Para el modelo de árbol de decisión (decision tree) realizar el entrenamiento buscando \n",
        "sus mejores hiperparámetros con GridSearchCV(). Los hiperparámetros que debes incluir \n",
        "en su búsqueda deben ser al menos los siguientes: ccp_alpha, criterion, max_depth, \n",
        "min_samples_split y class_weight. En este caso deberás usar la métrica (scoring) \n",
        "“precision”. Imprime la mejor combinación de parámetros obtenidos, así como el valor \n",
        "del mejor desempeño (score) obtenido con la métrica “precision”. ¿Cuál es la utilidad de \n",
        "la métrica “precision”? Incluye tus conclusiones.\n",
        "\n",
        "\n",
        "- d.  Con los mejores valores de los hiperparámetros encontrados con la métrica “precision” \n",
        "para el modelo de árbol de decisión, obtener las curvas de aprendizaje (learning curve), \n",
        "incrementando el tamaño del conjunto de entrenamiento al menos 20 veces. Si lo crees \n",
        "adecuado, puedes hacer los ajustes que consideres adecuados para mejorar el resultado y \n",
        "evitar el sobreentrenamiento o el subentrenamiento.\n",
        "\n",
        "\n",
        "- e.  Para el modelo de bosque aleatorio (random forest) realizar el entrenamiento buscando \n",
        "sus mejores hiperparámetros con GridSearchCV(). Los hiperparámetros que debes incluir \n",
        "en su búsqueda deben ser al menos los siguientes: ccp_alpha, criterion, max_depth, \n",
        "min_samples_split y class_weight. En este caso deberás usar la métrica (scoring) “recall”. \n",
        "Imprime la mejor combinación de parámetros obtenidos, así como el valor del mejor \n",
        "desempeño (score) obtenido con la métrica “recall”. ¿Cuál es la utilidad de la métrica \n",
        "“recall”? Incluye tus conclusiones.\n",
        "\n",
        "NOTA: Toma en cuenta que el método de random forest pude tardar varios minutos en \n",
        "llevar a cabo.\n",
        "\n",
        "\n",
        "- f.  Con los mejores valores de los hiperparámetros encontrados con la métrica “recall” para \n",
        "el modelo de bosque aleatorio, obtener las curvas de validación (validation curve), \n",
        "incrementando la complejidad del modelo a través del hiperparámetro “max_depth” con \n",
        "al menos 10 valores. Si lo crees adecuado, puedes hacer los ajustes que consideres \n",
        "adecuados para mejorar el resultado y evitar el sobreentrenamiento o el \n",
        "subentrenamiento."
      ]
    },
    {
      "cell_type": "markdown",
      "metadata": {
        "id": "0H5hDNl22G2V"
      },
      "source": [
        "- a.  Para el modelo de regresión logística realizar el entrenamiento buscando sus mejores \n",
        "hiperparámetros con GridSearchCV(). Los hiperparámetros que debes incluir en su \n",
        "búsqueda deben ser al menos los siguientes: C, solver, class_weight y penalty. En este caso \n",
        "deberás usar la métrica (scoring) “f1-score”. Imprime la mejor combinación de \n",
        "parámetros obtenidos, así como el valor del mejor desempeño (score) obtenido con la \n",
        "métrica f1. \n",
        "\n",
        "¿Cuál es la utilidad de la métrica “f1-score”? \n",
        "\n",
        "Con la métrica \"f1-score\" se pueden combinar las métricas, por ejemplo de precisión y recall en un solo resultado y hace más fácil la comparaciòn del rendimiento combinado; sin embargo, de esta forma se toma la misma importancia de las dos métricas, y pudiera no diferenciarse cuál de ellas aporta mayor o menor valor al resultado.\n",
        "\n",
        "**Incluye tus conclusiones.** \n",
        "\n",
        "\n",
        "\n",
        "NOTA: Toma en cuenta que no todas las combinaciones de “solver” y “penalty” son \n",
        "posibles, para que lo tomes en cuenta al momento de realizar la búsqueda."
      ]
    },
    {
      "cell_type": "code",
      "execution_count": 38,
      "metadata": {
        "id": "jaDj3kawC9B6"
      },
      "outputs": [],
      "source": [
        "#Configuración de diferentes valores para los hiperparámetros del modelo.\n",
        "modelo = LogisticRegression(penalty='l2', max_iter=10000, random_state=0)\n",
        "\n",
        "dicc_grid = {\n",
        "              'C':[0.0001,0.01,0.1,1.0,10.,100.],\n",
        "              'solver':['newton-cg','lbfgs','liblinear','sag','saga'],\n",
        "              'class_weight':['balanced']\n",
        "            }\n",
        "\n",
        "cv = RepeatedStratifiedKFold(n_splits=5, n_repeats=3, random_state=0)\n",
        "\n",
        "grid = GridSearchCV(estimator=modelo, \n",
        "                    param_grid=dicc_grid, \n",
        "                    cv=cv, \n",
        "                    scoring='f1')"
      ]
    },
    {
      "cell_type": "code",
      "execution_count": null,
      "metadata": {
        "id": "4tQxQROVC9Us"
      },
      "outputs": [],
      "source": [
        "#Búsqueda del mejor resultado obtenido de la combinación de diferentes hiperparámetros\n",
        "Xx = columnasTransformer.fit_transform(X_train)\n",
        "\n",
        "grid.fit(Xx, np.ravel(y_train))\n",
        "best_params_lr = grid.best_params_\n",
        "\n",
        "print('Mejor valor de f1 obtenido con la mejor combinación:', grid.best_score_)\n",
        "print('Mejor combinación de valores encontrados de los hiperparámetros:', best_params_lr)\n",
        "print('Métrica utilizada:', grid.scoring)"
      ]
    },
    {
      "cell_type": "markdown",
      "metadata": {
        "id": "kwT3Vl_B2G2Y"
      },
      "source": [
        "- b.  Con los mejores valores de los hiperparámetros encontrados con la métrica “f1-score” \n",
        "para el modelo de regresión logística, obtener las curvas de aprendizaje (learning curve), \n",
        "incrementando el tamaño del conjunto de entrenamiento al menos 20 veces. Si lo crees \n",
        "adecuado, puedes hacer los ajustes que consideres para mejorar el resultado y \n",
        "evitar el sobreentrenamiento o el subentrenamiento."
      ]
    },
    {
      "cell_type": "code",
      "execution_count": 40,
      "metadata": {
        "id": "EwQUNs0C2G2Y"
      },
      "outputs": [],
      "source": [
        "#Configuración del modelo con la mejor combinación obtenida\n",
        "best_modelo_lr = LogisticRegression(penalty='l2', \n",
        "                            max_iter=10000,\n",
        "                            C = best_params_lr['C'],\n",
        "                            class_weight = best_params_lr['class_weight'],\n",
        "                            solver = best_params_lr['solver'],\n",
        "                            random_state=1)"
      ]
    },
    {
      "cell_type": "code",
      "execution_count": 41,
      "metadata": {
        "colab": {
          "base_uri": "https://localhost:8080/",
          "height": 301
        },
        "id": "uo7LAuwa2G2Z",
        "outputId": "e2f1a5d6-cb20-441c-e9bc-a6909bfdb6fa"
      },
      "outputs": [
        {
          "output_type": "display_data",
          "data": {
            "text/plain": [
              "<Figure size 720x288 with 1 Axes>"
            ],
            "image/png": "[encoded data removed]"
          },
          "metadata": {}
        }
      ],
      "source": [
        "#Obtención de las curvas de aprendizaje.\n",
        "delta_train = np.linspace(0.1, 1.0, 20)\n",
        "\n",
        "cvLC = RepeatedStratifiedKFold(n_splits=5, n_repeats=3, random_state=0)\n",
        "Xx = columnasTransformer.fit_transform(X_train)\n",
        "\n",
        "train_sizes, train_scores, valid_scores = learning_curve(estimator=best_modelo_lr, \n",
        "                                                        X=Xx, \n",
        "                                                        y=np.ravel(y_train),\n",
        "                                                        cv=cvLC, \n",
        "                                                        train_sizes=delta_train,\n",
        "                                                        scoring= 'f1')\n",
        "\n",
        "train_mean = np.mean(train_scores, axis=1)\n",
        "valid_mean = np.mean(valid_scores, axis=1)\n",
        "\n",
        "\n",
        "graph(train_sizes, train_mean, valid_mean, 'Funcion learning curve: LR', 'f1', 'Tamaño del conjunto de entrenamiento')"
      ]
    },
    {
      "cell_type": "markdown",
      "metadata": {
        "id": "X5_9CGj22G2a"
      },
      "source": [
        "- c.  Para el modelo de árbol de decisión (decision tree) realizar el entrenamiento buscando \n",
        "sus mejores hiperparámetros con GridSearchCV(). Los hiperparámetros que debes incluir \n",
        "en su búsqueda deben ser al menos los siguientes: ccp_alpha, criterion, max_depth, \n",
        "min_samples_split y class_weight. En este caso deberás usar la métrica (scoring) \n",
        "“precision”. Imprime la mejor combinación de parámetros obtenidos, así como el valor \n",
        "del mejor desempeño (score) obtenido con la métrica “precision”. \n",
        "\n",
        "**¿Cuál es la utilidad de \n",
        "la métrica “precision”?**\n",
        "\n",
        "Evaluar el rendimiento del modelo de clasficación, de manera específica, para verificar la veracidad de la afirmación cuando el modelo predice un dato como de la clase positiva. Esta métrica se representa por la proporción de verdaderos positivos dividios entre todos los resultados positivos, tanto verdaderos positivos y falsos positivos.\n",
        "\n",
        "**Incluye tus conclusiones.**\n",
        "Para mediar la capacidad de este modelo, se utilizó la métrica average_precision. Al ejecutar el modelo se observa que el mejor valor de precisión obtenido y con la mejor combinación es de: 0.8307225493497005 (83.07%), donde la mejor combinación de valores encontrados para los hiperparámetros es: {'ccp_alpha': 0.0, 'class_weight': {0: 1, 1: 1}, 'criterion': 'gini', 'max_depth': 4, 'min_samples_split': 3}.\n",
        "\n",
        "\n",
        "\n"
      ]
    },
    {
      "cell_type": "code",
      "execution_count": 42,
      "metadata": {
        "id": "enOkl-rX2G2b"
      },
      "outputs": [],
      "source": [
        "#Configuración de diferentes valores para los hiperparámetros del modelo.\n",
        "modelo = DecisionTreeClassifier(splitter='best')\n",
        "\n",
        "dicc_grid = {\n",
        "              'ccp_alpha':[0.000,0.005,0.010,0.015,0.020,0.025,0.030,0.035,0.040],\n",
        "              'criterion':['gini','entropy'],\n",
        "              'class_weight':[{0: 1, 1: 1}, {0: 1, 1: 5}, {0: 1, 1: 1}, {0: 1, 1: 1}],\n",
        "              'max_depth':[1,2,3,4,5],\n",
        "              'min_samples_split':[2,3,4,5]\n",
        "             }\n",
        "\n",
        "cv = RepeatedStratifiedKFold(n_splits=5, n_repeats=3, random_state=0)\n",
        "grid = GridSearchCV(estimator=modelo, \n",
        "                    param_grid=dicc_grid, \n",
        "                    cv=cv, \n",
        "                    scoring='average_precision')"
      ]
    },
    {
      "cell_type": "code",
      "execution_count": 43,
      "metadata": {
        "colab": {
          "base_uri": "https://localhost:8080/"
        },
        "id": "nHKvzyDW2G2b",
        "outputId": "98e786e0-cc04-43d3-fc8d-66f65609be20"
      },
      "outputs": [
        {
          "output_type": "stream",
          "name": "stdout",
          "text": [
            "Mejor valor de exactitud obtenido con la mejor combinación: 0.8307225493497005\n",
            "Mejor combinación de valores encontrados de los hiperparámetros: {'ccp_alpha': 0.0, 'class_weight': {0: 1, 1: 1}, 'criterion': 'gini', 'max_depth': 4, 'min_samples_split': 3}\n",
            "Métrica utilizada: average_precision\n"
          ]
        }
      ],
      "source": [
        "#Búsqueda del mejor resultado obtenido de la combinación de diferentes hiperparámetros\n",
        "Xx = columnasTransformer.fit_transform(X_train)\n",
        "\n",
        "grid.fit(Xx, np.ravel(y_train))\n",
        "best_params_dt =  grid.best_params_\n",
        "\n",
        "print('Mejor valor de precisión obtenido con la mejor combinación:', grid.best_score_)\n",
        "print('Mejor combinación de valores encontrados de los hiperparámetros:', best_params_dt)\n",
        "print('Métrica utilizada:', grid.scoring)"
      ]
    },
    {
      "cell_type": "markdown",
      "metadata": {
        "id": "wDNfYjz82G2c"
      },
      "source": [
        "- d.  Con los mejores valores de los hiperparámetros encontrados con la métrica “precision” \n",
        "para el modelo de árbol de decisión, obtener las curvas de aprendizaje (learning curve), \n",
        "incrementando el tamaño del conjunto de entrenamiento al menos 20 veces. Si lo crees \n",
        "adecuado, puedes hacer los ajustes que consideres adecuados para mejorar el resultado y \n",
        "evitar el sobreentrenamiento o el subentrenamiento."
      ]
    },
    {
      "cell_type": "code",
      "execution_count": 44,
      "metadata": {
        "id": "qGGNGqPZ2G2c"
      },
      "outputs": [],
      "source": [
        "#Configuración del modelo con la mejor combinación obtenida\n",
        "best_modelo_dt = DecisionTreeClassifier(splitter= 'best', \n",
        "                            ccp_alpha= best_params_dt['ccp_alpha'],\n",
        "                            class_weight= best_params_dt['class_weight'],\n",
        "                            criterion= best_params_dt['criterion'],\n",
        "                            max_depth= best_params_dt['max_depth'],\n",
        "                            min_samples_split= best_params_dt['min_samples_split'])"
      ]
    },
    {
      "cell_type": "code",
      "execution_count": 45,
      "metadata": {
        "colab": {
          "base_uri": "https://localhost:8080/",
          "height": 301
        },
        "id": "e-JTs5xL2G2d",
        "outputId": "fa04072f-e520-428d-9f87-f7a5cdb3a205"
      },
      "outputs": [
        {
          "output_type": "display_data",
          "data": {
            "text/plain": [
              "<Figure size 720x288 with 1 Axes>"
            ],
            "image/png": "[encoded data removed]"
          },
          "metadata": {}
        }
      ],
      "source": [
        "#Obtención de las curvas de aprendizaje.\n",
        "delta_train = np.linspace(0.1, 1.0, 20)\n",
        "\n",
        "cvLC = RepeatedStratifiedKFold(n_splits=5, n_repeats=3, random_state=0)\n",
        "Xx = columnasTransformer.fit_transform(X_train)\n",
        "\n",
        "train_sizes, train_scores, valid_scores = learning_curve(estimator=best_modelo_dt, \n",
        "                                                        X=Xx, \n",
        "                                                        y=np.ravel(y_train),\n",
        "                                                        cv=cvLC, \n",
        "                                                        train_sizes=delta_train,\n",
        "                                                        scoring= 'average_precision')\n",
        "\n",
        "train_mean = np.mean(train_scores, axis=1)\n",
        "valid_mean = np.mean(valid_scores, axis=1)\n",
        "\n",
        "\n",
        "graph(train_sizes, train_mean, valid_mean, 'Funcion learning curve: DT', 'Presición', 'Tamaño del conjunto de entrenamiento')"
      ]
    },
    {
      "cell_type": "markdown",
      "metadata": {
        "id": "x1Kcpk5s2G2e"
      },
      "source": [
        "- e.  Para el modelo de bosque aleatorio (random forest) realizar el entrenamiento buscando \n",
        "sus mejores hiperparámetros con GridSearchCV(). Los hiperparámetros que debes incluir \n",
        "en su búsqueda deben ser al menos los siguientes: ccp_alpha, criterion, max_depth, \n",
        "min_samples_split y class_weight. En este caso deberás usar la métrica (scoring) “recall”. \n",
        "Imprime la mejor combinación de parámetros obtenidos, así como el valor del mejor \n",
        "desempeño (score) obtenido con la métrica “recall”. ¿Cuál es la utilidad de la métrica \n",
        "“recall”? Incluye tus conclusiones.\n",
        "\n",
        "NOTA: Toma en cuenta que el método de random forest pude tardar varios minutos en \n",
        "llevar a cabo."
      ]
    },
    {
      "cell_type": "code",
      "execution_count": 46,
      "metadata": {
        "id": "cfFcnCVR2G2e"
      },
      "outputs": [],
      "source": [
        "#Configuración de diferentes valores para los hiperparámetros del modelo.\n",
        "modelo = RandomForestClassifier(n_estimators=50)\n",
        "\n",
        "dicc_grid = {\n",
        "              'ccp_alpha':[0.000,0.005,0.010,0.015,0.020,0.025,0.030,0.035,0.040],\n",
        "              'criterion':['gini','entropy'],\n",
        "              'class_weight':[{0: 1, 1: 1}, {0: 1, 1: 5}, {0: 1, 1: 1}, {0: 1, 1: 1}],\n",
        "              'max_depth':[1,2,3,4,5],\n",
        "              'min_samples_split':[2,3,4,5]\n",
        "            }\n",
        "\n",
        "cv = RepeatedStratifiedKFold(n_splits=5, n_repeats=3, random_state=0)\n",
        "grid = GridSearchCV(estimator=modelo, \n",
        "                    param_grid=dicc_grid, \n",
        "                    cv=cv, \n",
        "                    scoring='recall')"
      ]
    },
    {
      "cell_type": "code",
      "execution_count": 47,
      "metadata": {
        "colab": {
          "base_uri": "https://localhost:8080/"
        },
        "id": "iTeBXjzh2G2f",
        "outputId": "b3e717bb-779a-40b8-8ebe-f13bc0a71667"
      },
      "outputs": [
        {
          "output_type": "stream",
          "name": "stdout",
          "text": [
            "Mejor valor de exactitud obtenido con la mejor combinación: 1.0\n",
            "Mejor combinación de valores encontrados de los hiperparámetros: {'ccp_alpha': 0.0, 'class_weight': {0: 1, 1: 1}, 'criterion': 'gini', 'max_depth': 1, 'min_samples_split': 2}\n",
            "Métrica utilizada: recall\n"
          ]
        }
      ],
      "source": [
        "#Búsqueda del mejor resultado obtenido de la combinación de diferentes hiperparámetros\n",
        "Xx = columnasTransformer.fit_transform(X_train)\n",
        "\n",
        "grid.fit(Xx, np.ravel(y_train))\n",
        "best_params_rf =  grid.best_params_\n",
        "\n",
        "print('Mejor valor de exactitud obtenido con la mejor combinación:', grid.best_score_)\n",
        "print('Mejor combinación de valores encontrados de los hiperparámetros:', best_params_rf)\n",
        "print('Métrica utilizada:', grid.scoring)"
      ]
    },
    {
      "cell_type": "markdown",
      "metadata": {
        "id": "i-AMWeQd2G2g"
      },
      "source": [
        "- f.  Con los mejores valores de los hiperparámetros encontrados con la métrica “recall” para \n",
        "el modelo de bosque aleatorio, obtener las curvas de validación (validation curve), \n",
        "incrementando la complejidad del modelo a través del hiperparámetro “max_depth” con \n",
        "al menos 10 valores. Si lo crees adecuado, puedes hacer los ajustes que consideres \n",
        "adecuados para mejorar el resultado y evitar el sobreentrenamiento o el \n",
        "subentrenamiento."
      ]
    },
    {
      "cell_type": "code",
      "execution_count": 48,
      "metadata": {
        "id": "jko9iTQq2G2h"
      },
      "outputs": [],
      "source": [
        "#Configuración del modelo con la mejor combinación obtenida Random Forest\n",
        "best_modelo_rf = RandomForestClassifier(n_estimators=50, \n",
        "                            ccp_alpha= best_params_rf[\"ccp_alpha\"],\n",
        "                            class_weight= best_params_rf[\"class_weight\"],\n",
        "                            criterion= best_params_rf[\"criterion\"],\n",
        "                            max_depth= best_params_rf[\"max_depth\"],\n",
        "                            min_samples_split= best_params_rf[\"min_samples_split\"])"
      ]
    },
    {
      "cell_type": "code",
      "execution_count": 49,
      "metadata": {
        "colab": {
          "base_uri": "https://localhost:8080/",
          "height": 301
        },
        "id": "jDWWlyR52G2h",
        "outputId": "7a41c2bd-ba27-4acf-8f27-418f7a78df08"
      },
      "outputs": [
        {
          "output_type": "display_data",
          "data": {
            "text/plain": [
              "<Figure size 720x288 with 1 Axes>"
            ],
            "image/png": "[encoded data removed]"
          },
          "metadata": {}
        }
      ],
      "source": [
        "#Obtención de las curvas de aprendizaje.\n",
        "delta_train = np.linspace(0.1, 1.0, 20)\n",
        "\n",
        "cvLC = RepeatedStratifiedKFold(n_splits=5, n_repeats=3, random_state=0)\n",
        "Xx = columnasTransformer.fit_transform(X_train)\n",
        "\n",
        "train_sizes, train_scores, valid_scores = learning_curve(estimator=best_modelo_rf, \n",
        "                                                        X=Xx, \n",
        "                                                        y=np.ravel(y_train),\n",
        "                                                        cv=cvLC, \n",
        "                                                        train_sizes=delta_train,\n",
        "                                                        scoring= 'recall')\n",
        "\n",
        "train_mean = np.mean(train_scores, axis=1)\n",
        "valid_mean = np.mean(valid_scores, axis=1)\n",
        "\n",
        "#train_std = np.std(train_scores, axis=1)\n",
        "#valid_std = np.std(valid_scores, axis=1)\n",
        "\n",
        "graph(train_sizes, train_mean, valid_mean, 'Funcion learning curve: RF', 'recall', 'Tamaño del conjunto de entrenamiento')"
      ]
    },
    {
      "cell_type": "markdown",
      "metadata": {
        "id": "W2S7LI0NC9wE"
      },
      "source": [
        "## **Ejercicio 6**"
      ]
    },
    {
      "cell_type": "markdown",
      "metadata": {
        "id": "q5OKE5AV2G2j"
      },
      "source": [
        "Para cada uno de estos tres modelos, con las métricas que se consideraron en cada caso y usando \n",
        "el conjunto de Prueba que no has utilizado hasta ahora, obtener los modelos finales como se te \n",
        "indica a continuación. Deberás usar además como conjunto de entrenamiento el llamado modelo \n",
        "de entrenamiento “aumentado” que consiste en las datos que estuviste utilizando para \n",
        "entrenamiento y validación:\n",
        "\n",
        "\n",
        "- a.  Obtener el  modelo de regresión logística con los mejores parámetros que hayas \n",
        "encontrado con la métrica f1-score utilizada. Imprimir el valor de dicha métrica e incluye \n",
        "tus conclusiones finales para este caso. Incluir un gráfico del árbol de decisión final \n",
        "obtenido.\n",
        "\n",
        "\n",
        "- b.  Obtener el  modelo de árbol de decisiones con los mejores parámetros que hayas \n",
        "encontrado con la métrica “precision” utilizada. Imprimir el valor de dicha métrica e \n",
        "incluye tus conclusiones finales para este caso.\n",
        "\n",
        "\n",
        "- c.   Obtener el  modelo de bosque aleatorio con los mejores parámetros que hayas \n",
        "encontrado con la métrica “recall” utilizada. Imprimir el valor de dicha métrica e incluye \n",
        "tus conclusiones finales para este caso. "
      ]
    },
    {
      "cell_type": "markdown",
      "metadata": {
        "id": "7l-iKpTN2G2j"
      },
      "source": [
        "- a.  Obtener el  modelo de regresión logística con los mejores parámetros que hayas \n",
        "encontrado con la métrica f1-score utilizada. Imprimir el valor de dicha métrica e incluye \n",
        "tus conclusiones finales para este caso."
      ]
    },
    {
      "cell_type": "code",
      "execution_count": 50,
      "metadata": {
        "id": "x6uBleJUC_AU",
        "colab": {
          "base_uri": "https://localhost:8080/"
        },
        "outputId": "abc75736-b50d-4933-c9f9-e79b8a588a71"
      },
      "outputs": [
        {
          "output_type": "stream",
          "name": "stdout",
          "text": [
            "Métricas de desempeño del modelo final obtenido con el conjunto de prueba:\n",
            "F1_Score: 0.776\n"
          ]
        }
      ],
      "source": [
        "##Mejor modelo obtenido con el algoritmo de Regresión Logistica \n",
        "\n",
        "##Nota esta paso se puede evitar debido estos parametros ya sele\n",
        "##pasaron al modelo en el paso anterior en la parte de optimización\n",
        "## especificamente al momento de obtener las curvas de aprendizaje.\n",
        "best_modelo_lr = LogisticRegression(penalty='l2', \n",
        "                            max_iter=10000,\n",
        "                            C = best_params_lr['C'],\n",
        "                            class_weight = best_params_lr['class_weight'],\n",
        "                            solver = best_params_lr['solver'],\n",
        "                            random_state=1)\n",
        "\n",
        "#En este punto se aplican todas las transformaciones que se encuentran en el pipeline,, pero a todos los datos de entrenamiento.\n",
        "#Lo que se obtiene en este punto son un conjunto de pesos o factores por asi decirlo que van ajustar a los datos de entrenamiento.\n",
        "XtrainTf = columnasTransformer.fit(X_train)\n",
        "\n",
        "#Ahora si en este punto los ajustes factores se aplican al conjunto de datos de entrenamiento\n",
        "XtrainFTf = XtrainTf.transform(X_train)\n",
        "\n",
        "#Los mismos factores o ajuste se aplican a los datos de prueba, estos datos no se han utilizado durante el entrenamiento\n",
        "#el modelo no los ha visto, no los conoce.\n",
        "XtestFTf = XtrainTf.transform(X_val)\n",
        "\n",
        "#Entrenamos el modelo con el conjunto de entrenamiento aumentado, la variable \"ytv\", es la variable que tiene las diferentes clases.\n",
        "best_modelo_lr = best_modelo_lr.fit(XtrainFTf, y_train)\n",
        "\n",
        "#Ahora si vamos a realizar las predicciones del modelo con un conjunto de datos que el modelo no ha visto, (Datos de Prueba).\n",
        "ypred_obt = best_modelo_lr.predict(XtestFTf)\n",
        "\n",
        "#Una vez realizada la predicción se realiza una comparación con los resultados de prueba.\n",
        "F1_Score_Final = mi_f1score(y_val, ypred_obt)\n",
        "\n",
        "print(\"Métricas de desempeño del modelo final obtenido con el conjunto de prueba:\")\n",
        "print(\"F1_Score: %.3f\" % F1_Score_Final)"
      ]
    },
    {
      "cell_type": "markdown",
      "metadata": {
        "id": "9_NaGQqL2G2l"
      },
      "source": [
        "# Conclusiones -----"
      ]
    },
    {
      "cell_type": "markdown",
      "metadata": {
        "id": "YUvFNzWx2G2m"
      },
      "source": [
        "- b.  Obtener el  modelo de árbol de decisiones con los mejores parámetros que hayas \n",
        "encontrado con la métrica “precision” utilizada. Imprimir el valor de dicha métrica e \n",
        "incluye tus conclusiones finales para este caso."
      ]
    },
    {
      "cell_type": "code",
      "execution_count": 51,
      "metadata": {
        "id": "VDa_Iiiq2G2n"
      },
      "outputs": [],
      "source": [
        "def graph_tree(best_modelo):\n",
        "    dot_data = tree.export_graphviz(decision_tree=best_modelo, \n",
        "                                out_file=None,\n",
        "                                max_depth=None,\n",
        "                                feature_names=None,\n",
        "                                class_names=None,\n",
        "                                filled=True,\n",
        "                                rotate=True,\n",
        "                                proportion=False)\n",
        "\n",
        "    graph = pydotplus.graph_from_dot_data(dot_data)\n",
        "    Image(graph.create_png())"
      ]
    },
    {
      "cell_type": "code",
      "execution_count": 52,
      "metadata": {
        "id": "n0P_AcyjC_Dh",
        "colab": {
          "base_uri": "https://localhost:8080/"
        },
        "outputId": "e41b1fef-bb08-4aa2-e867-8e4264dbea29"
      },
      "outputs": [
        {
          "output_type": "stream",
          "name": "stdout",
          "text": [
            "Métricas de desempeño del modelo final obtenido con el conjunto de prueba:\n",
            "Precision: 0.713\n"
          ]
        }
      ],
      "source": [
        "##Mejor modelo obtenido con el algoritmo de Arbol de Decision\n",
        "\n",
        "##Nota esta paso se puede evitar debido estos parametros ya sele\n",
        "##pasaron al modelo en el paso anterior en la parte de optimización\n",
        "## especificamente al momento de obtener las curvas de aprendizaje.\n",
        "best_modelo_dt = DecisionTreeClassifier(splitter= 'best', \n",
        "                            ccp_alpha= best_params_dt['ccp_alpha'],\n",
        "                            class_weight= best_params_dt['class_weight'],\n",
        "                            criterion= best_params_dt['criterion'],\n",
        "                            max_depth= best_params_dt['max_depth'],\n",
        "                            min_samples_split= best_params_dt['min_samples_split'])\n",
        "\n",
        "#En este punto se aplican todas las transformaciones que se encuentran en el pipeline,, pero a todos los datos de entrenamiento.\n",
        "#Lo que se obtiene en este punto son un conjunto de pesos o factores por asi decirlo que van ajustar a los datos de entrenamiento.\n",
        "XtrainTf = columnasTransformer.fit(X_train)\n",
        "\n",
        "#Ahora si en este punto los ajustes factores se aplican al conjunto de datos de entrenamiento\n",
        "XtrainFTf = XtrainTf.transform(X_train)\n",
        "\n",
        "#Los mismos factores o ajuste se aplican a los datos de prueba, estos datos no se han utilizado durante el entrenamiento\n",
        "#el modelo no los ha visto, no los conoce.\n",
        "XtestFTf = XtrainTf.transform(X_val)\n",
        "\n",
        "#Entrenamos el modelo con el conjunto de entrenamiento aumentado, la variable \"ytv\", es la variable que tiene las diferentes clases.\n",
        "best_modelo_dt = best_modelo_dt.fit(XtrainFTf, y_train)\n",
        "\n",
        "#Ahora si vamos a realizar las predicciones del modelo con un conjunto de datos que el modelo no ha visto, (Datos de Prueba).\n",
        "ypred_obt = best_modelo_dt.predict(XtestFTf)\n",
        "\n",
        "#Una vez realizada la predicción se realiza una comparación con los resultados de prueba.\n",
        "Precision_Final = mi_precision(y_val, ypred_obt)\n",
        "\n",
        "print(\"Métricas de desempeño del modelo final obtenido con el conjunto de prueba:\")\n",
        "print(\"Precision: %.3f\" % Precision_Final)"
      ]
    },
    {
      "cell_type": "code",
      "execution_count": 53,
      "metadata": {
        "id": "Us1tHFGr2G2p"
      },
      "outputs": [],
      "source": [
        "graph_tree(best_modelo_dt)"
      ]
    },
    {
      "cell_type": "markdown",
      "metadata": {
        "id": "IuehFJpL2G2p"
      },
      "source": [
        "- c.   Obtener el  modelo de bosque aleatorio con los mejores parámetros que hayas \n",
        "encontrado con la métrica “recall” utilizada. Imprimir el valor de dicha métrica e incluye \n",
        "tus conclusiones finales para este caso. "
      ]
    },
    {
      "cell_type": "code",
      "execution_count": 54,
      "metadata": {
        "colab": {
          "base_uri": "https://localhost:8080/"
        },
        "id": "lzaVLgXs2G2r",
        "outputId": "70cfa793-4bcd-43c0-f681-612f145e5d9e"
      },
      "outputs": [
        {
          "output_type": "stream",
          "name": "stdout",
          "text": [
            "Métricas de desempeño del modelo final obtenido con el conjunto de prueba:\n",
            "F1_Score: 1.000\n"
          ]
        }
      ],
      "source": [
        "##Mejor modelo obtenido con el algoritmo de Bosque Aleatorio \n",
        "\n",
        "##Nota esta paso se puede evitar debido estos parametros ya sele\n",
        "##pasaron al modelo en el paso anterior en la parte de optimización\n",
        "## especificamente al momento de obtener las curvas de aprendizaje.\n",
        "best_modelo_rf = RandomForestClassifier(n_estimators=50, \n",
        "                            ccp_alpha= best_params_rf[\"ccp_alpha\"],\n",
        "                            class_weight= best_params_rf[\"class_weight\"],\n",
        "                            criterion= best_params_rf[\"criterion\"],\n",
        "                            max_depth= best_params_rf[\"max_depth\"],\n",
        "                            min_samples_split= best_params_rf[\"min_samples_split\"])\n",
        "\n",
        "#En este punto se aplican todas las transformaciones que se encuentran en el pipeline,, pero a todos los datos de entrenamiento.\n",
        "#Lo que se obtiene en este punto son un conjunto de pesos o factores por asi decirlo que van ajustar a los datos de entrenamiento.\n",
        "XtrainTf = columnasTransformer.fit(X_train)\n",
        "\n",
        "#Ahora si en este punto los ajustes factores se aplican al conjunto de datos de entrenamiento\n",
        "XtrainFTf = XtrainTf.transform(X_train)\n",
        "\n",
        "#Los mismos factores o ajuste se aplican a los datos de prueba, estos datos no se han utilizado durante el entrenamiento\n",
        "#el modelo no los ha visto, no los conoce.\n",
        "XtestFTf = XtrainTf.transform(X_val)\n",
        "\n",
        "#Entrenamos el modelo con el conjunto de entrenamiento aumentado, la variable \"ytv\", es la variable que tiene las diferentes clases.\n",
        "best_modelo_rf = best_modelo_rf.fit(XtrainFTf, y_train)\n",
        "\n",
        "#Ahora si vamos a realizar las predicciones del modelo con un conjunto de datos que el modelo no ha visto, (Datos de Prueba).\n",
        "ypred_obt = best_modelo_rf.predict(XtestFTf)\n",
        "\n",
        "#Una vez realizada la predicción se realiza una comparación con los resultados de prueba.\n",
        "Recall_Final = mi_recall(y_val, ypred_obt)\n",
        "\n",
        "print(\"Métricas de desempeño del modelo final obtenido con el conjunto de prueba:\")\n",
        "print(\"F1_Score: %.3f\" % Recall_Final)"
      ]
    },
    {
      "cell_type": "code",
      "execution_count": 55,
      "metadata": {
        "colab": {
          "base_uri": "https://localhost:8080/",
          "height": 307
        },
        "id": "hu2kUWsH2G2s",
        "outputId": "0540831b-9528-447d-95b8-9104b4480900"
      },
      "outputs": [
        {
          "output_type": "error",
          "ename": "AttributeError",
          "evalue": "ignored",
          "traceback": [
            "\u001b[0;31m---------------------------------------------------------------------------\u001b[0m",
            "\u001b[0;31mAttributeError\u001b[0m                            Traceback (most recent call last)",
            "\u001b[0;32m<ipython-input-55-eb2ec1aa5cc9>\u001b[0m in \u001b[0;36m<module>\u001b[0;34m\u001b[0m\n\u001b[0;32m----> 1\u001b[0;31m \u001b[0mgraph_tree\u001b[0m\u001b[0;34m(\u001b[0m\u001b[0mbest_modelo_rf\u001b[0m\u001b[0;34m)\u001b[0m\u001b[0;34m\u001b[0m\u001b[0;34m\u001b[0m\u001b[0m\n\u001b[0m",
            "\u001b[0;32m<ipython-input-51-619558cf77ac>\u001b[0m in \u001b[0;36mgraph_tree\u001b[0;34m(best_modelo)\u001b[0m\n\u001b[1;32m      7\u001b[0m                                 \u001b[0mfilled\u001b[0m\u001b[0;34m=\u001b[0m\u001b[0;32mTrue\u001b[0m\u001b[0;34m,\u001b[0m\u001b[0;34m\u001b[0m\u001b[0;34m\u001b[0m\u001b[0m\n\u001b[1;32m      8\u001b[0m                                 \u001b[0mrotate\u001b[0m\u001b[0;34m=\u001b[0m\u001b[0;32mTrue\u001b[0m\u001b[0;34m,\u001b[0m\u001b[0;34m\u001b[0m\u001b[0;34m\u001b[0m\u001b[0m\n\u001b[0;32m----> 9\u001b[0;31m                                 proportion=False)\n\u001b[0m\u001b[1;32m     10\u001b[0m \u001b[0;34m\u001b[0m\u001b[0m\n\u001b[1;32m     11\u001b[0m     \u001b[0mgraph\u001b[0m \u001b[0;34m=\u001b[0m \u001b[0mpydotplus\u001b[0m\u001b[0;34m.\u001b[0m\u001b[0mgraph_from_dot_data\u001b[0m\u001b[0;34m(\u001b[0m\u001b[0mdot_data\u001b[0m\u001b[0;34m)\u001b[0m\u001b[0;34m\u001b[0m\u001b[0;34m\u001b[0m\u001b[0m\n",
            "\u001b[0;32m/usr/local/lib/python3.7/dist-packages/sklearn/tree/_export.py\u001b[0m in \u001b[0;36mexport_graphviz\u001b[0;34m(decision_tree, out_file, max_depth, feature_names, class_names, label, filled, leaves_parallel, impurity, node_ids, proportion, rotate, rounded, special_characters, precision, fontname)\u001b[0m\n\u001b[1;32m    887\u001b[0m             \u001b[0mfontname\u001b[0m\u001b[0;34m=\u001b[0m\u001b[0mfontname\u001b[0m\u001b[0;34m,\u001b[0m\u001b[0;34m\u001b[0m\u001b[0;34m\u001b[0m\u001b[0m\n\u001b[1;32m    888\u001b[0m         )\n\u001b[0;32m--> 889\u001b[0;31m         \u001b[0mexporter\u001b[0m\u001b[0;34m.\u001b[0m\u001b[0mexport\u001b[0m\u001b[0;34m(\u001b[0m\u001b[0mdecision_tree\u001b[0m\u001b[0;34m)\u001b[0m\u001b[0;34m\u001b[0m\u001b[0;34m\u001b[0m\u001b[0m\n\u001b[0m\u001b[1;32m    890\u001b[0m \u001b[0;34m\u001b[0m\u001b[0m\n\u001b[1;32m    891\u001b[0m         \u001b[0;32mif\u001b[0m \u001b[0mreturn_string\u001b[0m\u001b[0;34m:\u001b[0m\u001b[0;34m\u001b[0m\u001b[0;34m\u001b[0m\u001b[0m\n",
            "\u001b[0;32m/usr/local/lib/python3.7/dist-packages/sklearn/tree/_export.py\u001b[0m in \u001b[0;36mexport\u001b[0;34m(self, decision_tree)\u001b[0m\n\u001b[1;32m    460\u001b[0m             \u001b[0mself\u001b[0m\u001b[0;34m.\u001b[0m\u001b[0mrecurse\u001b[0m\u001b[0;34m(\u001b[0m\u001b[0mdecision_tree\u001b[0m\u001b[0;34m,\u001b[0m \u001b[0;36m0\u001b[0m\u001b[0;34m,\u001b[0m \u001b[0mcriterion\u001b[0m\u001b[0;34m=\u001b[0m\u001b[0;34m\"impurity\"\u001b[0m\u001b[0;34m)\u001b[0m\u001b[0;34m\u001b[0m\u001b[0;34m\u001b[0m\u001b[0m\n\u001b[1;32m    461\u001b[0m         \u001b[0;32melse\u001b[0m\u001b[0;34m:\u001b[0m\u001b[0;34m\u001b[0m\u001b[0;34m\u001b[0m\u001b[0m\n\u001b[0;32m--> 462\u001b[0;31m             \u001b[0mself\u001b[0m\u001b[0;34m.\u001b[0m\u001b[0mrecurse\u001b[0m\u001b[0;34m(\u001b[0m\u001b[0mdecision_tree\u001b[0m\u001b[0;34m.\u001b[0m\u001b[0mtree_\u001b[0m\u001b[0;34m,\u001b[0m \u001b[0;36m0\u001b[0m\u001b[0;34m,\u001b[0m \u001b[0mcriterion\u001b[0m\u001b[0;34m=\u001b[0m\u001b[0mdecision_tree\u001b[0m\u001b[0;34m.\u001b[0m\u001b[0mcriterion\u001b[0m\u001b[0;34m)\u001b[0m\u001b[0;34m\u001b[0m\u001b[0;34m\u001b[0m\u001b[0m\n\u001b[0m\u001b[1;32m    463\u001b[0m \u001b[0;34m\u001b[0m\u001b[0m\n\u001b[1;32m    464\u001b[0m         \u001b[0mself\u001b[0m\u001b[0;34m.\u001b[0m\u001b[0mtail\u001b[0m\u001b[0;34m(\u001b[0m\u001b[0;34m)\u001b[0m\u001b[0;34m\u001b[0m\u001b[0;34m\u001b[0m\u001b[0m\n",
            "\u001b[0;31mAttributeError\u001b[0m: 'RandomForestClassifier' object has no attribute 'tree_'"
          ]
        }
      ],
      "source": [
        "graph_tree(best_modelo_rf)"
      ]
    },
    {
      "cell_type": "markdown",
      "metadata": {
        "id": "Ey-Wpf_u2G2t"
      },
      "source": [
        "# Concluciones Finales"
      ]
    },
    {
      "cell_type": "markdown",
      "metadata": {
        "id": "7ql_r2G-DB_m"
      },
      "source": [
        "###**Fin de la Actividad de la semana 6.**"
      ]
    }
  ],
  "metadata": {
    "colab": {
      "collapsed_sections": [],
      "provenance": [],
      "include_colab_link": true
    },
    "kernelspec": {
      "display_name": "Python 3.10.7 64-bit",
      "language": "python",
      "name": "python3"
    },
    "language_info": {
      "codemirror_mode": {
        "name": "ipython",
        "version": 3
      },
      "file_extension": ".py",
      "mimetype": "text/x-python",
      "name": "python",
      "nbconvert_exporter": "python",
      "pygments_lexer": "ipython3",
      "version": "3.10.7"
    },
    "vscode": {
      "interpreter": {
        "hash": "4435b413409b7307cd356ee89e19765aec4b40a42c29a345f39f43dd56cea7e2"
      }
    }
  },
  "nbformat": 4,
  "nbformat_minor": 0
}
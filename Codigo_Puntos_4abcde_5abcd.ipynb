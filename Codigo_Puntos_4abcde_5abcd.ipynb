{
  "nbformat": 4,
  "nbformat_minor": 0,
  "metadata": {
    "colab": {
      "provenance": []
    },
    "kernelspec": {
      "name": "python3",
      "display_name": "Python 3"
    },
    "language_info": {
      "name": "python"
    }
  },
  "cells": [
    {
      "cell_type": "markdown",
      "source": [
        "#Union del codigo de modelos y calculo de metricas\n",
        "#Equipo 51"
      ],
      "metadata": {
        "id": "-VTteIkOu6zp"
      }
    },
    {
      "cell_type": "code",
      "execution_count": 1,
      "metadata": {
        "id": "TRwIyiheuZYH"
      },
      "outputs": [],
      "source": [
        "#Cargamos las diferentes librerias\n",
        "import numpy as np\n",
        "import pandas as pd\n",
        "import seaborn as sns \n",
        "import matplotlib.pyplot as plt\n",
        "import math\n",
        "\n",
        "from sklearn.metrics import confusion_matrix \n",
        "from sklearn.model_selection import train_test_split\n",
        "\n",
        "from sklearn.pipeline import Pipeline\n",
        "from sklearn.compose import ColumnTransformer\n",
        "\n",
        "from sklearn.impute import SimpleImputer\n",
        "from sklearn.preprocessing import MinMaxScaler, OneHotEncoder\n",
        "from sklearn.model_selection import learning_curve\n",
        "from sklearn.linear_model import LogisticRegression\n",
        "from sklearn.ensemble import RandomForestClassifier\n",
        "from sklearn.tree import DecisionTreeClassifier\n",
        "from sklearn.model_selection import  cross_validate,  RepeatedStratifiedKFold \n",
        "#from sklearn.model_selection import cross_val_score\n",
        "#from sklearn.model_selection import RepeatedStratifiedKFold\n",
        "from sklearn.metrics import make_scorer\n",
        "from sklearn.model_selection import GridSearchCV\n",
        "from sklearn.metrics import confusion_matrix"
      ]
    },
    {
      "cell_type": "markdown",
      "source": [
        "##Inicio: Nuestras funciones\n"
      ],
      "metadata": {
        "id": "822Qasikv0E3"
      }
    },
    {
      "cell_type": "code",
      "source": [
        "#Función que permite determinar las diferentes metricas de los modelos de clasificación\n",
        "#utilizando los datos provenientes de las matriz de la matriz de confusión.\n",
        "#la función requiere las predicciones del modelos,  y los datos reales. \n",
        "def metricas(yreal, ypred):\n",
        "\n",
        "#Utilizamos la funcion \"confusion_matriz\", para obtener los verdaderos, positivos y negativos\n",
        "#lo mismo con los falsos, positivos y negativos.\n",
        " tn, fp, fn, tp = confusion_matrix(yreal, ypred).ravel()\n",
        "\n",
        "#Calculo de la metrica de exactitud \n",
        " accuracy  = (tp+tn)/(tp+tn+fp+fn)\n",
        "#Calculo de la metrica de precision\n",
        " precision = tp/(tp+fp)\n",
        "#Calculo de la metrica de recall\n",
        " recall    = tp/(tp+fn)\n",
        "#Calculo de la metrica f1score \n",
        " f1score   = 2*((precision*recall)/(precision+recall))\n",
        "#Calculo de la metrica gmen, para esta se requiere la metrica de especificidad\n",
        " specificity= tn/(tn+fp)\n",
        "#Ahora si el calculo de gmena\n",
        " gmean     = math.sqrt(recall*specificity)\n",
        "\n",
        " return accuracy, precision, recall, f1score, gmean\n"
      ],
      "metadata": {
        "id": "8RkHuEVnvvUJ"
      },
      "execution_count": 2,
      "outputs": []
    },
    {
      "cell_type": "code",
      "source": [
        "def mi_accuracy(yreal, ypred):\n",
        "\n",
        "#Utilizamos la funcion \"confusion_matriz\", para obtener los verdaderos, positivos y negativos\n",
        "#lo mismo con los falsos, positivos y negativos.\n",
        " tn, fp, fn, tp = confusion_matrix(yreal, ypred).ravel()\n",
        "\n",
        "#Calculo de la metrica de exactitud \n",
        " accuracy  = tp/(tp+fp)\n",
        " return accuracy"
      ],
      "metadata": {
        "id": "UpuS5yRs4F6w"
      },
      "execution_count": 3,
      "outputs": []
    },
    {
      "cell_type": "code",
      "source": [
        "def mi_precision(yreal, ypred):\n",
        "\n",
        "#Utilizamos la funcion \"confusion_matriz\", para obtener los verdaderos, positivos y negativos\n",
        "#lo mismo con los falsos, positivos y negativos.\n",
        " tn, fp, fn, tp = confusion_matrix(yreal, ypred).ravel()\n",
        "\n",
        "#Calculo de la metrica de exactitud \n",
        " precision  = (tp+tn)/(tp+tn+fp+fn)\n",
        " return precision"
      ],
      "metadata": {
        "id": "MqjE1mC5A8V5"
      },
      "execution_count": 4,
      "outputs": []
    },
    {
      "cell_type": "code",
      "source": [
        "def mi_recall(yreal, ypred):\n",
        "\n",
        "#Utilizamos la funcion \"confusion_matriz\", para obtener los verdaderos, positivos y negativos\n",
        "#lo mismo con los falsos, positivos y negativos.\n",
        " tn, fp, fn, tp = confusion_matrix(yreal, ypred).ravel()\n",
        "\n",
        "#Calculo de la metrica de exactitud \n",
        " recall  = tp/(tp+fn)\n",
        " return recall"
      ],
      "metadata": {
        "id": "i5SX2MDsBKQw"
      },
      "execution_count": 5,
      "outputs": []
    },
    {
      "cell_type": "code",
      "source": [
        "def mi_f1score(yreal, ypred):\n",
        "\n",
        "#Utilizamos la funcion \"confusion_matriz\", para obtener los verdaderos, positivos y negativos\n",
        "#lo mismo con los falsos, positivos y negativos.\n",
        " tn, fp, fn, tp = confusion_matrix(yreal, ypred).ravel()\n",
        "\n",
        "#Calculo de la metrica de precision\n",
        " precision = tp/(tp+fp)\n",
        "#Calculo de la metrica de recall\n",
        " recall    = tp/(tp+fn)\n",
        "#Calculo de la metrica f1score \n",
        " f1score   = 2*((precision*recall)/(precision+recall))\n",
        " return f1score"
      ],
      "metadata": {
        "id": "7qkpufFfBXAp"
      },
      "execution_count": 6,
      "outputs": []
    },
    {
      "cell_type": "code",
      "source": [
        "def mi_gmean(yreal, ypred):\n",
        "\n",
        "#Utilizamos la funcion \"confusion_matriz\", para obtener los verdaderos, positivos y negativos\n",
        "#lo mismo con los falsos, positivos y negativos.\n",
        " tn, fp, fn, tp = confusion_matrix(yreal, ypred).ravel()\n",
        "\n",
        "#Calculo de la metrica de recall\n",
        " recall    = tp/(tp+fn)\n",
        "#Calculo de la metrica gmen, para esta se requiere la metrica de especificidad\n",
        " specificity= tn/(tn+fp)\n",
        "#Ahora si el calculo de gmena\n",
        " gmean     = math.sqrt(recall*specificity)\n",
        " return gmean"
      ],
      "metadata": {
        "id": "h5JYBO6yBxVh"
      },
      "execution_count": 7,
      "outputs": []
    },
    {
      "cell_type": "code",
      "source": [
        "#Funcion que permite llamar los diferentes modelos de aprendizaje automatico a entrenar\n",
        "#los modelos que se van a entrenar son : Regresion Logistica, Arboles de Decision y Bosque Aleatorio\n",
        "def get_models():\n",
        "  modelos = list()\n",
        "  nombres = list()\n",
        "\n",
        "#LR - Modelo de Regresion Logistica\n",
        "  modelos.append(LogisticRegression(solver='liblinear'))\n",
        "  nombres.append('LR')\n",
        "\n",
        "#DT - Modelo de Arbol de Decision\n",
        "  modelos.append(DecisionTreeClassifier())\n",
        "  nombres.append('DT')\n",
        "\n",
        "#RF - Modelo de Bosque Aleatorio\n",
        "  modelos.append(RandomForestClassifier(n_estimators=50))\n",
        "  nombres.append('RF')\n",
        " \n",
        "  return modelos, nombres"
      ],
      "metadata": {
        "id": "loxox06ewRip"
      },
      "execution_count": 8,
      "outputs": []
    },
    {
      "cell_type": "markdown",
      "source": [
        "##Fin: Nuestras Funciones\n"
      ],
      "metadata": {
        "id": "GThtBQwNvzYf"
      }
    },
    {
      "cell_type": "markdown",
      "source": [
        "#Cargamos los datos de prueba para entrenar los modelos y poner a prueba las funciones"
      ],
      "metadata": {
        "id": "Za0ReIjvw5FQ"
      }
    },
    {
      "cell_type": "code",
      "source": [
        "#Cargamos los datos de prueba, estos datos se deben de modificar por los datos que vamos a utilizar.\n",
        "mypath = \"https://archive.ics.uci.edu/ml/machine-learning-databases/statlog/australian/australian.dat\"\n",
        "\n",
        "data = pd.read_csv(mypath, sep=\" \", header=None)\n",
        "\n",
        "data.columns = ['A1','A2','A3','A4','A5','A6','A7','A8','A9','A10','A11','A12','A13','A14','class']\n",
        "\n",
        "print(data.shape)\n",
        "data.head()"
      ],
      "metadata": {
        "colab": {
          "base_uri": "https://localhost:8080/",
          "height": 223
        },
        "id": "poeJi-Awvj3x",
        "outputId": "8a4af377-612c-4350-8b86-4c1f68ccfb62"
      },
      "execution_count": 9,
      "outputs": [
        {
          "output_type": "stream",
          "name": "stdout",
          "text": [
            "(690, 15)\n"
          ]
        },
        {
          "output_type": "execute_result",
          "data": {
            "text/plain": [
              "   A1     A2     A3  A4  A5  A6     A7  A8  A9  A10  A11  A12  A13   A14  \\\n",
              "0   1  22.08  11.46   2   4   4  1.585   0   0    0    1    2  100  1213   \n",
              "1   0  22.67   7.00   2   8   4  0.165   0   0    0    0    2  160     1   \n",
              "2   0  29.58   1.75   1   4   4  1.250   0   0    0    1    2  280     1   \n",
              "3   0  21.67  11.50   1   5   3  0.000   1   1   11    1    2    0     1   \n",
              "4   1  20.17   8.17   2   6   4  1.960   1   1   14    0    2   60   159   \n",
              "\n",
              "   class  \n",
              "0      0  \n",
              "1      0  \n",
              "2      0  \n",
              "3      1  \n",
              "4      1  "
            ],
            "text/html": [
              "\n",
              "  <div id=\"df-d19d4fca-c42e-4663-b55f-4228f41f4c9c\">\n",
              "    <div class=\"colab-df-container\">\n",
              "      <div>\n",
              "<style scoped>\n",
              "    .dataframe tbody tr th:only-of-type {\n",
              "        vertical-align: middle;\n",
              "    }\n",
              "\n",
              "    .dataframe tbody tr th {\n",
              "        vertical-align: top;\n",
              "    }\n",
              "\n",
              "    .dataframe thead th {\n",
              "        text-align: right;\n",
              "    }\n",
              "</style>\n",
              "<table border=\"1\" class=\"dataframe\">\n",
              "  <thead>\n",
              "    <tr style=\"text-align: right;\">\n",
              "      <th></th>\n",
              "      <th>A1</th>\n",
              "      <th>A2</th>\n",
              "      <th>A3</th>\n",
              "      <th>A4</th>\n",
              "      <th>A5</th>\n",
              "      <th>A6</th>\n",
              "      <th>A7</th>\n",
              "      <th>A8</th>\n",
              "      <th>A9</th>\n",
              "      <th>A10</th>\n",
              "      <th>A11</th>\n",
              "      <th>A12</th>\n",
              "      <th>A13</th>\n",
              "      <th>A14</th>\n",
              "      <th>class</th>\n",
              "    </tr>\n",
              "  </thead>\n",
              "  <tbody>\n",
              "    <tr>\n",
              "      <th>0</th>\n",
              "      <td>1</td>\n",
              "      <td>22.08</td>\n",
              "      <td>11.46</td>\n",
              "      <td>2</td>\n",
              "      <td>4</td>\n",
              "      <td>4</td>\n",
              "      <td>1.585</td>\n",
              "      <td>0</td>\n",
              "      <td>0</td>\n",
              "      <td>0</td>\n",
              "      <td>1</td>\n",
              "      <td>2</td>\n",
              "      <td>100</td>\n",
              "      <td>1213</td>\n",
              "      <td>0</td>\n",
              "    </tr>\n",
              "    <tr>\n",
              "      <th>1</th>\n",
              "      <td>0</td>\n",
              "      <td>22.67</td>\n",
              "      <td>7.00</td>\n",
              "      <td>2</td>\n",
              "      <td>8</td>\n",
              "      <td>4</td>\n",
              "      <td>0.165</td>\n",
              "      <td>0</td>\n",
              "      <td>0</td>\n",
              "      <td>0</td>\n",
              "      <td>0</td>\n",
              "      <td>2</td>\n",
              "      <td>160</td>\n",
              "      <td>1</td>\n",
              "      <td>0</td>\n",
              "    </tr>\n",
              "    <tr>\n",
              "      <th>2</th>\n",
              "      <td>0</td>\n",
              "      <td>29.58</td>\n",
              "      <td>1.75</td>\n",
              "      <td>1</td>\n",
              "      <td>4</td>\n",
              "      <td>4</td>\n",
              "      <td>1.250</td>\n",
              "      <td>0</td>\n",
              "      <td>0</td>\n",
              "      <td>0</td>\n",
              "      <td>1</td>\n",
              "      <td>2</td>\n",
              "      <td>280</td>\n",
              "      <td>1</td>\n",
              "      <td>0</td>\n",
              "    </tr>\n",
              "    <tr>\n",
              "      <th>3</th>\n",
              "      <td>0</td>\n",
              "      <td>21.67</td>\n",
              "      <td>11.50</td>\n",
              "      <td>1</td>\n",
              "      <td>5</td>\n",
              "      <td>3</td>\n",
              "      <td>0.000</td>\n",
              "      <td>1</td>\n",
              "      <td>1</td>\n",
              "      <td>11</td>\n",
              "      <td>1</td>\n",
              "      <td>2</td>\n",
              "      <td>0</td>\n",
              "      <td>1</td>\n",
              "      <td>1</td>\n",
              "    </tr>\n",
              "    <tr>\n",
              "      <th>4</th>\n",
              "      <td>1</td>\n",
              "      <td>20.17</td>\n",
              "      <td>8.17</td>\n",
              "      <td>2</td>\n",
              "      <td>6</td>\n",
              "      <td>4</td>\n",
              "      <td>1.960</td>\n",
              "      <td>1</td>\n",
              "      <td>1</td>\n",
              "      <td>14</td>\n",
              "      <td>0</td>\n",
              "      <td>2</td>\n",
              "      <td>60</td>\n",
              "      <td>159</td>\n",
              "      <td>1</td>\n",
              "    </tr>\n",
              "  </tbody>\n",
              "</table>\n",
              "</div>\n",
              "      <button class=\"colab-df-convert\" onclick=\"convertToInteractive('df-d19d4fca-c42e-4663-b55f-4228f41f4c9c')\"\n",
              "              title=\"Convert this dataframe to an interactive table.\"\n",
              "              style=\"display:none;\">\n",
              "        \n",
              "  <svg xmlns=\"http://www.w3.org/2000/svg\" height=\"24px\"viewBox=\"0 0 24 24\"\n",
              "       width=\"24px\">\n",
              "    <path d=\"M0 0h24v24H0V0z\" fill=\"none\"/>\n",
              "    <path d=\"M18.56 5.44l.94 2.06.94-2.06 2.06-.94-2.06-.94-.94-2.06-.94 2.06-2.06.94zm-11 1L8.5 8.5l.94-2.06 2.06-.94-2.06-.94L8.5 2.5l-.94 2.06-2.06.94zm10 10l.94 2.06.94-2.06 2.06-.94-2.06-.94-.94-2.06-.94 2.06-2.06.94z\"/><path d=\"M17.41 7.96l-1.37-1.37c-.4-.4-.92-.59-1.43-.59-.52 0-1.04.2-1.43.59L10.3 9.45l-7.72 7.72c-.78.78-.78 2.05 0 2.83L4 21.41c.39.39.9.59 1.41.59.51 0 1.02-.2 1.41-.59l7.78-7.78 2.81-2.81c.8-.78.8-2.07 0-2.86zM5.41 20L4 18.59l7.72-7.72 1.47 1.35L5.41 20z\"/>\n",
              "  </svg>\n",
              "      </button>\n",
              "      \n",
              "  <style>\n",
              "    .colab-df-container {\n",
              "      display:flex;\n",
              "      flex-wrap:wrap;\n",
              "      gap: 12px;\n",
              "    }\n",
              "\n",
              "    .colab-df-convert {\n",
              "      background-color: #E8F0FE;\n",
              "      border: none;\n",
              "      border-radius: 50%;\n",
              "      cursor: pointer;\n",
              "      display: none;\n",
              "      fill: #1967D2;\n",
              "      height: 32px;\n",
              "      padding: 0 0 0 0;\n",
              "      width: 32px;\n",
              "    }\n",
              "\n",
              "    .colab-df-convert:hover {\n",
              "      background-color: #E2EBFA;\n",
              "      box-shadow: 0px 1px 2px rgba(60, 64, 67, 0.3), 0px 1px 3px 1px rgba(60, 64, 67, 0.15);\n",
              "      fill: #174EA6;\n",
              "    }\n",
              "\n",
              "    [theme=dark] .colab-df-convert {\n",
              "      background-color: #3B4455;\n",
              "      fill: #D2E3FC;\n",
              "    }\n",
              "\n",
              "    [theme=dark] .colab-df-convert:hover {\n",
              "      background-color: #434B5C;\n",
              "      box-shadow: 0px 1px 3px 1px rgba(0, 0, 0, 0.15);\n",
              "      filter: drop-shadow(0px 1px 2px rgba(0, 0, 0, 0.3));\n",
              "      fill: #FFFFFF;\n",
              "    }\n",
              "  </style>\n",
              "\n",
              "      <script>\n",
              "        const buttonEl =\n",
              "          document.querySelector('#df-d19d4fca-c42e-4663-b55f-4228f41f4c9c button.colab-df-convert');\n",
              "        buttonEl.style.display =\n",
              "          google.colab.kernel.accessAllowed ? 'block' : 'none';\n",
              "\n",
              "        async function convertToInteractive(key) {\n",
              "          const element = document.querySelector('#df-d19d4fca-c42e-4663-b55f-4228f41f4c9c');\n",
              "          const dataTable =\n",
              "            await google.colab.kernel.invokeFunction('convertToInteractive',\n",
              "                                                     [key], {});\n",
              "          if (!dataTable) return;\n",
              "\n",
              "          const docLinkHtml = 'Like what you see? Visit the ' +\n",
              "            '<a target=\"_blank\" href=https://colab.research.google.com/notebooks/data_table.ipynb>data table notebook</a>'\n",
              "            + ' to learn more about interactive tables.';\n",
              "          element.innerHTML = '';\n",
              "          dataTable['output_type'] = 'display_data';\n",
              "          await google.colab.output.renderOutput(dataTable, element);\n",
              "          const docLink = document.createElement('div');\n",
              "          docLink.innerHTML = docLinkHtml;\n",
              "          element.appendChild(docLink);\n",
              "        }\n",
              "      </script>\n",
              "    </div>\n",
              "  </div>\n",
              "  "
            ]
          },
          "metadata": {},
          "execution_count": 9
        }
      ]
    },
    {
      "cell_type": "code",
      "source": [
        "data['A4'] = data['A4'].map({2:2, 1:0, 3:0})\n",
        "data['A5'] = data['A5'].map({1:1,2:0,3:3,4:4,5:0,6:6,7:7,8:8,9:9,10:0,11:11,12:0,13:13,14:14})\n",
        "data['A6'] = data['A6'].map({1:1,2:0,3:0,4:4,5:5,7:0,8:8,9:0})"
      ],
      "metadata": {
        "id": "O6cr1OJXwwEA"
      },
      "execution_count": 10,
      "outputs": []
    },
    {
      "cell_type": "code",
      "source": [
        "# Ahora sí, definamos nuestras variables de entrada y de salida, observa que ambas son DataFrames de Pandas:\n",
        "\n",
        "X = data.iloc[:,:-1]  \n",
        "\n",
        "Y = data.iloc[:,-1]     # También puede ser: data[['class']]     "
      ],
      "metadata": {
        "id": "PlBn28ESw1jI"
      },
      "execution_count": 11,
      "outputs": []
    },
    {
      "cell_type": "code",
      "source": [
        "Xtv, Xtest, ytv, ytest = train_test_split(X, Y, test_size=0.2, stratify=Y, random_state=1)  \n",
        "\n",
        "print(Xtv.shape, ': dimensión de datos de entrada para entrenamiento y validación')\n",
        "print(Xtest.shape, ': dimensión de datos de entrada para prueba')  \n",
        "\n",
        "print(ytv.shape, ': dimensión de variable de salida para entrenamiento y validación')\n",
        "print(ytest.shape, ': dimensión de variable de salida para prueba')"
      ],
      "metadata": {
        "colab": {
          "base_uri": "https://localhost:8080/"
        },
        "id": "F0aVD_spw2_o",
        "outputId": "4bc9f96b-398d-45f5-d65b-897d9ebe81e1"
      },
      "execution_count": 12,
      "outputs": [
        {
          "output_type": "stream",
          "name": "stdout",
          "text": [
            "(552, 14) : dimensión de datos de entrada para entrenamiento y validación\n",
            "(138, 14) : dimensión de datos de entrada para prueba\n",
            "(552,) : dimensión de variable de salida para entrenamiento y validación\n",
            "(138,) : dimensión de variable de salida para prueba\n"
          ]
        }
      ]
    },
    {
      "cell_type": "code",
      "source": [
        "# Transformaciones a factores numéricos de entrada:\n",
        "num_pipeline = Pipeline(steps = [('impMediana', SimpleImputer(strategy='median')),\n",
        "                                 ('escalaNum', MinMaxScaler(feature_range=(1,2)))])   \n",
        "num_pipeline_nombres = ['A2','A3','A7','A10','A13','A14']\n",
        "\n",
        "# Transformaciones a factores categóricos de entrada:\n",
        "catImp_pipeline = Pipeline(steps = [('impModa', SimpleImputer(strategy='most_frequent'))])  \n",
        "catImp_pipeline_nombres = ['A1', 'A4', 'A5', 'A6', 'A8', 'A9', 'A11', 'A12']\n",
        "\n",
        "catOHE_pipeline = Pipeline(steps = [('OneHotE', OneHotEncoder(drop='first'))])\n",
        "catOHE_pipeline_nombres = [ 'A4','A5','A6','A12']\n",
        "\n",
        "\n",
        "# Conjuntamos las transformaciones numéricas y categóricas que se estarán aplicando a los datos de entrada:\n",
        "columnasTransformer = ColumnTransformer(transformers = [('numpipe', num_pipeline, num_pipeline_nombres),\n",
        "                                                        ('catimp', catImp_pipeline, catImp_pipeline_nombres),\n",
        "                                                        ('catohe', catOHE_pipeline, catOHE_pipeline_nombres)],\n",
        "                                        remainder='passthrough')"
      ],
      "metadata": {
        "id": "Md_682fcxKtR"
      },
      "execution_count": 13,
      "outputs": []
    },
    {
      "cell_type": "markdown",
      "source": [
        "#En este punto los datos ya quedaron preprocesados y cargados. \n",
        "#Aqui inicia el entrenamiento de los modelos y la prueba de las diferentes funciones que creamos "
      ],
      "metadata": {
        "id": "dt-kAYktxP8x"
      }
    },
    {
      "cell_type": "code",
      "source": [
        "modelos, nombres = get_models()  # cargamos los modelos a comparar\n",
        "resultados = list()   \n",
        "\n",
        "for i in range(len(modelos)):\n",
        "\n",
        "  pipeline = Pipeline(steps=[('ct',columnasTransformer),('m',modelos[i])])\n",
        "  cv = RepeatedStratifiedKFold(n_splits=5, n_repeats=3, random_state=0)\n",
        "  mis_metricas ={'mi_accuracy':make_scorer(mi_accuracy),\n",
        "                 'mi_precision':make_scorer(mi_precision),\n",
        "                 'mi_recall':make_scorer(mi_recall),\n",
        "                 'mi_f1score':make_scorer(mi_f1score),\n",
        "                 'mi_gmean':make_scorer(mi_gmean)}\n",
        "  scores = cross_validate(pipeline, Xtv, np.ravel(ytv), scoring= mis_metricas, cv=cv)\n",
        "  resultados.append(scores)\n",
        "  print('%s:\\nAccuracy: %.3f\\nPrecision: %.3f\\nRecall: %.3f\\nF1-Score: %.3f\\nGmean: %.3f\\n' % (nombres[i],\n",
        "                                                                          np.mean(scores['test_mi_accuracy']),\n",
        "                                                                          np.mean(scores['test_mi_precision']),\n",
        "                                                                          np.mean(scores['test_mi_recall']),\n",
        "                                                                          np.mean(scores['test_mi_f1score']),\n",
        "                                                                          np.mean(scores['test_mi_gmean']),\n",
        "                                                                          ))\n",
        "\n",
        "\n"
      ],
      "metadata": {
        "colab": {
          "base_uri": "https://localhost:8080/"
        },
        "id": "Bqbn3UaVxfsQ",
        "outputId": "5d028274-6d93-40fb-c92e-6088b281509e"
      },
      "execution_count": 14,
      "outputs": [
        {
          "output_type": "stream",
          "name": "stdout",
          "text": [
            "LR:\n",
            "Accuracy: 0.825\n",
            "Precision: 0.863\n",
            "Recall: 0.884\n",
            "F1-Score: 0.852\n",
            "Gmean: 0.864\n",
            "\n",
            "DT:\n",
            "Accuracy: 0.783\n",
            "Precision: 0.810\n",
            "Recall: 0.798\n",
            "F1-Score: 0.788\n",
            "Gmean: 0.807\n",
            "\n",
            "RF:\n",
            "Accuracy: 0.863\n",
            "Precision: 0.867\n",
            "Recall: 0.836\n",
            "F1-Score: 0.848\n",
            "Gmean: 0.862\n",
            "\n"
          ]
        }
      ]
    },
    {
      "cell_type": "code",
      "source": [
        "bpRecall = list()\n",
        "for i in range(len(resultados)):\n",
        "  Recall_metric = resultados[i]['test_mi_recall']\n",
        "  bpRecall.append(Recall_metric)\n",
        "\n",
        "plt.boxplot(bpRecall, labels=nombres, showmeans=True)\n",
        "plt.show()"
      ],
      "metadata": {
        "colab": {
          "base_uri": "https://localhost:8080/",
          "height": 265
        },
        "id": "6CCRCHIT09Gx",
        "outputId": "386045d4-5f76-469b-d567-e22aa2ed9af5"
      },
      "execution_count": 15,
      "outputs": [
        {
          "output_type": "display_data",
          "data": {
            "text/plain": [
              "<Figure size 432x288 with 1 Axes>"
            ],
            "image/png": "[encoded data removed]"
          },
          "metadata": {
            "needs_background": "light"
          }
        }
      ]
    },
    {
      "cell_type": "markdown",
      "source": [
        "#Saludos, les comento que al parecer, ya quedo parte del punto del inciso a al d.Lo unico que se cambia en este codigo son los datos de entrada la parte del entrenamiento al parecer ya quedo, si gustar revisarlo y comentar adelante. El día de mañana continuo con el inciso e."
      ],
      "metadata": {
        "id": "Vpr1uqTjKPiQ"
      }
    },
    {
      "cell_type": "markdown",
      "source": [
        "##En esta seccion se crea las curvas de aprendizaje de los diferentes modelos utilizados.\n",
        "\n",
        "\n"
      ],
      "metadata": {
        "id": "_XZijmNYcg4j"
      }
    },
    {
      "cell_type": "code",
      "source": [
        "#Curva de Aprendizaje del modelo de Regresion Logistica \n",
        "delta_train = np.linspace(0.1, 1.0, 20)\n",
        "\n",
        "cvLC = RepeatedStratifiedKFold(n_splits=5, n_repeats=3, random_state=0)\n",
        "Xx = columnasTransformer.fit_transform(Xtv)\n",
        "metrics_used = ['f1','f1','recall']\n",
        "etiquetas = ['Funcion learning curve: LR',\n",
        "             'Funcion learning curve: DT',\n",
        "             'Funcion learning curve: RF'] \n",
        "for i in range(len(modelos)):\n",
        "\n",
        "  train_sizes, train_scores, valid_scores = learning_curve(estimator=modelos[i], \n",
        "                                                        X=Xx, \n",
        "                                                        y=np.ravel(ytv),\n",
        "                                                        cv=cvLC, \n",
        "                                                        train_sizes=delta_train,\n",
        "                                                        scoring= metrics_used[i])\n",
        "\n",
        "  train_mean = np.mean(train_scores, axis=1)\n",
        "  train_std = np.std(train_scores, axis=1)\n",
        "  valid_mean = np.mean(valid_scores, axis=1)\n",
        "  valid_std = np.std(valid_scores, axis=1)\n",
        "\n",
        "  plt.plot(train_sizes, train_mean, color='blue', marker='o', markersize=5, label='Training')\n",
        "  plt.plot(train_sizes, valid_mean, color='red', marker='o', markersize=5, label='Validation')\n",
        "  plt.title(etiquetas[i])\n",
        "  plt.xlabel('Tamaño del conjunto de entrenamiento')\n",
        "  plt.ylabel(metrics_used[i])\n",
        "  plt.grid()\n",
        "  plt.legend(loc='lower right')\n",
        "  plt.show()"
      ],
      "metadata": {
        "colab": {
          "base_uri": "https://localhost:8080/",
          "height": 851
        },
        "id": "1Pxl6tIsnqI1",
        "outputId": "5c4d2840-cabb-48b5-d191-6e3483a9fe70"
      },
      "execution_count": 16,
      "outputs": [
        {
          "output_type": "display_data",
          "data": {
            "text/plain": [
              "<Figure size 432x288 with 1 Axes>"
            ],
            "image/png": "[encoded data removed]"
          },
          "metadata": {
            "needs_background": "light"
          }
        },
        {
          "output_type": "display_data",
          "data": {
            "text/plain": [
              "<Figure size 432x288 with 1 Axes>"
            ],
            "image/png": "[encoded data removed]"
          },
          "metadata": {
            "needs_background": "light"
          }
        },
        {
          "output_type": "display_data",
          "data": {
            "text/plain": [
              "<Figure size 432x288 with 1 Axes>"
            ],
            "image/png": "[encoded data removed]"
          },
          "metadata": {
            "needs_background": "light"
          }
        }
      ]
    },
    {
      "cell_type": "code",
      "source": [
        "#Para el modelo de regresión logística realizar el entrenamiento buscando sus mejores \n",
        "#hiperparámetros con GridSearchCV(). Los hiperparámetros que debes incluir en su \n",
        "#búsqueda deben ser al menos los siguientes: C, solver, class_weight y penalty. En este caso \n",
        "#deberás usar la métrica (scoring) “f1-score”. Imprime la mejor combinación de \n",
        "#parámetros obtenidos, así como el valor del mejor desempeño (score) obtenido con la \n",
        "#métrica f1. ¿Cuál es la utilidad de la métrica “f1-score”? Incluye tus conclusiones. \n",
        "\n",
        "#mdl_lr = LogisticRegression(penalty='l2', max_iter=10000, random_state=1)\n",
        "\n",
        "#grid.fit(Xx, np.ravel(ytv))\n",
        "\n",
        "#print('Mejor valor de exactitud obtenido con la mejor combinación:', grid.best_score_)\n",
        "#print('Mejor combinación de valores encontrados de los hiperparámetros:', grid.best_params_)\n",
        "#print('Métrica utilizada:', grid.scoring)"
      ],
      "metadata": {
        "id": "B0_z3WLJcAud"
      },
      "execution_count": null,
      "outputs": []
    },
    {
      "cell_type": "code",
      "source": [
        "modelo = LogisticRegression(penalty='l2', max_iter=10000, random_state=0)\n",
        "\n",
        "dicc_grid = {'C':[0.0001,0.01,0.1,1.0,10.,100.],\n",
        "             'solver':['newton-cg','lbfgs','liblinear','sag','saga'],\n",
        "             'class_weight':['balanced']\n",
        "             }\n",
        "\n",
        "cv = RepeatedStratifiedKFold(n_splits=5, n_repeats=3, random_state=0)\n",
        "\n",
        "grid = GridSearchCV(estimator=modelo, \n",
        "                    param_grid=dicc_grid, \n",
        "                    cv=cv, \n",
        "                    scoring='f1')"
      ],
      "metadata": {
        "id": "XHrjaP1FfZF2"
      },
      "execution_count": 17,
      "outputs": []
    },
    {
      "cell_type": "code",
      "source": [
        "Xx = columnasTransformer.fit_transform(Xtv)\n",
        "\n",
        "grid.fit(Xx, np.ravel(ytv))\n",
        "\n",
        "print('Mejor valor de exactitud obtenido con la mejor combinación:', grid.best_score_)\n",
        "print('Mejor combinación de valores encontrados de los hiperparámetros:', grid.best_params_)\n",
        "print('Métrica utilizada:', grid.scoring)"
      ],
      "metadata": {
        "colab": {
          "base_uri": "https://localhost:8080/"
        },
        "id": "mUmsAvgBgeMl",
        "outputId": "b6df8387-e2c5-4feb-800e-1561e59164a2"
      },
      "execution_count": 18,
      "outputs": [
        {
          "output_type": "stream",
          "name": "stdout",
          "text": [
            "Mejor valor de exactitud obtenido con la mejor combinación: 0.8591412260635778\n",
            "Mejor combinación de valores encontrados de los hiperparámetros: {'C': 10.0, 'class_weight': 'balanced', 'solver': 'liblinear'}\n",
            "Métrica utilizada: f1\n"
          ]
        }
      ]
    },
    {
      "cell_type": "code",
      "source": [
        "#Entrenamiento del modelo con la mejor combinacion obtenida\n",
        "best_modelo_lr = LogisticRegression(penalty='l2', \n",
        "                            max_iter=10000,\n",
        "                            C=10.0,\n",
        "                            class_weight= 'balanced',\n",
        "                            solver='liblinear',\n",
        "                            random_state=1)"
      ],
      "metadata": {
        "id": "tj20Aijtn30H"
      },
      "execution_count": 20,
      "outputs": []
    },
    {
      "cell_type": "code",
      "source": [
        "delta_train = np.linspace(0.1, 1.0, 20)\n",
        "\n",
        "cvLC = RepeatedStratifiedKFold(n_splits=5, n_repeats=3, random_state=0)\n",
        "Xx = columnasTransformer.fit_transform(Xtv)\n",
        "metrics_used = ['f1','f1','recall']\n",
        "etiquetas = ['Funcion learning curve: LR',\n",
        "             'Funcion learning curve: DT',\n",
        "             'Funcion learning curve: RF'] \n",
        "\n",
        "train_sizes, train_scores, valid_scores = learning_curve(estimator=best_modelo_lr, \n",
        "                                                        X=Xx, \n",
        "                                                        y=np.ravel(ytv),\n",
        "                                                        cv=cvLC, \n",
        "                                                        train_sizes=delta_train,\n",
        "                                                        scoring= 'f1')\n",
        "\n",
        "train_mean = np.mean(train_scores, axis=1)\n",
        "train_std = np.std(train_scores, axis=1)\n",
        "valid_mean = np.mean(valid_scores, axis=1)\n",
        "valid_std = np.std(valid_scores, axis=1)\n",
        "\n",
        "plt.plot(train_sizes, train_mean, color='blue', marker='o', markersize=5, label='Training')\n",
        "plt.plot(train_sizes, valid_mean, color='red', marker='o', markersize=5, label='Validation')\n",
        "plt.title(etiquetas[0])\n",
        "plt.xlabel('Tamaño del conjunto de entrenamiento')\n",
        "plt.ylabel(metrics_used[0])\n",
        "plt.grid()\n",
        "plt.legend(loc='lower right')\n",
        "plt.show()"
      ],
      "metadata": {
        "colab": {
          "base_uri": "https://localhost:8080/",
          "height": 295
        },
        "id": "gQEpYLEhktf-",
        "outputId": "4b41d36c-a17d-44ec-dc6d-6f1e4c3d0023"
      },
      "execution_count": 21,
      "outputs": [
        {
          "output_type": "display_data",
          "data": {
            "text/plain": [
              "<Figure size 432x288 with 1 Axes>"
            ],
            "image/png": "[encoded data removed]"
          },
          "metadata": {
            "needs_background": "light"
          }
        }
      ]
    },
    {
      "cell_type": "code",
      "source": [
        "modelo = DecisionTreeClassifier(splitter='best')\n",
        "\n",
        "dicc_grid = {'ccp_alpha':[0.000,0.005,0.010,0.015,0.020,0.025,0.030,0.035,0.040],\n",
        "             'criterion':['gini','entropy'],\n",
        "             'class_weight':[{0: 1, 1: 1}, {0: 1, 1: 5}, {0: 1, 1: 1}, {0: 1, 1: 1}],\n",
        "             'max_depth':[1,2,3,4,5],\n",
        "             'min_samples_split':[2,3,4,5]\n",
        "             }\n",
        "\n",
        "cv = RepeatedStratifiedKFold(n_splits=5, n_repeats=3, random_state=0)\n",
        "grid = GridSearchCV(estimator=modelo, \n",
        "                    param_grid=dicc_grid, \n",
        "                    cv=cv, \n",
        "                    scoring='average_precision')\n",
        "\n"
      ],
      "metadata": {
        "id": "bCzmfLhNtYHO"
      },
      "execution_count": 42,
      "outputs": []
    },
    {
      "cell_type": "code",
      "source": [
        "Xx = columnasTransformer.fit_transform(Xtv)\n",
        "\n",
        "grid.fit(Xx, np.ravel(ytv))\n",
        "\n",
        "print('Mejor valor de exactitud obtenido con la mejor combinación:', grid.best_score_)\n",
        "print('Mejor combinación de valores encontrados de los hiperparámetros:', grid.best_params_)\n",
        "print('Métrica utilizada:', grid.scoring)"
      ],
      "metadata": {
        "colab": {
          "base_uri": "https://localhost:8080/"
        },
        "id": "WpiMtvNDwDO1",
        "outputId": "4743fb70-70d8-4d43-cdac-d76ce6584463"
      },
      "execution_count": 43,
      "outputs": [
        {
          "output_type": "stream",
          "name": "stdout",
          "text": [
            "Mejor valor de exactitud obtenido con la mejor combinación: 0.8403956340299553\n",
            "Mejor combinación de valores encontrados de los hiperparámetros: {'ccp_alpha': 0.01, 'class_weight': {0: 1, 1: 5}, 'criterion': 'entropy', 'max_depth': 3, 'min_samples_split': 2}\n",
            "Métrica utilizada: average_precision\n"
          ]
        }
      ]
    },
    {
      "cell_type": "code",
      "source": [
        "from sklearn.utils import class_weight\n",
        "#Entrenamiento del modelo con la mejor combinacion obtenida\n",
        "best_modelo_dt = DecisionTreeClassifier(splitter= 'best', \n",
        "                            ccp_alpha= 0.01,\n",
        "                            class_weight= {0: 1, 1: 5},\n",
        "                            criterion= 'entropy',\n",
        "                            max_depth= 3,\n",
        "                            min_samples_split= 2)"
      ],
      "metadata": {
        "id": "6fDUUDyn3S4f"
      },
      "execution_count": 45,
      "outputs": []
    },
    {
      "cell_type": "code",
      "source": [
        "delta_train = np.linspace(0.1, 1.0, 20)\n",
        "\n",
        "cvLC = RepeatedStratifiedKFold(n_splits=5, n_repeats=3, random_state=0)\n",
        "Xx = columnasTransformer.fit_transform(Xtv)\n",
        "metrics_used = ['f1','f1','recall']\n",
        "etiquetas = ['Funcion learning curve: LR',\n",
        "             'Funcion learning curve: DT',\n",
        "             'Funcion learning curve: RF'] \n",
        "\n",
        "train_sizes, train_scores, valid_scores = learning_curve(estimator=best_modelo_dt, \n",
        "                                                        X=Xx, \n",
        "                                                        y=np.ravel(ytv),\n",
        "                                                        cv=cvLC, \n",
        "                                                        train_sizes=delta_train,\n",
        "                                                        scoring= 'average_precision')\n",
        "\n",
        "train_mean = np.mean(train_scores, axis=1)\n",
        "train_std = np.std(train_scores, axis=1)\n",
        "valid_mean = np.mean(valid_scores, axis=1)\n",
        "valid_std = np.std(valid_scores, axis=1)\n",
        "\n",
        "plt.plot(train_sizes, train_mean, color='blue', marker='o', markersize=5, label='Training')\n",
        "plt.plot(train_sizes, valid_mean, color='red', marker='o', markersize=5, label='Validation')\n",
        "plt.title(etiquetas[0])\n",
        "plt.xlabel('Tamaño del conjunto de entrenamiento')\n",
        "plt.ylabel(metrics_used[0])\n",
        "plt.grid()\n",
        "plt.legend(loc='lower right')\n",
        "plt.show()"
      ],
      "metadata": {
        "colab": {
          "base_uri": "https://localhost:8080/",
          "height": 295
        },
        "id": "8eD6D0pu4Ghm",
        "outputId": "b4fa9b4c-ff4a-473d-c83e-232117ad78df"
      },
      "execution_count": 46,
      "outputs": [
        {
          "output_type": "display_data",
          "data": {
            "text/plain": [
              "<Figure size 432x288 with 1 Axes>"
            ],
            "image/png": "[encoded data removed]"
          },
          "metadata": {
            "needs_background": "light"
          }
        }
      ]
    }
  ]
}
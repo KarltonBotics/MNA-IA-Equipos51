{
  "cells": [
    {
      "cell_type": "markdown",
      "metadata": {
        "id": "VFj0sSM06dYa"
      },
      "source": [
        "# **Maestría en Inteligencia Artificial Aplicada**\n",
        "## **Curso: Inteligencia Artificial y Aprendizaje Automático**\n",
        "### Tecnológico de Monterrey\n",
        "### Prof Luis Eduardo Falcón Morales\n",
        "\n",
        "## **Adtividad de la Semana 7**\n",
        "### **Red Neuronal Artificial - Perceptrón Multicapa : Multilayer Perceptrón (MLP)**\n"
      ]
    },
    {
      "cell_type": "markdown",
      "metadata": {
        "id": "Qgrvy0RGB9XI"
      },
      "source": [
        "**Nombres y matrículas de los integrantes del equipo:**\n",
        "\n",
        "*   Carlos Enríquez Gorgonio A01793102\n",
        "*   Fernando Ramírez Gómez A01298109\n",
        "*   Francisco Javier Ramírez Arias A01316379\n",
        "*   Jessica Lechuga Ramos A01793512\n",
        "*   Moisés Rangel Silva A00143704"
      ]
    },
    {
      "cell_type": "markdown",
      "metadata": {
        "id": "ynIhlp3clr-N"
      },
      "source": [
        "Esta Tarea se deberá resolver en equipos, de acuerdo a como fueron integrados al inicio del curso. \n",
        "\n",
        "El artículo del 2016 de Moro, Rita & Vala relacionado al presente problema lo encuentras aquí: https://www.semanticscholar.org/paper/Predicting-social-media-performance-metrics-and-of-Moro-Rita/dec55692590820754b53c916e29bb2b42c0e5104  \n",
        " \n",
        "Y el conjunto de datos utilizado es el de la siguiente liga de la UCI: https://archive.ics.uci.edu/ml/datasets/Facebook+metrics \n",
        "\n",
        "\n",
        "El archivo se llama dataset_Facebook.csv y contiene 500 registros y 19 columnas.  El objetivo es determinar el impacto generado por un anuncio de una marca de cosméticos en  Facebook, en el cual se intentaron varias variantes en la manera de mostrar el anuncio. Siguiendo el  artículo, deberás considerar como predictores o variables de entrada aquellas que se indican en la Tabla 3. Por otro lado, en la Tabla 2, los autores consideran varios casos para la variable de salida, intentando  determinar cuál puede ser el mejor caso para medir el éxito de la campaña. Para este ejercicio deberás  considerar únicamente los siguientes tres casos como variable de salida: “Lifetime post consumers”,  “Lifetime People who have liked a Page and engaged with a post” y “Likes”."
      ]
    },
    {
      "cell_type": "markdown",
      "metadata": {
        "id": "FrJ2ahMODVj1"
      },
      "source": [
        "En cada sección deberás incluir todas las líneas de código necesarias para responder a cada uno de los ejercicios."
      ]
    },
    {
      "cell_type": "markdown",
      "metadata": {
        "id": "SSItQX11pPow"
      },
      "source": [
        "### DATA\n",
        "El data set, con 500 resgistros, es una muestra de los datos recopilados entre enero 1 y diciembre 31 de 2014. Contiene 19 columnas, de las cuales 7 features son conocidos antes de la publicación del anuncio (post) y los otros 12 features son usados para evaluar el impacto del post.\n",
        "\n",
        "Los 12 features consisten en 11 features exportados de la página de Facebook más una columna que computa el total de interacciones (pgae total likes), y contienen las métricas asociadas al desempeño del post, por lo tanto, cualquiera de estos features pueden ser usados como feature de salida para predicción.\n",
        "\n",
        "Los otros 7 features son considerados de entrada. Estos a su vez fueron limpiados y ajustados, eliminando el 'post id', 'post message', 'permanent link', pues no dan valor al modelo, y asjustando la fecha, 'posted', a tres características: 'Post Month', 'Post Weekday', y 'Post Hour'.\n",
        "\n",
        "El conjunto de datos se divide en cuatro categorías o tipos de features, según la información que proveen:\n",
        "* de Identificación: permiten identificar, de manera individual, cada post.\n",
        "* de Contenido: el contenido textual de cada post.\n",
        "* de Categorización: features que caracterizan el post.\n",
        "* de Desempeño: métricas para medir el impacto del post (o el impacto de la página, para el caso de \"Page total likes\").\n",
        "\n",
        "\n",
        "\n"
      ]
    },
    {
      "cell_type": "markdown",
      "metadata": {
        "id": "d9BFu3zE8OMM"
      },
      "source": [
        "### Features\n",
        "#### Features de Salida\n",
        "Feature                   | Desciption\n",
        "--------------------------|---------------------------\n",
        "Lifetime post total reach | The number of people who saw a page post (unique users).\n",
        "Lifetime post total impressions | Impressions are the number of times a post from a page is displayed, whether the post is clicked or not. People may see multiple impressions of the same post. For example, someone might see a Page update in News Feed once, and then a second time if a friend shares it.\n",
        "Lifetime engaged users | The number of people who clicked anywhere in a post (unique users).\n",
        "Lifetime post consumers | The number of people who clicked anywhere in a post.\n",
        "Lifetime post consumptions | The number of clicks anywhere in a post.\n",
        "Lifetime post impressions by people who have liked a page | Total number of impressions just from people who have liked a page.\n",
        "Lifetime post reach by people who like a page | The number of people who saw a page post because they have liked that page (unique users).\n",
        "**Lifetime people who have liked a page and engaged with a post** | The number of people who have liked a Page and clicked anywhere in a post (Unique users).\n",
        "Comments | Number of comments on the publication.\n",
        "Likes | Number of “Likes” on the publication.\n",
        "Shares | Number of times the publication was shared.\n",
        "Total interactions | The sum of “likes,” “comments,” and “shares” of the post.\n",
        "<br>\n",
        "\n",
        "#### Features de Entrada\n",
        "\n",
        "Feature                   | Desciption\n",
        "--------------------------|---------------------------\n",
        "Category | Manual content characterization: action (special offers and contests, product (direct advertisement, explicit brand content), and inspiration non-explicit brand related content).\n",
        "Page total likes | Number of people who have liked the company's page.\n",
        "Type | Type of content (Link, Photo, Status, Video).\n",
        "Post month | Month the post was published (January, February, March, …, December).\n",
        "Post hour | Hour the post was published (0, 1, 2, 3, 4, …, 23).\n",
        "Post weekday | Weekday the post was published (Sunday, Monday, …, Saturday).\n",
        "Paid | If the company paid to Facebook for advertising (yes, no).\n",
        "<br>\n"
      ]
    },
    {
      "cell_type": "markdown",
      "metadata": {
        "id": "JytPcSapYMkg"
      },
      "source": [
        "### Librerías"
      ]
    },
    {
      "cell_type": "code",
      "execution_count": 1,
      "metadata": {
        "id": "exXsscs-Dh-2"
      },
      "outputs": [],
      "source": [
        "# Módulos, librerías y paquetes requeridos.\n",
        "\n",
        "import pandas as pd\n",
        "import numpy as np\n",
        "\n",
        "import math\n",
        "import graphviz\n",
        "import matplotlib.pyplot as plt\n",
        "import pydotplus\n",
        "import seaborn as sns\n",
        "import missingno as msno\n",
        "\n",
        "from IPython.display import Image\n",
        "\n",
        "from scipy.stats import boxcox\n",
        "\n",
        "from sklearn import tree\n",
        "from sklearn.compose import ColumnTransformer\n",
        "from sklearn.dummy import DummyRegressor\n",
        "from sklearn.ensemble import RandomForestClassifier, RandomForestRegressor\n",
        "from sklearn.impute import SimpleImputer\n",
        "from sklearn.inspection import permutation_importance\n",
        "from sklearn.linear_model import LogisticRegression, LinearRegression\n",
        "from sklearn.metrics import confusion_matrix, make_scorer\n",
        "from sklearn.model_selection import GridSearchCV, RepeatedStratifiedKFold, KFold, train_test_split, cross_validate, learning_curve, RepeatedKFold\n",
        "from sklearn.neural_network import MLPRegressor\n",
        "from sklearn.preprocessing import MinMaxScaler, OneHotEncoder, OneHotEncoder, FunctionTransformer\n",
        "from sklearn.pipeline import Pipeline\n",
        "from sklearn.tree import DecisionTreeClassifier"
      ]
    },
    {
      "cell_type": "markdown",
      "metadata": {
        "id": "X25brD-gQdZM"
      },
      "source": [
        "# **Ejercicio-1.** "
      ]
    },
    {
      "cell_type": "markdown",
      "metadata": {
        "id": "wrXVR3OQlr-P"
      },
      "source": [
        "En esta tarea considera únicamente la siguiente variable de salida que se concluye que es una de las \n",
        "mejores en el artículo antes citado:  ‘Lifetime People who have liked a Page and engaged with a \n",
        "post'. Renombra dicha variable como “LPE” . Como variables de entrada selecciona las 7 variables \n",
        "que indican los autores en la Tabla 3 del artículo citado. "
      ]
    },
    {
      "cell_type": "code",
      "execution_count": 2,
      "metadata": {
        "colab": {
          "base_uri": "https://localhost:8080/",
          "height": 426
        },
        "id": "3nU2GuWYCy6C",
        "outputId": "4fb79784-7271-4c5b-85d5-7607ee467017"
      },
      "outputs": [
        {
          "output_type": "execute_result",
          "data": {
            "text/plain": [
              "   Page total likes    Type  Category  Post Month  Post Weekday  Post Hour  \\\n",
              "0            139441   Photo         2          12             4          3   \n",
              "1            139441  Status         2          12             3         10   \n",
              "2            139441   Photo         3          12             3          3   \n",
              "3            139441   Photo         2          12             2         10   \n",
              "4            139441   Photo         2          12             2          3   \n",
              "\n",
              "   Paid  Lifetime Post Total Reach  Lifetime Post Total Impressions  \\\n",
              "0   0.0                       2752                             5091   \n",
              "1   0.0                      10460                            19057   \n",
              "2   0.0                       2413                             4373   \n",
              "3   1.0                      50128                            87991   \n",
              "4   0.0                       7244                            13594   \n",
              "\n",
              "   Lifetime Engaged Users  Lifetime Post Consumers  \\\n",
              "0                     178                      109   \n",
              "1                    1457                     1361   \n",
              "2                     177                      113   \n",
              "3                    2211                      790   \n",
              "4                     671                      410   \n",
              "\n",
              "   Lifetime Post Consumptions  \\\n",
              "0                         159   \n",
              "1                        1674   \n",
              "2                         154   \n",
              "3                        1119   \n",
              "4                         580   \n",
              "\n",
              "   Lifetime Post Impressions by people who have liked your Page  \\\n",
              "0                                               3078              \n",
              "1                                              11710              \n",
              "2                                               2812              \n",
              "3                                              61027              \n",
              "4                                               6228              \n",
              "\n",
              "   Lifetime Post reach by people who like your Page  \\\n",
              "0                                              1640   \n",
              "1                                              6112   \n",
              "2                                              1503   \n",
              "3                                             32048   \n",
              "4                                              3200   \n",
              "\n",
              "   Lifetime People who have liked your Page and engaged with your post  \\\n",
              "0                                                119                     \n",
              "1                                               1108                     \n",
              "2                                                132                     \n",
              "3                                               1386                     \n",
              "4                                                396                     \n",
              "\n",
              "   comment    like  share  Total Interactions  \n",
              "0        4    79.0   17.0                 100  \n",
              "1        5   130.0   29.0                 164  \n",
              "2        0    66.0   14.0                  80  \n",
              "3       58  1572.0  147.0                1777  \n",
              "4       19   325.0   49.0                 393  "
            ],
            "text/html": [
              "\n",
              "  <div id=\"df-7e0f9c72-3b50-4092-b81a-44d7231c440c\">\n",
              "    <div class=\"colab-df-container\">\n",
              "      <div>\n",
              "<style scoped>\n",
              "    .dataframe tbody tr th:only-of-type {\n",
              "        vertical-align: middle;\n",
              "    }\n",
              "\n",
              "    .dataframe tbody tr th {\n",
              "        vertical-align: top;\n",
              "    }\n",
              "\n",
              "    .dataframe thead th {\n",
              "        text-align: right;\n",
              "    }\n",
              "</style>\n",
              "<table border=\"1\" class=\"dataframe\">\n",
              "  <thead>\n",
              "    <tr style=\"text-align: right;\">\n",
              "      <th></th>\n",
              "      <th>Page total likes</th>\n",
              "      <th>Type</th>\n",
              "      <th>Category</th>\n",
              "      <th>Post Month</th>\n",
              "      <th>Post Weekday</th>\n",
              "      <th>Post Hour</th>\n",
              "      <th>Paid</th>\n",
              "      <th>Lifetime Post Total Reach</th>\n",
              "      <th>Lifetime Post Total Impressions</th>\n",
              "      <th>Lifetime Engaged Users</th>\n",
              "      <th>Lifetime Post Consumers</th>\n",
              "      <th>Lifetime Post Consumptions</th>\n",
              "      <th>Lifetime Post Impressions by people who have liked your Page</th>\n",
              "      <th>Lifetime Post reach by people who like your Page</th>\n",
              "      <th>Lifetime People who have liked your Page and engaged with your post</th>\n",
              "      <th>comment</th>\n",
              "      <th>like</th>\n",
              "      <th>share</th>\n",
              "      <th>Total Interactions</th>\n",
              "    </tr>\n",
              "  </thead>\n",
              "  <tbody>\n",
              "    <tr>\n",
              "      <th>0</th>\n",
              "      <td>139441</td>\n",
              "      <td>Photo</td>\n",
              "      <td>2</td>\n",
              "      <td>12</td>\n",
              "      <td>4</td>\n",
              "      <td>3</td>\n",
              "      <td>0.0</td>\n",
              "      <td>2752</td>\n",
              "      <td>5091</td>\n",
              "      <td>178</td>\n",
              "      <td>109</td>\n",
              "      <td>159</td>\n",
              "      <td>3078</td>\n",
              "      <td>1640</td>\n",
              "      <td>119</td>\n",
              "      <td>4</td>\n",
              "      <td>79.0</td>\n",
              "      <td>17.0</td>\n",
              "      <td>100</td>\n",
              "    </tr>\n",
              "    <tr>\n",
              "      <th>1</th>\n",
              "      <td>139441</td>\n",
              "      <td>Status</td>\n",
              "      <td>2</td>\n",
              "      <td>12</td>\n",
              "      <td>3</td>\n",
              "      <td>10</td>\n",
              "      <td>0.0</td>\n",
              "      <td>10460</td>\n",
              "      <td>19057</td>\n",
              "      <td>1457</td>\n",
              "      <td>1361</td>\n",
              "      <td>1674</td>\n",
              "      <td>11710</td>\n",
              "      <td>6112</td>\n",
              "      <td>1108</td>\n",
              "      <td>5</td>\n",
              "      <td>130.0</td>\n",
              "      <td>29.0</td>\n",
              "      <td>164</td>\n",
              "    </tr>\n",
              "    <tr>\n",
              "      <th>2</th>\n",
              "      <td>139441</td>\n",
              "      <td>Photo</td>\n",
              "      <td>3</td>\n",
              "      <td>12</td>\n",
              "      <td>3</td>\n",
              "      <td>3</td>\n",
              "      <td>0.0</td>\n",
              "      <td>2413</td>\n",
              "      <td>4373</td>\n",
              "      <td>177</td>\n",
              "      <td>113</td>\n",
              "      <td>154</td>\n",
              "      <td>2812</td>\n",
              "      <td>1503</td>\n",
              "      <td>132</td>\n",
              "      <td>0</td>\n",
              "      <td>66.0</td>\n",
              "      <td>14.0</td>\n",
              "      <td>80</td>\n",
              "    </tr>\n",
              "    <tr>\n",
              "      <th>3</th>\n",
              "      <td>139441</td>\n",
              "      <td>Photo</td>\n",
              "      <td>2</td>\n",
              "      <td>12</td>\n",
              "      <td>2</td>\n",
              "      <td>10</td>\n",
              "      <td>1.0</td>\n",
              "      <td>50128</td>\n",
              "      <td>87991</td>\n",
              "      <td>2211</td>\n",
              "      <td>790</td>\n",
              "      <td>1119</td>\n",
              "      <td>61027</td>\n",
              "      <td>32048</td>\n",
              "      <td>1386</td>\n",
              "      <td>58</td>\n",
              "      <td>1572.0</td>\n",
              "      <td>147.0</td>\n",
              "      <td>1777</td>\n",
              "    </tr>\n",
              "    <tr>\n",
              "      <th>4</th>\n",
              "      <td>139441</td>\n",
              "      <td>Photo</td>\n",
              "      <td>2</td>\n",
              "      <td>12</td>\n",
              "      <td>2</td>\n",
              "      <td>3</td>\n",
              "      <td>0.0</td>\n",
              "      <td>7244</td>\n",
              "      <td>13594</td>\n",
              "      <td>671</td>\n",
              "      <td>410</td>\n",
              "      <td>580</td>\n",
              "      <td>6228</td>\n",
              "      <td>3200</td>\n",
              "      <td>396</td>\n",
              "      <td>19</td>\n",
              "      <td>325.0</td>\n",
              "      <td>49.0</td>\n",
              "      <td>393</td>\n",
              "    </tr>\n",
              "  </tbody>\n",
              "</table>\n",
              "</div>\n",
              "      <button class=\"colab-df-convert\" onclick=\"convertToInteractive('df-7e0f9c72-3b50-4092-b81a-44d7231c440c')\"\n",
              "              title=\"Convert this dataframe to an interactive table.\"\n",
              "              style=\"display:none;\">\n",
              "        \n",
              "  <svg xmlns=\"http://www.w3.org/2000/svg\" height=\"24px\"viewBox=\"0 0 24 24\"\n",
              "       width=\"24px\">\n",
              "    <path d=\"M0 0h24v24H0V0z\" fill=\"none\"/>\n",
              "    <path d=\"M18.56 5.44l.94 2.06.94-2.06 2.06-.94-2.06-.94-.94-2.06-.94 2.06-2.06.94zm-11 1L8.5 8.5l.94-2.06 2.06-.94-2.06-.94L8.5 2.5l-.94 2.06-2.06.94zm10 10l.94 2.06.94-2.06 2.06-.94-2.06-.94-.94-2.06-.94 2.06-2.06.94z\"/><path d=\"M17.41 7.96l-1.37-1.37c-.4-.4-.92-.59-1.43-.59-.52 0-1.04.2-1.43.59L10.3 9.45l-7.72 7.72c-.78.78-.78 2.05 0 2.83L4 21.41c.39.39.9.59 1.41.59.51 0 1.02-.2 1.41-.59l7.78-7.78 2.81-2.81c.8-.78.8-2.07 0-2.86zM5.41 20L4 18.59l7.72-7.72 1.47 1.35L5.41 20z\"/>\n",
              "  </svg>\n",
              "      </button>\n",
              "      \n",
              "  <style>\n",
              "    .colab-df-container {\n",
              "      display:flex;\n",
              "      flex-wrap:wrap;\n",
              "      gap: 12px;\n",
              "    }\n",
              "\n",
              "    .colab-df-convert {\n",
              "      background-color: #E8F0FE;\n",
              "      border: none;\n",
              "      border-radius: 50%;\n",
              "      cursor: pointer;\n",
              "      display: none;\n",
              "      fill: #1967D2;\n",
              "      height: 32px;\n",
              "      padding: 0 0 0 0;\n",
              "      width: 32px;\n",
              "    }\n",
              "\n",
              "    .colab-df-convert:hover {\n",
              "      background-color: #E2EBFA;\n",
              "      box-shadow: 0px 1px 2px rgba(60, 64, 67, 0.3), 0px 1px 3px 1px rgba(60, 64, 67, 0.15);\n",
              "      fill: #174EA6;\n",
              "    }\n",
              "\n",
              "    [theme=dark] .colab-df-convert {\n",
              "      background-color: #3B4455;\n",
              "      fill: #D2E3FC;\n",
              "    }\n",
              "\n",
              "    [theme=dark] .colab-df-convert:hover {\n",
              "      background-color: #434B5C;\n",
              "      box-shadow: 0px 1px 3px 1px rgba(0, 0, 0, 0.15);\n",
              "      filter: drop-shadow(0px 1px 2px rgba(0, 0, 0, 0.3));\n",
              "      fill: #FFFFFF;\n",
              "    }\n",
              "  </style>\n",
              "\n",
              "      <script>\n",
              "        const buttonEl =\n",
              "          document.querySelector('#df-7e0f9c72-3b50-4092-b81a-44d7231c440c button.colab-df-convert');\n",
              "        buttonEl.style.display =\n",
              "          google.colab.kernel.accessAllowed ? 'block' : 'none';\n",
              "\n",
              "        async function convertToInteractive(key) {\n",
              "          const element = document.querySelector('#df-7e0f9c72-3b50-4092-b81a-44d7231c440c');\n",
              "          const dataTable =\n",
              "            await google.colab.kernel.invokeFunction('convertToInteractive',\n",
              "                                                     [key], {});\n",
              "          if (!dataTable) return;\n",
              "\n",
              "          const docLinkHtml = 'Like what you see? Visit the ' +\n",
              "            '<a target=\"_blank\" href=https://colab.research.google.com/notebooks/data_table.ipynb>data table notebook</a>'\n",
              "            + ' to learn more about interactive tables.';\n",
              "          element.innerHTML = '';\n",
              "          dataTable['output_type'] = 'display_data';\n",
              "          await google.colab.output.renderOutput(dataTable, element);\n",
              "          const docLink = document.createElement('div');\n",
              "          docLink.innerHTML = docLinkHtml;\n",
              "          element.appendChild(docLink);\n",
              "        }\n",
              "      </script>\n",
              "    </div>\n",
              "  </div>\n",
              "  "
            ]
          },
          "metadata": {},
          "execution_count": 2
        }
      ],
      "source": [
        "# Importación de archivo a DataFrame\n",
        "df= pd.read_csv('https://raw.githubusercontent.com/KarltonBotics/MNA-IA-Equipos51/main/dataset_Facebook.csv', sep=';')\n",
        "df.head()"
      ]
    },
    {
      "cell_type": "code",
      "execution_count": 3,
      "metadata": {
        "colab": {
          "base_uri": "https://localhost:8080/",
          "height": 206
        },
        "id": "0ulkqXVGCy97",
        "outputId": "1f14f858-7f45-436e-837f-69fe7ae15e8e"
      },
      "outputs": [
        {
          "output_type": "execute_result",
          "data": {
            "text/plain": [
              "   total_likes    type  category  post_month  post_weekday  post_hour  paid  \\\n",
              "0       139441   Photo         2          12             4          3   0.0   \n",
              "1       139441  Status         2          12             3         10   0.0   \n",
              "2       139441   Photo         3          12             3          3   0.0   \n",
              "3       139441   Photo         2          12             2         10   1.0   \n",
              "4       139441   Photo         2          12             2          3   0.0   \n",
              "\n",
              "    lptr   lpti   leu  lpcm  lpcn  lpiplp  lprplp   lpe  comment    like  \\\n",
              "0   2752   5091   178   109   159    3078    1640   119        4    79.0   \n",
              "1  10460  19057  1457  1361  1674   11710    6112  1108        5   130.0   \n",
              "2   2413   4373   177   113   154    2812    1503   132        0    66.0   \n",
              "3  50128  87991  2211   790  1119   61027   32048  1386       58  1572.0   \n",
              "4   7244  13594   671   410   580    6228    3200   396       19   325.0   \n",
              "\n",
              "   share  interactions  \n",
              "0   17.0           100  \n",
              "1   29.0           164  \n",
              "2   14.0            80  \n",
              "3  147.0          1777  \n",
              "4   49.0           393  "
            ],
            "text/html": [
              "\n",
              "  <div id=\"df-c4b549ff-5985-4983-a7de-4de508655dcc\">\n",
              "    <div class=\"colab-df-container\">\n",
              "      <div>\n",
              "<style scoped>\n",
              "    .dataframe tbody tr th:only-of-type {\n",
              "        vertical-align: middle;\n",
              "    }\n",
              "\n",
              "    .dataframe tbody tr th {\n",
              "        vertical-align: top;\n",
              "    }\n",
              "\n",
              "    .dataframe thead th {\n",
              "        text-align: right;\n",
              "    }\n",
              "</style>\n",
              "<table border=\"1\" class=\"dataframe\">\n",
              "  <thead>\n",
              "    <tr style=\"text-align: right;\">\n",
              "      <th></th>\n",
              "      <th>total_likes</th>\n",
              "      <th>type</th>\n",
              "      <th>category</th>\n",
              "      <th>post_month</th>\n",
              "      <th>post_weekday</th>\n",
              "      <th>post_hour</th>\n",
              "      <th>paid</th>\n",
              "      <th>lptr</th>\n",
              "      <th>lpti</th>\n",
              "      <th>leu</th>\n",
              "      <th>lpcm</th>\n",
              "      <th>lpcn</th>\n",
              "      <th>lpiplp</th>\n",
              "      <th>lprplp</th>\n",
              "      <th>lpe</th>\n",
              "      <th>comment</th>\n",
              "      <th>like</th>\n",
              "      <th>share</th>\n",
              "      <th>interactions</th>\n",
              "    </tr>\n",
              "  </thead>\n",
              "  <tbody>\n",
              "    <tr>\n",
              "      <th>0</th>\n",
              "      <td>139441</td>\n",
              "      <td>Photo</td>\n",
              "      <td>2</td>\n",
              "      <td>12</td>\n",
              "      <td>4</td>\n",
              "      <td>3</td>\n",
              "      <td>0.0</td>\n",
              "      <td>2752</td>\n",
              "      <td>5091</td>\n",
              "      <td>178</td>\n",
              "      <td>109</td>\n",
              "      <td>159</td>\n",
              "      <td>3078</td>\n",
              "      <td>1640</td>\n",
              "      <td>119</td>\n",
              "      <td>4</td>\n",
              "      <td>79.0</td>\n",
              "      <td>17.0</td>\n",
              "      <td>100</td>\n",
              "    </tr>\n",
              "    <tr>\n",
              "      <th>1</th>\n",
              "      <td>139441</td>\n",
              "      <td>Status</td>\n",
              "      <td>2</td>\n",
              "      <td>12</td>\n",
              "      <td>3</td>\n",
              "      <td>10</td>\n",
              "      <td>0.0</td>\n",
              "      <td>10460</td>\n",
              "      <td>19057</td>\n",
              "      <td>1457</td>\n",
              "      <td>1361</td>\n",
              "      <td>1674</td>\n",
              "      <td>11710</td>\n",
              "      <td>6112</td>\n",
              "      <td>1108</td>\n",
              "      <td>5</td>\n",
              "      <td>130.0</td>\n",
              "      <td>29.0</td>\n",
              "      <td>164</td>\n",
              "    </tr>\n",
              "    <tr>\n",
              "      <th>2</th>\n",
              "      <td>139441</td>\n",
              "      <td>Photo</td>\n",
              "      <td>3</td>\n",
              "      <td>12</td>\n",
              "      <td>3</td>\n",
              "      <td>3</td>\n",
              "      <td>0.0</td>\n",
              "      <td>2413</td>\n",
              "      <td>4373</td>\n",
              "      <td>177</td>\n",
              "      <td>113</td>\n",
              "      <td>154</td>\n",
              "      <td>2812</td>\n",
              "      <td>1503</td>\n",
              "      <td>132</td>\n",
              "      <td>0</td>\n",
              "      <td>66.0</td>\n",
              "      <td>14.0</td>\n",
              "      <td>80</td>\n",
              "    </tr>\n",
              "    <tr>\n",
              "      <th>3</th>\n",
              "      <td>139441</td>\n",
              "      <td>Photo</td>\n",
              "      <td>2</td>\n",
              "      <td>12</td>\n",
              "      <td>2</td>\n",
              "      <td>10</td>\n",
              "      <td>1.0</td>\n",
              "      <td>50128</td>\n",
              "      <td>87991</td>\n",
              "      <td>2211</td>\n",
              "      <td>790</td>\n",
              "      <td>1119</td>\n",
              "      <td>61027</td>\n",
              "      <td>32048</td>\n",
              "      <td>1386</td>\n",
              "      <td>58</td>\n",
              "      <td>1572.0</td>\n",
              "      <td>147.0</td>\n",
              "      <td>1777</td>\n",
              "    </tr>\n",
              "    <tr>\n",
              "      <th>4</th>\n",
              "      <td>139441</td>\n",
              "      <td>Photo</td>\n",
              "      <td>2</td>\n",
              "      <td>12</td>\n",
              "      <td>2</td>\n",
              "      <td>3</td>\n",
              "      <td>0.0</td>\n",
              "      <td>7244</td>\n",
              "      <td>13594</td>\n",
              "      <td>671</td>\n",
              "      <td>410</td>\n",
              "      <td>580</td>\n",
              "      <td>6228</td>\n",
              "      <td>3200</td>\n",
              "      <td>396</td>\n",
              "      <td>19</td>\n",
              "      <td>325.0</td>\n",
              "      <td>49.0</td>\n",
              "      <td>393</td>\n",
              "    </tr>\n",
              "  </tbody>\n",
              "</table>\n",
              "</div>\n",
              "      <button class=\"colab-df-convert\" onclick=\"convertToInteractive('df-c4b549ff-5985-4983-a7de-4de508655dcc')\"\n",
              "              title=\"Convert this dataframe to an interactive table.\"\n",
              "              style=\"display:none;\">\n",
              "        \n",
              "  <svg xmlns=\"http://www.w3.org/2000/svg\" height=\"24px\"viewBox=\"0 0 24 24\"\n",
              "       width=\"24px\">\n",
              "    <path d=\"M0 0h24v24H0V0z\" fill=\"none\"/>\n",
              "    <path d=\"M18.56 5.44l.94 2.06.94-2.06 2.06-.94-2.06-.94-.94-2.06-.94 2.06-2.06.94zm-11 1L8.5 8.5l.94-2.06 2.06-.94-2.06-.94L8.5 2.5l-.94 2.06-2.06.94zm10 10l.94 2.06.94-2.06 2.06-.94-2.06-.94-.94-2.06-.94 2.06-2.06.94z\"/><path d=\"M17.41 7.96l-1.37-1.37c-.4-.4-.92-.59-1.43-.59-.52 0-1.04.2-1.43.59L10.3 9.45l-7.72 7.72c-.78.78-.78 2.05 0 2.83L4 21.41c.39.39.9.59 1.41.59.51 0 1.02-.2 1.41-.59l7.78-7.78 2.81-2.81c.8-.78.8-2.07 0-2.86zM5.41 20L4 18.59l7.72-7.72 1.47 1.35L5.41 20z\"/>\n",
              "  </svg>\n",
              "      </button>\n",
              "      \n",
              "  <style>\n",
              "    .colab-df-container {\n",
              "      display:flex;\n",
              "      flex-wrap:wrap;\n",
              "      gap: 12px;\n",
              "    }\n",
              "\n",
              "    .colab-df-convert {\n",
              "      background-color: #E8F0FE;\n",
              "      border: none;\n",
              "      border-radius: 50%;\n",
              "      cursor: pointer;\n",
              "      display: none;\n",
              "      fill: #1967D2;\n",
              "      height: 32px;\n",
              "      padding: 0 0 0 0;\n",
              "      width: 32px;\n",
              "    }\n",
              "\n",
              "    .colab-df-convert:hover {\n",
              "      background-color: #E2EBFA;\n",
              "      box-shadow: 0px 1px 2px rgba(60, 64, 67, 0.3), 0px 1px 3px 1px rgba(60, 64, 67, 0.15);\n",
              "      fill: #174EA6;\n",
              "    }\n",
              "\n",
              "    [theme=dark] .colab-df-convert {\n",
              "      background-color: #3B4455;\n",
              "      fill: #D2E3FC;\n",
              "    }\n",
              "\n",
              "    [theme=dark] .colab-df-convert:hover {\n",
              "      background-color: #434B5C;\n",
              "      box-shadow: 0px 1px 3px 1px rgba(0, 0, 0, 0.15);\n",
              "      filter: drop-shadow(0px 1px 2px rgba(0, 0, 0, 0.3));\n",
              "      fill: #FFFFFF;\n",
              "    }\n",
              "  </style>\n",
              "\n",
              "      <script>\n",
              "        const buttonEl =\n",
              "          document.querySelector('#df-c4b549ff-5985-4983-a7de-4de508655dcc button.colab-df-convert');\n",
              "        buttonEl.style.display =\n",
              "          google.colab.kernel.accessAllowed ? 'block' : 'none';\n",
              "\n",
              "        async function convertToInteractive(key) {\n",
              "          const element = document.querySelector('#df-c4b549ff-5985-4983-a7de-4de508655dcc');\n",
              "          const dataTable =\n",
              "            await google.colab.kernel.invokeFunction('convertToInteractive',\n",
              "                                                     [key], {});\n",
              "          if (!dataTable) return;\n",
              "\n",
              "          const docLinkHtml = 'Like what you see? Visit the ' +\n",
              "            '<a target=\"_blank\" href=https://colab.research.google.com/notebooks/data_table.ipynb>data table notebook</a>'\n",
              "            + ' to learn more about interactive tables.';\n",
              "          element.innerHTML = '';\n",
              "          dataTable['output_type'] = 'display_data';\n",
              "          await google.colab.output.renderOutput(dataTable, element);\n",
              "          const docLink = document.createElement('div');\n",
              "          docLink.innerHTML = docLinkHtml;\n",
              "          element.appendChild(docLink);\n",
              "        }\n",
              "      </script>\n",
              "    </div>\n",
              "  </div>\n",
              "  "
            ]
          },
          "metadata": {},
          "execution_count": 3
        }
      ],
      "source": [
        "# Sustituye los nombres de las columnas para una mejor interacción.\n",
        "df.rename(columns = {\n",
        "    'Page total likes': 'total_likes',\n",
        "    'Type': 'type',\n",
        "    'Category': 'category',\n",
        "    'Post Month': 'post_month',\n",
        "    'Post Weekday': 'post_weekday',\n",
        "    'Post Hour': 'post_hour',\n",
        "    'Paid': 'paid',\n",
        "    'Lifetime Post Total Reach': 'lptr',\n",
        "    'Lifetime Post Total Impressions': 'lpti',\n",
        "    'Lifetime Engaged Users': 'leu',\n",
        "    'Lifetime Post Consumers': 'lpcm',\n",
        "    'Lifetime Post Consumptions': 'lpcn',\n",
        "    'Lifetime Post Impressions by people who have liked your Page': 'lpiplp',\n",
        "    'Lifetime Post reach by people who like your Page': 'lprplp',\n",
        "    'Lifetime People who have liked your Page and engaged with your post': 'lpe',\n",
        "    'comment': 'comment',\n",
        "    'like': 'like',\n",
        "    'share': 'share',\n",
        "    'Total Interactions': 'interactions'\n",
        "}, inplace = True)\n",
        "# El inplace true, nos permite hacer la mutación sobre el mismo dataframe, sin necesidad de crear otro nuevo\n",
        "df.head()"
      ]
    },
    {
      "cell_type": "code",
      "execution_count": 4,
      "metadata": {
        "colab": {
          "base_uri": "https://localhost:8080/"
        },
        "id": "hJcgsnMAlr-R",
        "outputId": "db8a8c94-80dd-4028-f6d5-54e014849c63"
      },
      "outputs": [
        {
          "output_type": "stream",
          "name": "stdout",
          "text": [
            "Columnas X:\n",
            "   category  total_likes    type  post_month  post_weekday  post_hour  paid\n",
            "0         2       139441   Photo          12             4          3   0.0\n",
            "1         2       139441  Status          12             3         10   0.0\n",
            "2         3       139441   Photo          12             3          3   0.0\n",
            "3         2       139441   Photo          12             2         10   1.0\n",
            "4         2       139441   Photo          12             2          3   0.0\n",
            "\n",
            "Columnas y:\n",
            "    lpe\n",
            "0   119\n",
            "1  1108\n",
            "2   132\n",
            "3  1386\n",
            "4   396\n"
          ]
        }
      ],
      "source": [
        "# Determinamos las columnas del conjunto de entrada\n",
        "X = df[['category', 'total_likes', 'type', 'post_month', 'post_weekday', 'post_hour', 'paid']].copy()\n",
        "print(\"Columnas X:\")\n",
        "print(X.head())\n",
        "\n",
        "# Determinamos las columnas del conjunto de salida\n",
        "y = df[['lpe']].copy()\n",
        "print(\"\\nColumnas y:\")\n",
        "print(y.head())"
      ]
    },
    {
      "cell_type": "markdown",
      "metadata": {
        "id": "xZhr2hkECzVv"
      },
      "source": [
        "# **Ejercicio-2.**"
      ]
    },
    {
      "cell_type": "markdown",
      "metadata": {
        "id": "qZKQPUw1lr-R"
      },
      "source": [
        "Realiza una partición de los datos con 100 datos de Prueba y el resto para Entrenamiento y \n",
        "Validación.  "
      ]
    },
    {
      "cell_type": "code",
      "execution_count": 5,
      "metadata": {
        "colab": {
          "base_uri": "https://localhost:8080/"
        },
        "id": "kGfAoOPkC1PP",
        "outputId": "675e0fd8-3bb5-4148-8026-654e45ad8c69"
      },
      "outputs": [
        {
          "output_type": "stream",
          "name": "stdout",
          "text": [
            "Tamaño del conjunto de entrada para Entrenamiento y Validación:  (400, 7)\n",
            "Tamaño del conjunto de entrada para Prueba:  (100, 7)\n",
            "-----\n",
            "Tamaño del conjunto de salida para Entrenamiento y Validación:  (400, 1)\n",
            "Tamaño del conjunto de salida para Prueba:  (100, 1)\n"
          ]
        }
      ],
      "source": [
        "# Creamos nuestros datos de validación con la función trains_test_split\n",
        "X_train, X_test, y_train, y_test = train_test_split(X, y, train_size=0.80, random_state=10)\n",
        "\n",
        "print(\"Tamaño del conjunto de entrada para Entrenamiento y Validación: \", X_train.shape)\n",
        "print(\"Tamaño del conjunto de entrada para Prueba: \", X_test.shape)\n",
        "print(\"-----\")\n",
        "print(\"Tamaño del conjunto de salida para Entrenamiento y Validación: \", y_train.shape)\n",
        "print(\"Tamaño del conjunto de salida para Prueba: \", y_test.shape)"
      ]
    },
    {
      "cell_type": "code",
      "source": [
        "X_train.describe()"
      ],
      "metadata": {
        "colab": {
          "base_uri": "https://localhost:8080/",
          "height": 300
        },
        "id": "m_fnJfHaGggU",
        "outputId": "89334243-6428-4b13-8e58-230eb0355610"
      },
      "execution_count": 6,
      "outputs": [
        {
          "output_type": "execute_result",
          "data": {
            "text/plain": [
              "         category    total_likes  post_month  post_weekday  post_hour  \\\n",
              "count  400.000000     400.000000  400.000000    400.000000  400.00000   \n",
              "mean     1.872500  123039.272500    7.012500      4.122500    7.79750   \n",
              "std      0.850324   16200.661431    3.317357      2.024287    4.24931   \n",
              "min      1.000000   81370.000000    1.000000      1.000000    1.00000   \n",
              "25%      1.000000  111620.000000    4.000000      2.000000    3.00000   \n",
              "50%      2.000000  129600.000000    7.000000      4.000000    9.00000   \n",
              "75%      3.000000  136393.000000   10.000000      6.000000   11.00000   \n",
              "max      3.000000  139441.000000   12.000000      7.000000   20.00000   \n",
              "\n",
              "             paid  \n",
              "count  399.000000  \n",
              "mean     0.270677  \n",
              "std      0.444867  \n",
              "min      0.000000  \n",
              "25%      0.000000  \n",
              "50%      0.000000  \n",
              "75%      1.000000  \n",
              "max      1.000000  "
            ],
            "text/html": [
              "\n",
              "  <div id=\"df-35b0fb2a-80cb-4c1f-b8df-b6f4c55cee71\">\n",
              "    <div class=\"colab-df-container\">\n",
              "      <div>\n",
              "<style scoped>\n",
              "    .dataframe tbody tr th:only-of-type {\n",
              "        vertical-align: middle;\n",
              "    }\n",
              "\n",
              "    .dataframe tbody tr th {\n",
              "        vertical-align: top;\n",
              "    }\n",
              "\n",
              "    .dataframe thead th {\n",
              "        text-align: right;\n",
              "    }\n",
              "</style>\n",
              "<table border=\"1\" class=\"dataframe\">\n",
              "  <thead>\n",
              "    <tr style=\"text-align: right;\">\n",
              "      <th></th>\n",
              "      <th>category</th>\n",
              "      <th>total_likes</th>\n",
              "      <th>post_month</th>\n",
              "      <th>post_weekday</th>\n",
              "      <th>post_hour</th>\n",
              "      <th>paid</th>\n",
              "    </tr>\n",
              "  </thead>\n",
              "  <tbody>\n",
              "    <tr>\n",
              "      <th>count</th>\n",
              "      <td>400.000000</td>\n",
              "      <td>400.000000</td>\n",
              "      <td>400.000000</td>\n",
              "      <td>400.000000</td>\n",
              "      <td>400.00000</td>\n",
              "      <td>399.000000</td>\n",
              "    </tr>\n",
              "    <tr>\n",
              "      <th>mean</th>\n",
              "      <td>1.872500</td>\n",
              "      <td>123039.272500</td>\n",
              "      <td>7.012500</td>\n",
              "      <td>4.122500</td>\n",
              "      <td>7.79750</td>\n",
              "      <td>0.270677</td>\n",
              "    </tr>\n",
              "    <tr>\n",
              "      <th>std</th>\n",
              "      <td>0.850324</td>\n",
              "      <td>16200.661431</td>\n",
              "      <td>3.317357</td>\n",
              "      <td>2.024287</td>\n",
              "      <td>4.24931</td>\n",
              "      <td>0.444867</td>\n",
              "    </tr>\n",
              "    <tr>\n",
              "      <th>min</th>\n",
              "      <td>1.000000</td>\n",
              "      <td>81370.000000</td>\n",
              "      <td>1.000000</td>\n",
              "      <td>1.000000</td>\n",
              "      <td>1.00000</td>\n",
              "      <td>0.000000</td>\n",
              "    </tr>\n",
              "    <tr>\n",
              "      <th>25%</th>\n",
              "      <td>1.000000</td>\n",
              "      <td>111620.000000</td>\n",
              "      <td>4.000000</td>\n",
              "      <td>2.000000</td>\n",
              "      <td>3.00000</td>\n",
              "      <td>0.000000</td>\n",
              "    </tr>\n",
              "    <tr>\n",
              "      <th>50%</th>\n",
              "      <td>2.000000</td>\n",
              "      <td>129600.000000</td>\n",
              "      <td>7.000000</td>\n",
              "      <td>4.000000</td>\n",
              "      <td>9.00000</td>\n",
              "      <td>0.000000</td>\n",
              "    </tr>\n",
              "    <tr>\n",
              "      <th>75%</th>\n",
              "      <td>3.000000</td>\n",
              "      <td>136393.000000</td>\n",
              "      <td>10.000000</td>\n",
              "      <td>6.000000</td>\n",
              "      <td>11.00000</td>\n",
              "      <td>1.000000</td>\n",
              "    </tr>\n",
              "    <tr>\n",
              "      <th>max</th>\n",
              "      <td>3.000000</td>\n",
              "      <td>139441.000000</td>\n",
              "      <td>12.000000</td>\n",
              "      <td>7.000000</td>\n",
              "      <td>20.00000</td>\n",
              "      <td>1.000000</td>\n",
              "    </tr>\n",
              "  </tbody>\n",
              "</table>\n",
              "</div>\n",
              "      <button class=\"colab-df-convert\" onclick=\"convertToInteractive('df-35b0fb2a-80cb-4c1f-b8df-b6f4c55cee71')\"\n",
              "              title=\"Convert this dataframe to an interactive table.\"\n",
              "              style=\"display:none;\">\n",
              "        \n",
              "  <svg xmlns=\"http://www.w3.org/2000/svg\" height=\"24px\"viewBox=\"0 0 24 24\"\n",
              "       width=\"24px\">\n",
              "    <path d=\"M0 0h24v24H0V0z\" fill=\"none\"/>\n",
              "    <path d=\"M18.56 5.44l.94 2.06.94-2.06 2.06-.94-2.06-.94-.94-2.06-.94 2.06-2.06.94zm-11 1L8.5 8.5l.94-2.06 2.06-.94-2.06-.94L8.5 2.5l-.94 2.06-2.06.94zm10 10l.94 2.06.94-2.06 2.06-.94-2.06-.94-.94-2.06-.94 2.06-2.06.94z\"/><path d=\"M17.41 7.96l-1.37-1.37c-.4-.4-.92-.59-1.43-.59-.52 0-1.04.2-1.43.59L10.3 9.45l-7.72 7.72c-.78.78-.78 2.05 0 2.83L4 21.41c.39.39.9.59 1.41.59.51 0 1.02-.2 1.41-.59l7.78-7.78 2.81-2.81c.8-.78.8-2.07 0-2.86zM5.41 20L4 18.59l7.72-7.72 1.47 1.35L5.41 20z\"/>\n",
              "  </svg>\n",
              "      </button>\n",
              "      \n",
              "  <style>\n",
              "    .colab-df-container {\n",
              "      display:flex;\n",
              "      flex-wrap:wrap;\n",
              "      gap: 12px;\n",
              "    }\n",
              "\n",
              "    .colab-df-convert {\n",
              "      background-color: #E8F0FE;\n",
              "      border: none;\n",
              "      border-radius: 50%;\n",
              "      cursor: pointer;\n",
              "      display: none;\n",
              "      fill: #1967D2;\n",
              "      height: 32px;\n",
              "      padding: 0 0 0 0;\n",
              "      width: 32px;\n",
              "    }\n",
              "\n",
              "    .colab-df-convert:hover {\n",
              "      background-color: #E2EBFA;\n",
              "      box-shadow: 0px 1px 2px rgba(60, 64, 67, 0.3), 0px 1px 3px 1px rgba(60, 64, 67, 0.15);\n",
              "      fill: #174EA6;\n",
              "    }\n",
              "\n",
              "    [theme=dark] .colab-df-convert {\n",
              "      background-color: #3B4455;\n",
              "      fill: #D2E3FC;\n",
              "    }\n",
              "\n",
              "    [theme=dark] .colab-df-convert:hover {\n",
              "      background-color: #434B5C;\n",
              "      box-shadow: 0px 1px 3px 1px rgba(0, 0, 0, 0.15);\n",
              "      filter: drop-shadow(0px 1px 2px rgba(0, 0, 0, 0.3));\n",
              "      fill: #FFFFFF;\n",
              "    }\n",
              "  </style>\n",
              "\n",
              "      <script>\n",
              "        const buttonEl =\n",
              "          document.querySelector('#df-35b0fb2a-80cb-4c1f-b8df-b6f4c55cee71 button.colab-df-convert');\n",
              "        buttonEl.style.display =\n",
              "          google.colab.kernel.accessAllowed ? 'block' : 'none';\n",
              "\n",
              "        async function convertToInteractive(key) {\n",
              "          const element = document.querySelector('#df-35b0fb2a-80cb-4c1f-b8df-b6f4c55cee71');\n",
              "          const dataTable =\n",
              "            await google.colab.kernel.invokeFunction('convertToInteractive',\n",
              "                                                     [key], {});\n",
              "          if (!dataTable) return;\n",
              "\n",
              "          const docLinkHtml = 'Like what you see? Visit the ' +\n",
              "            '<a target=\"_blank\" href=https://colab.research.google.com/notebooks/data_table.ipynb>data table notebook</a>'\n",
              "            + ' to learn more about interactive tables.';\n",
              "          element.innerHTML = '';\n",
              "          dataTable['output_type'] = 'display_data';\n",
              "          await google.colab.output.renderOutput(dataTable, element);\n",
              "          const docLink = document.createElement('div');\n",
              "          docLink.innerHTML = docLinkHtml;\n",
              "          element.appendChild(docLink);\n",
              "        }\n",
              "      </script>\n",
              "    </div>\n",
              "  </div>\n",
              "  "
            ]
          },
          "metadata": {},
          "execution_count": 6
        }
      ]
    },
    {
      "cell_type": "code",
      "source": [
        "y_train.describe()"
      ],
      "metadata": {
        "colab": {
          "base_uri": "https://localhost:8080/",
          "height": 300
        },
        "id": "MZ7YALLdG_59",
        "outputId": "699518b8-311d-472b-eec6-a61fee325e84"
      },
      "execution_count": 7,
      "outputs": [
        {
          "output_type": "execute_result",
          "data": {
            "text/plain": [
              "               lpe\n",
              "count   400.000000\n",
              "mean    604.920000\n",
              "std     599.561188\n",
              "min       9.000000\n",
              "25%     287.000000\n",
              "50%     408.000000\n",
              "75%     636.750000\n",
              "max    4376.000000"
            ],
            "text/html": [
              "\n",
              "  <div id=\"df-abc0b7df-171b-4a6b-86ec-97e176f1560e\">\n",
              "    <div class=\"colab-df-container\">\n",
              "      <div>\n",
              "<style scoped>\n",
              "    .dataframe tbody tr th:only-of-type {\n",
              "        vertical-align: middle;\n",
              "    }\n",
              "\n",
              "    .dataframe tbody tr th {\n",
              "        vertical-align: top;\n",
              "    }\n",
              "\n",
              "    .dataframe thead th {\n",
              "        text-align: right;\n",
              "    }\n",
              "</style>\n",
              "<table border=\"1\" class=\"dataframe\">\n",
              "  <thead>\n",
              "    <tr style=\"text-align: right;\">\n",
              "      <th></th>\n",
              "      <th>lpe</th>\n",
              "    </tr>\n",
              "  </thead>\n",
              "  <tbody>\n",
              "    <tr>\n",
              "      <th>count</th>\n",
              "      <td>400.000000</td>\n",
              "    </tr>\n",
              "    <tr>\n",
              "      <th>mean</th>\n",
              "      <td>604.920000</td>\n",
              "    </tr>\n",
              "    <tr>\n",
              "      <th>std</th>\n",
              "      <td>599.561188</td>\n",
              "    </tr>\n",
              "    <tr>\n",
              "      <th>min</th>\n",
              "      <td>9.000000</td>\n",
              "    </tr>\n",
              "    <tr>\n",
              "      <th>25%</th>\n",
              "      <td>287.000000</td>\n",
              "    </tr>\n",
              "    <tr>\n",
              "      <th>50%</th>\n",
              "      <td>408.000000</td>\n",
              "    </tr>\n",
              "    <tr>\n",
              "      <th>75%</th>\n",
              "      <td>636.750000</td>\n",
              "    </tr>\n",
              "    <tr>\n",
              "      <th>max</th>\n",
              "      <td>4376.000000</td>\n",
              "    </tr>\n",
              "  </tbody>\n",
              "</table>\n",
              "</div>\n",
              "      <button class=\"colab-df-convert\" onclick=\"convertToInteractive('df-abc0b7df-171b-4a6b-86ec-97e176f1560e')\"\n",
              "              title=\"Convert this dataframe to an interactive table.\"\n",
              "              style=\"display:none;\">\n",
              "        \n",
              "  <svg xmlns=\"http://www.w3.org/2000/svg\" height=\"24px\"viewBox=\"0 0 24 24\"\n",
              "       width=\"24px\">\n",
              "    <path d=\"M0 0h24v24H0V0z\" fill=\"none\"/>\n",
              "    <path d=\"M18.56 5.44l.94 2.06.94-2.06 2.06-.94-2.06-.94-.94-2.06-.94 2.06-2.06.94zm-11 1L8.5 8.5l.94-2.06 2.06-.94-2.06-.94L8.5 2.5l-.94 2.06-2.06.94zm10 10l.94 2.06.94-2.06 2.06-.94-2.06-.94-.94-2.06-.94 2.06-2.06.94z\"/><path d=\"M17.41 7.96l-1.37-1.37c-.4-.4-.92-.59-1.43-.59-.52 0-1.04.2-1.43.59L10.3 9.45l-7.72 7.72c-.78.78-.78 2.05 0 2.83L4 21.41c.39.39.9.59 1.41.59.51 0 1.02-.2 1.41-.59l7.78-7.78 2.81-2.81c.8-.78.8-2.07 0-2.86zM5.41 20L4 18.59l7.72-7.72 1.47 1.35L5.41 20z\"/>\n",
              "  </svg>\n",
              "      </button>\n",
              "      \n",
              "  <style>\n",
              "    .colab-df-container {\n",
              "      display:flex;\n",
              "      flex-wrap:wrap;\n",
              "      gap: 12px;\n",
              "    }\n",
              "\n",
              "    .colab-df-convert {\n",
              "      background-color: #E8F0FE;\n",
              "      border: none;\n",
              "      border-radius: 50%;\n",
              "      cursor: pointer;\n",
              "      display: none;\n",
              "      fill: #1967D2;\n",
              "      height: 32px;\n",
              "      padding: 0 0 0 0;\n",
              "      width: 32px;\n",
              "    }\n",
              "\n",
              "    .colab-df-convert:hover {\n",
              "      background-color: #E2EBFA;\n",
              "      box-shadow: 0px 1px 2px rgba(60, 64, 67, 0.3), 0px 1px 3px 1px rgba(60, 64, 67, 0.15);\n",
              "      fill: #174EA6;\n",
              "    }\n",
              "\n",
              "    [theme=dark] .colab-df-convert {\n",
              "      background-color: #3B4455;\n",
              "      fill: #D2E3FC;\n",
              "    }\n",
              "\n",
              "    [theme=dark] .colab-df-convert:hover {\n",
              "      background-color: #434B5C;\n",
              "      box-shadow: 0px 1px 3px 1px rgba(0, 0, 0, 0.15);\n",
              "      filter: drop-shadow(0px 1px 2px rgba(0, 0, 0, 0.3));\n",
              "      fill: #FFFFFF;\n",
              "    }\n",
              "  </style>\n",
              "\n",
              "      <script>\n",
              "        const buttonEl =\n",
              "          document.querySelector('#df-abc0b7df-171b-4a6b-86ec-97e176f1560e button.colab-df-convert');\n",
              "        buttonEl.style.display =\n",
              "          google.colab.kernel.accessAllowed ? 'block' : 'none';\n",
              "\n",
              "        async function convertToInteractive(key) {\n",
              "          const element = document.querySelector('#df-abc0b7df-171b-4a6b-86ec-97e176f1560e');\n",
              "          const dataTable =\n",
              "            await google.colab.kernel.invokeFunction('convertToInteractive',\n",
              "                                                     [key], {});\n",
              "          if (!dataTable) return;\n",
              "\n",
              "          const docLinkHtml = 'Like what you see? Visit the ' +\n",
              "            '<a target=\"_blank\" href=https://colab.research.google.com/notebooks/data_table.ipynb>data table notebook</a>'\n",
              "            + ' to learn more about interactive tables.';\n",
              "          element.innerHTML = '';\n",
              "          dataTable['output_type'] = 'display_data';\n",
              "          await google.colab.output.renderOutput(dataTable, element);\n",
              "          const docLink = document.createElement('div');\n",
              "          docLink.innerHTML = docLinkHtml;\n",
              "          element.appendChild(docLink);\n",
              "        }\n",
              "      </script>\n",
              "    </div>\n",
              "  </div>\n",
              "  "
            ]
          },
          "metadata": {},
          "execution_count": 7
        }
      ]
    },
    {
      "cell_type": "markdown",
      "metadata": {
        "id": "NCunuooTC2W3"
      },
      "source": [
        "# **Ejercicio-3.**"
      ]
    },
    {
      "cell_type": "markdown",
      "metadata": {
        "id": "tYSNs1fklr-S"
      },
      "source": [
        "Definirás tus propias funciones de errores para este problema de regresión. Los errores que \n",
        "utilizarás son la raíz cuadrada del error cuadrático medio RMSE, el error absoluto medio MAE y el \n",
        "error porcentual absoluto medio MAPE. "
      ]
    },
    {
      "cell_type": "code",
      "execution_count": 8,
      "metadata": {
        "id": "YXlcSWA-C4Dj"
      },
      "outputs": [],
      "source": [
        "# Raíz del error cuadrático medio\n",
        "def rmse(y, y_hat):\n",
        "    substraction = (y - y_hat)\n",
        "    square = np.square(substraction)\n",
        "    MSE = square.mean()\n",
        "    RMSE = np.sqrt(MSE)\n",
        "\n",
        "    return RMSE"
      ]
    },
    {
      "cell_type": "code",
      "execution_count": 9,
      "metadata": {
        "id": "BKI80-YdC4HN"
      },
      "outputs": [],
      "source": [
        "# Error absoluto medio\n",
        "def mae(y, y_hat):\n",
        "    absolute = np.abs(y - y_hat)\n",
        "    average = np.mean(absolute)\n",
        "\n",
        "    return average"
      ]
    },
    {
      "cell_type": "code",
      "execution_count": 10,
      "metadata": {
        "id": "xgz8Keyplr-S"
      },
      "outputs": [],
      "source": [
        "# Error absoluto medio porcentual\n",
        "def mape(y, y_hat):\n",
        "    absolute = np.abs((y - y_hat) / y)\n",
        "    average = np.mean(absolute)\n",
        "    percentage = average * 100\n",
        "\n",
        "    return percentage"
      ]
    },
    {
      "cell_type": "markdown",
      "metadata": {
        "id": "chqk9jIDC5Pq"
      },
      "source": [
        "# **Ejercicio-4.**"
      ]
    },
    {
      "cell_type": "markdown",
      "metadata": {
        "id": "8tOT101Slr-S"
      },
      "source": [
        "En la página de la UCI, así como en el artículo de los autores previamente citado encuentras información en relación al significado de cada variable. Haz una análisis de tus datos y lleva a cabo las transformaciones que consideres adecuadas tanto en los datos de entrada, como en las de salida. Utiliza un Pipeline para evitar el filtrado de información. "
      ]
    },
    {
      "cell_type": "code",
      "execution_count": 11,
      "metadata": {
        "id": "Eg0YGHURUO0q"
      },
      "outputs": [],
      "source": [
        "# Función que grafica un histograma de acuerdo con los parámetros predefinidos\n",
        "def plot_hist(df_data):\n",
        "  # Tamaño de la figura\n",
        "  sns.set(rc={'figure.figsize':(12,4)})\n",
        "  len_col = len(df_data.columns)\n",
        "  # Ventana de 1x3 nichos para incluir en cada uno de ellos un gráfico.\n",
        "  fig, axes = plt.subplots(1, len_col)\n",
        "  for k in range(0,len_col):\n",
        "    plt.subplot(1, len_col, k+1)\n",
        "    # df_data.columns devuelve una lista con los nombres de las columnas.\n",
        "    plt.hist(df_data[df_data.columns[k]], bins=20)\n",
        "    plt.xlabel(df_data.columns[k])\n",
        "  plt.show()\n"
      ]
    },
    {
      "cell_type": "markdown",
      "source": [
        "### Análisis de los Datos"
      ],
      "metadata": {
        "id": "TXbfySUDIA1s"
      }
    },
    {
      "cell_type": "code",
      "source": [
        "X_train.info()"
      ],
      "metadata": {
        "colab": {
          "base_uri": "https://localhost:8080/"
        },
        "id": "IyijiQ85V78z",
        "outputId": "4d814ff4-6575-4c9e-9197-838d209c6f2a"
      },
      "execution_count": 12,
      "outputs": [
        {
          "output_type": "stream",
          "name": "stdout",
          "text": [
            "<class 'pandas.core.frame.DataFrame'>\n",
            "Int64Index: 400 entries, 305 to 265\n",
            "Data columns (total 7 columns):\n",
            " #   Column        Non-Null Count  Dtype  \n",
            "---  ------        --------------  -----  \n",
            " 0   category      400 non-null    int64  \n",
            " 1   total_likes   400 non-null    int64  \n",
            " 2   type          400 non-null    object \n",
            " 3   post_month    400 non-null    int64  \n",
            " 4   post_weekday  400 non-null    int64  \n",
            " 5   post_hour     400 non-null    int64  \n",
            " 6   paid          399 non-null    float64\n",
            "dtypes: float64(1), int64(5), object(1)\n",
            "memory usage: 25.0+ KB\n"
          ]
        }
      ]
    },
    {
      "cell_type": "code",
      "execution_count": 13,
      "metadata": {
        "colab": {
          "base_uri": "https://localhost:8080/",
          "height": 285
        },
        "id": "sgg0h865Uby6",
        "outputId": "62e84865-55c8-4da6-a707-82976e18ba7a"
      },
      "outputs": [
        {
          "output_type": "display_data",
          "data": {
            "text/plain": [
              "<Figure size 864x288 with 4 Axes>"
            ],
            "image/png": "[encoded data removed]"
          },
          "metadata": {}
        }
      ],
      "source": [
        "# Histograma de las variables de entrada\n",
        "plot_hist(X_train[['category', 'type', 'paid', 'total_likes']])"
      ]
    },
    {
      "cell_type": "code",
      "execution_count": 14,
      "metadata": {
        "colab": {
          "base_uri": "https://localhost:8080/",
          "height": 285
        },
        "id": "OGGXiUOzV09D",
        "outputId": "400f7151-152f-46b7-ec42-2ee2cf3e6441"
      },
      "outputs": [
        {
          "output_type": "display_data",
          "data": {
            "text/plain": [
              "<Figure size 864x288 with 3 Axes>"
            ],
            "image/png": "[encoded data removed]"
          },
          "metadata": {}
        }
      ],
      "source": [
        "# Histograma de las variables de entrada\n",
        "plot_hist(X_train[['post_month', 'post_weekday', 'post_hour']])"
      ]
    },
    {
      "cell_type": "code",
      "source": [
        "# Histograma de las variables de salida\n",
        "plot_hist(y_train[['lpe']])"
      ],
      "metadata": {
        "colab": {
          "base_uri": "https://localhost:8080/",
          "height": 285
        },
        "id": "-IKzIMq1HRgU",
        "outputId": "9d98c95b-acf4-4fd4-e1ee-0d419e03afed"
      },
      "execution_count": 15,
      "outputs": [
        {
          "output_type": "display_data",
          "data": {
            "text/plain": [
              "<Figure size 864x288 with 1 Axes>"
            ],
            "image/png": "[encoded data removed]"
          },
          "metadata": {}
        }
      ]
    },
    {
      "cell_type": "code",
      "execution_count": 16,
      "metadata": {
        "id": "GhyEQ2FlyEZ5",
        "outputId": "d6b8560b-1d35-426d-e269-fa6f179ef401",
        "colab": {
          "base_uri": "https://localhost:8080/",
          "height": 206
        }
      },
      "outputs": [
        {
          "output_type": "execute_result",
          "data": {
            "text/plain": [
              "     category  total_likes    type  post_month  post_weekday  post_hour  paid\n",
              "305         3       124940   Photo           6             4          2   0.0\n",
              "107         2       136736  Status          10             1          4   0.0\n",
              "350         2       116435   Photo           5             5          9   0.0\n",
              "334         2       119198  Status           5             1          2   0.0\n",
              "142         2       136013  Status          10             3          2   1.0"
            ],
            "text/html": [
              "\n",
              "  <div id=\"df-bf9a023a-d67f-4b4b-a824-60b0b2735a0f\">\n",
              "    <div class=\"colab-df-container\">\n",
              "      <div>\n",
              "<style scoped>\n",
              "    .dataframe tbody tr th:only-of-type {\n",
              "        vertical-align: middle;\n",
              "    }\n",
              "\n",
              "    .dataframe tbody tr th {\n",
              "        vertical-align: top;\n",
              "    }\n",
              "\n",
              "    .dataframe thead th {\n",
              "        text-align: right;\n",
              "    }\n",
              "</style>\n",
              "<table border=\"1\" class=\"dataframe\">\n",
              "  <thead>\n",
              "    <tr style=\"text-align: right;\">\n",
              "      <th></th>\n",
              "      <th>category</th>\n",
              "      <th>total_likes</th>\n",
              "      <th>type</th>\n",
              "      <th>post_month</th>\n",
              "      <th>post_weekday</th>\n",
              "      <th>post_hour</th>\n",
              "      <th>paid</th>\n",
              "    </tr>\n",
              "  </thead>\n",
              "  <tbody>\n",
              "    <tr>\n",
              "      <th>305</th>\n",
              "      <td>3</td>\n",
              "      <td>124940</td>\n",
              "      <td>Photo</td>\n",
              "      <td>6</td>\n",
              "      <td>4</td>\n",
              "      <td>2</td>\n",
              "      <td>0.0</td>\n",
              "    </tr>\n",
              "    <tr>\n",
              "      <th>107</th>\n",
              "      <td>2</td>\n",
              "      <td>136736</td>\n",
              "      <td>Status</td>\n",
              "      <td>10</td>\n",
              "      <td>1</td>\n",
              "      <td>4</td>\n",
              "      <td>0.0</td>\n",
              "    </tr>\n",
              "    <tr>\n",
              "      <th>350</th>\n",
              "      <td>2</td>\n",
              "      <td>116435</td>\n",
              "      <td>Photo</td>\n",
              "      <td>5</td>\n",
              "      <td>5</td>\n",
              "      <td>9</td>\n",
              "      <td>0.0</td>\n",
              "    </tr>\n",
              "    <tr>\n",
              "      <th>334</th>\n",
              "      <td>2</td>\n",
              "      <td>119198</td>\n",
              "      <td>Status</td>\n",
              "      <td>5</td>\n",
              "      <td>1</td>\n",
              "      <td>2</td>\n",
              "      <td>0.0</td>\n",
              "    </tr>\n",
              "    <tr>\n",
              "      <th>142</th>\n",
              "      <td>2</td>\n",
              "      <td>136013</td>\n",
              "      <td>Status</td>\n",
              "      <td>10</td>\n",
              "      <td>3</td>\n",
              "      <td>2</td>\n",
              "      <td>1.0</td>\n",
              "    </tr>\n",
              "  </tbody>\n",
              "</table>\n",
              "</div>\n",
              "      <button class=\"colab-df-convert\" onclick=\"convertToInteractive('df-bf9a023a-d67f-4b4b-a824-60b0b2735a0f')\"\n",
              "              title=\"Convert this dataframe to an interactive table.\"\n",
              "              style=\"display:none;\">\n",
              "        \n",
              "  <svg xmlns=\"http://www.w3.org/2000/svg\" height=\"24px\"viewBox=\"0 0 24 24\"\n",
              "       width=\"24px\">\n",
              "    <path d=\"M0 0h24v24H0V0z\" fill=\"none\"/>\n",
              "    <path d=\"M18.56 5.44l.94 2.06.94-2.06 2.06-.94-2.06-.94-.94-2.06-.94 2.06-2.06.94zm-11 1L8.5 8.5l.94-2.06 2.06-.94-2.06-.94L8.5 2.5l-.94 2.06-2.06.94zm10 10l.94 2.06.94-2.06 2.06-.94-2.06-.94-.94-2.06-.94 2.06-2.06.94z\"/><path d=\"M17.41 7.96l-1.37-1.37c-.4-.4-.92-.59-1.43-.59-.52 0-1.04.2-1.43.59L10.3 9.45l-7.72 7.72c-.78.78-.78 2.05 0 2.83L4 21.41c.39.39.9.59 1.41.59.51 0 1.02-.2 1.41-.59l7.78-7.78 2.81-2.81c.8-.78.8-2.07 0-2.86zM5.41 20L4 18.59l7.72-7.72 1.47 1.35L5.41 20z\"/>\n",
              "  </svg>\n",
              "      </button>\n",
              "      \n",
              "  <style>\n",
              "    .colab-df-container {\n",
              "      display:flex;\n",
              "      flex-wrap:wrap;\n",
              "      gap: 12px;\n",
              "    }\n",
              "\n",
              "    .colab-df-convert {\n",
              "      background-color: #E8F0FE;\n",
              "      border: none;\n",
              "      border-radius: 50%;\n",
              "      cursor: pointer;\n",
              "      display: none;\n",
              "      fill: #1967D2;\n",
              "      height: 32px;\n",
              "      padding: 0 0 0 0;\n",
              "      width: 32px;\n",
              "    }\n",
              "\n",
              "    .colab-df-convert:hover {\n",
              "      background-color: #E2EBFA;\n",
              "      box-shadow: 0px 1px 2px rgba(60, 64, 67, 0.3), 0px 1px 3px 1px rgba(60, 64, 67, 0.15);\n",
              "      fill: #174EA6;\n",
              "    }\n",
              "\n",
              "    [theme=dark] .colab-df-convert {\n",
              "      background-color: #3B4455;\n",
              "      fill: #D2E3FC;\n",
              "    }\n",
              "\n",
              "    [theme=dark] .colab-df-convert:hover {\n",
              "      background-color: #434B5C;\n",
              "      box-shadow: 0px 1px 3px 1px rgba(0, 0, 0, 0.15);\n",
              "      filter: drop-shadow(0px 1px 2px rgba(0, 0, 0, 0.3));\n",
              "      fill: #FFFFFF;\n",
              "    }\n",
              "  </style>\n",
              "\n",
              "      <script>\n",
              "        const buttonEl =\n",
              "          document.querySelector('#df-bf9a023a-d67f-4b4b-a824-60b0b2735a0f button.colab-df-convert');\n",
              "        buttonEl.style.display =\n",
              "          google.colab.kernel.accessAllowed ? 'block' : 'none';\n",
              "\n",
              "        async function convertToInteractive(key) {\n",
              "          const element = document.querySelector('#df-bf9a023a-d67f-4b4b-a824-60b0b2735a0f');\n",
              "          const dataTable =\n",
              "            await google.colab.kernel.invokeFunction('convertToInteractive',\n",
              "                                                     [key], {});\n",
              "          if (!dataTable) return;\n",
              "\n",
              "          const docLinkHtml = 'Like what you see? Visit the ' +\n",
              "            '<a target=\"_blank\" href=https://colab.research.google.com/notebooks/data_table.ipynb>data table notebook</a>'\n",
              "            + ' to learn more about interactive tables.';\n",
              "          element.innerHTML = '';\n",
              "          dataTable['output_type'] = 'display_data';\n",
              "          await google.colab.output.renderOutput(dataTable, element);\n",
              "          const docLink = document.createElement('div');\n",
              "          docLink.innerHTML = docLinkHtml;\n",
              "          element.appendChild(docLink);\n",
              "        }\n",
              "      </script>\n",
              "    </div>\n",
              "  </div>\n",
              "  "
            ]
          },
          "metadata": {},
          "execution_count": 16
        }
      ],
      "source": [
        "X_train.head()"
      ]
    },
    {
      "cell_type": "code",
      "source": [
        "# Columnas categóricas: type, category\n",
        "df_name_cate = ['type', 'category']\n",
        "# Columnas ordinales o discretas cuantitativas: post_month, post_weekday, post_hour\n",
        "df_name_ord = ['post_month','post_weekday','post_hour']\n",
        "# Columnas numéricas o cuantitativas: total_likes\n",
        "df_name_num = ['total_likes']\n",
        "# Columnas binarias: paid\n",
        "df_name_bin = ['paid']"
      ],
      "metadata": {
        "id": "H981d8z7IHe3"
      },
      "execution_count": 17,
      "outputs": []
    },
    {
      "cell_type": "code",
      "execution_count": 18,
      "metadata": {
        "colab": {
          "base_uri": "https://localhost:8080/"
        },
        "id": "V0rMU3D9lkJ_",
        "outputId": "d6a3babd-c76a-4489-efec-45413b8af678"
      },
      "outputs": [
        {
          "output_type": "stream",
          "name": "stdout",
          "text": [
            "type:  ['Photo' 'Status' 'Link' 'Video']\n",
            "category:  [3 2 1]\n"
          ]
        }
      ],
      "source": [
        "# Muestra de los valores de los datos categóricos\n",
        "for n in df_name_cate:\n",
        "  print(n + \": \", X_train[n].unique())"
      ]
    },
    {
      "cell_type": "code",
      "execution_count": 19,
      "metadata": {
        "colab": {
          "base_uri": "https://localhost:8080/"
        },
        "id": "dgSP2cNflwqP",
        "outputId": "75e70a03-468c-44e3-fa72-d2e38a56fef4"
      },
      "outputs": [
        {
          "output_type": "stream",
          "name": "stdout",
          "text": [
            "post_month:  [ 6 10  5  7  4 11  2  1 12  8  3  9]\n",
            "post_weekday:  [4 1 5 3 7 2 6]\n",
            "post_hour:  [ 2  4  9 11 13  1  8  3 12  6 10  5 17 20 15 14  7 18 19]\n"
          ]
        }
      ],
      "source": [
        "# Muestra de los valores de los datos ordinales\n",
        "for n in df_name_ord:\n",
        "  print(n + \": \", X_train[n].unique())"
      ]
    },
    {
      "cell_type": "code",
      "execution_count": 20,
      "metadata": {
        "id": "TWWa9IgPyEZ6",
        "outputId": "89691138-cc42-461c-8b02-140795ba433c",
        "colab": {
          "base_uri": "https://localhost:8080/"
        }
      },
      "outputs": [
        {
          "output_type": "stream",
          "name": "stdout",
          "text": [
            "total_likes min:  81370\n",
            "total_likes max:  139441\n"
          ]
        }
      ],
      "source": [
        "# Muestra de los valores de los datos numéricos\n",
        "for n in df_name_num:\n",
        "  #print(n + \": \", X_train[n].unique())\n",
        "  print(n + \" min: \", X_train[n].min())\n",
        "  print(n + \" max: \", X_train[n].max())"
      ]
    },
    {
      "cell_type": "code",
      "execution_count": 21,
      "metadata": {
        "colab": {
          "base_uri": "https://localhost:8080/"
        },
        "id": "H3eNglfKl7lU",
        "outputId": "f0a741a2-006c-4442-c039-404c6e102bf8"
      },
      "outputs": [
        {
          "output_type": "stream",
          "name": "stdout",
          "text": [
            "paid:  [ 0.  1. nan]\n"
          ]
        }
      ],
      "source": [
        "# Muestra de los valores de los datos binarios\n",
        "for n in df_name_bin:\n",
        "  print(n + \": \", X_train[n].unique())"
      ]
    },
    {
      "cell_type": "code",
      "execution_count": 22,
      "metadata": {
        "colab": {
          "base_uri": "https://localhost:8080/"
        },
        "id": "I2Lue6PymCfK",
        "outputId": "1396476c-0741-43c0-a3b1-1829adf34977"
      },
      "outputs": [
        {
          "output_type": "execute_result",
          "data": {
            "text/plain": [
              "category        0\n",
              "total_likes     0\n",
              "type            0\n",
              "post_month      0\n",
              "post_weekday    0\n",
              "post_hour       0\n",
              "paid            1\n",
              "dtype: int64"
            ]
          },
          "metadata": {},
          "execution_count": 22
        }
      ],
      "source": [
        "# Búsqueda de los datos nulos en los datos de entrada\n",
        "X_train.isnull().sum()"
      ]
    },
    {
      "cell_type": "code",
      "execution_count": 23,
      "metadata": {
        "colab": {
          "base_uri": "https://localhost:8080/"
        },
        "id": "4HMU4GhYmLjb",
        "outputId": "e1360172-e30c-4fe1-dae9-8986819a958e"
      },
      "outputs": [
        {
          "output_type": "execute_result",
          "data": {
            "text/plain": [
              "category        False\n",
              "total_likes     False\n",
              "type            False\n",
              "post_month      False\n",
              "post_weekday    False\n",
              "post_hour       False\n",
              "paid             True\n",
              "dtype: bool"
            ]
          },
          "metadata": {},
          "execution_count": 23
        }
      ],
      "source": [
        "# Búsqueda de los datos nan en los datos de entrada\n",
        "X_train.isna().any()"
      ]
    },
    {
      "cell_type": "code",
      "execution_count": 24,
      "metadata": {
        "id": "Prr4TJ58mYWL"
      },
      "outputs": [],
      "source": [
        "# Grafica de datos faltantes en los datos de entrada\n",
        "#msno.matrix(X_train)"
      ]
    },
    {
      "cell_type": "code",
      "execution_count": 25,
      "metadata": {
        "id": "tCb8D4lYyEZ6",
        "outputId": "f27b0425-c2b4-4f4f-e6f3-6b5e1c00ad7a",
        "colab": {
          "base_uri": "https://localhost:8080/"
        }
      },
      "outputs": [
        {
          "output_type": "stream",
          "name": "stdout",
          "text": [
            "'nulos' en los datos de salida:\n",
            "  lpe    0\n",
            "dtype: int64\n",
            "\n",
            "\n",
            "'na' en los datos de salida:\n",
            " lpe    False\n",
            "dtype: bool\n"
          ]
        }
      ],
      "source": [
        "# Búsqueda de los datos nulos en los datos de salida\n",
        "print(\"'nulos' en los datos de salida:\\n \", y_train.isnull().sum())\n",
        "print(\"\\n\")\n",
        "# Búsqueda de los datos nan en los datos de salida\n",
        "print(\"'na' en los datos de salida:\\n\",y_train.isna().any())"
      ]
    },
    {
      "cell_type": "code",
      "source": [
        "print(\"y_train min: \", y_train['lpe'].min())\n",
        "print(\"y_train max: \", y_train['lpe'].max())"
      ],
      "metadata": {
        "colab": {
          "base_uri": "https://localhost:8080/"
        },
        "id": "g-BHwMeZNGdh",
        "outputId": "396e4ff6-b7bd-4a1e-9624-8999e734040e"
      },
      "execution_count": 26,
      "outputs": [
        {
          "output_type": "stream",
          "name": "stdout",
          "text": [
            "y_train min:  9\n",
            "y_train max:  4376\n"
          ]
        }
      ]
    },
    {
      "cell_type": "code",
      "source": [
        "X_train.agg(['skew', 'kurtosis'])"
      ],
      "metadata": {
        "colab": {
          "base_uri": "https://localhost:8080/",
          "height": 112
        },
        "id": "KVm7YrfNhF8V",
        "outputId": "fa178a62-8813-4e27-b542-e9e0f427158d"
      },
      "execution_count": 27,
      "outputs": [
        {
          "output_type": "execute_result",
          "data": {
            "text/plain": [
              "          category  total_likes  post_month  post_weekday  post_hour      paid\n",
              "skew      0.246546    -0.940290   -0.077253     -0.067594   0.107254  1.036168\n",
              "kurtosis -1.575156    -0.338469   -1.165671     -1.279791  -1.159563 -0.931048"
            ],
            "text/html": [
              "\n",
              "  <div id=\"df-56938315-44a1-4bc0-9c4d-f3e48021ec18\">\n",
              "    <div class=\"colab-df-container\">\n",
              "      <div>\n",
              "<style scoped>\n",
              "    .dataframe tbody tr th:only-of-type {\n",
              "        vertical-align: middle;\n",
              "    }\n",
              "\n",
              "    .dataframe tbody tr th {\n",
              "        vertical-align: top;\n",
              "    }\n",
              "\n",
              "    .dataframe thead th {\n",
              "        text-align: right;\n",
              "    }\n",
              "</style>\n",
              "<table border=\"1\" class=\"dataframe\">\n",
              "  <thead>\n",
              "    <tr style=\"text-align: right;\">\n",
              "      <th></th>\n",
              "      <th>category</th>\n",
              "      <th>total_likes</th>\n",
              "      <th>post_month</th>\n",
              "      <th>post_weekday</th>\n",
              "      <th>post_hour</th>\n",
              "      <th>paid</th>\n",
              "    </tr>\n",
              "  </thead>\n",
              "  <tbody>\n",
              "    <tr>\n",
              "      <th>skew</th>\n",
              "      <td>0.246546</td>\n",
              "      <td>-0.940290</td>\n",
              "      <td>-0.077253</td>\n",
              "      <td>-0.067594</td>\n",
              "      <td>0.107254</td>\n",
              "      <td>1.036168</td>\n",
              "    </tr>\n",
              "    <tr>\n",
              "      <th>kurtosis</th>\n",
              "      <td>-1.575156</td>\n",
              "      <td>-0.338469</td>\n",
              "      <td>-1.165671</td>\n",
              "      <td>-1.279791</td>\n",
              "      <td>-1.159563</td>\n",
              "      <td>-0.931048</td>\n",
              "    </tr>\n",
              "  </tbody>\n",
              "</table>\n",
              "</div>\n",
              "      <button class=\"colab-df-convert\" onclick=\"convertToInteractive('df-56938315-44a1-4bc0-9c4d-f3e48021ec18')\"\n",
              "              title=\"Convert this dataframe to an interactive table.\"\n",
              "              style=\"display:none;\">\n",
              "        \n",
              "  <svg xmlns=\"http://www.w3.org/2000/svg\" height=\"24px\"viewBox=\"0 0 24 24\"\n",
              "       width=\"24px\">\n",
              "    <path d=\"M0 0h24v24H0V0z\" fill=\"none\"/>\n",
              "    <path d=\"M18.56 5.44l.94 2.06.94-2.06 2.06-.94-2.06-.94-.94-2.06-.94 2.06-2.06.94zm-11 1L8.5 8.5l.94-2.06 2.06-.94-2.06-.94L8.5 2.5l-.94 2.06-2.06.94zm10 10l.94 2.06.94-2.06 2.06-.94-2.06-.94-.94-2.06-.94 2.06-2.06.94z\"/><path d=\"M17.41 7.96l-1.37-1.37c-.4-.4-.92-.59-1.43-.59-.52 0-1.04.2-1.43.59L10.3 9.45l-7.72 7.72c-.78.78-.78 2.05 0 2.83L4 21.41c.39.39.9.59 1.41.59.51 0 1.02-.2 1.41-.59l7.78-7.78 2.81-2.81c.8-.78.8-2.07 0-2.86zM5.41 20L4 18.59l7.72-7.72 1.47 1.35L5.41 20z\"/>\n",
              "  </svg>\n",
              "      </button>\n",
              "      \n",
              "  <style>\n",
              "    .colab-df-container {\n",
              "      display:flex;\n",
              "      flex-wrap:wrap;\n",
              "      gap: 12px;\n",
              "    }\n",
              "\n",
              "    .colab-df-convert {\n",
              "      background-color: #E8F0FE;\n",
              "      border: none;\n",
              "      border-radius: 50%;\n",
              "      cursor: pointer;\n",
              "      display: none;\n",
              "      fill: #1967D2;\n",
              "      height: 32px;\n",
              "      padding: 0 0 0 0;\n",
              "      width: 32px;\n",
              "    }\n",
              "\n",
              "    .colab-df-convert:hover {\n",
              "      background-color: #E2EBFA;\n",
              "      box-shadow: 0px 1px 2px rgba(60, 64, 67, 0.3), 0px 1px 3px 1px rgba(60, 64, 67, 0.15);\n",
              "      fill: #174EA6;\n",
              "    }\n",
              "\n",
              "    [theme=dark] .colab-df-convert {\n",
              "      background-color: #3B4455;\n",
              "      fill: #D2E3FC;\n",
              "    }\n",
              "\n",
              "    [theme=dark] .colab-df-convert:hover {\n",
              "      background-color: #434B5C;\n",
              "      box-shadow: 0px 1px 3px 1px rgba(0, 0, 0, 0.15);\n",
              "      filter: drop-shadow(0px 1px 2px rgba(0, 0, 0, 0.3));\n",
              "      fill: #FFFFFF;\n",
              "    }\n",
              "  </style>\n",
              "\n",
              "      <script>\n",
              "        const buttonEl =\n",
              "          document.querySelector('#df-56938315-44a1-4bc0-9c4d-f3e48021ec18 button.colab-df-convert');\n",
              "        buttonEl.style.display =\n",
              "          google.colab.kernel.accessAllowed ? 'block' : 'none';\n",
              "\n",
              "        async function convertToInteractive(key) {\n",
              "          const element = document.querySelector('#df-56938315-44a1-4bc0-9c4d-f3e48021ec18');\n",
              "          const dataTable =\n",
              "            await google.colab.kernel.invokeFunction('convertToInteractive',\n",
              "                                                     [key], {});\n",
              "          if (!dataTable) return;\n",
              "\n",
              "          const docLinkHtml = 'Like what you see? Visit the ' +\n",
              "            '<a target=\"_blank\" href=https://colab.research.google.com/notebooks/data_table.ipynb>data table notebook</a>'\n",
              "            + ' to learn more about interactive tables.';\n",
              "          element.innerHTML = '';\n",
              "          dataTable['output_type'] = 'display_data';\n",
              "          await google.colab.output.renderOutput(dataTable, element);\n",
              "          const docLink = document.createElement('div');\n",
              "          docLink.innerHTML = docLinkHtml;\n",
              "          element.appendChild(docLink);\n",
              "        }\n",
              "      </script>\n",
              "    </div>\n",
              "  </div>\n",
              "  "
            ]
          },
          "metadata": {},
          "execution_count": 27
        }
      ]
    },
    {
      "cell_type": "markdown",
      "source": [
        "* La variable de entrada **'total_likes'** tiene una inclinación negativa (los datos están cargados hacia la derecha) moderadamente pronunciada, cercana a -1, por lo que se debe ajustar para que tenga una distribución normalizada, ya que se va a utilizar un modelo de regresión lineal.\n",
        "\n",
        "* **'total_likes'** es una variable donde se cuenta el acumulado de likes dados en un post, los números pueden crecer fuera de un rango de manera rápida, por lo que se recomienda reescalar las entradas de manera periódica.\n",
        "\n",
        "* La variable de entrada **'type'** no puede ser agregada por la función *agg* puesto que no es numérica. Esta variable categórica debe ajustarse para ser tratada.\n",
        "\n",
        "* Hay un dato en blanco en la variable de entrada 'paid' el cual se decide a imputar, utilizando la moda: most frequent.\n",
        "\n",
        "* La variable de salida **'lpe'** (Lifetime people who have liked a page and engaged with a post) corresponde al *número de gente que le gustó una página y dio clic en cualquier lugar en un post (usuario únicos)*."
      ],
      "metadata": {
        "id": "W16vsRd1Jw8-"
      }
    },
    {
      "cell_type": "markdown",
      "source": [
        "### Pre-Procesamiento"
      ],
      "metadata": {
        "id": "cceVOMFcHwBe"
      }
    },
    {
      "cell_type": "code",
      "source": [
        "# https://www.marsja.se/transform-skewed-data-using-square-root-log-box-cox-methods-in-python/\n",
        "# https://www.analyticsvidhya.com/blog/2021/05/how-to-transform-features-into-normal-gaussian-distribution/\n",
        "# https://towardsdatascience.com/data-transformation-and-feature-engineering-e3c7dfbb4899"
      ],
      "metadata": {
        "id": "8SnppBv_zFZq"
      },
      "execution_count": 28,
      "outputs": []
    },
    {
      "cell_type": "markdown",
      "source": [
        "#### total_likes"
      ],
      "metadata": {
        "id": "u2KCFamhDCeH"
      }
    },
    {
      "cell_type": "code",
      "source": [
        "'''\n",
        " La variable de entrada 'total_likes', del tipo numérico, muestra un histograma \n",
        " con una inclinación negativa.Se busca transformar sus datos para obtener una \n",
        " distribución cercana a un Gaussiano.\n",
        "'''\n",
        "X_tcopy = X_train[['total_likes']].copy()\n",
        "\n",
        "X_tcopy['sqrt_total_likes'] = np.sqrt(max(X_tcopy.iloc[:, 0]+1) - X_tcopy.iloc[:, 0])\n",
        "X_tcopy['log_total_likes'] = np.log(max(X_tcopy.iloc[:, 0] + 1) - X_tcopy.iloc[:, 0])\n",
        "X_tcopy['bc_total_likes'] = boxcox(X_tcopy.iloc[:, 0])[0]\n",
        "\n",
        "plot_hist(X_tcopy[['total_likes','sqrt_total_likes', 'log_total_likes', 'bc_total_likes']])\n",
        "X_tcopy.agg(['skew']).transpose()"
      ],
      "metadata": {
        "colab": {
          "base_uri": "https://localhost:8080/",
          "height": 443
        },
        "id": "fkScDix0G6-0",
        "outputId": "94aff705-cc0b-4fd0-cdd7-2e44f7f8a5ca"
      },
      "execution_count": 29,
      "outputs": [
        {
          "output_type": "display_data",
          "data": {
            "text/plain": [
              "<Figure size 864x288 with 4 Axes>"
            ],
            "image/png": "[encoded data removed]"
          },
          "metadata": {}
        },
        {
          "output_type": "execute_result",
          "data": {
            "text/plain": [
              "                      skew\n",
              "total_likes      -0.940290\n",
              "sqrt_total_likes  0.332380\n",
              "log_total_likes  -2.473810\n",
              "bc_total_likes   -0.385541"
            ],
            "text/html": [
              "\n",
              "  <div id=\"df-ae8b5d5f-f1a9-4d1d-a54a-533682cc4e3d\">\n",
              "    <div class=\"colab-df-container\">\n",
              "      <div>\n",
              "<style scoped>\n",
              "    .dataframe tbody tr th:only-of-type {\n",
              "        vertical-align: middle;\n",
              "    }\n",
              "\n",
              "    .dataframe tbody tr th {\n",
              "        vertical-align: top;\n",
              "    }\n",
              "\n",
              "    .dataframe thead th {\n",
              "        text-align: right;\n",
              "    }\n",
              "</style>\n",
              "<table border=\"1\" class=\"dataframe\">\n",
              "  <thead>\n",
              "    <tr style=\"text-align: right;\">\n",
              "      <th></th>\n",
              "      <th>skew</th>\n",
              "    </tr>\n",
              "  </thead>\n",
              "  <tbody>\n",
              "    <tr>\n",
              "      <th>total_likes</th>\n",
              "      <td>-0.940290</td>\n",
              "    </tr>\n",
              "    <tr>\n",
              "      <th>sqrt_total_likes</th>\n",
              "      <td>0.332380</td>\n",
              "    </tr>\n",
              "    <tr>\n",
              "      <th>log_total_likes</th>\n",
              "      <td>-2.473810</td>\n",
              "    </tr>\n",
              "    <tr>\n",
              "      <th>bc_total_likes</th>\n",
              "      <td>-0.385541</td>\n",
              "    </tr>\n",
              "  </tbody>\n",
              "</table>\n",
              "</div>\n",
              "      <button class=\"colab-df-convert\" onclick=\"convertToInteractive('df-ae8b5d5f-f1a9-4d1d-a54a-533682cc4e3d')\"\n",
              "              title=\"Convert this dataframe to an interactive table.\"\n",
              "              style=\"display:none;\">\n",
              "        \n",
              "  <svg xmlns=\"http://www.w3.org/2000/svg\" height=\"24px\"viewBox=\"0 0 24 24\"\n",
              "       width=\"24px\">\n",
              "    <path d=\"M0 0h24v24H0V0z\" fill=\"none\"/>\n",
              "    <path d=\"M18.56 5.44l.94 2.06.94-2.06 2.06-.94-2.06-.94-.94-2.06-.94 2.06-2.06.94zm-11 1L8.5 8.5l.94-2.06 2.06-.94-2.06-.94L8.5 2.5l-.94 2.06-2.06.94zm10 10l.94 2.06.94-2.06 2.06-.94-2.06-.94-.94-2.06-.94 2.06-2.06.94z\"/><path d=\"M17.41 7.96l-1.37-1.37c-.4-.4-.92-.59-1.43-.59-.52 0-1.04.2-1.43.59L10.3 9.45l-7.72 7.72c-.78.78-.78 2.05 0 2.83L4 21.41c.39.39.9.59 1.41.59.51 0 1.02-.2 1.41-.59l7.78-7.78 2.81-2.81c.8-.78.8-2.07 0-2.86zM5.41 20L4 18.59l7.72-7.72 1.47 1.35L5.41 20z\"/>\n",
              "  </svg>\n",
              "      </button>\n",
              "      \n",
              "  <style>\n",
              "    .colab-df-container {\n",
              "      display:flex;\n",
              "      flex-wrap:wrap;\n",
              "      gap: 12px;\n",
              "    }\n",
              "\n",
              "    .colab-df-convert {\n",
              "      background-color: #E8F0FE;\n",
              "      border: none;\n",
              "      border-radius: 50%;\n",
              "      cursor: pointer;\n",
              "      display: none;\n",
              "      fill: #1967D2;\n",
              "      height: 32px;\n",
              "      padding: 0 0 0 0;\n",
              "      width: 32px;\n",
              "    }\n",
              "\n",
              "    .colab-df-convert:hover {\n",
              "      background-color: #E2EBFA;\n",
              "      box-shadow: 0px 1px 2px rgba(60, 64, 67, 0.3), 0px 1px 3px 1px rgba(60, 64, 67, 0.15);\n",
              "      fill: #174EA6;\n",
              "    }\n",
              "\n",
              "    [theme=dark] .colab-df-convert {\n",
              "      background-color: #3B4455;\n",
              "      fill: #D2E3FC;\n",
              "    }\n",
              "\n",
              "    [theme=dark] .colab-df-convert:hover {\n",
              "      background-color: #434B5C;\n",
              "      box-shadow: 0px 1px 3px 1px rgba(0, 0, 0, 0.15);\n",
              "      filter: drop-shadow(0px 1px 2px rgba(0, 0, 0, 0.3));\n",
              "      fill: #FFFFFF;\n",
              "    }\n",
              "  </style>\n",
              "\n",
              "      <script>\n",
              "        const buttonEl =\n",
              "          document.querySelector('#df-ae8b5d5f-f1a9-4d1d-a54a-533682cc4e3d button.colab-df-convert');\n",
              "        buttonEl.style.display =\n",
              "          google.colab.kernel.accessAllowed ? 'block' : 'none';\n",
              "\n",
              "        async function convertToInteractive(key) {\n",
              "          const element = document.querySelector('#df-ae8b5d5f-f1a9-4d1d-a54a-533682cc4e3d');\n",
              "          const dataTable =\n",
              "            await google.colab.kernel.invokeFunction('convertToInteractive',\n",
              "                                                     [key], {});\n",
              "          if (!dataTable) return;\n",
              "\n",
              "          const docLinkHtml = 'Like what you see? Visit the ' +\n",
              "            '<a target=\"_blank\" href=https://colab.research.google.com/notebooks/data_table.ipynb>data table notebook</a>'\n",
              "            + ' to learn more about interactive tables.';\n",
              "          element.innerHTML = '';\n",
              "          dataTable['output_type'] = 'display_data';\n",
              "          await google.colab.output.renderOutput(dataTable, element);\n",
              "          const docLink = document.createElement('div');\n",
              "          docLink.innerHTML = docLinkHtml;\n",
              "          element.appendChild(docLink);\n",
              "        }\n",
              "      </script>\n",
              "    </div>\n",
              "  </div>\n",
              "  "
            ]
          },
          "metadata": {},
          "execution_count": 29
        }
      ]
    },
    {
      "cell_type": "markdown",
      "source": [
        "* Después de aplicar tres opciones de transformación, raíz cudrada, logaritmo y boxcox, la que mejor resultados ofrece en cuanto a la distribución es la raíz cuadrada."
      ],
      "metadata": {
        "id": "9pYBdPIX3Klu"
      }
    },
    {
      "cell_type": "code",
      "source": [
        "import scipy.stats as stats\n",
        "import pylab\n",
        "\n",
        "plt.subplot(1, 3, 1)\n",
        "stats.probplot(X_tcopy.total_likes,plot=pylab);\n",
        "plt.xlabel('total_likes')\n",
        "\n",
        "plt.subplot(1, 3, 2)\n",
        "stats.probplot(X_tcopy.sqrt_total_likes,plot=pylab);\n",
        "plt.xlabel('sqrt_total_likes');\n",
        "\n",
        "plt.subplot(1, 3, 3)\n",
        "stats.probplot(X_tcopy.log_total_likes,plot=pylab);\n",
        "plt.xlabel('log_total_likes');"
      ],
      "metadata": {
        "colab": {
          "base_uri": "https://localhost:8080/",
          "height": 301
        },
        "id": "ghUuidob5hhb",
        "outputId": "23b6315f-06cd-4329-93e2-bea6e3fc30bc"
      },
      "execution_count": 30,
      "outputs": [
        {
          "output_type": "display_data",
          "data": {
            "text/plain": [
              "<Figure size 864x288 with 3 Axes>"
            ],
            "image/png": "[encoded data removed]"
          },
          "metadata": {}
        }
      ]
    },
    {
      "cell_type": "markdown",
      "source": [
        "* Con la raíz cuadrada los datos se distribuyen mejor en la diagonal de los cuantiles.\n",
        "\n"
      ],
      "metadata": {
        "id": "VOw6j04__CiB"
      }
    },
    {
      "cell_type": "code",
      "source": [
        "fig, (ax1, ax2) = plt.subplots(2,1)\n",
        "#plt.title('scatter plot')\n",
        "ax1.set_title('scatter plot')\n",
        "ax1.tick_params(labelsize=10)\n",
        "ax1.set_title('total_likes', fontsize=12)\n",
        "ax1.set_xlabel('')\n",
        "ax1.scatter(X_train[['total_likes']], y_train['lpe']);\n",
        "\n",
        "\n",
        "ax2.tick_params(labelsize=10)\n",
        "ax2.set_title('sqrt_total_likes', fontsize=12)\n",
        "ax2.set_xlabel('')\n",
        "ax2.scatter(X_tcopy[['sqrt_total_likes']], y_train['lpe']);\n"
      ],
      "metadata": {
        "colab": {
          "base_uri": "https://localhost:8080/",
          "height": 284
        },
        "id": "AM-Js4GWGN7L",
        "outputId": "e0d389c4-a78a-4c63-a281-e8ac6f1a34ed"
      },
      "execution_count": 31,
      "outputs": [
        {
          "output_type": "display_data",
          "data": {
            "text/plain": [
              "<Figure size 864x288 with 2 Axes>"
            ],
            "image/png": "[encoded data removed]"
          },
          "metadata": {}
        }
      ]
    },
    {
      "cell_type": "code",
      "source": [
        "from sklearn import linear_model\n",
        "from sklearn.model_selection import cross_val_score\n",
        "\n",
        "m_orig = linear_model.LinearRegression()\n",
        "scores_orig = cross_val_score(m_orig, X_train[['total_likes']], y_train['lpe'], cv=10)\n",
        "\n",
        "m_log = linear_model.LinearRegression()\n",
        "scores_sqrt = cross_val_score(m_log, X_tcopy[['sqrt_total_likes']], y_train['lpe'], cv=10)\n",
        "\n",
        "print(\"R-squared score without sqrt transform: %0.5f (+/- %0.5f)\" % (scores_orig.mean(), scores_orig.std() * 2))\n",
        "print(\"R-squared score with sqrt transform: %0.5f (+/- %0.5f)\" % (scores_sqrt.mean(), scores_sqrt.std() * 2))"
      ],
      "metadata": {
        "colab": {
          "base_uri": "https://localhost:8080/"
        },
        "id": "b5kaYcRK7llP",
        "outputId": "fc134dc8-386c-4057-ac34-e727fc68601d"
      },
      "execution_count": 32,
      "outputs": [
        {
          "output_type": "stream",
          "name": "stdout",
          "text": [
            "R-squared score without sqrt transform: -0.02888 (+/- 0.05276)\n",
            "R-squared score with sqrt transform: -0.02970 (+/- 0.05895)\n"
          ]
        }
      ]
    },
    {
      "cell_type": "markdown",
      "source": [
        "#### type"
      ],
      "metadata": {
        "id": "-d65m7XVDQhf"
      }
    },
    {
      "cell_type": "markdown",
      "source": [
        "* La variable **'type'** tiene cuatro categorías: \n",
        " * 'Photo' \n",
        " * 'Status' \n",
        " * 'Link' \n",
        " * 'Video'\n",
        "* Estas categorías deben ser convertidas para que el modelo de regresión lineal las pueda tomar en cuenta.\n",
        "* Se utiliza el **OneHotEncoder** de la librería *sklearn* para este fin."
      ],
      "metadata": {
        "id": "LxpudjcWDuo2"
      }
    },
    {
      "cell_type": "code",
      "source": [
        "# aplicar el encoder\n",
        "dummy_code_type = pd.get_dummies(X_train['type'], prefix='type')\n",
        "dummy_code_type.head()"
      ],
      "metadata": {
        "colab": {
          "base_uri": "https://localhost:8080/",
          "height": 206
        },
        "id": "F7-IfREOVhUI",
        "outputId": "5333a026-7b07-4b84-f325-8c2fde95be57"
      },
      "execution_count": 33,
      "outputs": [
        {
          "output_type": "execute_result",
          "data": {
            "text/plain": [
              "     type_Link  type_Photo  type_Status  type_Video\n",
              "305          0           1            0           0\n",
              "107          0           0            1           0\n",
              "350          0           1            0           0\n",
              "334          0           0            1           0\n",
              "142          0           0            1           0"
            ],
            "text/html": [
              "\n",
              "  <div id=\"df-3c1458b1-ce91-4382-86dd-5ac3eb51c078\">\n",
              "    <div class=\"colab-df-container\">\n",
              "      <div>\n",
              "<style scoped>\n",
              "    .dataframe tbody tr th:only-of-type {\n",
              "        vertical-align: middle;\n",
              "    }\n",
              "\n",
              "    .dataframe tbody tr th {\n",
              "        vertical-align: top;\n",
              "    }\n",
              "\n",
              "    .dataframe thead th {\n",
              "        text-align: right;\n",
              "    }\n",
              "</style>\n",
              "<table border=\"1\" class=\"dataframe\">\n",
              "  <thead>\n",
              "    <tr style=\"text-align: right;\">\n",
              "      <th></th>\n",
              "      <th>type_Link</th>\n",
              "      <th>type_Photo</th>\n",
              "      <th>type_Status</th>\n",
              "      <th>type_Video</th>\n",
              "    </tr>\n",
              "  </thead>\n",
              "  <tbody>\n",
              "    <tr>\n",
              "      <th>305</th>\n",
              "      <td>0</td>\n",
              "      <td>1</td>\n",
              "      <td>0</td>\n",
              "      <td>0</td>\n",
              "    </tr>\n",
              "    <tr>\n",
              "      <th>107</th>\n",
              "      <td>0</td>\n",
              "      <td>0</td>\n",
              "      <td>1</td>\n",
              "      <td>0</td>\n",
              "    </tr>\n",
              "    <tr>\n",
              "      <th>350</th>\n",
              "      <td>0</td>\n",
              "      <td>1</td>\n",
              "      <td>0</td>\n",
              "      <td>0</td>\n",
              "    </tr>\n",
              "    <tr>\n",
              "      <th>334</th>\n",
              "      <td>0</td>\n",
              "      <td>0</td>\n",
              "      <td>1</td>\n",
              "      <td>0</td>\n",
              "    </tr>\n",
              "    <tr>\n",
              "      <th>142</th>\n",
              "      <td>0</td>\n",
              "      <td>0</td>\n",
              "      <td>1</td>\n",
              "      <td>0</td>\n",
              "    </tr>\n",
              "  </tbody>\n",
              "</table>\n",
              "</div>\n",
              "      <button class=\"colab-df-convert\" onclick=\"convertToInteractive('df-3c1458b1-ce91-4382-86dd-5ac3eb51c078')\"\n",
              "              title=\"Convert this dataframe to an interactive table.\"\n",
              "              style=\"display:none;\">\n",
              "        \n",
              "  <svg xmlns=\"http://www.w3.org/2000/svg\" height=\"24px\"viewBox=\"0 0 24 24\"\n",
              "       width=\"24px\">\n",
              "    <path d=\"M0 0h24v24H0V0z\" fill=\"none\"/>\n",
              "    <path d=\"M18.56 5.44l.94 2.06.94-2.06 2.06-.94-2.06-.94-.94-2.06-.94 2.06-2.06.94zm-11 1L8.5 8.5l.94-2.06 2.06-.94-2.06-.94L8.5 2.5l-.94 2.06-2.06.94zm10 10l.94 2.06.94-2.06 2.06-.94-2.06-.94-.94-2.06-.94 2.06-2.06.94z\"/><path d=\"M17.41 7.96l-1.37-1.37c-.4-.4-.92-.59-1.43-.59-.52 0-1.04.2-1.43.59L10.3 9.45l-7.72 7.72c-.78.78-.78 2.05 0 2.83L4 21.41c.39.39.9.59 1.41.59.51 0 1.02-.2 1.41-.59l7.78-7.78 2.81-2.81c.8-.78.8-2.07 0-2.86zM5.41 20L4 18.59l7.72-7.72 1.47 1.35L5.41 20z\"/>\n",
              "  </svg>\n",
              "      </button>\n",
              "      \n",
              "  <style>\n",
              "    .colab-df-container {\n",
              "      display:flex;\n",
              "      flex-wrap:wrap;\n",
              "      gap: 12px;\n",
              "    }\n",
              "\n",
              "    .colab-df-convert {\n",
              "      background-color: #E8F0FE;\n",
              "      border: none;\n",
              "      border-radius: 50%;\n",
              "      cursor: pointer;\n",
              "      display: none;\n",
              "      fill: #1967D2;\n",
              "      height: 32px;\n",
              "      padding: 0 0 0 0;\n",
              "      width: 32px;\n",
              "    }\n",
              "\n",
              "    .colab-df-convert:hover {\n",
              "      background-color: #E2EBFA;\n",
              "      box-shadow: 0px 1px 2px rgba(60, 64, 67, 0.3), 0px 1px 3px 1px rgba(60, 64, 67, 0.15);\n",
              "      fill: #174EA6;\n",
              "    }\n",
              "\n",
              "    [theme=dark] .colab-df-convert {\n",
              "      background-color: #3B4455;\n",
              "      fill: #D2E3FC;\n",
              "    }\n",
              "\n",
              "    [theme=dark] .colab-df-convert:hover {\n",
              "      background-color: #434B5C;\n",
              "      box-shadow: 0px 1px 3px 1px rgba(0, 0, 0, 0.15);\n",
              "      filter: drop-shadow(0px 1px 2px rgba(0, 0, 0, 0.3));\n",
              "      fill: #FFFFFF;\n",
              "    }\n",
              "  </style>\n",
              "\n",
              "      <script>\n",
              "        const buttonEl =\n",
              "          document.querySelector('#df-3c1458b1-ce91-4382-86dd-5ac3eb51c078 button.colab-df-convert');\n",
              "        buttonEl.style.display =\n",
              "          google.colab.kernel.accessAllowed ? 'block' : 'none';\n",
              "\n",
              "        async function convertToInteractive(key) {\n",
              "          const element = document.querySelector('#df-3c1458b1-ce91-4382-86dd-5ac3eb51c078');\n",
              "          const dataTable =\n",
              "            await google.colab.kernel.invokeFunction('convertToInteractive',\n",
              "                                                     [key], {});\n",
              "          if (!dataTable) return;\n",
              "\n",
              "          const docLinkHtml = 'Like what you see? Visit the ' +\n",
              "            '<a target=\"_blank\" href=https://colab.research.google.com/notebooks/data_table.ipynb>data table notebook</a>'\n",
              "            + ' to learn more about interactive tables.';\n",
              "          element.innerHTML = '';\n",
              "          dataTable['output_type'] = 'display_data';\n",
              "          await google.colab.output.renderOutput(dataTable, element);\n",
              "          const docLink = document.createElement('div');\n",
              "          docLink.innerHTML = docLinkHtml;\n",
              "          element.appendChild(docLink);\n",
              "        }\n",
              "      </script>\n",
              "    </div>\n",
              "  </div>\n",
              "  "
            ]
          },
          "metadata": {},
          "execution_count": 33
        }
      ]
    },
    {
      "cell_type": "code",
      "source": [
        "one_hot_enc = OneHotEncoder(handle_unknown='ignore')\n",
        "one_hot_enc.fit( X_train[['type']] )\n",
        "one_hot_enc.categories_"
      ],
      "metadata": {
        "colab": {
          "base_uri": "https://localhost:8080/"
        },
        "id": "e03ej05ih8wY",
        "outputId": "1ecd2fae-84f3-48f6-c1eb-bb71065653ab"
      },
      "execution_count": 34,
      "outputs": [
        {
          "output_type": "execute_result",
          "data": {
            "text/plain": [
              "[array(['Link', 'Photo', 'Status', 'Video'], dtype=object)]"
            ]
          },
          "metadata": {},
          "execution_count": 34
        }
      ]
    },
    {
      "cell_type": "markdown",
      "source": [
        "#### category"
      ],
      "metadata": {
        "id": "b1BGWDB1UmVg"
      }
    },
    {
      "cell_type": "markdown",
      "source": [
        "* La variable **'category'** tiene tres categorías, marcadas con los números del 1 al 3: \n",
        " * action\n",
        " * product\n",
        " * inspiration"
      ],
      "metadata": {
        "id": "1sESZ0I3UrHJ"
      }
    },
    {
      "cell_type": "code",
      "source": [
        "# aplicar el encoder\n",
        "dummy_code_cat = pd.get_dummies(X_train['category'], prefix='cat')\n",
        "dummy_code_cat.head()"
      ],
      "metadata": {
        "colab": {
          "base_uri": "https://localhost:8080/",
          "height": 206
        },
        "id": "XUDB3QwCyj3J",
        "outputId": "a9e8b730-da53-47cf-9ea8-cbd503d5c233"
      },
      "execution_count": 35,
      "outputs": [
        {
          "output_type": "execute_result",
          "data": {
            "text/plain": [
              "     cat_1  cat_2  cat_3\n",
              "305      0      0      1\n",
              "107      0      1      0\n",
              "350      0      1      0\n",
              "334      0      1      0\n",
              "142      0      1      0"
            ],
            "text/html": [
              "\n",
              "  <div id=\"df-ff6c0ec7-4997-4921-a805-37ba487c6df7\">\n",
              "    <div class=\"colab-df-container\">\n",
              "      <div>\n",
              "<style scoped>\n",
              "    .dataframe tbody tr th:only-of-type {\n",
              "        vertical-align: middle;\n",
              "    }\n",
              "\n",
              "    .dataframe tbody tr th {\n",
              "        vertical-align: top;\n",
              "    }\n",
              "\n",
              "    .dataframe thead th {\n",
              "        text-align: right;\n",
              "    }\n",
              "</style>\n",
              "<table border=\"1\" class=\"dataframe\">\n",
              "  <thead>\n",
              "    <tr style=\"text-align: right;\">\n",
              "      <th></th>\n",
              "      <th>cat_1</th>\n",
              "      <th>cat_2</th>\n",
              "      <th>cat_3</th>\n",
              "    </tr>\n",
              "  </thead>\n",
              "  <tbody>\n",
              "    <tr>\n",
              "      <th>305</th>\n",
              "      <td>0</td>\n",
              "      <td>0</td>\n",
              "      <td>1</td>\n",
              "    </tr>\n",
              "    <tr>\n",
              "      <th>107</th>\n",
              "      <td>0</td>\n",
              "      <td>1</td>\n",
              "      <td>0</td>\n",
              "    </tr>\n",
              "    <tr>\n",
              "      <th>350</th>\n",
              "      <td>0</td>\n",
              "      <td>1</td>\n",
              "      <td>0</td>\n",
              "    </tr>\n",
              "    <tr>\n",
              "      <th>334</th>\n",
              "      <td>0</td>\n",
              "      <td>1</td>\n",
              "      <td>0</td>\n",
              "    </tr>\n",
              "    <tr>\n",
              "      <th>142</th>\n",
              "      <td>0</td>\n",
              "      <td>1</td>\n",
              "      <td>0</td>\n",
              "    </tr>\n",
              "  </tbody>\n",
              "</table>\n",
              "</div>\n",
              "      <button class=\"colab-df-convert\" onclick=\"convertToInteractive('df-ff6c0ec7-4997-4921-a805-37ba487c6df7')\"\n",
              "              title=\"Convert this dataframe to an interactive table.\"\n",
              "              style=\"display:none;\">\n",
              "        \n",
              "  <svg xmlns=\"http://www.w3.org/2000/svg\" height=\"24px\"viewBox=\"0 0 24 24\"\n",
              "       width=\"24px\">\n",
              "    <path d=\"M0 0h24v24H0V0z\" fill=\"none\"/>\n",
              "    <path d=\"M18.56 5.44l.94 2.06.94-2.06 2.06-.94-2.06-.94-.94-2.06-.94 2.06-2.06.94zm-11 1L8.5 8.5l.94-2.06 2.06-.94-2.06-.94L8.5 2.5l-.94 2.06-2.06.94zm10 10l.94 2.06.94-2.06 2.06-.94-2.06-.94-.94-2.06-.94 2.06-2.06.94z\"/><path d=\"M17.41 7.96l-1.37-1.37c-.4-.4-.92-.59-1.43-.59-.52 0-1.04.2-1.43.59L10.3 9.45l-7.72 7.72c-.78.78-.78 2.05 0 2.83L4 21.41c.39.39.9.59 1.41.59.51 0 1.02-.2 1.41-.59l7.78-7.78 2.81-2.81c.8-.78.8-2.07 0-2.86zM5.41 20L4 18.59l7.72-7.72 1.47 1.35L5.41 20z\"/>\n",
              "  </svg>\n",
              "      </button>\n",
              "      \n",
              "  <style>\n",
              "    .colab-df-container {\n",
              "      display:flex;\n",
              "      flex-wrap:wrap;\n",
              "      gap: 12px;\n",
              "    }\n",
              "\n",
              "    .colab-df-convert {\n",
              "      background-color: #E8F0FE;\n",
              "      border: none;\n",
              "      border-radius: 50%;\n",
              "      cursor: pointer;\n",
              "      display: none;\n",
              "      fill: #1967D2;\n",
              "      height: 32px;\n",
              "      padding: 0 0 0 0;\n",
              "      width: 32px;\n",
              "    }\n",
              "\n",
              "    .colab-df-convert:hover {\n",
              "      background-color: #E2EBFA;\n",
              "      box-shadow: 0px 1px 2px rgba(60, 64, 67, 0.3), 0px 1px 3px 1px rgba(60, 64, 67, 0.15);\n",
              "      fill: #174EA6;\n",
              "    }\n",
              "\n",
              "    [theme=dark] .colab-df-convert {\n",
              "      background-color: #3B4455;\n",
              "      fill: #D2E3FC;\n",
              "    }\n",
              "\n",
              "    [theme=dark] .colab-df-convert:hover {\n",
              "      background-color: #434B5C;\n",
              "      box-shadow: 0px 1px 3px 1px rgba(0, 0, 0, 0.15);\n",
              "      filter: drop-shadow(0px 1px 2px rgba(0, 0, 0, 0.3));\n",
              "      fill: #FFFFFF;\n",
              "    }\n",
              "  </style>\n",
              "\n",
              "      <script>\n",
              "        const buttonEl =\n",
              "          document.querySelector('#df-ff6c0ec7-4997-4921-a805-37ba487c6df7 button.colab-df-convert');\n",
              "        buttonEl.style.display =\n",
              "          google.colab.kernel.accessAllowed ? 'block' : 'none';\n",
              "\n",
              "        async function convertToInteractive(key) {\n",
              "          const element = document.querySelector('#df-ff6c0ec7-4997-4921-a805-37ba487c6df7');\n",
              "          const dataTable =\n",
              "            await google.colab.kernel.invokeFunction('convertToInteractive',\n",
              "                                                     [key], {});\n",
              "          if (!dataTable) return;\n",
              "\n",
              "          const docLinkHtml = 'Like what you see? Visit the ' +\n",
              "            '<a target=\"_blank\" href=https://colab.research.google.com/notebooks/data_table.ipynb>data table notebook</a>'\n",
              "            + ' to learn more about interactive tables.';\n",
              "          element.innerHTML = '';\n",
              "          dataTable['output_type'] = 'display_data';\n",
              "          await google.colab.output.renderOutput(dataTable, element);\n",
              "          const docLink = document.createElement('div');\n",
              "          docLink.innerHTML = docLinkHtml;\n",
              "          element.appendChild(docLink);\n",
              "        }\n",
              "      </script>\n",
              "    </div>\n",
              "  </div>\n",
              "  "
            ]
          },
          "metadata": {},
          "execution_count": 35
        }
      ]
    },
    {
      "cell_type": "code",
      "source": [
        "one_hot_enc = OneHotEncoder(handle_unknown='ignore')\n",
        "one_hot_enc.fit( X_train[['category']] )\n",
        "one_hot_enc.categories_"
      ],
      "metadata": {
        "colab": {
          "base_uri": "https://localhost:8080/"
        },
        "id": "-d8T550djGFY",
        "outputId": "819cd561-24b7-43f8-ee9d-9f22e4554971"
      },
      "execution_count": 36,
      "outputs": [
        {
          "output_type": "execute_result",
          "data": {
            "text/plain": [
              "[array([1, 2, 3])]"
            ]
          },
          "metadata": {},
          "execution_count": 36
        }
      ]
    },
    {
      "cell_type": "code",
      "source": [],
      "metadata": {
        "id": "1uRjWgGaGN0k"
      },
      "execution_count": 36,
      "outputs": []
    },
    {
      "cell_type": "markdown",
      "source": [
        "#### Pipelines"
      ],
      "metadata": {
        "id": "H_CQys1cDTSv"
      }
    },
    {
      "cell_type": "code",
      "source": [
        "'''\n",
        "# Columnas categóricas: type, category\n",
        "  df_name_cate = ['type', 'category']\n",
        "# Columnas ordinales o discretas cuantitativas: post_month, post_weekday, post_hour\n",
        "  df_name_ord = ['post_month','post_weekday','post_hour']\n",
        "# Columnas numéricas o cuantitativas: total_likes\n",
        "  df_name_num = ['total_likes']\n",
        "# Columnas binarias: paid\n",
        "  df_name_bin = ['paid']\n",
        "'''"
      ],
      "metadata": {
        "colab": {
          "base_uri": "https://localhost:8080/",
          "height": 72
        },
        "id": "RWh7w_RBUPTC",
        "outputId": "80255e0d-a830-42c2-cd20-4a9a336cf5b6"
      },
      "execution_count": 37,
      "outputs": [
        {
          "output_type": "execute_result",
          "data": {
            "text/plain": [
              "\"\\n# Columnas categóricas: type, category\\n  df_name_cate = ['type', 'category']\\n# Columnas ordinales o discretas cuantitativas: post_month, post_weekday, post_hour\\n  df_name_ord = ['post_month','post_weekday','post_hour']\\n# Columnas numéricas o cuantitativas: total_likes\\n  df_name_num = ['total_likes']\\n# Columnas binarias: paid\\n  df_name_bin = ['paid']\\n\""
            ],
            "application/vnd.google.colaboratory.intrinsic+json": {
              "type": "string"
            }
          },
          "metadata": {},
          "execution_count": 37
        }
      ]
    },
    {
      "cell_type": "code",
      "source": [
        "def sqrt_neg_skew(data):    \n",
        "    sqrt_data = np.sqrt (max(data+1) - data)    \n",
        "    return sqrt_data"
      ],
      "metadata": {
        "id": "XjOXFSNJaXKB"
      },
      "execution_count": 38,
      "outputs": []
    },
    {
      "cell_type": "code",
      "source": [
        "cc = sqrt_neg_skew(X_train['total_likes'])\n",
        "#cc\n"
      ],
      "metadata": {
        "id": "Sbx3ChUPcULg"
      },
      "execution_count": 39,
      "outputs": []
    },
    {
      "cell_type": "code",
      "execution_count": 40,
      "metadata": {
        "id": "eeHW2uotyEZ7"
      },
      "outputs": [],
      "source": [
        "# Transformación y normalización de los datos númericos\n",
        "num_pipeline = Pipeline(steps = [('impPromedio', SimpleImputer(strategy='mean')),\n",
        "                                 #('log', FunctionTransformer(np.log)),\n",
        "                                 ('sqrt_neg_skew', FunctionTransformer(sqrt_neg_skew)),\n",
        "                                 ('scalar', MinMaxScaler(feature_range=(0,1)))\n",
        "                                 ])"
      ]
    },
    {
      "cell_type": "code",
      "execution_count": 41,
      "metadata": {
        "id": "RBVSFwK4C6g9"
      },
      "outputs": [],
      "source": [
        "# Transformaciones a factores categóricos de entrada\n",
        "catImp_pipeline = Pipeline(steps = [('impModa', SimpleImputer(strategy='most_frequent'))])\n",
        "\n",
        "# adicional, para las categóricas (category y type), oneHotEncoder:\n",
        "catOHE_pipeline = Pipeline(steps = [\n",
        "    ('impModa', SimpleImputer(strategy='most_frequent')),\n",
        "    ('OneHotE', OneHotEncoder(drop='first'))])\n"
      ]
    },
    {
      "cell_type": "code",
      "execution_count": 42,
      "metadata": {
        "id": "cpzI52jcyEZ7"
      },
      "outputs": [],
      "source": [
        "# Transformación y normalización de los datos ordinales\n",
        "ord_pipeline = Pipeline(steps = [('impModa', SimpleImputer(strategy='most_frequent')),\n",
        "                                 #('log', FunctionTransformer(np.log)),\n",
        "                                 ('scalar', MinMaxScaler(feature_range=(0,1)))])"
      ]
    },
    {
      "cell_type": "code",
      "execution_count": 43,
      "metadata": {
        "id": "7KXnlNzAC69Y"
      },
      "outputs": [],
      "source": [
        "# Conjuntamos las transformaciones numéricas, binarios, categóricas y ordinales que se estarán aplicando a los datos de entrada:\n",
        "columnasTransformer = ColumnTransformer(transformers = [\n",
        "                                                        ('numpipe', num_pipeline, df_name_num),\n",
        "                                                        ('catohecat', catOHE_pipeline, df_name_cate),\n",
        "                                                        ('catohebin', catImp_pipeline, df_name_bin),\n",
        "                                                        ('ordpipe', ord_pipeline, df_name_ord),\n",
        "                                                    ])"
      ]
    },
    {
      "cell_type": "markdown",
      "metadata": {
        "id": "Rv7KFq-mC7PS"
      },
      "source": [
        "# **Ejercicio-5.**"
      ]
    },
    {
      "cell_type": "markdown",
      "metadata": {
        "id": "y1vNMScJlr-T"
      },
      "source": [
        "Utiliza la función Dummy para modelos de regresión de scikit-learn con el conjunto que tienes de datos de entrenamiento y validación. Para ello particiónalos en 100 para validación y 300 para  entrenamiento. Encuentra los errores RMSE, MAE y MAPE para los conjuntos de entrenamiento y  validación. Estos serán tus errores máximos que deberás tomar como referencia en el resto de la  actividad. Consulta su documentación correspondiente: https://scikit-learn.org/stable/modules/generated/sklearn.dummy.DummyRegressor.html"
      ]
    },
    {
      "cell_type": "code",
      "source": [
        "# transformacion de los datos de entrada\n",
        "\n",
        "# total_likes:\n",
        "X_train_copy = X_train.copy()\n",
        "X_train_copy['total_likes'] = np.sqrt(max(X_train_copy.iloc[:, 1]+1) - X_train_copy.iloc[:, 1])\n",
        "#plot_hist(X_train_copy[['total_likes']])\n",
        "\n",
        "# type:\n",
        "#X_train_copy = pd.get_dummies(X_train_copy, prefix=['type'])\n",
        "# category:\n",
        "#dummy_code_cat = pd.get_dummies(X_train_copy['category'], prefix='cat')\n",
        "#X_train_copy.insert(0, 'cat_3', dummy_code_cat['cat_3'] )\n",
        "#X_train_copy.insert(0, 'cat_2', dummy_code_cat['cat_2'] )\n",
        "#X_train_copy.insert(0, 'cat_1', dummy_code_cat['cat_1'] )\n",
        "\n",
        "#X_train_copy.drop(columns=['category'], inplace=True)\n",
        "\n",
        "X_train_copy.head()"
      ],
      "metadata": {
        "colab": {
          "base_uri": "https://localhost:8080/",
          "height": 206
        },
        "id": "smtwgoqq1r2q",
        "outputId": "a0c3a641-2a0e-4275-f85a-8d6766aa51d7"
      },
      "execution_count": 280,
      "outputs": [
        {
          "output_type": "execute_result",
          "data": {
            "text/plain": [
              "     category  total_likes    type  post_month  post_weekday  post_hour  paid\n",
              "305         3   120.424250   Photo           6             4          2   0.0\n",
              "107         2    52.019227  Status          10             1          4   0.0\n",
              "350         2   151.680585   Photo           5             5          9   0.0\n",
              "334         2   142.281411  Status           5             1          2   0.0\n",
              "142         2    58.557664  Status          10             3          2   1.0"
            ],
            "text/html": [
              "\n",
              "  <div id=\"df-3230d676-b916-4c6c-b8e5-4e358cf3c657\">\n",
              "    <div class=\"colab-df-container\">\n",
              "      <div>\n",
              "<style scoped>\n",
              "    .dataframe tbody tr th:only-of-type {\n",
              "        vertical-align: middle;\n",
              "    }\n",
              "\n",
              "    .dataframe tbody tr th {\n",
              "        vertical-align: top;\n",
              "    }\n",
              "\n",
              "    .dataframe thead th {\n",
              "        text-align: right;\n",
              "    }\n",
              "</style>\n",
              "<table border=\"1\" class=\"dataframe\">\n",
              "  <thead>\n",
              "    <tr style=\"text-align: right;\">\n",
              "      <th></th>\n",
              "      <th>category</th>\n",
              "      <th>total_likes</th>\n",
              "      <th>type</th>\n",
              "      <th>post_month</th>\n",
              "      <th>post_weekday</th>\n",
              "      <th>post_hour</th>\n",
              "      <th>paid</th>\n",
              "    </tr>\n",
              "  </thead>\n",
              "  <tbody>\n",
              "    <tr>\n",
              "      <th>305</th>\n",
              "      <td>3</td>\n",
              "      <td>120.424250</td>\n",
              "      <td>Photo</td>\n",
              "      <td>6</td>\n",
              "      <td>4</td>\n",
              "      <td>2</td>\n",
              "      <td>0.0</td>\n",
              "    </tr>\n",
              "    <tr>\n",
              "      <th>107</th>\n",
              "      <td>2</td>\n",
              "      <td>52.019227</td>\n",
              "      <td>Status</td>\n",
              "      <td>10</td>\n",
              "      <td>1</td>\n",
              "      <td>4</td>\n",
              "      <td>0.0</td>\n",
              "    </tr>\n",
              "    <tr>\n",
              "      <th>350</th>\n",
              "      <td>2</td>\n",
              "      <td>151.680585</td>\n",
              "      <td>Photo</td>\n",
              "      <td>5</td>\n",
              "      <td>5</td>\n",
              "      <td>9</td>\n",
              "      <td>0.0</td>\n",
              "    </tr>\n",
              "    <tr>\n",
              "      <th>334</th>\n",
              "      <td>2</td>\n",
              "      <td>142.281411</td>\n",
              "      <td>Status</td>\n",
              "      <td>5</td>\n",
              "      <td>1</td>\n",
              "      <td>2</td>\n",
              "      <td>0.0</td>\n",
              "    </tr>\n",
              "    <tr>\n",
              "      <th>142</th>\n",
              "      <td>2</td>\n",
              "      <td>58.557664</td>\n",
              "      <td>Status</td>\n",
              "      <td>10</td>\n",
              "      <td>3</td>\n",
              "      <td>2</td>\n",
              "      <td>1.0</td>\n",
              "    </tr>\n",
              "  </tbody>\n",
              "</table>\n",
              "</div>\n",
              "      <button class=\"colab-df-convert\" onclick=\"convertToInteractive('df-3230d676-b916-4c6c-b8e5-4e358cf3c657')\"\n",
              "              title=\"Convert this dataframe to an interactive table.\"\n",
              "              style=\"display:none;\">\n",
              "        \n",
              "  <svg xmlns=\"http://www.w3.org/2000/svg\" height=\"24px\"viewBox=\"0 0 24 24\"\n",
              "       width=\"24px\">\n",
              "    <path d=\"M0 0h24v24H0V0z\" fill=\"none\"/>\n",
              "    <path d=\"M18.56 5.44l.94 2.06.94-2.06 2.06-.94-2.06-.94-.94-2.06-.94 2.06-2.06.94zm-11 1L8.5 8.5l.94-2.06 2.06-.94-2.06-.94L8.5 2.5l-.94 2.06-2.06.94zm10 10l.94 2.06.94-2.06 2.06-.94-2.06-.94-.94-2.06-.94 2.06-2.06.94z\"/><path d=\"M17.41 7.96l-1.37-1.37c-.4-.4-.92-.59-1.43-.59-.52 0-1.04.2-1.43.59L10.3 9.45l-7.72 7.72c-.78.78-.78 2.05 0 2.83L4 21.41c.39.39.9.59 1.41.59.51 0 1.02-.2 1.41-.59l7.78-7.78 2.81-2.81c.8-.78.8-2.07 0-2.86zM5.41 20L4 18.59l7.72-7.72 1.47 1.35L5.41 20z\"/>\n",
              "  </svg>\n",
              "      </button>\n",
              "      \n",
              "  <style>\n",
              "    .colab-df-container {\n",
              "      display:flex;\n",
              "      flex-wrap:wrap;\n",
              "      gap: 12px;\n",
              "    }\n",
              "\n",
              "    .colab-df-convert {\n",
              "      background-color: #E8F0FE;\n",
              "      border: none;\n",
              "      border-radius: 50%;\n",
              "      cursor: pointer;\n",
              "      display: none;\n",
              "      fill: #1967D2;\n",
              "      height: 32px;\n",
              "      padding: 0 0 0 0;\n",
              "      width: 32px;\n",
              "    }\n",
              "\n",
              "    .colab-df-convert:hover {\n",
              "      background-color: #E2EBFA;\n",
              "      box-shadow: 0px 1px 2px rgba(60, 64, 67, 0.3), 0px 1px 3px 1px rgba(60, 64, 67, 0.15);\n",
              "      fill: #174EA6;\n",
              "    }\n",
              "\n",
              "    [theme=dark] .colab-df-convert {\n",
              "      background-color: #3B4455;\n",
              "      fill: #D2E3FC;\n",
              "    }\n",
              "\n",
              "    [theme=dark] .colab-df-convert:hover {\n",
              "      background-color: #434B5C;\n",
              "      box-shadow: 0px 1px 3px 1px rgba(0, 0, 0, 0.15);\n",
              "      filter: drop-shadow(0px 1px 2px rgba(0, 0, 0, 0.3));\n",
              "      fill: #FFFFFF;\n",
              "    }\n",
              "  </style>\n",
              "\n",
              "      <script>\n",
              "        const buttonEl =\n",
              "          document.querySelector('#df-3230d676-b916-4c6c-b8e5-4e358cf3c657 button.colab-df-convert');\n",
              "        buttonEl.style.display =\n",
              "          google.colab.kernel.accessAllowed ? 'block' : 'none';\n",
              "\n",
              "        async function convertToInteractive(key) {\n",
              "          const element = document.querySelector('#df-3230d676-b916-4c6c-b8e5-4e358cf3c657');\n",
              "          const dataTable =\n",
              "            await google.colab.kernel.invokeFunction('convertToInteractive',\n",
              "                                                     [key], {});\n",
              "          if (!dataTable) return;\n",
              "\n",
              "          const docLinkHtml = 'Like what you see? Visit the ' +\n",
              "            '<a target=\"_blank\" href=https://colab.research.google.com/notebooks/data_table.ipynb>data table notebook</a>'\n",
              "            + ' to learn more about interactive tables.';\n",
              "          element.innerHTML = '';\n",
              "          dataTable['output_type'] = 'display_data';\n",
              "          await google.colab.output.renderOutput(dataTable, element);\n",
              "          const docLink = document.createElement('div');\n",
              "          docLink.innerHTML = docLinkHtml;\n",
              "          element.appendChild(docLink);\n",
              "        }\n",
              "      </script>\n",
              "    </div>\n",
              "  </div>\n",
              "  "
            ]
          },
          "metadata": {},
          "execution_count": 280
        }
      ]
    },
    {
      "cell_type": "code",
      "execution_count": 293,
      "metadata": {
        "id": "L-F0zGbsyEZ8",
        "outputId": "63c219d4-3e2a-4e9e-dce5-0ffb4c76e55a",
        "colab": {
          "base_uri": "https://localhost:8080/"
        }
      },
      "outputs": [
        {
          "output_type": "stream",
          "name": "stdout",
          "text": [
            "Tamaño del conjunto de entrada para Entrenamiento y Validación:  (300, 7)\n",
            "Tamaño del conjunto de entrada para Prueba:  (100, 7)\n",
            "-----\n",
            "Tamaño del conjunto de salida para Entrenamiento y Validación:  (300, 1)\n",
            "Tamaño del conjunto de salida para Prueba:  (100, 1)\n"
          ]
        }
      ],
      "source": [
        "# Creamos nuestros datos de validación con la función trains_test_split\n",
        "X_train300, X_val, y_train300, y_val = train_test_split(X_train, y_train, train_size=0.75, random_state=10)\n",
        "\n",
        "print(\"Tamaño del conjunto de entrada para Entrenamiento y Validación: \", X_train300.shape)\n",
        "print(\"Tamaño del conjunto de entrada para Prueba: \", X_val.shape)\n",
        "print(\"-----\")\n",
        "print(\"Tamaño del conjunto de salida para Entrenamiento y Validación: \", y_train300.shape)\n",
        "print(\"Tamaño del conjunto de salida para Prueba: \", y_val.shape)"
      ]
    },
    {
      "cell_type": "code",
      "execution_count": 294,
      "metadata": {
        "id": "i9amy5bXyEZ8"
      },
      "outputs": [],
      "source": [
        "# Entrenamiento del modelo regresor ficticio\n",
        "dummy_reg = DummyRegressor(strategy='mean')\n",
        "\n",
        "pipeline = Pipeline(steps=[('ct', columnasTransformer),('m', dummy_reg)])\n",
        "pipeline.fit(X_train300, y_train300)\n",
        "y_pred300 = pipeline.predict(X_train300)\n",
        "y_pred = pipeline.predict(X_val)"
      ]
    },
    {
      "cell_type": "code",
      "execution_count": 295,
      "metadata": {
        "id": "4tQxQROVC9Us",
        "outputId": "11d393de-7819-4c4e-ff25-4ef302a66955",
        "colab": {
          "base_uri": "https://localhost:8080/"
        }
      },
      "outputs": [
        {
          "output_type": "stream",
          "name": "stdout",
          "text": [
            "Valor de la predicción de los datos de entrenamiento RMSE: 601.7656388680084\n"
          ]
        }
      ],
      "source": [
        "# Cálculo del RMSE de los datos de entrenamiento \n",
        "mi_rmse = rmse(y_train300[\"lpe\"], y_pred300)\n",
        "print(f\"Valor de la predicción de los datos de entrenamiento RMSE: {mi_rmse}\")"
      ]
    },
    {
      "cell_type": "code",
      "execution_count": 296,
      "metadata": {
        "id": "uGH4I1bTyEZ8",
        "outputId": "9870bade-d6ff-478a-ced9-db46329f5fc2",
        "colab": {
          "base_uri": "https://localhost:8080/"
        }
      },
      "outputs": [
        {
          "output_type": "stream",
          "name": "stdout",
          "text": [
            "Valor de la predicción de los datos de validación RMSE: 589.9812895997447\n"
          ]
        }
      ],
      "source": [
        "# Cálculo del RMSE de los datos de validación\n",
        "mi_rmse = rmse(y_val[\"lpe\"], y_pred)\n",
        "print(f\"Valor de la predicción de los datos de validación RMSE: {mi_rmse}\")"
      ]
    },
    {
      "cell_type": "code",
      "execution_count": 297,
      "metadata": {
        "id": "DM3MfVklyEZ8",
        "outputId": "90c0c959-498a-4bcf-a3d1-9c2b582a15a6",
        "colab": {
          "base_uri": "https://localhost:8080/"
        }
      },
      "outputs": [
        {
          "output_type": "stream",
          "name": "stdout",
          "text": [
            "Valor de la predicción de los datos de entrenamiento MAE: 589.9812895997447\n"
          ]
        }
      ],
      "source": [
        "# Cálculo del RMSE de los datos de entrenamiento \n",
        "mi_mae = mae(y_train300[\"lpe\"], y_pred300)\n",
        "print(f\"Valor de la predicción de los datos de entrenamiento MAE: {mi_rmse}\")"
      ]
    },
    {
      "cell_type": "code",
      "execution_count": 298,
      "metadata": {
        "id": "JycUfzzyyEZ8",
        "outputId": "42b27169-b012-42ad-a319-33865f5282cc",
        "colab": {
          "base_uri": "https://localhost:8080/"
        }
      },
      "outputs": [
        {
          "output_type": "stream",
          "name": "stdout",
          "text": [
            "Valor de la predicción de los datos de validación MAE: 589.9812895997447\n"
          ]
        }
      ],
      "source": [
        "# Cálculo del RMSE de los datos de validación\n",
        "mi_mae = mae(y_val[\"lpe\"], y_pred)\n",
        "print(f\"Valor de la predicción de los datos de validación MAE: {mi_rmse}\")"
      ]
    },
    {
      "cell_type": "code",
      "execution_count": 299,
      "metadata": {
        "id": "JTk5xTfLyEZ8",
        "outputId": "4cc605a7-29f6-4c54-b160-ad12f91f8b47",
        "colab": {
          "base_uri": "https://localhost:8080/"
        }
      },
      "outputs": [
        {
          "output_type": "stream",
          "name": "stdout",
          "text": [
            "Valor de la predicción de los datos de entrenamiento MAPE: 589.9812895997447\n"
          ]
        }
      ],
      "source": [
        "# Cálculo del RMSE de los datos de entrenamiento\n",
        "mi_mape = mape(y_train300[\"lpe\"], y_pred300)\n",
        "print(f\"Valor de la predicción de los datos de entrenamiento MAPE: {mi_rmse}\")"
      ]
    },
    {
      "cell_type": "code",
      "execution_count": 300,
      "metadata": {
        "id": "pJmc_xTYyEZ9",
        "outputId": "08672e79-8d09-4186-d661-5b48e1326fbc",
        "colab": {
          "base_uri": "https://localhost:8080/"
        }
      },
      "outputs": [
        {
          "output_type": "stream",
          "name": "stdout",
          "text": [
            "Valor de la predicción de los datos de validación MAPE: 589.9812895997447\n"
          ]
        }
      ],
      "source": [
        "# Cálculo del RMSE de los datos de validación\n",
        "mi_mape = mape(y_val[\"lpe\"], y_pred)\n",
        "print(f\"Valor de la predicción de los datos de validación MAPE: {mi_rmse}\")"
      ]
    },
    {
      "cell_type": "markdown",
      "metadata": {
        "id": "W2S7LI0NC9wE"
      },
      "source": [
        "# **Ejercicio-6.**"
      ]
    },
    {
      "cell_type": "markdown",
      "metadata": {
        "id": "0KPynkt7lr-T"
      },
      "source": [
        "Usando los modelos de regresión lineal múltiple, el bosque aleatorio y el perceptrón multicapa con  sus valores predeterminados, lleva a cabo su entrenamiento con repeticiones de validación cruzada (RepeatedKFold) y desplegando los errores RMSE, MAE y MAPE. Recuerda evitar el filtrado de información usando los datos que obtuviste en el ejercicio 2. Incluye las conclusiones sobre el mejor modelo encontrado en esta primera aproximación. En particular ¿hay alguno sobreentrenado o subentrenado? NOTA: Recuerda que puedes aumentar en dado caso el número máximo de iteraciones para que todos los modelos converjan."
      ]
    },
    {
      "cell_type": "code",
      "execution_count": 304,
      "metadata": {
        "id": "x6uBleJUC_AU"
      },
      "outputs": [],
      "source": [
        "# Función para obtener las configuraciones de los modelos\n",
        "def get_models():\n",
        "  modelos = list()\n",
        "  nombres = list()\n",
        "\n",
        "  # LR - Modelo de Regresion Logistica\n",
        "  modelos.append(LinearRegression())\n",
        "  nombres.append('Regresión lineal')\n",
        "\n",
        "  # RF - Modelo de Bosque Aleatorio\n",
        "  modelos.append(RandomForestRegressor())\n",
        "  nombres.append('Bosque Aleatorio')\n",
        "\n",
        "  # MLP - Modelo de Red Nuronal Multicapa\n",
        "  modelos.append(MLPRegressor(max_iter=20000))\n",
        "  nombres.append('Red Neuronal Multicapa')\n",
        "\n",
        "  return modelos, nombres"
      ]
    },
    {
      "cell_type": "code",
      "execution_count": 308,
      "metadata": {
        "id": "n0P_AcyjC_Dh",
        "outputId": "f3e60e49-6366-4978-dec7-453bbda42dfb",
        "colab": {
          "base_uri": "https://localhost:8080/"
        }
      },
      "outputs": [
        {
          "output_type": "stream",
          "name": "stdout",
          "text": [
            "Regresión lineal:\n",
            "RMSE: 504.111\n",
            "MAE: 302.926\n",
            "MAPE: 111.841\n",
            "\n",
            "Bosque Aleatorio:\n",
            "RMSE: 546.552\n",
            "MAE: 339.316\n",
            "MAPE: 110.542\n",
            "\n"
          ]
        },
        {
          "output_type": "stream",
          "name": "stderr",
          "text": [
            "/usr/local/lib/python3.7/dist-packages/sklearn/neural_network/_multilayer_perceptron.py:696: ConvergenceWarning: Stochastic Optimizer: Maximum iterations (20000) reached and the optimization hasn't converged yet.\n",
            "  ConvergenceWarning,\n",
            "/usr/local/lib/python3.7/dist-packages/sklearn/neural_network/_multilayer_perceptron.py:696: ConvergenceWarning: Stochastic Optimizer: Maximum iterations (20000) reached and the optimization hasn't converged yet.\n",
            "  ConvergenceWarning,\n"
          ]
        },
        {
          "output_type": "stream",
          "name": "stdout",
          "text": [
            "Red Neuronal Multicapa:\n",
            "RMSE: 518.265\n",
            "MAE: 315.111\n",
            "MAPE: 115.407\n",
            "\n"
          ]
        }
      ],
      "source": [
        "# Entrenamiento del modelo y cargamos los modelos a comparar\n",
        "modelos, nombres = get_models()\n",
        "resultados = list()\n",
        "\n",
        "for i in range(len(modelos)):\n",
        "    # Parametros del Modelo\n",
        "    pipeline = Pipeline(steps=[('ct', columnasTransformer), ('m', modelos[i])])\n",
        "\n",
        "    kfold = KFold(n_splits=5, shuffle=True, random_state=42)\n",
        "    # cv = RepeatedStratifiedKFold(n_splits=5, n_repeats=3, random_state=0)\n",
        "    mis_metricas ={'rmsee':make_scorer(rmse),\n",
        "                   'mae':make_scorer(mae),\n",
        "                   'mape':make_scorer(mape)}\n",
        "\n",
        "\n",
        "    # Entrenamiento del modelo \n",
        "    scores = cross_validate(pipeline, X_train, np.ravel(y_train), scoring = mis_metricas, cv=kfold)\n",
        "    resultados.append(scores)\n",
        "\n",
        "    print('%s:\\nRMSE: %.3f\\nMAE: %.3f\\nMAPE: %.3f\\n' % (nombres[i],\n",
        "                                                          np.mean(scores['test_rmsee']),\n",
        "                                                          np.mean(scores['test_mae']),\n",
        "                                                          np.mean(scores['test_mape']),\n",
        "                                                       ))"
      ]
    },
    {
      "cell_type": "markdown",
      "metadata": {
        "id": "ZWiWH271yEZ9"
      },
      "source": [
        "### Conclusiones\n",
        "\n",
        "--------"
      ]
    },
    {
      "cell_type": "markdown",
      "metadata": {
        "id": "iCNGx4TQ8CFI"
      },
      "source": [
        "# **Ejercicio-7.**"
      ]
    },
    {
      "cell_type": "markdown",
      "metadata": {
        "id": "QtVR45Iclr-U"
      },
      "source": [
        "Obtener los diagramas de caja y bigote para los errores MAPE de los conjuntos de validación obtenidos. En particular compara estos primeros resultados de MAPE con el mejor resultado que  encuentran los autores del artículo citado al inicio. Incluye tus conclusiones."
      ]
    },
    {
      "cell_type": "code",
      "execution_count": 309,
      "metadata": {
        "id": "ewvwUcJX78y1",
        "outputId": "4679ec04-5737-443f-82e6-c7ca3b5d54da",
        "colab": {
          "base_uri": "https://localhost:8080/",
          "height": 268
        }
      },
      "outputs": [
        {
          "output_type": "display_data",
          "data": {
            "text/plain": [
              "<Figure size 864x288 with 1 Axes>"
            ],
            "image/png": "[encoded data removed]"
          },
          "metadata": {}
        }
      ],
      "source": [
        "# Diagrama de bigotes de los tres modelos de acuerdo con los resultados de su MAPE\n",
        "bpRecall = list()\n",
        "for i in range(len(resultados)):\n",
        "  MAPE_metric = resultados[i]['test_mape']\n",
        "  bpRecall.append(MAPE_metric)\n",
        "\n",
        "plt.boxplot(bpRecall, labels=nombres, showmeans=True)\n",
        "plt.show()\n"
      ]
    },
    {
      "cell_type": "markdown",
      "metadata": {
        "id": "_1lPMG1WyEZ9"
      },
      "source": [
        "### Conclusiones\n",
        "-------------------------------"
      ]
    },
    {
      "cell_type": "markdown",
      "metadata": {
        "id": "tzQn5NR78GFg"
      },
      "source": [
        "# **Ejercicio-8.**"
      ]
    },
    {
      "cell_type": "markdown",
      "metadata": {
        "id": "SNIEdiKPlr-U"
      },
      "source": [
        "Usando una búsqueda de malla con validación cruzada (GridSearchCV), busca los mejores hiperparámetros para el modelo MLP. Al menos deberás realizar la búsqueda en los  hiperparámetros “hidden_layer_sizes”, “alpha” y “learning_rate_init”. Además aplica la validación  cruzada con repeticiones (RepeatedKFold). Muestra los mejores hiperparámetros encontrados. "
      ]
    },
    {
      "cell_type": "code",
      "execution_count": 312,
      "metadata": {
        "id": "EBKcp0278IQV"
      },
      "outputs": [],
      "source": [
        "# Entrenamiento de los mejores datos del modelo MLP\n",
        "rango1= list(np.round(np.linspace(0.0001, 0.0015,5, endpoint=False), 4))\n",
        "rango2= list(np.round(np.linspace(0.001, 0.015, 5, endpoint=False), 4))\n",
        "\n",
        "pipe = Pipeline(steps=[\n",
        "    ('ct', columnasTransformer),\n",
        "    ('MLPRegressor', MLPRegressor())\n",
        "])\n",
        "\n",
        "dicc_grid = {'MLPRegressor__max_iter':[500, 12000, 12500, 13000],\n",
        "             'MLPRegressor__hidden_layer_sizes':[(30,30,30), (30,20,10), (30,20)],\n",
        "             'MLPRegressor__alpha': rango1,\n",
        "             'MLPRegressor__learning_rate_init': rango2\n",
        "             }\n",
        "\n",
        "cv = RepeatedKFold(n_splits=5, n_repeats=3, random_state=0)\n",
        "\n",
        "grid = GridSearchCV(pipe, \n",
        "                    dicc_grid,\n",
        "                    cv=cv)"
      ]
    },
    {
      "cell_type": "code",
      "execution_count": 315,
      "metadata": {
        "id": "vp8S0PFs8IMR",
        "colab": {
          "base_uri": "https://localhost:8080/",
          "height": 1000
        },
        "outputId": "7b32531e-546a-4ff6-c765-db0c62ca957c"
      },
      "outputs": [
        {
          "output_type": "stream",
          "name": "stderr",
          "text": [
            "/usr/local/lib/python3.7/dist-packages/sklearn/model_selection/_validation.py:372: FitFailedWarning: \n",
            "4500 fits failed out of a total of 4500.\n",
            "The score on these train-test partitions for these parameters will be set to nan.\n",
            "If these failures are not expected, you can try to debug them by setting error_score='raise'.\n",
            "\n",
            "Below are more details about the failures:\n",
            "--------------------------------------------------------------------------------\n",
            "4500 fits failed with the following error:\n",
            "Traceback (most recent call last):\n",
            "  File \"/usr/local/lib/python3.7/dist-packages/sklearn/utils/__init__.py\", line 409, in _get_column_indices\n",
            "    all_columns = X.columns\n",
            "AttributeError: 'numpy.ndarray' object has no attribute 'columns'\n",
            "\n",
            "During handling of the above exception, another exception occurred:\n",
            "\n",
            "Traceback (most recent call last):\n",
            "  File \"/usr/local/lib/python3.7/dist-packages/sklearn/model_selection/_validation.py\", line 680, in _fit_and_score\n",
            "    estimator.fit(X_train, y_train, **fit_params)\n",
            "  File \"/usr/local/lib/python3.7/dist-packages/sklearn/pipeline.py\", line 390, in fit\n",
            "    Xt = self._fit(X, y, **fit_params_steps)\n",
            "  File \"/usr/local/lib/python3.7/dist-packages/sklearn/pipeline.py\", line 355, in _fit\n",
            "    **fit_params_steps[name],\n",
            "  File \"/usr/local/lib/python3.7/dist-packages/joblib/memory.py\", line 349, in __call__\n",
            "    return self.func(*args, **kwargs)\n",
            "  File \"/usr/local/lib/python3.7/dist-packages/sklearn/pipeline.py\", line 893, in _fit_transform_one\n",
            "    res = transformer.fit_transform(X, y, **fit_params)\n",
            "  File \"/usr/local/lib/python3.7/dist-packages/sklearn/compose/_column_transformer.py\", line 672, in fit_transform\n",
            "    self._validate_column_callables(X)\n",
            "  File \"/usr/local/lib/python3.7/dist-packages/sklearn/compose/_column_transformer.py\", line 352, in _validate_column_callables\n",
            "    transformer_to_input_indices[name] = _get_column_indices(X, columns)\n",
            "  File \"/usr/local/lib/python3.7/dist-packages/sklearn/utils/__init__.py\", line 412, in _get_column_indices\n",
            "    \"Specifying the columns using strings is only \"\n",
            "ValueError: Specifying the columns using strings is only supported for pandas DataFrames\n",
            "\n",
            "  warnings.warn(some_fits_failed_message, FitFailedWarning)\n",
            "/usr/local/lib/python3.7/dist-packages/sklearn/model_selection/_search.py:972: UserWarning: One or more of the test scores are non-finite: [nan nan nan nan nan nan nan nan nan nan nan nan nan nan nan nan nan nan\n",
            " nan nan nan nan nan nan nan nan nan nan nan nan nan nan nan nan nan nan\n",
            " nan nan nan nan nan nan nan nan nan nan nan nan nan nan nan nan nan nan\n",
            " nan nan nan nan nan nan nan nan nan nan nan nan nan nan nan nan nan nan\n",
            " nan nan nan nan nan nan nan nan nan nan nan nan nan nan nan nan nan nan\n",
            " nan nan nan nan nan nan nan nan nan nan nan nan nan nan nan nan nan nan\n",
            " nan nan nan nan nan nan nan nan nan nan nan nan nan nan nan nan nan nan\n",
            " nan nan nan nan nan nan nan nan nan nan nan nan nan nan nan nan nan nan\n",
            " nan nan nan nan nan nan nan nan nan nan nan nan nan nan nan nan nan nan\n",
            " nan nan nan nan nan nan nan nan nan nan nan nan nan nan nan nan nan nan\n",
            " nan nan nan nan nan nan nan nan nan nan nan nan nan nan nan nan nan nan\n",
            " nan nan nan nan nan nan nan nan nan nan nan nan nan nan nan nan nan nan\n",
            " nan nan nan nan nan nan nan nan nan nan nan nan nan nan nan nan nan nan\n",
            " nan nan nan nan nan nan nan nan nan nan nan nan nan nan nan nan nan nan\n",
            " nan nan nan nan nan nan nan nan nan nan nan nan nan nan nan nan nan nan\n",
            " nan nan nan nan nan nan nan nan nan nan nan nan nan nan nan nan nan nan\n",
            " nan nan nan nan nan nan nan nan nan nan nan nan]\n",
            "  category=UserWarning,\n"
          ]
        },
        {
          "output_type": "error",
          "ename": "ValueError",
          "evalue": "ignored",
          "traceback": [
            "\u001b[0;31m---------------------------------------------------------------------------\u001b[0m",
            "\u001b[0;31mAttributeError\u001b[0m                            Traceback (most recent call last)",
            "\u001b[0;32m/usr/local/lib/python3.7/dist-packages/sklearn/utils/__init__.py\u001b[0m in \u001b[0;36m_get_column_indices\u001b[0;34m(X, key)\u001b[0m\n\u001b[1;32m    408\u001b[0m         \u001b[0;32mtry\u001b[0m\u001b[0;34m:\u001b[0m\u001b[0;34m\u001b[0m\u001b[0;34m\u001b[0m\u001b[0m\n\u001b[0;32m--> 409\u001b[0;31m             \u001b[0mall_columns\u001b[0m \u001b[0;34m=\u001b[0m \u001b[0mX\u001b[0m\u001b[0;34m.\u001b[0m\u001b[0mcolumns\u001b[0m\u001b[0;34m\u001b[0m\u001b[0;34m\u001b[0m\u001b[0m\n\u001b[0m\u001b[1;32m    410\u001b[0m         \u001b[0;32mexcept\u001b[0m \u001b[0mAttributeError\u001b[0m\u001b[0;34m:\u001b[0m\u001b[0;34m\u001b[0m\u001b[0;34m\u001b[0m\u001b[0m\n",
            "\u001b[0;31mAttributeError\u001b[0m: 'numpy.ndarray' object has no attribute 'columns'",
            "\nDuring handling of the above exception, another exception occurred:\n",
            "\u001b[0;31mValueError\u001b[0m                                Traceback (most recent call last)",
            "\u001b[0;32m<ipython-input-315-db18755e3a14>\u001b[0m in \u001b[0;36m<module>\u001b[0;34m\u001b[0m\n\u001b[1;32m      2\u001b[0m \u001b[0mXx\u001b[0m \u001b[0;34m=\u001b[0m \u001b[0mcolumnasTransformer\u001b[0m\u001b[0;34m.\u001b[0m\u001b[0mfit_transform\u001b[0m\u001b[0;34m(\u001b[0m\u001b[0mX_train\u001b[0m\u001b[0;34m)\u001b[0m\u001b[0;34m\u001b[0m\u001b[0;34m\u001b[0m\u001b[0m\n\u001b[1;32m      3\u001b[0m \u001b[0;34m\u001b[0m\u001b[0m\n\u001b[0;32m----> 4\u001b[0;31m \u001b[0mgrid\u001b[0m\u001b[0;34m.\u001b[0m\u001b[0mfit\u001b[0m\u001b[0;34m(\u001b[0m\u001b[0mXx\u001b[0m\u001b[0;34m,\u001b[0m \u001b[0mnp\u001b[0m\u001b[0;34m.\u001b[0m\u001b[0mravel\u001b[0m\u001b[0;34m(\u001b[0m\u001b[0my_train\u001b[0m\u001b[0;34m)\u001b[0m\u001b[0;34m)\u001b[0m\u001b[0;34m\u001b[0m\u001b[0;34m\u001b[0m\u001b[0m\n\u001b[0m\u001b[1;32m      5\u001b[0m \u001b[0mbest_params_mlp\u001b[0m \u001b[0;34m=\u001b[0m \u001b[0mgrid\u001b[0m\u001b[0;34m.\u001b[0m\u001b[0mbest_params_\u001b[0m\u001b[0;34m\u001b[0m\u001b[0;34m\u001b[0m\u001b[0m\n\u001b[1;32m      6\u001b[0m \u001b[0;34m\u001b[0m\u001b[0m\n",
            "\u001b[0;32m/usr/local/lib/python3.7/dist-packages/sklearn/model_selection/_search.py\u001b[0m in \u001b[0;36mfit\u001b[0;34m(self, X, y, groups, **fit_params)\u001b[0m\n\u001b[1;32m    924\u001b[0m             \u001b[0mrefit_start_time\u001b[0m \u001b[0;34m=\u001b[0m \u001b[0mtime\u001b[0m\u001b[0;34m.\u001b[0m\u001b[0mtime\u001b[0m\u001b[0;34m(\u001b[0m\u001b[0;34m)\u001b[0m\u001b[0;34m\u001b[0m\u001b[0;34m\u001b[0m\u001b[0m\n\u001b[1;32m    925\u001b[0m             \u001b[0;32mif\u001b[0m \u001b[0my\u001b[0m \u001b[0;32mis\u001b[0m \u001b[0;32mnot\u001b[0m \u001b[0;32mNone\u001b[0m\u001b[0;34m:\u001b[0m\u001b[0;34m\u001b[0m\u001b[0;34m\u001b[0m\u001b[0m\n\u001b[0;32m--> 926\u001b[0;31m                 \u001b[0mself\u001b[0m\u001b[0;34m.\u001b[0m\u001b[0mbest_estimator_\u001b[0m\u001b[0;34m.\u001b[0m\u001b[0mfit\u001b[0m\u001b[0;34m(\u001b[0m\u001b[0mX\u001b[0m\u001b[0;34m,\u001b[0m \u001b[0my\u001b[0m\u001b[0;34m,\u001b[0m \u001b[0;34m**\u001b[0m\u001b[0mfit_params\u001b[0m\u001b[0;34m)\u001b[0m\u001b[0;34m\u001b[0m\u001b[0;34m\u001b[0m\u001b[0m\n\u001b[0m\u001b[1;32m    927\u001b[0m             \u001b[0;32melse\u001b[0m\u001b[0;34m:\u001b[0m\u001b[0;34m\u001b[0m\u001b[0;34m\u001b[0m\u001b[0m\n\u001b[1;32m    928\u001b[0m                 \u001b[0mself\u001b[0m\u001b[0;34m.\u001b[0m\u001b[0mbest_estimator_\u001b[0m\u001b[0;34m.\u001b[0m\u001b[0mfit\u001b[0m\u001b[0;34m(\u001b[0m\u001b[0mX\u001b[0m\u001b[0;34m,\u001b[0m \u001b[0;34m**\u001b[0m\u001b[0mfit_params\u001b[0m\u001b[0;34m)\u001b[0m\u001b[0;34m\u001b[0m\u001b[0;34m\u001b[0m\u001b[0m\n",
            "\u001b[0;32m/usr/local/lib/python3.7/dist-packages/sklearn/pipeline.py\u001b[0m in \u001b[0;36mfit\u001b[0;34m(self, X, y, **fit_params)\u001b[0m\n\u001b[1;32m    388\u001b[0m         \"\"\"\n\u001b[1;32m    389\u001b[0m         \u001b[0mfit_params_steps\u001b[0m \u001b[0;34m=\u001b[0m \u001b[0mself\u001b[0m\u001b[0;34m.\u001b[0m\u001b[0m_check_fit_params\u001b[0m\u001b[0;34m(\u001b[0m\u001b[0;34m**\u001b[0m\u001b[0mfit_params\u001b[0m\u001b[0;34m)\u001b[0m\u001b[0;34m\u001b[0m\u001b[0;34m\u001b[0m\u001b[0m\n\u001b[0;32m--> 390\u001b[0;31m         \u001b[0mXt\u001b[0m \u001b[0;34m=\u001b[0m \u001b[0mself\u001b[0m\u001b[0;34m.\u001b[0m\u001b[0m_fit\u001b[0m\u001b[0;34m(\u001b[0m\u001b[0mX\u001b[0m\u001b[0;34m,\u001b[0m \u001b[0my\u001b[0m\u001b[0;34m,\u001b[0m \u001b[0;34m**\u001b[0m\u001b[0mfit_params_steps\u001b[0m\u001b[0;34m)\u001b[0m\u001b[0;34m\u001b[0m\u001b[0;34m\u001b[0m\u001b[0m\n\u001b[0m\u001b[1;32m    391\u001b[0m         \u001b[0;32mwith\u001b[0m \u001b[0m_print_elapsed_time\u001b[0m\u001b[0;34m(\u001b[0m\u001b[0;34m\"Pipeline\"\u001b[0m\u001b[0;34m,\u001b[0m \u001b[0mself\u001b[0m\u001b[0;34m.\u001b[0m\u001b[0m_log_message\u001b[0m\u001b[0;34m(\u001b[0m\u001b[0mlen\u001b[0m\u001b[0;34m(\u001b[0m\u001b[0mself\u001b[0m\u001b[0;34m.\u001b[0m\u001b[0msteps\u001b[0m\u001b[0;34m)\u001b[0m \u001b[0;34m-\u001b[0m \u001b[0;36m1\u001b[0m\u001b[0;34m)\u001b[0m\u001b[0;34m)\u001b[0m\u001b[0;34m:\u001b[0m\u001b[0;34m\u001b[0m\u001b[0;34m\u001b[0m\u001b[0m\n\u001b[1;32m    392\u001b[0m             \u001b[0;32mif\u001b[0m \u001b[0mself\u001b[0m\u001b[0;34m.\u001b[0m\u001b[0m_final_estimator\u001b[0m \u001b[0;34m!=\u001b[0m \u001b[0;34m\"passthrough\"\u001b[0m\u001b[0;34m:\u001b[0m\u001b[0;34m\u001b[0m\u001b[0;34m\u001b[0m\u001b[0m\n",
            "\u001b[0;32m/usr/local/lib/python3.7/dist-packages/sklearn/pipeline.py\u001b[0m in \u001b[0;36m_fit\u001b[0;34m(self, X, y, **fit_params_steps)\u001b[0m\n\u001b[1;32m    353\u001b[0m                 \u001b[0mmessage_clsname\u001b[0m\u001b[0;34m=\u001b[0m\u001b[0;34m\"Pipeline\"\u001b[0m\u001b[0;34m,\u001b[0m\u001b[0;34m\u001b[0m\u001b[0;34m\u001b[0m\u001b[0m\n\u001b[1;32m    354\u001b[0m                 \u001b[0mmessage\u001b[0m\u001b[0;34m=\u001b[0m\u001b[0mself\u001b[0m\u001b[0;34m.\u001b[0m\u001b[0m_log_message\u001b[0m\u001b[0;34m(\u001b[0m\u001b[0mstep_idx\u001b[0m\u001b[0;34m)\u001b[0m\u001b[0;34m,\u001b[0m\u001b[0;34m\u001b[0m\u001b[0;34m\u001b[0m\u001b[0m\n\u001b[0;32m--> 355\u001b[0;31m                 \u001b[0;34m**\u001b[0m\u001b[0mfit_params_steps\u001b[0m\u001b[0;34m[\u001b[0m\u001b[0mname\u001b[0m\u001b[0;34m]\u001b[0m\u001b[0;34m,\u001b[0m\u001b[0;34m\u001b[0m\u001b[0;34m\u001b[0m\u001b[0m\n\u001b[0m\u001b[1;32m    356\u001b[0m             )\n\u001b[1;32m    357\u001b[0m             \u001b[0;31m# Replace the transformer of the step with the fitted\u001b[0m\u001b[0;34m\u001b[0m\u001b[0;34m\u001b[0m\u001b[0;34m\u001b[0m\u001b[0m\n",
            "\u001b[0;32m/usr/local/lib/python3.7/dist-packages/joblib/memory.py\u001b[0m in \u001b[0;36m__call__\u001b[0;34m(self, *args, **kwargs)\u001b[0m\n\u001b[1;32m    347\u001b[0m \u001b[0;34m\u001b[0m\u001b[0m\n\u001b[1;32m    348\u001b[0m     \u001b[0;32mdef\u001b[0m \u001b[0m__call__\u001b[0m\u001b[0;34m(\u001b[0m\u001b[0mself\u001b[0m\u001b[0;34m,\u001b[0m \u001b[0;34m*\u001b[0m\u001b[0margs\u001b[0m\u001b[0;34m,\u001b[0m \u001b[0;34m**\u001b[0m\u001b[0mkwargs\u001b[0m\u001b[0;34m)\u001b[0m\u001b[0;34m:\u001b[0m\u001b[0;34m\u001b[0m\u001b[0;34m\u001b[0m\u001b[0m\n\u001b[0;32m--> 349\u001b[0;31m         \u001b[0;32mreturn\u001b[0m \u001b[0mself\u001b[0m\u001b[0;34m.\u001b[0m\u001b[0mfunc\u001b[0m\u001b[0;34m(\u001b[0m\u001b[0;34m*\u001b[0m\u001b[0margs\u001b[0m\u001b[0;34m,\u001b[0m \u001b[0;34m**\u001b[0m\u001b[0mkwargs\u001b[0m\u001b[0;34m)\u001b[0m\u001b[0;34m\u001b[0m\u001b[0;34m\u001b[0m\u001b[0m\n\u001b[0m\u001b[1;32m    350\u001b[0m \u001b[0;34m\u001b[0m\u001b[0m\n\u001b[1;32m    351\u001b[0m     \u001b[0;32mdef\u001b[0m \u001b[0mcall_and_shelve\u001b[0m\u001b[0;34m(\u001b[0m\u001b[0mself\u001b[0m\u001b[0;34m,\u001b[0m \u001b[0;34m*\u001b[0m\u001b[0margs\u001b[0m\u001b[0;34m,\u001b[0m \u001b[0;34m**\u001b[0m\u001b[0mkwargs\u001b[0m\u001b[0;34m)\u001b[0m\u001b[0;34m:\u001b[0m\u001b[0;34m\u001b[0m\u001b[0;34m\u001b[0m\u001b[0m\n",
            "\u001b[0;32m/usr/local/lib/python3.7/dist-packages/sklearn/pipeline.py\u001b[0m in \u001b[0;36m_fit_transform_one\u001b[0;34m(transformer, X, y, weight, message_clsname, message, **fit_params)\u001b[0m\n\u001b[1;32m    891\u001b[0m     \u001b[0;32mwith\u001b[0m \u001b[0m_print_elapsed_time\u001b[0m\u001b[0;34m(\u001b[0m\u001b[0mmessage_clsname\u001b[0m\u001b[0;34m,\u001b[0m \u001b[0mmessage\u001b[0m\u001b[0;34m)\u001b[0m\u001b[0;34m:\u001b[0m\u001b[0;34m\u001b[0m\u001b[0;34m\u001b[0m\u001b[0m\n\u001b[1;32m    892\u001b[0m         \u001b[0;32mif\u001b[0m \u001b[0mhasattr\u001b[0m\u001b[0;34m(\u001b[0m\u001b[0mtransformer\u001b[0m\u001b[0;34m,\u001b[0m \u001b[0;34m\"fit_transform\"\u001b[0m\u001b[0;34m)\u001b[0m\u001b[0;34m:\u001b[0m\u001b[0;34m\u001b[0m\u001b[0;34m\u001b[0m\u001b[0m\n\u001b[0;32m--> 893\u001b[0;31m             \u001b[0mres\u001b[0m \u001b[0;34m=\u001b[0m \u001b[0mtransformer\u001b[0m\u001b[0;34m.\u001b[0m\u001b[0mfit_transform\u001b[0m\u001b[0;34m(\u001b[0m\u001b[0mX\u001b[0m\u001b[0;34m,\u001b[0m \u001b[0my\u001b[0m\u001b[0;34m,\u001b[0m \u001b[0;34m**\u001b[0m\u001b[0mfit_params\u001b[0m\u001b[0;34m)\u001b[0m\u001b[0;34m\u001b[0m\u001b[0;34m\u001b[0m\u001b[0m\n\u001b[0m\u001b[1;32m    894\u001b[0m         \u001b[0;32melse\u001b[0m\u001b[0;34m:\u001b[0m\u001b[0;34m\u001b[0m\u001b[0;34m\u001b[0m\u001b[0m\n\u001b[1;32m    895\u001b[0m             \u001b[0mres\u001b[0m \u001b[0;34m=\u001b[0m \u001b[0mtransformer\u001b[0m\u001b[0;34m.\u001b[0m\u001b[0mfit\u001b[0m\u001b[0;34m(\u001b[0m\u001b[0mX\u001b[0m\u001b[0;34m,\u001b[0m \u001b[0my\u001b[0m\u001b[0;34m,\u001b[0m \u001b[0;34m**\u001b[0m\u001b[0mfit_params\u001b[0m\u001b[0;34m)\u001b[0m\u001b[0;34m.\u001b[0m\u001b[0mtransform\u001b[0m\u001b[0;34m(\u001b[0m\u001b[0mX\u001b[0m\u001b[0;34m)\u001b[0m\u001b[0;34m\u001b[0m\u001b[0;34m\u001b[0m\u001b[0m\n",
            "\u001b[0;32m/usr/local/lib/python3.7/dist-packages/sklearn/compose/_column_transformer.py\u001b[0m in \u001b[0;36mfit_transform\u001b[0;34m(self, X, y)\u001b[0m\n\u001b[1;32m    670\u001b[0m         \u001b[0mself\u001b[0m\u001b[0;34m.\u001b[0m\u001b[0m_check_n_features\u001b[0m\u001b[0;34m(\u001b[0m\u001b[0mX\u001b[0m\u001b[0;34m,\u001b[0m \u001b[0mreset\u001b[0m\u001b[0;34m=\u001b[0m\u001b[0;32mTrue\u001b[0m\u001b[0;34m)\u001b[0m\u001b[0;34m\u001b[0m\u001b[0;34m\u001b[0m\u001b[0m\n\u001b[1;32m    671\u001b[0m         \u001b[0mself\u001b[0m\u001b[0;34m.\u001b[0m\u001b[0m_validate_transformers\u001b[0m\u001b[0;34m(\u001b[0m\u001b[0;34m)\u001b[0m\u001b[0;34m\u001b[0m\u001b[0;34m\u001b[0m\u001b[0m\n\u001b[0;32m--> 672\u001b[0;31m         \u001b[0mself\u001b[0m\u001b[0;34m.\u001b[0m\u001b[0m_validate_column_callables\u001b[0m\u001b[0;34m(\u001b[0m\u001b[0mX\u001b[0m\u001b[0;34m)\u001b[0m\u001b[0;34m\u001b[0m\u001b[0;34m\u001b[0m\u001b[0m\n\u001b[0m\u001b[1;32m    673\u001b[0m         \u001b[0mself\u001b[0m\u001b[0;34m.\u001b[0m\u001b[0m_validate_remainder\u001b[0m\u001b[0;34m(\u001b[0m\u001b[0mX\u001b[0m\u001b[0;34m)\u001b[0m\u001b[0;34m\u001b[0m\u001b[0;34m\u001b[0m\u001b[0m\n\u001b[1;32m    674\u001b[0m \u001b[0;34m\u001b[0m\u001b[0m\n",
            "\u001b[0;32m/usr/local/lib/python3.7/dist-packages/sklearn/compose/_column_transformer.py\u001b[0m in \u001b[0;36m_validate_column_callables\u001b[0;34m(self, X)\u001b[0m\n\u001b[1;32m    350\u001b[0m                 \u001b[0mcolumns\u001b[0m \u001b[0;34m=\u001b[0m \u001b[0mcolumns\u001b[0m\u001b[0;34m(\u001b[0m\u001b[0mX\u001b[0m\u001b[0;34m)\u001b[0m\u001b[0;34m\u001b[0m\u001b[0;34m\u001b[0m\u001b[0m\n\u001b[1;32m    351\u001b[0m             \u001b[0mall_columns\u001b[0m\u001b[0;34m.\u001b[0m\u001b[0mappend\u001b[0m\u001b[0;34m(\u001b[0m\u001b[0mcolumns\u001b[0m\u001b[0;34m)\u001b[0m\u001b[0;34m\u001b[0m\u001b[0;34m\u001b[0m\u001b[0m\n\u001b[0;32m--> 352\u001b[0;31m             \u001b[0mtransformer_to_input_indices\u001b[0m\u001b[0;34m[\u001b[0m\u001b[0mname\u001b[0m\u001b[0;34m]\u001b[0m \u001b[0;34m=\u001b[0m \u001b[0m_get_column_indices\u001b[0m\u001b[0;34m(\u001b[0m\u001b[0mX\u001b[0m\u001b[0;34m,\u001b[0m \u001b[0mcolumns\u001b[0m\u001b[0;34m)\u001b[0m\u001b[0;34m\u001b[0m\u001b[0;34m\u001b[0m\u001b[0m\n\u001b[0m\u001b[1;32m    353\u001b[0m \u001b[0;34m\u001b[0m\u001b[0m\n\u001b[1;32m    354\u001b[0m         \u001b[0mself\u001b[0m\u001b[0;34m.\u001b[0m\u001b[0m_columns\u001b[0m \u001b[0;34m=\u001b[0m \u001b[0mall_columns\u001b[0m\u001b[0;34m\u001b[0m\u001b[0;34m\u001b[0m\u001b[0m\n",
            "\u001b[0;32m/usr/local/lib/python3.7/dist-packages/sklearn/utils/__init__.py\u001b[0m in \u001b[0;36m_get_column_indices\u001b[0;34m(X, key)\u001b[0m\n\u001b[1;32m    410\u001b[0m         \u001b[0;32mexcept\u001b[0m \u001b[0mAttributeError\u001b[0m\u001b[0;34m:\u001b[0m\u001b[0;34m\u001b[0m\u001b[0;34m\u001b[0m\u001b[0m\n\u001b[1;32m    411\u001b[0m             raise ValueError(\n\u001b[0;32m--> 412\u001b[0;31m                 \u001b[0;34m\"Specifying the columns using strings is only \"\u001b[0m\u001b[0;34m\u001b[0m\u001b[0;34m\u001b[0m\u001b[0m\n\u001b[0m\u001b[1;32m    413\u001b[0m                 \u001b[0;34m\"supported for pandas DataFrames\"\u001b[0m\u001b[0;34m\u001b[0m\u001b[0;34m\u001b[0m\u001b[0m\n\u001b[1;32m    414\u001b[0m             )\n",
            "\u001b[0;31mValueError\u001b[0m: Specifying the columns using strings is only supported for pandas DataFrames"
          ]
        }
      ],
      "source": [
        "#Búsqueda del mejor resultado obtenido de la combinación de diferentes hiperparámetros\n",
        "Xx = columnasTransformer.fit_transform(X_train)\n",
        "\n",
        "grid.fit(Xx, np.ravel(y_train))\n",
        "best_params_mlp = grid.best_params_\n",
        "\n",
        "print('Mejor valor de f1 obtenido con la mejor combinación:', grid.best_score_)\n",
        "print('Mejor combinación de valores encontrados de los hiperparámetros:', best_params_mlp)\n",
        "print('Métrica utilizada:', grid.scoring)"
      ]
    },
    {
      "cell_type": "markdown",
      "metadata": {
        "id": "mASNrZWs8JTh"
      },
      "source": [
        "# **Ejercicio-9.**"
      ]
    },
    {
      "cell_type": "markdown",
      "metadata": {
        "id": "quYHTBoDlr-U"
      },
      "source": [
        "Con los mejores valores de los hiperparámetros encontrados realiza un análisis de la importancia de los factores. Muestra un diagrama de barras de los resultados e incluye tus conclusiones."
      ]
    },
    {
      "cell_type": "code",
      "execution_count": 316,
      "metadata": {
        "id": "X6HJP9hb8LCp",
        "colab": {
          "base_uri": "https://localhost:8080/",
          "height": 244
        },
        "outputId": "5257ae50-7afa-482f-ce2e-00fe6822c7d5"
      },
      "outputs": [
        {
          "output_type": "error",
          "ename": "NameError",
          "evalue": "ignored",
          "traceback": [
            "\u001b[0;31m---------------------------------------------------------------------------\u001b[0m",
            "\u001b[0;31mNameError\u001b[0m                                 Traceback (most recent call last)",
            "\u001b[0;32m<ipython-input-316-063ae5def0cf>\u001b[0m in \u001b[0;36m<module>\u001b[0;34m\u001b[0m\n\u001b[1;32m      1\u001b[0m \u001b[0;31m#Configuración del modelo con la mejor combinación obtenida\u001b[0m\u001b[0;34m\u001b[0m\u001b[0;34m\u001b[0m\u001b[0;34m\u001b[0m\u001b[0m\n\u001b[1;32m      2\u001b[0m best_modelo_mlp = MLPRegressor(\n\u001b[0;32m----> 3\u001b[0;31m     \u001b[0mmax_iter\u001b[0m \u001b[0;34m=\u001b[0m \u001b[0mbest_params_mlp\u001b[0m\u001b[0;34m[\u001b[0m\u001b[0;34m'max_iter'\u001b[0m\u001b[0;34m]\u001b[0m\u001b[0;34m,\u001b[0m\u001b[0;34m\u001b[0m\u001b[0;34m\u001b[0m\u001b[0m\n\u001b[0m\u001b[1;32m      4\u001b[0m     \u001b[0mhidden_layer_sizes\u001b[0m \u001b[0;34m=\u001b[0m \u001b[0mbest_params_mlp\u001b[0m\u001b[0;34m[\u001b[0m\u001b[0;34m'hidden_layer_sizes'\u001b[0m\u001b[0;34m]\u001b[0m\u001b[0;34m,\u001b[0m\u001b[0;34m\u001b[0m\u001b[0;34m\u001b[0m\u001b[0m\n\u001b[1;32m      5\u001b[0m     \u001b[0malpha\u001b[0m \u001b[0;34m=\u001b[0m \u001b[0mbest_params_mlp\u001b[0m\u001b[0;34m[\u001b[0m\u001b[0;34m'alpha'\u001b[0m\u001b[0;34m]\u001b[0m\u001b[0;34m,\u001b[0m\u001b[0;34m\u001b[0m\u001b[0;34m\u001b[0m\u001b[0m\n",
            "\u001b[0;31mNameError\u001b[0m: name 'best_params_mlp' is not defined"
          ]
        }
      ],
      "source": [
        "#Configuración del modelo con la mejor combinación obtenida\n",
        "best_modelo_mlp = MLPRegressor(\n",
        "    max_iter = best_params_mlp['max_iter'],\n",
        "    hidden_layer_sizes = best_params_mlp['hidden_layer_sizes'],\n",
        "    alpha = best_params_mlp['alpha'],\n",
        "    learning_rate_init = best_params_mlp['learning_rate_init'],\n",
        ")"
      ]
    },
    {
      "cell_type": "code",
      "execution_count": null,
      "metadata": {
        "id": "Xr6oe1VF8K_A"
      },
      "outputs": [],
      "source": [
        "# Parametros del Modelo\n",
        "pipeline = Pipeline(steps=[('ct', columnasTransformer), ('m', best_modelo_mlp)])\n",
        "\n",
        "kfold = KFold(n_splits=5, shuffle=True, random_state=42)\n",
        "#kfold = RepeatedKFold(n_splits=5, shuffle=True, random_state=42)\n",
        "\n",
        "mis_metricas ={'rmsee':make_scorer(rmse),\n",
        "               'mae':make_scorer(mae),\n",
        "               'mape':make_scorer(mape)}\n",
        "\n",
        "\n",
        "# Entrenamiento del modelo \n",
        "scores = cross_validate(pipeline, X_test, np.ravel(y_test), scoring = mis_metricas, cv=kfold)\n",
        "resultados.append(scores)\n",
        "\n",
        "print('%s:\\nRMSE: %.3f\\nMAE: %.3f\\nMAPE: %.3f\\n' % (\"Red Neuronal Multicapa\",\n",
        "                                                      np.mean(scores['test_rmsee']),\n",
        "                                                      np.mean(scores['test_mae']),\n",
        "                                                      np.mean(scores['test_mape']),\n",
        "                                                   ))"
      ]
    },
    {
      "cell_type": "code",
      "source": [
        "importance = permutation_importance(best_modelo_mlp, X_test, y_test, n_repeats=10)\n",
        "\n",
        "# visualicemos la importancia de cada métrica, de las cuales sabemos\n",
        "# cuáles son las más importantes, de acuerdo a como se definieron al inicio:\n",
        "\n",
        "for i,v in enumerate(importance['importances_mean']):\n",
        "\tprint('Feature: %0d, Score: %.5f' % (i,v))\n",
        " \n",
        "plt.bar([x for x in range(len(importance['importances_mean']))], importance['importances_mean'])\n",
        "plt.show()"
      ],
      "metadata": {
        "id": "aqLCFFWctNbu"
      },
      "execution_count": null,
      "outputs": []
    },
    {
      "cell_type": "markdown",
      "metadata": {
        "id": "VUIcDshs8MzG"
      },
      "source": [
        "# **Ejercicio-10.**"
      ]
    },
    {
      "cell_type": "markdown",
      "metadata": {
        "id": "P2NltBZ8lr-V"
      },
      "source": [
        "Repite el ejercicio 8 y 9 para el modelo de bosque aleatorio para buscar sus mejores hiperparámetros (realiza la búsqueda con aquellos hiperparámetros que consideres más adecuados) y usando el conjunto de Prueba. Y realiza igualmente el análisis de importancia de  factores con este modelo con un diagrama de barras. "
      ]
    },
    {
      "cell_type": "code",
      "execution_count": null,
      "metadata": {
        "id": "0lKNJNIt8N88"
      },
      "outputs": [],
      "source": [
        "#Configuración de diferentes valores para los hiperparámetros del modelo.\n",
        "modelo = RandomForestRegressor(n_estimators=50)\n",
        "\n",
        "pipe = Pipeline(steps=[\n",
        "    ('ct', columnasTransformer),\n",
        "    ('RandomForestRegressor', modelo)\n",
        "])\n",
        "\n",
        "dicc_grid = {\n",
        "            'RandomForestRegressor__n_estimators':[100, 150, 200, 250,300],\n",
        "            'RandomForestRegressor__criterion':[\"squared_error\", \"poisson\"] \n",
        "        }\n",
        "\n",
        "cv = RepeatedKFold(n_splits=5, n_repeats=3, random_state=0)\n",
        "\n",
        "grid = GridSearchCV(pipe, \n",
        "                    dicc_grid, \n",
        "                    cv=cv\n",
        "                )"
      ]
    },
    {
      "cell_type": "code",
      "execution_count": null,
      "metadata": {
        "id": "Inkq5YQe8PED"
      },
      "outputs": [],
      "source": [
        "#Búsqueda del mejor resultado obtenido de la combinación de diferentes hiperparámetros\n",
        "Xx = columnasTransformer.fit_transform(X_train)\n",
        "\n",
        "grid.fit(Xx, np.ravel(y_train))\n",
        "best_params_rf =  grid.best_params_\n",
        "\n",
        "print('Mejor valor de \"recall\" obtenido con la mejor combinación:', grid.best_score_)\n",
        "print('Mejor combinación de valores encontrados de los hiperparámetros:', best_params_rf)\n",
        "print('Métrica utilizada:', grid.scoring)"
      ]
    },
    {
      "cell_type": "code",
      "source": [
        "#Configuración del modelo con la mejor combinación obtenida Random Forest\n",
        "best_modelo_rf = RandomForestRegressor(\n",
        "                            n_estimators = best_params_rf[\"n_estimators\"],\n",
        "                            criterion= best_params_rf[\"criterion\"],\n",
        "                           )"
      ],
      "metadata": {
        "id": "Q6LS2kf4tVr8"
      },
      "execution_count": null,
      "outputs": []
    },
    {
      "cell_type": "code",
      "source": [
        "# Parametros del Modelo\n",
        "pipeline = Pipeline(steps=[('ct', columnasTransformer), ('m', best_modelo_rf)])\n",
        "\n",
        "kfold = KFold(n_splits=5, shuffle=True, random_state=42)\n",
        "#kfold = RepeatedKFold(n_splits=5, shuffle=True, random_state=42)\n",
        "\n",
        "mis_metricas ={'rmsee':make_scorer(rmse),\n",
        "               'mae':make_scorer(mae),\n",
        "               'mape':make_scorer(mape)}\n",
        "\n",
        "\n",
        "# Entrenamiento del modelo \n",
        "scores = cross_validate(pipeline, X_test, np.ravel(y_test), scoring = mis_metricas, cv=kfold)\n",
        "resultados.append(scores)\n",
        "\n",
        "print('%s:\\nRMSE: %.3f\\nMAE: %.3f\\nMAPE: %.3f\\n' % (\"Bosque Aleatorio\",\n",
        "                                                      np.mean(scores['test_rmsee']),\n",
        "                                                      np.mean(scores['test_mae']),\n",
        "                                                      np.mean(scores['test_mape']),\n",
        "                                                   ))"
      ],
      "metadata": {
        "id": "UX27lOaNtVke"
      },
      "execution_count": null,
      "outputs": []
    },
    {
      "cell_type": "code",
      "source": [
        "importance = permutation_importance(best_modelo_rf, X_test, y_test, n_repeats=10)\n",
        "\n",
        "# visualicemos la importancia de cada métrica, de las cuales sabemos\n",
        "# cuáles son las más importantes, de acuerdo a como se definieron al inicio:\n",
        "\n",
        "for i,v in enumerate(importance['importances_mean']):\n",
        "\tprint('Feature: %0d, Score: %.5f' % (i,v))\n",
        " \n",
        "plt.bar([x for x in range(len(importance['importances_mean']))], importance['importances_mean'])\n",
        "plt.show()"
      ],
      "metadata": {
        "id": "cDGTHtaItbPE"
      },
      "execution_count": null,
      "outputs": []
    },
    {
      "cell_type": "markdown",
      "metadata": {
        "id": "5LJl6oql8Pc8"
      },
      "source": [
        "# **Ejercicio-11.**"
      ]
    },
    {
      "cell_type": "markdown",
      "metadata": {
        "id": "bc0X2EJ4lr-V"
      },
      "source": [
        "Repite el ejercicio 8 y 9 para el modelo de regresión lineal múltiple para buscar sus mejores hiperparámetros (realiza la búsqueda con aquellos hiperparámetros que consideres más adecuados) y usando el conjunto de Prueba. Y realiza igualmente el análisis de importancia de factores con este modelo con un diagrama de barras. "
      ]
    },
    {
      "cell_type": "code",
      "execution_count": null,
      "metadata": {
        "id": "-YiSnt9t8RfN"
      },
      "outputs": [],
      "source": [
        "#Configuración de diferentes valores para los hiperparámetros del modelo.\n",
        "modelo = LinearRegression(penalty='l2', max_iter=10000, random_state=0)\n",
        "\n",
        "dicc_grid = {\n",
        "              'C':[0.0001,0.01,0.1,1.0,10.,100.],\n",
        "              'solver':['newton-cg','lbfgs','liblinear','sag','saga'],\n",
        "              'class_weight':['balanced']\n",
        "            }\n",
        "\n",
        "cv = RepeatedKFold(n_splits=5, n_repeats=3, random_state=0)\n",
        "\n",
        "grid = GridSearchCV(estimator=modelo, \n",
        "                    param_grid=dicc_grid, \n",
        "                    cv=cv, \n",
        "                  )"
      ]
    },
    {
      "cell_type": "code",
      "execution_count": null,
      "metadata": {
        "id": "2iRA78ZC8Rbm"
      },
      "outputs": [],
      "source": [
        "#Búsqueda del mejor resultado obtenido de la combinación de diferentes hiperparámetros\n",
        "Xx = columnasTransformer.fit_transform(X_train)\n",
        "\n",
        "grid.fit(Xx, np.ravel(y_train))\n",
        "best_params_lrm = grid.best_params_\n",
        "\n",
        "print('Mejor valor de f1 obtenido con la mejor combinación:', grid.best_score_)\n",
        "print('Mejor combinación de valores encontrados de los hiperparámetros:', best_params_lrm)\n",
        "print('Métrica utilizada:', grid.scoring)"
      ]
    },
    {
      "cell_type": "code",
      "source": [
        "#Configuración del modelo con la mejor combinación obtenida\n",
        "best_modelo_lr = LogisticRegression(penalty='l2', \n",
        "                            max_iter=10000,\n",
        "                            C = best_params_lrm['C'],\n",
        "                            class_weight = best_params_lrm['class_weight'],\n",
        "                            solver = best_params_lrm['solver'],\n",
        "                            random_state=1)"
      ],
      "metadata": {
        "id": "8RrC9lIqtjp0"
      },
      "execution_count": null,
      "outputs": []
    },
    {
      "cell_type": "code",
      "source": [
        "# Parametros del Modelo\n",
        "pipeline = Pipeline(steps=[('ct', columnasTransformer), ('m', best_modelo_lr)])\n",
        "\n",
        "kfold = KFold(n_splits=5, shuffle=True, random_state=42)\n",
        "#kfold = RepeatedKFold(n_splits=5, shuffle=True, random_state=42)\n",
        "\n",
        "mis_metricas ={'rmsee':make_scorer(rmse),\n",
        "               'mae':make_scorer(mae),\n",
        "               'mape':make_scorer(mape)}\n",
        "\n",
        "\n",
        "# Entrenamiento del modelo \n",
        "scores = cross_validate(pipeline, X_test, np.ravel(y_test), scoring = mis_metricas, cv=kfold)\n",
        "resultados.append(scores)\n",
        "\n",
        "print('%s:\\nRMSE: %.3f\\nMAE: %.3f\\nMAPE: %.3f\\n' % (\"Regresión lineal\",\n",
        "                                                      np.mean(scores['test_rmsee']),\n",
        "                                                      np.mean(scores['test_mae']),\n",
        "                                                      np.mean(scores['test_mape']),\n",
        "                                                   ))"
      ],
      "metadata": {
        "id": "ew4jgjvZtmjs"
      },
      "execution_count": null,
      "outputs": []
    },
    {
      "cell_type": "code",
      "source": [
        "importance = permutation_importance(best_modelo_lr, X_test, y_test, n_repeats=10)\n",
        "\n",
        "# visualicemos la importancia de cada métrica, de las cuales sabemos\n",
        "# cuáles son las más importantes, de acuerdo a como se definieron al inicio:\n",
        "\n",
        "for i,v in enumerate(importance['importances_mean']):\n",
        "\tprint('Feature: %0d, Score: %.5f' % (i,v))\n",
        " \n",
        "plt.bar([x for x in range(len(importance['importances_mean']))], importance['importances_mean'])\n",
        "plt.show()"
      ],
      "metadata": {
        "id": "aXUv4inutmf0"
      },
      "execution_count": null,
      "outputs": []
    },
    {
      "cell_type": "markdown",
      "metadata": {
        "id": "IKW72uyk8Sbc"
      },
      "source": [
        "# **Ejercicio-12.**"
      ]
    },
    {
      "cell_type": "markdown",
      "metadata": {
        "id": "sV1suMT0lr-V"
      },
      "source": [
        "Compara tus resultados con los obtenidos por los autores del artículo de Moro-Rita-Vala con respecto a MAPE. Incluye tus conclusiones finales de la actividad."
      ]
    },
    {
      "cell_type": "code",
      "execution_count": null,
      "metadata": {
        "id": "gwpz77W38Uq0"
      },
      "outputs": [],
      "source": [
        "None"
      ]
    },
    {
      "cell_type": "code",
      "execution_count": null,
      "metadata": {
        "id": "8v8HL02W8UmW"
      },
      "outputs": [],
      "source": []
    },
    {
      "cell_type": "markdown",
      "metadata": {
        "id": "7ql_r2G-DB_m"
      },
      "source": [
        "### **Fin de la Actividad de la semana 7.**"
      ]
    }
  ],
  "metadata": {
    "colab": {
      "collapsed_sections": [],
      "provenance": [],
      "toc_visible": true
    },
    "kernelspec": {
      "display_name": "Python 3.10.7 64-bit",
      "language": "python",
      "name": "python3"
    },
    "language_info": {
      "codemirror_mode": {
        "name": "ipython",
        "version": 3
      },
      "file_extension": ".py",
      "mimetype": "text/x-python",
      "name": "python",
      "nbconvert_exporter": "python",
      "pygments_lexer": "ipython3",
      "version": "3.10.7"
    },
    "vscode": {
      "interpreter": {
        "hash": "4435b413409b7307cd356ee89e19765aec4b40a42c29a345f39f43dd56cea7e2"
      }
    }
  },
  "nbformat": 4,
  "nbformat_minor": 0
}
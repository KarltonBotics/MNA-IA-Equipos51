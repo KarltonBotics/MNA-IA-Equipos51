{
  "cells": [
    {
      "cell_type": "markdown",
      "metadata": {
        "colab_type": "text",
        "id": "view-in-github"
      },
      "source": [
        "<a href=\"https://colab.research.google.com/github/KarltonBotics/MNA-IA-Equipos51/blob/main/MNA_IAyAA_semana_7_Actividad.ipynb\" target=\"_parent\"><img src=\"https://colab.research.google.com/assets/colab-badge.svg\" alt=\"Open In Colab\"/></a>"
      ]
    },
    {
      "cell_type": "markdown",
      "metadata": {
        "id": "VFj0sSM06dYa"
      },
      "source": [
        "# **Maestría en Inteligencia Artificial Aplicada**\n",
        "## **Curso: Inteligencia Artificial y Aprendizaje Automático**\n",
        "### Tecnológico de Monterrey\n",
        "### Prof Luis Eduardo Falcón Morales\n",
        "\n",
        "## **Adtividad de la Semana 7**\n",
        "### **Red Neuronal Artificial - Perceptrón Multicapa : Multilayer Perceptrón (MLP)**\n"
      ]
    },
    {
      "cell_type": "markdown",
      "metadata": {
        "id": "Qgrvy0RGB9XI"
      },
      "source": [
        "**Nombres y matrículas de los integrantes del equipo:**\n",
        "\n",
        "*   Carlos Enríquez Gorgonio A01793102\n",
        "*   Fernando Ramírez Gómez A01298109\n",
        "*   Francisco Javier Ramírez Arias A01316379\n",
        "*   Jessica Lechuga Ramos A01793512\n",
        "*   Moisés Rangel Silva A00143704"
      ]
    },
    {
      "cell_type": "markdown",
      "metadata": {
        "id": "ynIhlp3clr-N"
      },
      "source": [
        "Esta Tarea se deberá resolver en equipos, de acuerdo a como fueron integrados al inicio del curso. \n",
        "\n",
        "El artículo del 2016 de Moro, Rita & Vala relacionado al presente problema lo encuentras aquí: https://www.semanticscholar.org/paper/Predicting-social-media-performance-metrics-and-of-Moro-Rita/dec55692590820754b53c916e29bb2b42c0e5104  \n",
        " \n",
        "Y el conjunto de datos utilizado es el de la siguiente liga de la UCI: https://archive.ics.uci.edu/ml/datasets/Facebook+metrics \n",
        "\n",
        "\n",
        "El archivo se llama dataset_Facebook.csv y contiene 500 registros y 19 columnas.  El objetivo es determinar el impacto generado por un anuncio de una marca de cosméticos en  Facebook, en el cual se intentaron varias variantes en la manera de mostrar el anuncio. Siguiendo el  artículo, deberás considerar como predictores o variables de entrada aquellas que se indican en la Tabla 3. Por otro lado, en la Tabla 2, los autores consideran varios casos para la variable de salida, intentando  determinar cuál puede ser el mejor caso para medir el éxito de la campaña. Para este ejercicio deberás  considerar únicamente los siguientes tres casos como variable de salida: “Lifetime post consumers”,  “Lifetime People who have liked a Page and engaged with a post” y “Likes”."
      ]
    },
    {
      "cell_type": "markdown",
      "metadata": {
        "id": "FrJ2ahMODVj1"
      },
      "source": [
        "En cada sección deberás incluir todas las líneas de código necesarias para responder a cada uno de los ejercicios."
      ]
    },
    {
      "cell_type": "markdown",
      "metadata": {
        "id": "SSItQX11pPow"
      },
      "source": [
        "### DATA\n",
        "El data set, con 500 resgistros, es una muestra de los datos recopilados entre enero 1 y diciembre 31 de 2014. Contiene 19 columnas, de las cuales 7 features son conocidos antes de la publicación del anuncio (post) y los otros 12 features son usados para evaluar el impacto del post.\n",
        "\n",
        "Los 12 features consisten en 11 features exportados de la página de Facebook más una columna que computa el total de interacciones (pgae total likes), y contienen las métricas asociadas al desempeño del post, por lo tanto, cualquiera de estos features pueden ser usados como feature de salida para predicción.\n",
        "\n",
        "Los otros 7 features son considerados de entrada. Estos a su vez fueron limpiados y ajustados, eliminando el 'post id', 'post message', 'permanent link', pues no dan valor al modelo, y asjustando la fecha, 'posted', a tres características: 'Post Month', 'Post Weekday', y 'Post Hour'.\n",
        "\n",
        "El conjunto de datos se divide en cuatro categorías o tipos de features, según la información que proveen:\n",
        "* de Identificación: permiten identificar, de manera individual, cada post.\n",
        "* de Contenido: el contenido textual de cada post.\n",
        "* de Categorización: features que caracterizan el post.\n",
        "* de Desempeño: métricas para medir el impacto del post (o el impacto de la página, para el caso de \"Page total likes\").\n",
        "\n",
        "\n",
        "\n"
      ]
    },
    {
      "cell_type": "markdown",
      "metadata": {
        "id": "d9BFu3zE8OMM"
      },
      "source": [
        "##### Features de Salida\n",
        "Feature                   | Desciption\n",
        "--------------------------|---------------------------\n",
        "Lifetime post total reach | The number of people who saw a page post (unique users).\n",
        "Lifetime post total impressions | Impressions are the number of times a post from a page is displayed, whether the post is clicked or not. People may see multiple impressions of the same post. For example, someone might see a Page update in News Feed once, and then a second time if a friend shares it.\n",
        "Lifetime engaged users | The number of people who clicked anywhere in a post (unique users).\n",
        "Lifetime post consumers | The number of people who clicked anywhere in a post.\n",
        "Lifetime post consumptions | The number of clicks anywhere in a post.\n",
        "Lifetime post impressions by people who have liked a page | Total number of impressions just from people who have liked a page.\n",
        "Lifetime post reach by people who like a page | The number of people who saw a page post because they have liked that page (unique users).\n",
        "**Lifetime people who have liked a page and engaged with a post** | The number of people who have liked a Page and clicked anywhere in a post (Unique users).\n",
        "Comments | Number of comments on the publication.\n",
        "Likes | Number of “Likes” on the publication.\n",
        "Shares | Number of times the publication was shared.\n",
        "Total interactions | The sum of “likes,” “comments,” and “shares” of the post.\n",
        "<br>\n",
        "\n",
        "##### Features de Entrada\n",
        "\n",
        "Feature                   | Desciption\n",
        "--------------------------|---------------------------\n",
        "Category | Manual content characterization: action (special offers and contests, product (direct advertisement, explicit brand content), and inspiration non-explicit brand related content).\n",
        "Page total likes | Number of people who have liked the company's page.\n",
        "Type | Type of content (Link, Photo, Status, Video).\n",
        "Post month | Month the post was published (January, February, March, …, December).\n",
        "Post hour | Hour the post was published (0, 1, 2, 3, 4, …, 23).\n",
        "Post weekday | Weekday the post was published (Sunday, Monday, …, Saturday).\n",
        "Paid | If the company paid to Facebook for advertising (yes, no).\n",
        "<br>\n"
      ]
    },
    {
      "cell_type": "markdown",
      "metadata": {
        "id": "JytPcSapYMkg"
      },
      "source": [
        "### Librerías"
      ]
    },
    {
      "cell_type": "code",
      "execution_count": 55,
      "metadata": {
        "id": "exXsscs-Dh-2"
      },
      "outputs": [],
      "source": [
        "# Módulos, librerías y paquetes requeridos.\n",
        "\n",
        "import graphviz\n",
        "import math\n",
        "import matplotlib.pyplot as plt\n",
        "import pandas as pd\n",
        "import pydotplus\n",
        "import seaborn as sns\n",
        "import missingno as msno\n",
        "import numpy as np\n",
        "\n",
        "from IPython.display import Image\n",
        "from sklearn import tree\n",
        "from sklearn.compose import ColumnTransformer\n",
        "from sklearn.dummy import DummyRegressor\n",
        "from sklearn.ensemble import RandomForestClassifier, RandomForestRegressor\n",
        "from sklearn.impute import SimpleImputer\n",
        "from sklearn.linear_model import LogisticRegression, LinearRegression\n",
        "from sklearn.metrics import confusion_matrix, make_scorer\n",
        "from sklearn.model_selection import GridSearchCV, RepeatedStratifiedKFold, KFold, train_test_split, cross_validate, learning_curve\n",
        "from sklearn.neural_network import MLPRegressor\n",
        "from sklearn.preprocessing import MinMaxScaler, OneHotEncoder, OneHotEncoder, FunctionTransformer\n",
        "from sklearn.pipeline import Pipeline\n",
        "from sklearn.tree import DecisionTreeClassifier"
      ]
    },
    {
      "cell_type": "markdown",
      "metadata": {
        "id": "X25brD-gQdZM"
      },
      "source": [
        "# **Ejercicio-1.** "
      ]
    },
    {
      "cell_type": "markdown",
      "metadata": {
        "id": "wrXVR3OQlr-P"
      },
      "source": [
        "En esta tarea considera únicamente la siguiente variable de salida que se concluye que es una de las \n",
        "mejores en el artículo antes citado:  ‘Lifetime People who have liked a Page and engaged with a \n",
        "post'. Renombra dicha variable como “LPE” . Como variables de entrada selecciona las 7 variables \n",
        "que indican los autores en la Tabla 3 del artículo citado. "
      ]
    },
    {
      "cell_type": "code",
      "execution_count": 56,
      "metadata": {
        "colab": {
          "base_uri": "https://localhost:8080/",
          "height": 426
        },
        "id": "3nU2GuWYCy6C",
        "outputId": "b112cf8f-9c89-40ae-ad74-e40c180f5a33"
      },
      "outputs": [
        {
          "data": {
            "text/html": [
              "<div>\n",
              "<style scoped>\n",
              "    .dataframe tbody tr th:only-of-type {\n",
              "        vertical-align: middle;\n",
              "    }\n",
              "\n",
              "    .dataframe tbody tr th {\n",
              "        vertical-align: top;\n",
              "    }\n",
              "\n",
              "    .dataframe thead th {\n",
              "        text-align: right;\n",
              "    }\n",
              "</style>\n",
              "<table border=\"1\" class=\"dataframe\">\n",
              "  <thead>\n",
              "    <tr style=\"text-align: right;\">\n",
              "      <th></th>\n",
              "      <th>Page total likes</th>\n",
              "      <th>Type</th>\n",
              "      <th>Category</th>\n",
              "      <th>Post Month</th>\n",
              "      <th>Post Weekday</th>\n",
              "      <th>Post Hour</th>\n",
              "      <th>Paid</th>\n",
              "      <th>Lifetime Post Total Reach</th>\n",
              "      <th>Lifetime Post Total Impressions</th>\n",
              "      <th>Lifetime Engaged Users</th>\n",
              "      <th>Lifetime Post Consumers</th>\n",
              "      <th>Lifetime Post Consumptions</th>\n",
              "      <th>Lifetime Post Impressions by people who have liked your Page</th>\n",
              "      <th>Lifetime Post reach by people who like your Page</th>\n",
              "      <th>Lifetime People who have liked your Page and engaged with your post</th>\n",
              "      <th>comment</th>\n",
              "      <th>like</th>\n",
              "      <th>share</th>\n",
              "      <th>Total Interactions</th>\n",
              "    </tr>\n",
              "  </thead>\n",
              "  <tbody>\n",
              "    <tr>\n",
              "      <th>0</th>\n",
              "      <td>139441</td>\n",
              "      <td>Photo</td>\n",
              "      <td>2</td>\n",
              "      <td>12</td>\n",
              "      <td>4</td>\n",
              "      <td>3</td>\n",
              "      <td>0.0</td>\n",
              "      <td>2752</td>\n",
              "      <td>5091</td>\n",
              "      <td>178</td>\n",
              "      <td>109</td>\n",
              "      <td>159</td>\n",
              "      <td>3078</td>\n",
              "      <td>1640</td>\n",
              "      <td>119</td>\n",
              "      <td>4</td>\n",
              "      <td>79.0</td>\n",
              "      <td>17.0</td>\n",
              "      <td>100</td>\n",
              "    </tr>\n",
              "    <tr>\n",
              "      <th>1</th>\n",
              "      <td>139441</td>\n",
              "      <td>Status</td>\n",
              "      <td>2</td>\n",
              "      <td>12</td>\n",
              "      <td>3</td>\n",
              "      <td>10</td>\n",
              "      <td>0.0</td>\n",
              "      <td>10460</td>\n",
              "      <td>19057</td>\n",
              "      <td>1457</td>\n",
              "      <td>1361</td>\n",
              "      <td>1674</td>\n",
              "      <td>11710</td>\n",
              "      <td>6112</td>\n",
              "      <td>1108</td>\n",
              "      <td>5</td>\n",
              "      <td>130.0</td>\n",
              "      <td>29.0</td>\n",
              "      <td>164</td>\n",
              "    </tr>\n",
              "    <tr>\n",
              "      <th>2</th>\n",
              "      <td>139441</td>\n",
              "      <td>Photo</td>\n",
              "      <td>3</td>\n",
              "      <td>12</td>\n",
              "      <td>3</td>\n",
              "      <td>3</td>\n",
              "      <td>0.0</td>\n",
              "      <td>2413</td>\n",
              "      <td>4373</td>\n",
              "      <td>177</td>\n",
              "      <td>113</td>\n",
              "      <td>154</td>\n",
              "      <td>2812</td>\n",
              "      <td>1503</td>\n",
              "      <td>132</td>\n",
              "      <td>0</td>\n",
              "      <td>66.0</td>\n",
              "      <td>14.0</td>\n",
              "      <td>80</td>\n",
              "    </tr>\n",
              "    <tr>\n",
              "      <th>3</th>\n",
              "      <td>139441</td>\n",
              "      <td>Photo</td>\n",
              "      <td>2</td>\n",
              "      <td>12</td>\n",
              "      <td>2</td>\n",
              "      <td>10</td>\n",
              "      <td>1.0</td>\n",
              "      <td>50128</td>\n",
              "      <td>87991</td>\n",
              "      <td>2211</td>\n",
              "      <td>790</td>\n",
              "      <td>1119</td>\n",
              "      <td>61027</td>\n",
              "      <td>32048</td>\n",
              "      <td>1386</td>\n",
              "      <td>58</td>\n",
              "      <td>1572.0</td>\n",
              "      <td>147.0</td>\n",
              "      <td>1777</td>\n",
              "    </tr>\n",
              "    <tr>\n",
              "      <th>4</th>\n",
              "      <td>139441</td>\n",
              "      <td>Photo</td>\n",
              "      <td>2</td>\n",
              "      <td>12</td>\n",
              "      <td>2</td>\n",
              "      <td>3</td>\n",
              "      <td>0.0</td>\n",
              "      <td>7244</td>\n",
              "      <td>13594</td>\n",
              "      <td>671</td>\n",
              "      <td>410</td>\n",
              "      <td>580</td>\n",
              "      <td>6228</td>\n",
              "      <td>3200</td>\n",
              "      <td>396</td>\n",
              "      <td>19</td>\n",
              "      <td>325.0</td>\n",
              "      <td>49.0</td>\n",
              "      <td>393</td>\n",
              "    </tr>\n",
              "  </tbody>\n",
              "</table>\n",
              "</div>"
            ],
            "text/plain": [
              "   Page total likes    Type  Category  Post Month  Post Weekday  Post Hour  \\\n",
              "0            139441   Photo         2          12             4          3   \n",
              "1            139441  Status         2          12             3         10   \n",
              "2            139441   Photo         3          12             3          3   \n",
              "3            139441   Photo         2          12             2         10   \n",
              "4            139441   Photo         2          12             2          3   \n",
              "\n",
              "   Paid  Lifetime Post Total Reach  Lifetime Post Total Impressions  \\\n",
              "0   0.0                       2752                             5091   \n",
              "1   0.0                      10460                            19057   \n",
              "2   0.0                       2413                             4373   \n",
              "3   1.0                      50128                            87991   \n",
              "4   0.0                       7244                            13594   \n",
              "\n",
              "   Lifetime Engaged Users  Lifetime Post Consumers  \\\n",
              "0                     178                      109   \n",
              "1                    1457                     1361   \n",
              "2                     177                      113   \n",
              "3                    2211                      790   \n",
              "4                     671                      410   \n",
              "\n",
              "   Lifetime Post Consumptions  \\\n",
              "0                         159   \n",
              "1                        1674   \n",
              "2                         154   \n",
              "3                        1119   \n",
              "4                         580   \n",
              "\n",
              "   Lifetime Post Impressions by people who have liked your Page  \\\n",
              "0                                               3078              \n",
              "1                                              11710              \n",
              "2                                               2812              \n",
              "3                                              61027              \n",
              "4                                               6228              \n",
              "\n",
              "   Lifetime Post reach by people who like your Page  \\\n",
              "0                                              1640   \n",
              "1                                              6112   \n",
              "2                                              1503   \n",
              "3                                             32048   \n",
              "4                                              3200   \n",
              "\n",
              "   Lifetime People who have liked your Page and engaged with your post  \\\n",
              "0                                                119                     \n",
              "1                                               1108                     \n",
              "2                                                132                     \n",
              "3                                               1386                     \n",
              "4                                                396                     \n",
              "\n",
              "   comment    like  share  Total Interactions  \n",
              "0        4    79.0   17.0                 100  \n",
              "1        5   130.0   29.0                 164  \n",
              "2        0    66.0   14.0                  80  \n",
              "3       58  1572.0  147.0                1777  \n",
              "4       19   325.0   49.0                 393  "
            ]
          },
          "execution_count": 56,
          "metadata": {},
          "output_type": "execute_result"
        }
      ],
      "source": [
        "# Importación de archivo a DataFrame\n",
        "df= pd.read_csv('https://raw.githubusercontent.com/KarltonBotics/MNA-IA-Equipos51/main/dataset_Facebook.csv', sep=';')\n",
        "df.head()"
      ]
    },
    {
      "cell_type": "code",
      "execution_count": 57,
      "metadata": {
        "colab": {
          "base_uri": "https://localhost:8080/",
          "height": 270
        },
        "id": "0ulkqXVGCy97",
        "outputId": "b2324691-e91e-45a7-e4e7-9b6c6d5ad9a1"
      },
      "outputs": [
        {
          "data": {
            "text/html": [
              "<div>\n",
              "<style scoped>\n",
              "    .dataframe tbody tr th:only-of-type {\n",
              "        vertical-align: middle;\n",
              "    }\n",
              "\n",
              "    .dataframe tbody tr th {\n",
              "        vertical-align: top;\n",
              "    }\n",
              "\n",
              "    .dataframe thead th {\n",
              "        text-align: right;\n",
              "    }\n",
              "</style>\n",
              "<table border=\"1\" class=\"dataframe\">\n",
              "  <thead>\n",
              "    <tr style=\"text-align: right;\">\n",
              "      <th></th>\n",
              "      <th>total_likes</th>\n",
              "      <th>type</th>\n",
              "      <th>category</th>\n",
              "      <th>post_month</th>\n",
              "      <th>post_weekday</th>\n",
              "      <th>post_hour</th>\n",
              "      <th>paid</th>\n",
              "      <th>lptr</th>\n",
              "      <th>lpti</th>\n",
              "      <th>leu</th>\n",
              "      <th>lpcm</th>\n",
              "      <th>lpcn</th>\n",
              "      <th>lpiplp</th>\n",
              "      <th>lprplp</th>\n",
              "      <th>lpe</th>\n",
              "      <th>comment</th>\n",
              "      <th>like</th>\n",
              "      <th>share</th>\n",
              "      <th>interactions</th>\n",
              "    </tr>\n",
              "  </thead>\n",
              "  <tbody>\n",
              "    <tr>\n",
              "      <th>0</th>\n",
              "      <td>139441</td>\n",
              "      <td>Photo</td>\n",
              "      <td>2</td>\n",
              "      <td>12</td>\n",
              "      <td>4</td>\n",
              "      <td>3</td>\n",
              "      <td>0.0</td>\n",
              "      <td>2752</td>\n",
              "      <td>5091</td>\n",
              "      <td>178</td>\n",
              "      <td>109</td>\n",
              "      <td>159</td>\n",
              "      <td>3078</td>\n",
              "      <td>1640</td>\n",
              "      <td>119</td>\n",
              "      <td>4</td>\n",
              "      <td>79.0</td>\n",
              "      <td>17.0</td>\n",
              "      <td>100</td>\n",
              "    </tr>\n",
              "    <tr>\n",
              "      <th>1</th>\n",
              "      <td>139441</td>\n",
              "      <td>Status</td>\n",
              "      <td>2</td>\n",
              "      <td>12</td>\n",
              "      <td>3</td>\n",
              "      <td>10</td>\n",
              "      <td>0.0</td>\n",
              "      <td>10460</td>\n",
              "      <td>19057</td>\n",
              "      <td>1457</td>\n",
              "      <td>1361</td>\n",
              "      <td>1674</td>\n",
              "      <td>11710</td>\n",
              "      <td>6112</td>\n",
              "      <td>1108</td>\n",
              "      <td>5</td>\n",
              "      <td>130.0</td>\n",
              "      <td>29.0</td>\n",
              "      <td>164</td>\n",
              "    </tr>\n",
              "    <tr>\n",
              "      <th>2</th>\n",
              "      <td>139441</td>\n",
              "      <td>Photo</td>\n",
              "      <td>3</td>\n",
              "      <td>12</td>\n",
              "      <td>3</td>\n",
              "      <td>3</td>\n",
              "      <td>0.0</td>\n",
              "      <td>2413</td>\n",
              "      <td>4373</td>\n",
              "      <td>177</td>\n",
              "      <td>113</td>\n",
              "      <td>154</td>\n",
              "      <td>2812</td>\n",
              "      <td>1503</td>\n",
              "      <td>132</td>\n",
              "      <td>0</td>\n",
              "      <td>66.0</td>\n",
              "      <td>14.0</td>\n",
              "      <td>80</td>\n",
              "    </tr>\n",
              "    <tr>\n",
              "      <th>3</th>\n",
              "      <td>139441</td>\n",
              "      <td>Photo</td>\n",
              "      <td>2</td>\n",
              "      <td>12</td>\n",
              "      <td>2</td>\n",
              "      <td>10</td>\n",
              "      <td>1.0</td>\n",
              "      <td>50128</td>\n",
              "      <td>87991</td>\n",
              "      <td>2211</td>\n",
              "      <td>790</td>\n",
              "      <td>1119</td>\n",
              "      <td>61027</td>\n",
              "      <td>32048</td>\n",
              "      <td>1386</td>\n",
              "      <td>58</td>\n",
              "      <td>1572.0</td>\n",
              "      <td>147.0</td>\n",
              "      <td>1777</td>\n",
              "    </tr>\n",
              "    <tr>\n",
              "      <th>4</th>\n",
              "      <td>139441</td>\n",
              "      <td>Photo</td>\n",
              "      <td>2</td>\n",
              "      <td>12</td>\n",
              "      <td>2</td>\n",
              "      <td>3</td>\n",
              "      <td>0.0</td>\n",
              "      <td>7244</td>\n",
              "      <td>13594</td>\n",
              "      <td>671</td>\n",
              "      <td>410</td>\n",
              "      <td>580</td>\n",
              "      <td>6228</td>\n",
              "      <td>3200</td>\n",
              "      <td>396</td>\n",
              "      <td>19</td>\n",
              "      <td>325.0</td>\n",
              "      <td>49.0</td>\n",
              "      <td>393</td>\n",
              "    </tr>\n",
              "  </tbody>\n",
              "</table>\n",
              "</div>"
            ],
            "text/plain": [
              "   total_likes    type  category  post_month  post_weekday  post_hour  paid  \\\n",
              "0       139441   Photo         2          12             4          3   0.0   \n",
              "1       139441  Status         2          12             3         10   0.0   \n",
              "2       139441   Photo         3          12             3          3   0.0   \n",
              "3       139441   Photo         2          12             2         10   1.0   \n",
              "4       139441   Photo         2          12             2          3   0.0   \n",
              "\n",
              "    lptr   lpti   leu  lpcm  lpcn  lpiplp  lprplp   lpe  comment    like  \\\n",
              "0   2752   5091   178   109   159    3078    1640   119        4    79.0   \n",
              "1  10460  19057  1457  1361  1674   11710    6112  1108        5   130.0   \n",
              "2   2413   4373   177   113   154    2812    1503   132        0    66.0   \n",
              "3  50128  87991  2211   790  1119   61027   32048  1386       58  1572.0   \n",
              "4   7244  13594   671   410   580    6228    3200   396       19   325.0   \n",
              "\n",
              "   share  interactions  \n",
              "0   17.0           100  \n",
              "1   29.0           164  \n",
              "2   14.0            80  \n",
              "3  147.0          1777  \n",
              "4   49.0           393  "
            ]
          },
          "execution_count": 57,
          "metadata": {},
          "output_type": "execute_result"
        }
      ],
      "source": [
        "# Sustituye los nombres de las columnas para una mejor interacción.\n",
        "df.rename(columns = {\n",
        "    'Page total likes': 'total_likes',\n",
        "    'Type': 'type',\n",
        "    'Category': 'category',\n",
        "    'Post Month': 'post_month',\n",
        "    'Post Weekday': 'post_weekday',\n",
        "    'Post Hour': 'post_hour',\n",
        "    'Paid': 'paid',\n",
        "    'Lifetime Post Total Reach': 'lptr',\n",
        "    'Lifetime Post Total Impressions': 'lpti',\n",
        "    'Lifetime Engaged Users': 'leu',\n",
        "    'Lifetime Post Consumers': 'lpcm',\n",
        "    'Lifetime Post Consumptions': 'lpcn',\n",
        "    'Lifetime Post Impressions by people who have liked your Page': 'lpiplp',\n",
        "    'Lifetime Post reach by people who like your Page': 'lprplp',\n",
        "    'Lifetime People who have liked your Page and engaged with your post': 'lpe',\n",
        "    'comment': 'comment',\n",
        "    'like': 'like',\n",
        "    'share': 'share',\n",
        "    'Total Interactions': 'interactions'\n",
        "}, inplace = True)\n",
        "# El inplace true, nos permite hacer la mutación sobre el mismo dataframe, sin necesidad de crear otro nuevo\n",
        "df.head()"
      ]
    },
    {
      "cell_type": "code",
      "execution_count": 58,
      "metadata": {
        "colab": {
          "base_uri": "https://localhost:8080/"
        },
        "id": "hJcgsnMAlr-R",
        "outputId": "147cea70-b16a-4bdd-ad32-a1e002aa0a0f"
      },
      "outputs": [
        {
          "name": "stdout",
          "output_type": "stream",
          "text": [
            "Columnas X\n",
            "   category  total_likes    type  post_month  post_weekday  post_hour  paid\n",
            "0         2       139441   Photo          12             4          3   0.0\n",
            "1         2       139441  Status          12             3         10   0.0\n",
            "2         3       139441   Photo          12             3          3   0.0\n",
            "3         2       139441   Photo          12             2         10   1.0\n",
            "4         2       139441   Photo          12             2          3   0.0\n",
            "\n",
            "Columnas y\n",
            "    lpe\n",
            "0   119\n",
            "1  1108\n",
            "2   132\n",
            "3  1386\n",
            "4   396\n"
          ]
        }
      ],
      "source": [
        "# Determinamos las columnas del conjunto de entrada\n",
        "X = df[['category', 'total_likes', 'type', 'post_month', 'post_weekday', 'post_hour', 'paid']].copy()\n",
        "print(\"Columnas X\")\n",
        "print(X.head())\n",
        "\n",
        "# Determinamos las columnas del conjunto de salida\n",
        "y = df[['lpe']].copy()\n",
        "print(\"\\nColumnas y\")\n",
        "print(y.head())"
      ]
    },
    {
      "cell_type": "markdown",
      "metadata": {
        "id": "xZhr2hkECzVv"
      },
      "source": [
        "# **Ejercicio-2.**"
      ]
    },
    {
      "cell_type": "markdown",
      "metadata": {
        "id": "qZKQPUw1lr-R"
      },
      "source": [
        "Realiza una partición de los datos con 100 datos de Prueba y el resto para Entrenamiento y \n",
        "Validación.  "
      ]
    },
    {
      "cell_type": "code",
      "execution_count": 59,
      "metadata": {
        "colab": {
          "base_uri": "https://localhost:8080/"
        },
        "id": "kGfAoOPkC1PP",
        "outputId": "fe8e2193-04ee-4eaa-f4a0-23d1e6b7fc5d"
      },
      "outputs": [
        {
          "name": "stdout",
          "output_type": "stream",
          "text": [
            "Tamaño del conjunto de entrada para Entrenamiento y Validación:  (400, 7)\n",
            "Tamaño del conjunto de entrada para Prueba:  (100, 7)\n",
            "-----\n",
            "Tamaño del conjunto de salida para Entrenamiento y Validación:  (400, 1)\n",
            "Tamaño del conjunto de salida para Prueba:  (100, 1)\n"
          ]
        }
      ],
      "source": [
        "# Creamos nuestros datos de validación con la función trains_test_split\n",
        "X_train, X_test, y_train, y_test = train_test_split(X, y, train_size=0.80, random_state=10)\n",
        "\n",
        "print(\"Tamaño del conjunto de entrada para Entrenamiento y Validación: \", X_train.shape)\n",
        "print(\"Tamaño del conjunto de entrada para Prueba: \", X_test.shape)\n",
        "print(\"-----\")\n",
        "print(\"Tamaño del conjunto de salida para Entrenamiento y Validación: \", y_train.shape)\n",
        "print(\"Tamaño del conjunto de salida para Prueba: \", y_test.shape)"
      ]
    },
    {
      "cell_type": "markdown",
      "metadata": {
        "id": "NCunuooTC2W3"
      },
      "source": [
        "# **Ejercicio-3.**"
      ]
    },
    {
      "cell_type": "markdown",
      "metadata": {
        "id": "tYSNs1fklr-S"
      },
      "source": [
        "Definirás tus propias funciones de errores para este problema de regresión. Los errores que \n",
        "utilizarás son la raíz cuadrada del error cuadrático medio RMSE, el error absoluto medio MAE y el \n",
        "error porcentual absoluto medio MAPE. "
      ]
    },
    {
      "cell_type": "code",
      "execution_count": 60,
      "metadata": {
        "id": "YXlcSWA-C4Dj"
      },
      "outputs": [],
      "source": [
        "# Raíz del error cuadrático medio\n",
        "def rmse(y, y_hat):\n",
        "    substraction = (y - y_hat)\n",
        "    square = np.square(substraction)\n",
        "    MSE = square.mean()\n",
        "    RMSE = np.sqrt(MSE)\n",
        "\n",
        "    return RMSE"
      ]
    },
    {
      "cell_type": "code",
      "execution_count": 61,
      "metadata": {
        "id": "BKI80-YdC4HN"
      },
      "outputs": [],
      "source": [
        "# Error absoluto medio\n",
        "def mae(y, y_hat):\n",
        "    absolute = np.abs(y - y_hat)\n",
        "    average = np.mean(absolute)\n",
        "\n",
        "    return average"
      ]
    },
    {
      "cell_type": "code",
      "execution_count": 62,
      "metadata": {
        "id": "xgz8Keyplr-S"
      },
      "outputs": [],
      "source": [
        "# Error absoluto medio porcentual\n",
        "def mape(y, y_hat):\n",
        "    absolute = np.abs((y - y_hat) / y)\n",
        "    average = np.mean(absolute)\n",
        "    percentage = average * 100\n",
        "\n",
        "    return percentage"
      ]
    },
    {
      "cell_type": "markdown",
      "metadata": {
        "id": "chqk9jIDC5Pq"
      },
      "source": [
        "# **Ejercicio-4.**"
      ]
    },
    {
      "cell_type": "markdown",
      "metadata": {
        "id": "8tOT101Slr-S"
      },
      "source": [
        "En la página de la UCI, así como en el artículo de los autores previamente citado encuentras información en relación al significado de cada variable. Haz una análisis de tus datos y lleva a cabo las transformaciones que consideres adecuadas tanto en los datos de entrada, como en las de salida. Utiliza un Pipeline para evitar el filtrado de información. "
      ]
    },
    {
      "cell_type": "code",
      "execution_count": 63,
      "metadata": {
        "id": "Eg0YGHURUO0q"
      },
      "outputs": [],
      "source": [
        "# Función que grafica un histograma de acuerdo con los parámetros predefinidos\n",
        "def plot_hist(X_train_data):\n",
        "  # Tamaño de la figura\n",
        "  sns.set(rc={'figure.figsize':(12,4)})\n",
        "  len_col = len(X_train_data.columns)\n",
        "  # Ventana de 1x3 nichos para incluir en cada uno de ellos un gráfico.\n",
        "  fig, axes = plt.subplots(1, len_col)\n",
        "  for k in range(0,len_col):\n",
        "    plt.subplot(1, len_col, k+1)\n",
        "    # X_train_data.columns devuelve una lista con los nombres de las columnas.\n",
        "    plt.hist(X_train_data[X_train_data.columns[k]], bins=20)\n",
        "    plt.xlabel(X_train_data.columns[k])\n",
        "  plt.show()\n",
        "\n",
        "  X_train_data.describe()"
      ]
    },
    {
      "cell_type": "code",
      "execution_count": 64,
      "metadata": {
        "colab": {
          "base_uri": "https://localhost:8080/",
          "height": 285
        },
        "id": "sgg0h865Uby6",
        "outputId": "24416f61-31ce-4f4c-df4e-69418988570b"
      },
      "outputs": [
        {
          "data": {
            "image/png": "[encoded data removed]",
            "text/plain": [
              "<Figure size 1200x400 with 4 Axes>"
            ]
          },
          "metadata": {},
          "output_type": "display_data"
        }
      ],
      "source": [
        "# Histograma de las variables de entrada\n",
        "plot_hist(X_train[['category', 'type', 'total_likes', 'paid']])"
      ]
    },
    {
      "cell_type": "code",
      "execution_count": 65,
      "metadata": {
        "colab": {
          "base_uri": "https://localhost:8080/",
          "height": 285
        },
        "id": "OGGXiUOzV09D",
        "outputId": "62c8b768-e813-4d69-c88e-dd2042e69f93"
      },
      "outputs": [
        {
          "data": {
            "image/png": "[encoded data removed]",
            "text/plain": [
              "<Figure size 1200x400 with 3 Axes>"
            ]
          },
          "metadata": {},
          "output_type": "display_data"
        }
      ],
      "source": [
        "# Histograma de las variables de entrada\n",
        "plot_hist(X_train[['post_month', 'post_weekday', 'post_hour']])"
      ]
    },
    {
      "cell_type": "code",
      "execution_count": 107,
      "metadata": {},
      "outputs": [
        {
          "data": {
            "image/png": "[encoded data removed]",
            "text/plain": [
              "<Figure size 1200x400 with 1 Axes>"
            ]
          },
          "metadata": {},
          "output_type": "display_data"
        }
      ],
      "source": [
        "# Eliminar....\n",
        "plot_hist((X_train[['total_likes']])**2)"
      ]
    },
    {
      "cell_type": "code",
      "execution_count": 68,
      "metadata": {
        "id": "JicZq8E4V02J"
      },
      "outputs": [],
      "source": [
        "# Columnas categóricas: type, category\n",
        "df_name_cate = ['type', 'category']\n",
        "# Columnas ordinales o discretas cuantitativas: post_month, post_weekday, post_hour\n",
        "df_name_ord = ['post_month','post_weekday','post_hour']\n",
        "# Columnas numéricas o cuantitativas: total_likes\n",
        "df_name_num = ['total_likes']\n",
        "# Columnas binarias: paid\n",
        "df_name_bin = ['paid']"
      ]
    },
    {
      "cell_type": "code",
      "execution_count": 69,
      "metadata": {
        "colab": {
          "base_uri": "https://localhost:8080/"
        },
        "id": "V0rMU3D9lkJ_",
        "outputId": "c83a16e3-bfa7-478e-9efd-9c6251732594"
      },
      "outputs": [
        {
          "name": "stdout",
          "output_type": "stream",
          "text": [
            "type:  ['Photo' 'Status' 'Link' 'Video']\n",
            "category:  [3 2 1]\n"
          ]
        }
      ],
      "source": [
        "# Muestra de los valores de los datos categóricos\n",
        "for n in df_name_cate:\n",
        "  print(n + \": \", X_train[n].unique())"
      ]
    },
    {
      "cell_type": "code",
      "execution_count": 70,
      "metadata": {
        "colab": {
          "base_uri": "https://localhost:8080/"
        },
        "id": "dgSP2cNflwqP",
        "outputId": "b27fee40-7cef-4314-b6c7-97772b9af30c"
      },
      "outputs": [
        {
          "name": "stdout",
          "output_type": "stream",
          "text": [
            "post_month:  [ 6 10  5  7  4 11  2  1 12  8  3  9]\n",
            "post_weekday:  [4 1 5 3 7 2 6]\n",
            "post_hour:  [ 2  4  9 11 13  1  8  3 12  6 10  5 17 20 15 14  7 18 19]\n"
          ]
        }
      ],
      "source": [
        "# Muestra de los valores de los datos ordinales\n",
        "for n in df_name_ord:\n",
        "  print(n + \": \", X_train[n].unique())"
      ]
    },
    {
      "cell_type": "code",
      "execution_count": 108,
      "metadata": {},
      "outputs": [
        {
          "name": "stdout",
          "output_type": "stream",
          "text": [
            "total_likes:  [124940 136736 116435 119198 136013 120050 129600 111620 117764 138185\n",
            "  92079 131728  91330  85979 138458 123047 130791 125612 132201 137020\n",
            "  91651  98195 100732 137893 134879 109670 126345 135195 137177 136393\n",
            " 115368 138329 138895  92721 139441 137059  91223 135713  93470 131630\n",
            "  96749 121540 136642 133594 107907  92507 135700 106928 131808 128032\n",
            " 126424 135617  86909 116091 113028 132817 133679 138414 102112  93149\n",
            " 126141 135428  91865 133451 138353  81370  91437  92400  92614  92828\n",
            "  93042 131956  86491  92186  85093  92935  91544 127082 104070 131300\n",
            "  93577 115893  91972  93256  92293  91116]\n"
          ]
        }
      ],
      "source": [
        "# Muestra de los valores de los datos numéricos\n",
        "for n in df_name_num:\n",
        "  print(n + \": \", X_train[n].unique())"
      ]
    },
    {
      "cell_type": "code",
      "execution_count": 71,
      "metadata": {
        "colab": {
          "base_uri": "https://localhost:8080/"
        },
        "id": "H3eNglfKl7lU",
        "outputId": "eff7d288-f13f-4048-b557-f67646c119a6"
      },
      "outputs": [
        {
          "name": "stdout",
          "output_type": "stream",
          "text": [
            "paid:  [ 0.  1. nan]\n"
          ]
        }
      ],
      "source": [
        "# Muestra de los valores de los datos binarios\n",
        "for n in df_name_bin:\n",
        "  print(n + \": \", X_train[n].unique())"
      ]
    },
    {
      "cell_type": "code",
      "execution_count": 72,
      "metadata": {
        "colab": {
          "base_uri": "https://localhost:8080/"
        },
        "id": "I2Lue6PymCfK",
        "outputId": "c7b660f0-abe5-425a-d707-a56c4c5935dc"
      },
      "outputs": [
        {
          "data": {
            "text/plain": [
              "category        0\n",
              "total_likes     0\n",
              "type            0\n",
              "post_month      0\n",
              "post_weekday    0\n",
              "post_hour       0\n",
              "paid            1\n",
              "dtype: int64"
            ]
          },
          "execution_count": 72,
          "metadata": {},
          "output_type": "execute_result"
        }
      ],
      "source": [
        "# Búsqueda de los datos nulos en los datos de entrada\n",
        "X_train.isnull().sum()"
      ]
    },
    {
      "cell_type": "code",
      "execution_count": 73,
      "metadata": {
        "colab": {
          "base_uri": "https://localhost:8080/"
        },
        "id": "4HMU4GhYmLjb",
        "outputId": "9e40763e-e051-43cd-e888-995b20f3dc82"
      },
      "outputs": [
        {
          "data": {
            "text/plain": [
              "category        False\n",
              "total_likes     False\n",
              "type            False\n",
              "post_month      False\n",
              "post_weekday    False\n",
              "post_hour       False\n",
              "paid             True\n",
              "dtype: bool"
            ]
          },
          "execution_count": 73,
          "metadata": {},
          "output_type": "execute_result"
        }
      ],
      "source": [
        "# Búsqueda de los datos nan en los datos de entrada\n",
        "X_train.isna().any()"
      ]
    },
    {
      "cell_type": "code",
      "execution_count": 74,
      "metadata": {},
      "outputs": [
        {
          "data": {
            "text/plain": [
              "lpe    0\n",
              "dtype: int64"
            ]
          },
          "execution_count": 74,
          "metadata": {},
          "output_type": "execute_result"
        }
      ],
      "source": [
        "# Búsqueda de los datos nulos en los datos de salida\n",
        "y_train.isnull().sum()"
      ]
    },
    {
      "cell_type": "code",
      "execution_count": 75,
      "metadata": {},
      "outputs": [
        {
          "data": {
            "text/plain": [
              "lpe    False\n",
              "dtype: bool"
            ]
          },
          "execution_count": 75,
          "metadata": {},
          "output_type": "execute_result"
        }
      ],
      "source": [
        "# Búsqueda de los datos nan en los datos de salida\n",
        "y_train.isna().any()"
      ]
    },
    {
      "cell_type": "code",
      "execution_count": 76,
      "metadata": {
        "colab": {
          "base_uri": "https://localhost:8080/",
          "height": 578
        },
        "id": "Prr4TJ58mYWL",
        "outputId": "538d7cc5-d8e9-46d7-967d-f7fb89977e1a"
      },
      "outputs": [
        {
          "data": {
            "text/plain": [
              "<AxesSubplot: >"
            ]
          },
          "execution_count": 76,
          "metadata": {},
          "output_type": "execute_result"
        },
        {
          "data": {
            "image/png": "[encoded data removed]",
            "text/plain": [
              "<Figure size 2500x1000 with 2 Axes>"
            ]
          },
          "metadata": {},
          "output_type": "display_data"
        }
      ],
      "source": [
        "# Grafica de datos faltantes en los datos de entrada\n",
        "msno.matrix(X_train)"
      ]
    },
    {
      "cell_type": "code",
      "execution_count": 77,
      "metadata": {
        "id": "RBVSFwK4C6g9"
      },
      "outputs": [],
      "source": [
        "# Transformaciones a factores categóricos de entrada\n",
        "catOHE_pipeline = Pipeline(steps = [('impModa', SimpleImputer(strategy='most_frequent')), ('OneHotE', OneHotEncoder())])"
      ]
    },
    {
      "cell_type": "code",
      "execution_count": 78,
      "metadata": {},
      "outputs": [],
      "source": [
        "# Transformación y normalización de los datos númericos\n",
        "num_pipeline = Pipeline(steps = [('impPromedio', SimpleImputer(strategy='mean')),\n",
        "                                 ('log', FunctionTransformer(np.log)),\n",
        "                                 ('scalar', MinMaxScaler(feature_range=(0,1)))])"
      ]
    },
    {
      "cell_type": "code",
      "execution_count": 79,
      "metadata": {},
      "outputs": [],
      "source": [
        "# Transformación y normalización de los datos ordinales\n",
        "ord_pipeline = Pipeline(steps = [('impPromedio', SimpleImputer(strategy='most_frequent')),\n",
        "                                 ('log', FunctionTransformer(np.log)),\n",
        "                                 ('scalar', MinMaxScaler(feature_range=(0,1)))])"
      ]
    },
    {
      "cell_type": "code",
      "execution_count": 80,
      "metadata": {
        "id": "7KXnlNzAC69Y"
      },
      "outputs": [],
      "source": [
        "# Conjuntamos las transformaciones numéricas, binarios, categóricas y ordinales que se estarán aplicando a los datos de entrada:\n",
        "columnasTransformer = ColumnTransformer(transformers = [\n",
        "                                                        ('numpipe', num_pipeline, df_name_num),\n",
        "                                                        ('catohecat', catOHE_pipeline, df_name_cate),\n",
        "                                                        ('catohebin', catOHE_pipeline, df_name_bin),\n",
        "                                                        ('ordpipe', ord_pipeline, df_name_ord),\n",
        "                                                    ])"
      ]
    },
    {
      "cell_type": "markdown",
      "metadata": {
        "id": "Rv7KFq-mC7PS"
      },
      "source": [
        "# **Ejercicio-5.**"
      ]
    },
    {
      "cell_type": "markdown",
      "metadata": {
        "id": "y1vNMScJlr-T"
      },
      "source": [
        "Utiliza la función Dummy para modelos de regresión de scikit-learn con el conjunto que tienes de datos de entrenamiento y validación. Para ello particiónalos en 100 para validación y 300 para  entrenamiento. Encuentra los errores RMSE, MAE y MAPE para los conjuntos de entrenamiento y  validación. Estos serán tus errores máximos que deberás tomar como referencia en el resto de la  actividad. Consulta su documentación correspondiente: https://scikit-learn.org/stable/modules/generated/sklearn.dummy.DummyRegressor.html"
      ]
    },
    {
      "cell_type": "code",
      "execution_count": 81,
      "metadata": {},
      "outputs": [
        {
          "name": "stdout",
          "output_type": "stream",
          "text": [
            "Tamaño del conjunto de entrada para Entrenamiento y Validación:  (300, 7)\n",
            "Tamaño del conjunto de entrada para Prueba:  (100, 7)\n",
            "-----\n",
            "Tamaño del conjunto de salida para Entrenamiento y Validación:  (300, 1)\n",
            "Tamaño del conjunto de salida para Prueba:  (100, 1)\n"
          ]
        }
      ],
      "source": [
        "# Creamos nuestros datos de validación con la función trains_test_split\n",
        "X_train300, X_val, y_train300, y_val = train_test_split(X_train, y_train, train_size=0.75, random_state=10)\n",
        "\n",
        "print(\"Tamaño del conjunto de entrada para Entrenamiento y Validación: \", X_train300.shape)\n",
        "print(\"Tamaño del conjunto de entrada para Prueba: \", X_val.shape)\n",
        "print(\"-----\")\n",
        "print(\"Tamaño del conjunto de salida para Entrenamiento y Validación: \", y_train300.shape)\n",
        "print(\"Tamaño del conjunto de salida para Prueba: \", y_val.shape)"
      ]
    },
    {
      "cell_type": "code",
      "execution_count": 82,
      "metadata": {},
      "outputs": [],
      "source": [
        "# Entrenamiento del modelo regresor ficticio\n",
        "dummy_reg = DummyRegressor(strategy='mean')\n",
        "\n",
        "pipeline = Pipeline(steps=[('ct', columnasTransformer),('m', dummy_reg)])\n",
        "pipeline.fit(X_train300, y_train300)\n",
        "y_pred300 = pipeline.predict(X_train300)\n",
        "y_pred = pipeline.predict(X_val)"
      ]
    },
    {
      "cell_type": "code",
      "execution_count": 109,
      "metadata": {
        "id": "4tQxQROVC9Us"
      },
      "outputs": [
        {
          "name": "stdout",
          "output_type": "stream",
          "text": [
            "Valor de la predicción de los datos de entrenamiento RMSE: 601.7656388680084\n"
          ]
        }
      ],
      "source": [
        "# Cálculo del RMSE de los datos de entrenamiento \n",
        "mi_rmse = rmse(y_train300[\"lpe\"], y_pred300)\n",
        "print(f\"Valor de la predicción de los datos de entrenamiento RMSE: {mi_rmse}\")"
      ]
    },
    {
      "cell_type": "code",
      "execution_count": 84,
      "metadata": {},
      "outputs": [
        {
          "name": "stdout",
          "output_type": "stream",
          "text": [
            "589.9812895997447\n"
          ]
        }
      ],
      "source": [
        "# Cálculo del RMSE de los datos de validación\n",
        "mi_rmse = rmse(y_val[\"lpe\"], y_pred)\n",
        "print(f\"Valor de la predicción de los datos de validación RMSE: {mi_rmse}\")"
      ]
    },
    {
      "cell_type": "code",
      "execution_count": 85,
      "metadata": {},
      "outputs": [
        {
          "name": "stdout",
          "output_type": "stream",
          "text": [
            "378.2526888888888\n"
          ]
        }
      ],
      "source": [
        "# Cálculo del RMSE de los datos de entrenamiento \n",
        "mi_mae = mae(y_train300[\"lpe\"], y_pred300)\n",
        "print(f\"Valor de la predicción de los datos de entrenamiento MAE: {mi_rmse}\")"
      ]
    },
    {
      "cell_type": "code",
      "execution_count": 86,
      "metadata": {},
      "outputs": [
        {
          "name": "stdout",
          "output_type": "stream",
          "text": [
            "407.8993333333333\n"
          ]
        }
      ],
      "source": [
        "# Cálculo del RMSE de los datos de validación\n",
        "mi_mae = mae(y_val[\"lpe\"], y_pred)\n",
        "print(f\"Valor de la predicción de los datos de validación MAE: {mi_rmse}\")"
      ]
    },
    {
      "cell_type": "code",
      "execution_count": 88,
      "metadata": {},
      "outputs": [
        {
          "name": "stdout",
          "output_type": "stream",
          "text": [
            "133.1394242460052\n"
          ]
        }
      ],
      "source": [
        "# Cálculo del RMSE de los datos de entrenamiento\n",
        "mi_mape = mape(y_train300[\"lpe\"], y_pred300)\n",
        "print(f\"Valor de la predicción de los datos de entrenamiento MAPE: {mi_rmse}\")"
      ]
    },
    {
      "cell_type": "code",
      "execution_count": 87,
      "metadata": {},
      "outputs": [
        {
          "name": "stdout",
          "output_type": "stream",
          "text": [
            "170.51900302908757\n"
          ]
        }
      ],
      "source": [
        "# Cálculo del RMSE de los datos de validación\n",
        "mi_mape = mape(y_val[\"lpe\"], y_pred)\n",
        "print(f\"Valor de la predicción de los datos de validación MAPE: {mi_rmse}\")"
      ]
    },
    {
      "cell_type": "markdown",
      "metadata": {
        "id": "W2S7LI0NC9wE"
      },
      "source": [
        "# **Ejercicio-6.**"
      ]
    },
    {
      "cell_type": "markdown",
      "metadata": {
        "id": "0KPynkt7lr-T"
      },
      "source": [
        "Usando los modelos de regresión lineal múltiple, el bosque aleatorio y el perceptrón multicapa con  sus valores predeterminados, lleva a cabo su entrenamiento con repeticiones de validación cruzada (RepeatedKFold) y desplegando los errores RMSE, MAE y MAPE. Recuerda evitar el filtrado de información usando los datos que obtuviste en el ejercicio 2. Incluye las conclusiones sobre el mejor modelo encontrado en esta primera aproximación. En particular ¿hay alguno sobreentrenado o subentrenado? NOTA: Recuerda que puedes aumentar en dado caso el número máximo de iteraciones para que todos los modelos converjan."
      ]
    },
    {
      "cell_type": "code",
      "execution_count": 103,
      "metadata": {
        "id": "x6uBleJUC_AU"
      },
      "outputs": [],
      "source": [
        "# Función para obtener las configuraciones de los modelos\n",
        "def get_models():\n",
        "  modelos = list()\n",
        "  nombres = list()\n",
        "\n",
        "  # LR - Modelo de Regresion Logistica\n",
        "  modelos.append(LinearRegression())\n",
        "  nombres.append('Regresión lineal')\n",
        "\n",
        "  # RF - Modelo de Bosque Aleatorio\n",
        "  modelos.append(RandomForestRegressor())\n",
        "  nombres.append('Bosque Aleatorio')\n",
        "\n",
        "  # MLP - Modelo de Red Nuronal Multicapa\n",
        "  modelos.append(MLPRegressor(max_iter=20000))\n",
        "  nombres.append('Red Neuronal Multicapa')\n",
        "\n",
        "  return modelos, nombres"
      ]
    },
    {
      "cell_type": "code",
      "execution_count": 104,
      "metadata": {
        "id": "n0P_AcyjC_Dh"
      },
      "outputs": [
        {
          "name": "stdout",
          "output_type": "stream",
          "text": [
            "Linear Regression:\n",
            "RMSE: 505.258\n",
            "MAE: 305.558\n",
            "MAPE: 110.863\n",
            "\n",
            "Bosque Aleatorio:\n",
            "RMSE: 549.331\n",
            "MAE: 338.235\n",
            "MAPE: 112.490\n",
            "\n",
            "Red Neuronal Multicapa:\n",
            "RMSE: 506.966\n",
            "MAE: 309.405\n",
            "MAPE: 113.016\n",
            "\n"
          ]
        }
      ],
      "source": [
        "# Entrenamiento del modelov y cargamos los modelos a comparar\n",
        "modelos, nombres = get_models()\n",
        "resultados = list()\n",
        "\n",
        "for i in range(len(modelos)):\n",
        "    # Parametros del Modelo\n",
        "    pipeline = Pipeline(steps=[('ct', columnasTransformer), ('m', modelos[i])])\n",
        "\n",
        "    kfold = KFold(n_splits=5, shuffle=True, random_state=42)\n",
        "    # cv = RepeatedStratifiedKFold(n_splits=5, n_repeats=3, random_state=0)\n",
        "    mis_metricas ={'rmsee':make_scorer(rmse),\n",
        "                   'mae':make_scorer(mae),\n",
        "                   'mape':make_scorer(mape)}\n",
        "\n",
        "\n",
        "    # Entrenamiento del modelo \n",
        "    scores = cross_validate(pipeline, X_train, np.ravel(y_train), scoring = mis_metricas, cv=kfold)\n",
        "    resultados.append(scores)\n",
        "\n",
        "    print('%s:\\nRMSE: %.3f\\nMAE: %.3f\\nMAPE: %.3f\\n' % (nombres[i],\n",
        "                                                          np.mean(scores['test_rmsee']),\n",
        "                                                          np.mean(scores['test_mae']),\n",
        "                                                          np.mean(scores['test_mape']),\n",
        "                                                       ))"
      ]
    },
    {
      "cell_type": "markdown",
      "metadata": {},
      "source": [
        "### Conclusiones\n",
        "\n",
        "--------"
      ]
    },
    {
      "cell_type": "markdown",
      "metadata": {
        "id": "iCNGx4TQ8CFI"
      },
      "source": [
        "# **Ejercicio-7.**"
      ]
    },
    {
      "cell_type": "markdown",
      "metadata": {
        "id": "QtVR45Iclr-U"
      },
      "source": [
        "Obtener los diagramas de caja y bigote para los errores MAPE de los conjuntos de validación obtenidos. En particular compara estos primeros resultados de MAPE con el mejor resultado que  encuentran los autores del artículo citado al inicio. Incluye tus conclusiones."
      ]
    },
    {
      "cell_type": "code",
      "execution_count": 106,
      "metadata": {
        "id": "ewvwUcJX78y1"
      },
      "outputs": [
        {
          "data": {
            "image/png": "[encoded data removed]",
            "text/plain": [
              "<Figure size 1200x400 with 1 Axes>"
            ]
          },
          "metadata": {},
          "output_type": "display_data"
        }
      ],
      "source": [
        "# Diagrama de bigotes de los tres modelos de acuerdo con los resultados de su MAPE\n",
        "bpRecall = list()\n",
        "for i in range(len(resultados)):\n",
        "  MAPE_metric = resultados[i]['test_mape']\n",
        "  bpRecall.append(MAPE_metric)\n",
        "\n",
        "plt.boxplot(bpRecall, labels=nombres, showmeans=True)\n",
        "plt.show()\n"
      ]
    },
    {
      "cell_type": "markdown",
      "metadata": {},
      "source": [
        "### Conclusiones\n",
        "-------------------------------"
      ]
    },
    {
      "cell_type": "markdown",
      "metadata": {
        "id": "tzQn5NR78GFg"
      },
      "source": [
        "# **Ejercicio-8.**"
      ]
    },
    {
      "cell_type": "markdown",
      "metadata": {
        "id": "SNIEdiKPlr-U"
      },
      "source": [
        "Usando una búsqueda de malla con validación cruzada (GridSearchCV), busca los mejores hiperparámetros para el modelo MLP. Al menos deberás realizar la búsqueda en los  hiperparámetros “hidden_layer_sizes”, “alpha” y “learning_rate_init”. Además aplica la validación  cruzada con repeticiones (RepeatedKFold). Muestra los mejores hiperparámetros encontrados. "
      ]
    },
    {
      "cell_type": "code",
      "execution_count": 92,
      "metadata": {
        "id": "EBKcp0278IQV"
      },
      "outputs": [],
      "source": [
        "None"
      ]
    },
    {
      "cell_type": "code",
      "execution_count": null,
      "metadata": {
        "id": "vp8S0PFs8IMR"
      },
      "outputs": [],
      "source": []
    },
    {
      "cell_type": "markdown",
      "metadata": {
        "id": "mASNrZWs8JTh"
      },
      "source": [
        "# **Ejercicio-9.**"
      ]
    },
    {
      "cell_type": "markdown",
      "metadata": {
        "id": "quYHTBoDlr-U"
      },
      "source": [
        "Con los mejores valores de los hiperparámetros encontrados realiza un análisis de la importancia de los factores. Muestra un diagrama de barras de los resultados e incluye tus conclusiones."
      ]
    },
    {
      "cell_type": "code",
      "execution_count": 93,
      "metadata": {
        "id": "X6HJP9hb8LCp"
      },
      "outputs": [],
      "source": [
        "None"
      ]
    },
    {
      "cell_type": "code",
      "execution_count": null,
      "metadata": {
        "id": "Xr6oe1VF8K_A"
      },
      "outputs": [],
      "source": []
    },
    {
      "cell_type": "markdown",
      "metadata": {
        "id": "VUIcDshs8MzG"
      },
      "source": [
        "# **Ejercicio-10.**"
      ]
    },
    {
      "cell_type": "markdown",
      "metadata": {
        "id": "P2NltBZ8lr-V"
      },
      "source": [
        "Repite el ejercicio 8 y 9 para el modelo de bosque aleatorio para buscar sus mejores hiperparámetros (realiza la búsqueda con aquellos hiperparámetros que consideres más adecuados) y usando el conjunto de Prueba. Y realiza igualmente el análisis de importancia de  factores con este modelo con un diagrama de barras. "
      ]
    },
    {
      "cell_type": "code",
      "execution_count": 94,
      "metadata": {
        "id": "0lKNJNIt8N88"
      },
      "outputs": [],
      "source": [
        "None"
      ]
    },
    {
      "cell_type": "code",
      "execution_count": null,
      "metadata": {
        "id": "Inkq5YQe8PED"
      },
      "outputs": [],
      "source": []
    },
    {
      "cell_type": "markdown",
      "metadata": {
        "id": "5LJl6oql8Pc8"
      },
      "source": [
        "# **Ejercicio-11.**"
      ]
    },
    {
      "cell_type": "markdown",
      "metadata": {
        "id": "bc0X2EJ4lr-V"
      },
      "source": [
        "Repite el ejercicio 8 y 9 para el modelo de regresión lineal múltiple para buscar sus mejores hiperparámetros (realiza la búsqueda con aquellos hiperparámetros que consideres más adecuados) y usando el conjunto de Prueba. Y realiza igualmente el análisis de importancia de factores con este modelo con un diagrama de barras. "
      ]
    },
    {
      "cell_type": "code",
      "execution_count": 95,
      "metadata": {
        "id": "-YiSnt9t8RfN"
      },
      "outputs": [],
      "source": [
        "None"
      ]
    },
    {
      "cell_type": "code",
      "execution_count": null,
      "metadata": {
        "id": "2iRA78ZC8Rbm"
      },
      "outputs": [],
      "source": []
    },
    {
      "cell_type": "markdown",
      "metadata": {
        "id": "IKW72uyk8Sbc"
      },
      "source": [
        "# **Ejercicio-12.**"
      ]
    },
    {
      "cell_type": "markdown",
      "metadata": {
        "id": "sV1suMT0lr-V"
      },
      "source": [
        "Compara tus resultados con los obtenidos por los autores del artículo de Moro-Rita-Vala con respecto a MAPE. Incluye tus conclusiones finales de la actividad."
      ]
    },
    {
      "cell_type": "code",
      "execution_count": 96,
      "metadata": {
        "id": "gwpz77W38Uq0"
      },
      "outputs": [],
      "source": [
        "None"
      ]
    },
    {
      "cell_type": "code",
      "execution_count": null,
      "metadata": {
        "id": "8v8HL02W8UmW"
      },
      "outputs": [],
      "source": []
    },
    {
      "cell_type": "markdown",
      "metadata": {
        "id": "7ql_r2G-DB_m"
      },
      "source": [
        "### **Fin de la Actividad de la semana 7.**"
      ]
    }
  ],
  "metadata": {
    "colab": {
      "collapsed_sections": [],
      "include_colab_link": true,
      "provenance": []
    },
    "kernelspec": {
      "display_name": "Python 3.10.7 64-bit",
      "language": "python",
      "name": "python3"
    },
    "language_info": {
      "codemirror_mode": {
        "name": "ipython",
        "version": 3
      },
      "file_extension": ".py",
      "mimetype": "text/x-python",
      "name": "python",
      "nbconvert_exporter": "python",
      "pygments_lexer": "ipython3",
      "version": "3.10.7"
    },
    "vscode": {
      "interpreter": {
        "hash": "4435b413409b7307cd356ee89e19765aec4b40a42c29a345f39f43dd56cea7e2"
      }
    }
  },
  "nbformat": 4,
  "nbformat_minor": 0
}

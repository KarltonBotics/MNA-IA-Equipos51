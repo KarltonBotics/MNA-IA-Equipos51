{
  "cells": [
    {
      "cell_type": "markdown",
      "metadata": {
        "id": "view-in-github",
        "colab_type": "text"
      },
      "source": [
        "<a href=\"https://colab.research.google.com/github/KarltonBotics/MNA-IA-Equipos51/blob/main/MNA_IAyAA_semana_7_Actividad.ipynb\" target=\"_parent\"><img src=\"https://colab.research.google.com/assets/colab-badge.svg\" alt=\"Open In Colab\"/></a>"
      ]
    },
    {
      "cell_type": "markdown",
      "metadata": {
        "id": "VFj0sSM06dYa"
      },
      "source": [
        "# **Maestría en Inteligencia Artificial Aplicada**\n",
        "## **Curso: Inteligencia Artificial y Aprendizaje Automático**\n",
        "### Tecnológico de Monterrey\n",
        "### Prof Luis Eduardo Falcón Morales\n",
        "\n",
        "## **Adtividad de la Semana 7**\n",
        "### **Red Neuronal Artificial - Perceptrón Multicapa : Multilayer Perceptrón (MLP)**\n"
      ]
    },
    {
      "cell_type": "markdown",
      "metadata": {
        "id": "Qgrvy0RGB9XI"
      },
      "source": [
        "**Nombres y matrículas de los integrantes del equipo:**\n",
        "\n",
        "*   Carlos Enríquez Gorgonio A01793102\n",
        "*   Fernando Ramírez Gómez A01298109\n",
        "*   Francisco Javier Ramírez Arias A01316379\n",
        "*   Jessica Lechuga Ramos A01793512\n",
        "*   Moisés Rangel Silva A00143704"
      ]
    },
    {
      "cell_type": "markdown",
      "metadata": {
        "id": "ynIhlp3clr-N"
      },
      "source": [
        "Esta Tarea se deberá resolver en equipos, de acuerdo a como fueron integrados al inicio del curso. \n",
        "\n",
        "El artículo del 2016 de Moro, Rita & Vala relacionado al presente problema lo encuentras aquí: https://www.semanticscholar.org/paper/Predicting-social-media-performance-metrics-and-of-Moro-Rita/dec55692590820754b53c916e29bb2b42c0e5104  \n",
        " \n",
        "Y el conjunto de datos utilizado es el de la siguiente liga de la UCI: https://archive.ics.uci.edu/ml/datasets/Facebook+metrics \n",
        "\n",
        "\n",
        "El archivo se llama dataset_Facebook.csv y contiene 500 registros y 19 columnas.  El objetivo es determinar el impacto generado por un anuncio de una marca de cosméticos en  Facebook, en el cual se intentaron varias variantes en la manera de mostrar el anuncio. Siguiendo el  artículo, deberás considerar como predictores o variables de entrada aquellas que se indican en la Tabla 3. Por otro lado, en la Tabla 2, los autores consideran varios casos para la variable de salida, intentando  determinar cuál puede ser el mejor caso para medir el éxito de la campaña. Para este ejercicio deberás  considerar únicamente los siguientes tres casos como variable de salida: “Lifetime post consumers”,  “Lifetime People who have liked a Page and engaged with a post” y “Likes”."
      ]
    },
    {
      "cell_type": "markdown",
      "metadata": {
        "id": "FrJ2ahMODVj1"
      },
      "source": [
        "En cada sección deberás incluir todas las líneas de código necesarias para responder a cada uno de los ejercicios."
      ]
    },
    {
      "cell_type": "markdown",
      "source": [
        "### DATA\n",
        "El data set, con 500 resgistros, es una muestra de los datos recopilados entre enero 1 y diciembre 31 de 2014. Contiene 19 columnas, de las cuales 7 features son conocidos antes de la publicación del anuncio (post) y los otros 12 features son usados para evaluar el impacto del post.\n",
        "\n",
        "Los 12 features consisten en 11 features exportados de la página de Facebook más una columna que computa el total de interacciones (pgae total likes), y contienen las métricas asociadas al desempeño del post, por lo tanto, cualquiera de estos features pueden ser usados como feature de salida para predicción.\n",
        "\n",
        "Los otros 7 features son considerados de entrada. Estos a su vez fueron limpiados y ajustados, eliminando el 'post id', 'post message', 'permanent link', pues no dan valor al modelo, y asjustando la fecha, 'posted', a tres características: 'Post Month', 'Post Weekday', y 'Post Hour'.\n",
        "\n",
        "El conjunto de datos se divide en cuatro categorías o tipos de features, según la información que proveen:\n",
        "* de Identificación: permiten identificar, de manera individual, cada post.\n",
        "* de Contenido: el contenido textual de cada post.\n",
        "* de Categorización: features que caracterizan el post.\n",
        "* de Desempeño: métricas para medir el impacto del post (o el impacto de la página, para el caso de \"Page total likes\").\n",
        "\n",
        "\n",
        "\n"
      ],
      "metadata": {
        "id": "SSItQX11pPow"
      }
    },
    {
      "cell_type": "markdown",
      "source": [
        "##### Features de Salida\n",
        "Feature                   | Desciption\n",
        "--------------------------|---------------------------\n",
        "Lifetime post total reach | The number of people who saw a page post (unique users).\n",
        "Lifetime post total impressions | Impressions are the number of times a post from a page is displayed, whether the post is clicked or not. People may see multiple impressions of the same post. For example, someone might see a Page update in News Feed once, and then a second time if a friend shares it.\n",
        "Lifetime engaged users | The number of people who clicked anywhere in a post (unique users).\n",
        "Lifetime post consumers | The number of people who clicked anywhere in a post.\n",
        "Lifetime post consumptions | The number of clicks anywhere in a post.\n",
        "Lifetime post impressions by people who have liked a page | Total number of impressions just from people who have liked a page.\n",
        "Lifetime post reach by people who like a page | The number of people who saw a page post because they have liked that page (unique users).\n",
        "**Lifetime people who have liked a page and engaged with a post** | The number of people who have liked a Page and clicked anywhere in a post (Unique users).\n",
        "Comments | Number of comments on the publication.\n",
        "Likes | Number of “Likes” on the publication.\n",
        "Shares | Number of times the publication was shared.\n",
        "Total interactions | The sum of “likes,” “comments,” and “shares” of the post.\n",
        "<br>\n",
        "\n",
        "##### Features de Entrada\n",
        "\n",
        "Feature                   | Desciption\n",
        "--------------------------|---------------------------\n",
        "Category | Manual content characterization: action (special offers and contests, product (direct advertisement, explicit brand content), and inspiration non-explicit brand related content).\n",
        "Page total likes | Number of people who have liked the company's page.\n",
        "Type | Type of content (Link, Photo, Status, Video).\n",
        "Post month | Month the post was published (January, February, March, …, December).\n",
        "Post hour | Hour the post was published (0, 1, 2, 3, 4, …, 23).\n",
        "Post weekday | Weekday the post was published (Sunday, Monday, …, Saturday).\n",
        "Paid | If the company paid to Facebook for advertising (yes, no).\n",
        "<br>\n"
      ],
      "metadata": {
        "id": "d9BFu3zE8OMM"
      }
    },
    {
      "cell_type": "markdown",
      "source": [
        "### Librerías"
      ],
      "metadata": {
        "id": "JytPcSapYMkg"
      }
    },
    {
      "cell_type": "code",
      "execution_count": null,
      "metadata": {
        "id": "exXsscs-Dh-2"
      },
      "outputs": [],
      "source": [
        "# módulos, librerías y paquetes requeridos.\n",
        "\n",
        "import graphviz\n",
        "import math\n",
        "import matplotlib.pyplot as plt\n",
        "import pandas as pd\n",
        "import pydotplus\n",
        "import seaborn as sns\n",
        "\n",
        "from IPython.display import Image\n",
        "from sklearn import tree\n",
        "from sklearn.compose import ColumnTransformer\n",
        "from sklearn.ensemble import RandomForestClassifier\n",
        "from sklearn.impute import SimpleImputer\n",
        "from sklearn.linear_model import LogisticRegression\n",
        "from sklearn.metrics import confusion_matrix, make_scorer\n",
        "from sklearn.model_selection import GridSearchCV, RepeatedStratifiedKFold, train_test_split, cross_validate, learning_curve\n",
        "from sklearn.preprocessing import MinMaxScaler, OneHotEncoder, OneHotEncoder, FunctionTransformer\n",
        "from sklearn.pipeline import Pipeline\n",
        "from sklearn.tree import DecisionTreeClassifier"
      ]
    },
    {
      "cell_type": "markdown",
      "metadata": {
        "id": "X25brD-gQdZM"
      },
      "source": [
        "# **Ejercicio-1.** "
      ]
    },
    {
      "cell_type": "markdown",
      "metadata": {
        "id": "wrXVR3OQlr-P"
      },
      "source": [
        "En esta tarea considera únicamente la siguiente variable de salida que se concluye que es una de las \n",
        "mejores en el artículo antes citado:  ‘Lifetime People who have liked a Page and engaged with a \n",
        "post'. Renombra dicha variable como “LPE” . Como variables de entrada selecciona las 7 variables \n",
        "que indican los autores en la Tabla 3 del artículo citado. "
      ]
    },
    {
      "cell_type": "code",
      "execution_count": null,
      "metadata": {
        "id": "3nU2GuWYCy6C",
        "colab": {
          "base_uri": "https://localhost:8080/",
          "height": 426
        },
        "outputId": "686ad46f-81e3-4af3-d1c0-bf90426c7ac5"
      },
      "outputs": [
        {
          "output_type": "execute_result",
          "data": {
            "text/plain": [
              "   Page total likes    Type  Category  Post Month  Post Weekday  Post Hour  \\\n",
              "0            139441   Photo         2          12             4          3   \n",
              "1            139441  Status         2          12             3         10   \n",
              "2            139441   Photo         3          12             3          3   \n",
              "3            139441   Photo         2          12             2         10   \n",
              "4            139441   Photo         2          12             2          3   \n",
              "\n",
              "   Paid  Lifetime Post Total Reach  Lifetime Post Total Impressions  \\\n",
              "0   0.0                       2752                             5091   \n",
              "1   0.0                      10460                            19057   \n",
              "2   0.0                       2413                             4373   \n",
              "3   1.0                      50128                            87991   \n",
              "4   0.0                       7244                            13594   \n",
              "\n",
              "   Lifetime Engaged Users  Lifetime Post Consumers  \\\n",
              "0                     178                      109   \n",
              "1                    1457                     1361   \n",
              "2                     177                      113   \n",
              "3                    2211                      790   \n",
              "4                     671                      410   \n",
              "\n",
              "   Lifetime Post Consumptions  \\\n",
              "0                         159   \n",
              "1                        1674   \n",
              "2                         154   \n",
              "3                        1119   \n",
              "4                         580   \n",
              "\n",
              "   Lifetime Post Impressions by people who have liked your Page  \\\n",
              "0                                               3078              \n",
              "1                                              11710              \n",
              "2                                               2812              \n",
              "3                                              61027              \n",
              "4                                               6228              \n",
              "\n",
              "   Lifetime Post reach by people who like your Page  \\\n",
              "0                                              1640   \n",
              "1                                              6112   \n",
              "2                                              1503   \n",
              "3                                             32048   \n",
              "4                                              3200   \n",
              "\n",
              "   Lifetime People who have liked your Page and engaged with your post  \\\n",
              "0                                                119                     \n",
              "1                                               1108                     \n",
              "2                                                132                     \n",
              "3                                               1386                     \n",
              "4                                                396                     \n",
              "\n",
              "   comment    like  share  Total Interactions  \n",
              "0        4    79.0   17.0                 100  \n",
              "1        5   130.0   29.0                 164  \n",
              "2        0    66.0   14.0                  80  \n",
              "3       58  1572.0  147.0                1777  \n",
              "4       19   325.0   49.0                 393  "
            ],
            "text/html": [
              "\n",
              "  <div id=\"df-c6adc1ed-7f78-438d-9e65-698228c07037\">\n",
              "    <div class=\"colab-df-container\">\n",
              "      <div>\n",
              "<style scoped>\n",
              "    .dataframe tbody tr th:only-of-type {\n",
              "        vertical-align: middle;\n",
              "    }\n",
              "\n",
              "    .dataframe tbody tr th {\n",
              "        vertical-align: top;\n",
              "    }\n",
              "\n",
              "    .dataframe thead th {\n",
              "        text-align: right;\n",
              "    }\n",
              "</style>\n",
              "<table border=\"1\" class=\"dataframe\">\n",
              "  <thead>\n",
              "    <tr style=\"text-align: right;\">\n",
              "      <th></th>\n",
              "      <th>Page total likes</th>\n",
              "      <th>Type</th>\n",
              "      <th>Category</th>\n",
              "      <th>Post Month</th>\n",
              "      <th>Post Weekday</th>\n",
              "      <th>Post Hour</th>\n",
              "      <th>Paid</th>\n",
              "      <th>Lifetime Post Total Reach</th>\n",
              "      <th>Lifetime Post Total Impressions</th>\n",
              "      <th>Lifetime Engaged Users</th>\n",
              "      <th>Lifetime Post Consumers</th>\n",
              "      <th>Lifetime Post Consumptions</th>\n",
              "      <th>Lifetime Post Impressions by people who have liked your Page</th>\n",
              "      <th>Lifetime Post reach by people who like your Page</th>\n",
              "      <th>Lifetime People who have liked your Page and engaged with your post</th>\n",
              "      <th>comment</th>\n",
              "      <th>like</th>\n",
              "      <th>share</th>\n",
              "      <th>Total Interactions</th>\n",
              "    </tr>\n",
              "  </thead>\n",
              "  <tbody>\n",
              "    <tr>\n",
              "      <th>0</th>\n",
              "      <td>139441</td>\n",
              "      <td>Photo</td>\n",
              "      <td>2</td>\n",
              "      <td>12</td>\n",
              "      <td>4</td>\n",
              "      <td>3</td>\n",
              "      <td>0.0</td>\n",
              "      <td>2752</td>\n",
              "      <td>5091</td>\n",
              "      <td>178</td>\n",
              "      <td>109</td>\n",
              "      <td>159</td>\n",
              "      <td>3078</td>\n",
              "      <td>1640</td>\n",
              "      <td>119</td>\n",
              "      <td>4</td>\n",
              "      <td>79.0</td>\n",
              "      <td>17.0</td>\n",
              "      <td>100</td>\n",
              "    </tr>\n",
              "    <tr>\n",
              "      <th>1</th>\n",
              "      <td>139441</td>\n",
              "      <td>Status</td>\n",
              "      <td>2</td>\n",
              "      <td>12</td>\n",
              "      <td>3</td>\n",
              "      <td>10</td>\n",
              "      <td>0.0</td>\n",
              "      <td>10460</td>\n",
              "      <td>19057</td>\n",
              "      <td>1457</td>\n",
              "      <td>1361</td>\n",
              "      <td>1674</td>\n",
              "      <td>11710</td>\n",
              "      <td>6112</td>\n",
              "      <td>1108</td>\n",
              "      <td>5</td>\n",
              "      <td>130.0</td>\n",
              "      <td>29.0</td>\n",
              "      <td>164</td>\n",
              "    </tr>\n",
              "    <tr>\n",
              "      <th>2</th>\n",
              "      <td>139441</td>\n",
              "      <td>Photo</td>\n",
              "      <td>3</td>\n",
              "      <td>12</td>\n",
              "      <td>3</td>\n",
              "      <td>3</td>\n",
              "      <td>0.0</td>\n",
              "      <td>2413</td>\n",
              "      <td>4373</td>\n",
              "      <td>177</td>\n",
              "      <td>113</td>\n",
              "      <td>154</td>\n",
              "      <td>2812</td>\n",
              "      <td>1503</td>\n",
              "      <td>132</td>\n",
              "      <td>0</td>\n",
              "      <td>66.0</td>\n",
              "      <td>14.0</td>\n",
              "      <td>80</td>\n",
              "    </tr>\n",
              "    <tr>\n",
              "      <th>3</th>\n",
              "      <td>139441</td>\n",
              "      <td>Photo</td>\n",
              "      <td>2</td>\n",
              "      <td>12</td>\n",
              "      <td>2</td>\n",
              "      <td>10</td>\n",
              "      <td>1.0</td>\n",
              "      <td>50128</td>\n",
              "      <td>87991</td>\n",
              "      <td>2211</td>\n",
              "      <td>790</td>\n",
              "      <td>1119</td>\n",
              "      <td>61027</td>\n",
              "      <td>32048</td>\n",
              "      <td>1386</td>\n",
              "      <td>58</td>\n",
              "      <td>1572.0</td>\n",
              "      <td>147.0</td>\n",
              "      <td>1777</td>\n",
              "    </tr>\n",
              "    <tr>\n",
              "      <th>4</th>\n",
              "      <td>139441</td>\n",
              "      <td>Photo</td>\n",
              "      <td>2</td>\n",
              "      <td>12</td>\n",
              "      <td>2</td>\n",
              "      <td>3</td>\n",
              "      <td>0.0</td>\n",
              "      <td>7244</td>\n",
              "      <td>13594</td>\n",
              "      <td>671</td>\n",
              "      <td>410</td>\n",
              "      <td>580</td>\n",
              "      <td>6228</td>\n",
              "      <td>3200</td>\n",
              "      <td>396</td>\n",
              "      <td>19</td>\n",
              "      <td>325.0</td>\n",
              "      <td>49.0</td>\n",
              "      <td>393</td>\n",
              "    </tr>\n",
              "  </tbody>\n",
              "</table>\n",
              "</div>\n",
              "      <button class=\"colab-df-convert\" onclick=\"convertToInteractive('df-c6adc1ed-7f78-438d-9e65-698228c07037')\"\n",
              "              title=\"Convert this dataframe to an interactive table.\"\n",
              "              style=\"display:none;\">\n",
              "        \n",
              "  <svg xmlns=\"http://www.w3.org/2000/svg\" height=\"24px\"viewBox=\"0 0 24 24\"\n",
              "       width=\"24px\">\n",
              "    <path d=\"M0 0h24v24H0V0z\" fill=\"none\"/>\n",
              "    <path d=\"M18.56 5.44l.94 2.06.94-2.06 2.06-.94-2.06-.94-.94-2.06-.94 2.06-2.06.94zm-11 1L8.5 8.5l.94-2.06 2.06-.94-2.06-.94L8.5 2.5l-.94 2.06-2.06.94zm10 10l.94 2.06.94-2.06 2.06-.94-2.06-.94-.94-2.06-.94 2.06-2.06.94z\"/><path d=\"M17.41 7.96l-1.37-1.37c-.4-.4-.92-.59-1.43-.59-.52 0-1.04.2-1.43.59L10.3 9.45l-7.72 7.72c-.78.78-.78 2.05 0 2.83L4 21.41c.39.39.9.59 1.41.59.51 0 1.02-.2 1.41-.59l7.78-7.78 2.81-2.81c.8-.78.8-2.07 0-2.86zM5.41 20L4 18.59l7.72-7.72 1.47 1.35L5.41 20z\"/>\n",
              "  </svg>\n",
              "      </button>\n",
              "      \n",
              "  <style>\n",
              "    .colab-df-container {\n",
              "      display:flex;\n",
              "      flex-wrap:wrap;\n",
              "      gap: 12px;\n",
              "    }\n",
              "\n",
              "    .colab-df-convert {\n",
              "      background-color: #E8F0FE;\n",
              "      border: none;\n",
              "      border-radius: 50%;\n",
              "      cursor: pointer;\n",
              "      display: none;\n",
              "      fill: #1967D2;\n",
              "      height: 32px;\n",
              "      padding: 0 0 0 0;\n",
              "      width: 32px;\n",
              "    }\n",
              "\n",
              "    .colab-df-convert:hover {\n",
              "      background-color: #E2EBFA;\n",
              "      box-shadow: 0px 1px 2px rgba(60, 64, 67, 0.3), 0px 1px 3px 1px rgba(60, 64, 67, 0.15);\n",
              "      fill: #174EA6;\n",
              "    }\n",
              "\n",
              "    [theme=dark] .colab-df-convert {\n",
              "      background-color: #3B4455;\n",
              "      fill: #D2E3FC;\n",
              "    }\n",
              "\n",
              "    [theme=dark] .colab-df-convert:hover {\n",
              "      background-color: #434B5C;\n",
              "      box-shadow: 0px 1px 3px 1px rgba(0, 0, 0, 0.15);\n",
              "      filter: drop-shadow(0px 1px 2px rgba(0, 0, 0, 0.3));\n",
              "      fill: #FFFFFF;\n",
              "    }\n",
              "  </style>\n",
              "\n",
              "      <script>\n",
              "        const buttonEl =\n",
              "          document.querySelector('#df-c6adc1ed-7f78-438d-9e65-698228c07037 button.colab-df-convert');\n",
              "        buttonEl.style.display =\n",
              "          google.colab.kernel.accessAllowed ? 'block' : 'none';\n",
              "\n",
              "        async function convertToInteractive(key) {\n",
              "          const element = document.querySelector('#df-c6adc1ed-7f78-438d-9e65-698228c07037');\n",
              "          const dataTable =\n",
              "            await google.colab.kernel.invokeFunction('convertToInteractive',\n",
              "                                                     [key], {});\n",
              "          if (!dataTable) return;\n",
              "\n",
              "          const docLinkHtml = 'Like what you see? Visit the ' +\n",
              "            '<a target=\"_blank\" href=https://colab.research.google.com/notebooks/data_table.ipynb>data table notebook</a>'\n",
              "            + ' to learn more about interactive tables.';\n",
              "          element.innerHTML = '';\n",
              "          dataTable['output_type'] = 'display_data';\n",
              "          await google.colab.output.renderOutput(dataTable, element);\n",
              "          const docLink = document.createElement('div');\n",
              "          docLink.innerHTML = docLinkHtml;\n",
              "          element.appendChild(docLink);\n",
              "        }\n",
              "      </script>\n",
              "    </div>\n",
              "  </div>\n",
              "  "
            ]
          },
          "metadata": {},
          "execution_count": 6
        }
      ],
      "source": [
        "#Importación de archivo a DataFrame\n",
        "#df= pd.read_csv('dataset_Facebook.csv', sep=';')\n",
        "df= pd.read_csv('https://raw.githubusercontent.com/KarltonBotics/MNA-IA-Equipos51/main/dataset_Facebook.csv', sep=';')\n",
        "df.head()"
      ]
    },
    {
      "cell_type": "code",
      "execution_count": null,
      "metadata": {
        "id": "0ulkqXVGCy97",
        "colab": {
          "base_uri": "https://localhost:8080/",
          "height": 270
        },
        "outputId": "1e3e3650-baaa-4792-9ead-f5345d753e6c"
      },
      "outputs": [
        {
          "output_type": "execute_result",
          "data": {
            "text/plain": [
              "   total_likes    type  category  post_month  post_weekday  post_hour  paid  \\\n",
              "0       139441   Photo         2          12             4          3   0.0   \n",
              "1       139441  Status         2          12             3         10   0.0   \n",
              "2       139441   Photo         3          12             3          3   0.0   \n",
              "3       139441   Photo         2          12             2         10   1.0   \n",
              "4       139441   Photo         2          12             2          3   0.0   \n",
              "\n",
              "    lptr   lpti   leu  lpcm  lpcn  lpiplp  lprplp  lphlp  comment    like  \\\n",
              "0   2752   5091   178   109   159    3078    1640    119        4    79.0   \n",
              "1  10460  19057  1457  1361  1674   11710    6112   1108        5   130.0   \n",
              "2   2413   4373   177   113   154    2812    1503    132        0    66.0   \n",
              "3  50128  87991  2211   790  1119   61027   32048   1386       58  1572.0   \n",
              "4   7244  13594   671   410   580    6228    3200    396       19   325.0   \n",
              "\n",
              "   share  interactions  \n",
              "0   17.0           100  \n",
              "1   29.0           164  \n",
              "2   14.0            80  \n",
              "3  147.0          1777  \n",
              "4   49.0           393  "
            ],
            "text/html": [
              "\n",
              "  <div id=\"df-4f84fc39-2f62-4ac7-966c-edbb9c6b3efb\">\n",
              "    <div class=\"colab-df-container\">\n",
              "      <div>\n",
              "<style scoped>\n",
              "    .dataframe tbody tr th:only-of-type {\n",
              "        vertical-align: middle;\n",
              "    }\n",
              "\n",
              "    .dataframe tbody tr th {\n",
              "        vertical-align: top;\n",
              "    }\n",
              "\n",
              "    .dataframe thead th {\n",
              "        text-align: right;\n",
              "    }\n",
              "</style>\n",
              "<table border=\"1\" class=\"dataframe\">\n",
              "  <thead>\n",
              "    <tr style=\"text-align: right;\">\n",
              "      <th></th>\n",
              "      <th>total_likes</th>\n",
              "      <th>type</th>\n",
              "      <th>category</th>\n",
              "      <th>post_month</th>\n",
              "      <th>post_weekday</th>\n",
              "      <th>post_hour</th>\n",
              "      <th>paid</th>\n",
              "      <th>lptr</th>\n",
              "      <th>lpti</th>\n",
              "      <th>leu</th>\n",
              "      <th>lpcm</th>\n",
              "      <th>lpcn</th>\n",
              "      <th>lpiplp</th>\n",
              "      <th>lprplp</th>\n",
              "      <th>lphlp</th>\n",
              "      <th>comment</th>\n",
              "      <th>like</th>\n",
              "      <th>share</th>\n",
              "      <th>interactions</th>\n",
              "    </tr>\n",
              "  </thead>\n",
              "  <tbody>\n",
              "    <tr>\n",
              "      <th>0</th>\n",
              "      <td>139441</td>\n",
              "      <td>Photo</td>\n",
              "      <td>2</td>\n",
              "      <td>12</td>\n",
              "      <td>4</td>\n",
              "      <td>3</td>\n",
              "      <td>0.0</td>\n",
              "      <td>2752</td>\n",
              "      <td>5091</td>\n",
              "      <td>178</td>\n",
              "      <td>109</td>\n",
              "      <td>159</td>\n",
              "      <td>3078</td>\n",
              "      <td>1640</td>\n",
              "      <td>119</td>\n",
              "      <td>4</td>\n",
              "      <td>79.0</td>\n",
              "      <td>17.0</td>\n",
              "      <td>100</td>\n",
              "    </tr>\n",
              "    <tr>\n",
              "      <th>1</th>\n",
              "      <td>139441</td>\n",
              "      <td>Status</td>\n",
              "      <td>2</td>\n",
              "      <td>12</td>\n",
              "      <td>3</td>\n",
              "      <td>10</td>\n",
              "      <td>0.0</td>\n",
              "      <td>10460</td>\n",
              "      <td>19057</td>\n",
              "      <td>1457</td>\n",
              "      <td>1361</td>\n",
              "      <td>1674</td>\n",
              "      <td>11710</td>\n",
              "      <td>6112</td>\n",
              "      <td>1108</td>\n",
              "      <td>5</td>\n",
              "      <td>130.0</td>\n",
              "      <td>29.0</td>\n",
              "      <td>164</td>\n",
              "    </tr>\n",
              "    <tr>\n",
              "      <th>2</th>\n",
              "      <td>139441</td>\n",
              "      <td>Photo</td>\n",
              "      <td>3</td>\n",
              "      <td>12</td>\n",
              "      <td>3</td>\n",
              "      <td>3</td>\n",
              "      <td>0.0</td>\n",
              "      <td>2413</td>\n",
              "      <td>4373</td>\n",
              "      <td>177</td>\n",
              "      <td>113</td>\n",
              "      <td>154</td>\n",
              "      <td>2812</td>\n",
              "      <td>1503</td>\n",
              "      <td>132</td>\n",
              "      <td>0</td>\n",
              "      <td>66.0</td>\n",
              "      <td>14.0</td>\n",
              "      <td>80</td>\n",
              "    </tr>\n",
              "    <tr>\n",
              "      <th>3</th>\n",
              "      <td>139441</td>\n",
              "      <td>Photo</td>\n",
              "      <td>2</td>\n",
              "      <td>12</td>\n",
              "      <td>2</td>\n",
              "      <td>10</td>\n",
              "      <td>1.0</td>\n",
              "      <td>50128</td>\n",
              "      <td>87991</td>\n",
              "      <td>2211</td>\n",
              "      <td>790</td>\n",
              "      <td>1119</td>\n",
              "      <td>61027</td>\n",
              "      <td>32048</td>\n",
              "      <td>1386</td>\n",
              "      <td>58</td>\n",
              "      <td>1572.0</td>\n",
              "      <td>147.0</td>\n",
              "      <td>1777</td>\n",
              "    </tr>\n",
              "    <tr>\n",
              "      <th>4</th>\n",
              "      <td>139441</td>\n",
              "      <td>Photo</td>\n",
              "      <td>2</td>\n",
              "      <td>12</td>\n",
              "      <td>2</td>\n",
              "      <td>3</td>\n",
              "      <td>0.0</td>\n",
              "      <td>7244</td>\n",
              "      <td>13594</td>\n",
              "      <td>671</td>\n",
              "      <td>410</td>\n",
              "      <td>580</td>\n",
              "      <td>6228</td>\n",
              "      <td>3200</td>\n",
              "      <td>396</td>\n",
              "      <td>19</td>\n",
              "      <td>325.0</td>\n",
              "      <td>49.0</td>\n",
              "      <td>393</td>\n",
              "    </tr>\n",
              "  </tbody>\n",
              "</table>\n",
              "</div>\n",
              "      <button class=\"colab-df-convert\" onclick=\"convertToInteractive('df-4f84fc39-2f62-4ac7-966c-edbb9c6b3efb')\"\n",
              "              title=\"Convert this dataframe to an interactive table.\"\n",
              "              style=\"display:none;\">\n",
              "        \n",
              "  <svg xmlns=\"http://www.w3.org/2000/svg\" height=\"24px\"viewBox=\"0 0 24 24\"\n",
              "       width=\"24px\">\n",
              "    <path d=\"M0 0h24v24H0V0z\" fill=\"none\"/>\n",
              "    <path d=\"M18.56 5.44l.94 2.06.94-2.06 2.06-.94-2.06-.94-.94-2.06-.94 2.06-2.06.94zm-11 1L8.5 8.5l.94-2.06 2.06-.94-2.06-.94L8.5 2.5l-.94 2.06-2.06.94zm10 10l.94 2.06.94-2.06 2.06-.94-2.06-.94-.94-2.06-.94 2.06-2.06.94z\"/><path d=\"M17.41 7.96l-1.37-1.37c-.4-.4-.92-.59-1.43-.59-.52 0-1.04.2-1.43.59L10.3 9.45l-7.72 7.72c-.78.78-.78 2.05 0 2.83L4 21.41c.39.39.9.59 1.41.59.51 0 1.02-.2 1.41-.59l7.78-7.78 2.81-2.81c.8-.78.8-2.07 0-2.86zM5.41 20L4 18.59l7.72-7.72 1.47 1.35L5.41 20z\"/>\n",
              "  </svg>\n",
              "      </button>\n",
              "      \n",
              "  <style>\n",
              "    .colab-df-container {\n",
              "      display:flex;\n",
              "      flex-wrap:wrap;\n",
              "      gap: 12px;\n",
              "    }\n",
              "\n",
              "    .colab-df-convert {\n",
              "      background-color: #E8F0FE;\n",
              "      border: none;\n",
              "      border-radius: 50%;\n",
              "      cursor: pointer;\n",
              "      display: none;\n",
              "      fill: #1967D2;\n",
              "      height: 32px;\n",
              "      padding: 0 0 0 0;\n",
              "      width: 32px;\n",
              "    }\n",
              "\n",
              "    .colab-df-convert:hover {\n",
              "      background-color: #E2EBFA;\n",
              "      box-shadow: 0px 1px 2px rgba(60, 64, 67, 0.3), 0px 1px 3px 1px rgba(60, 64, 67, 0.15);\n",
              "      fill: #174EA6;\n",
              "    }\n",
              "\n",
              "    [theme=dark] .colab-df-convert {\n",
              "      background-color: #3B4455;\n",
              "      fill: #D2E3FC;\n",
              "    }\n",
              "\n",
              "    [theme=dark] .colab-df-convert:hover {\n",
              "      background-color: #434B5C;\n",
              "      box-shadow: 0px 1px 3px 1px rgba(0, 0, 0, 0.15);\n",
              "      filter: drop-shadow(0px 1px 2px rgba(0, 0, 0, 0.3));\n",
              "      fill: #FFFFFF;\n",
              "    }\n",
              "  </style>\n",
              "\n",
              "      <script>\n",
              "        const buttonEl =\n",
              "          document.querySelector('#df-4f84fc39-2f62-4ac7-966c-edbb9c6b3efb button.colab-df-convert');\n",
              "        buttonEl.style.display =\n",
              "          google.colab.kernel.accessAllowed ? 'block' : 'none';\n",
              "\n",
              "        async function convertToInteractive(key) {\n",
              "          const element = document.querySelector('#df-4f84fc39-2f62-4ac7-966c-edbb9c6b3efb');\n",
              "          const dataTable =\n",
              "            await google.colab.kernel.invokeFunction('convertToInteractive',\n",
              "                                                     [key], {});\n",
              "          if (!dataTable) return;\n",
              "\n",
              "          const docLinkHtml = 'Like what you see? Visit the ' +\n",
              "            '<a target=\"_blank\" href=https://colab.research.google.com/notebooks/data_table.ipynb>data table notebook</a>'\n",
              "            + ' to learn more about interactive tables.';\n",
              "          element.innerHTML = '';\n",
              "          dataTable['output_type'] = 'display_data';\n",
              "          await google.colab.output.renderOutput(dataTable, element);\n",
              "          const docLink = document.createElement('div');\n",
              "          docLink.innerHTML = docLinkHtml;\n",
              "          element.appendChild(docLink);\n",
              "        }\n",
              "      </script>\n",
              "    </div>\n",
              "  </div>\n",
              "  "
            ]
          },
          "metadata": {},
          "execution_count": 8
        }
      ],
      "source": [
        "#Sustituye los nombres de las columnas para una mejor interacción.\n",
        "df.rename(columns = {\n",
        "    'Page total likes': 'total_likes',\n",
        "    'Type': 'type',\n",
        "    'Category': 'category',\n",
        "    'Post Month': 'post_month',\n",
        "    'Post Weekday': 'post_weekday',\n",
        "    'Post Hour': 'post_hour',\n",
        "    'Paid': 'paid',\n",
        "    'Lifetime Post Total Reach': 'lptr',\n",
        "    'Lifetime Post Total Impressions': 'lpti',\n",
        "    'Lifetime Engaged Users': 'leu',\n",
        "    'Lifetime Post Consumers': 'lpcm',\n",
        "    'Lifetime Post Consumptions': 'lpcn',\n",
        "    'Lifetime Post Impressions by people who have liked your Page': 'lpiplp',\n",
        "    'Lifetime Post reach by people who like your Page': 'lprplp',\n",
        "    'Lifetime People who have liked your Page and engaged with your post': 'lphlp',\n",
        "    'comment': 'comment',\n",
        "    'like': 'like',\n",
        "    'share': 'share',\n",
        "    'Total Interactions': 'interactions'\n",
        "}, inplace = True)\n",
        "#El inplace true, nos permite hacer la mutación sobre el mismo dataframe, sin necesidad de crear otro nuevo\n",
        "df.head()"
      ]
    },
    {
      "cell_type": "code",
      "execution_count": null,
      "metadata": {
        "colab": {
          "base_uri": "https://localhost:8080/"
        },
        "id": "hJcgsnMAlr-R",
        "outputId": "78cccbeb-944b-43bb-b2cf-8b1b15d02df7"
      },
      "outputs": [
        {
          "output_type": "stream",
          "name": "stdout",
          "text": [
            "Columnas X\n",
            "   category  total_likes    type  post_month  post_weekday  post_hour  paid\n",
            "0         2       139441   Photo          12             4          3   0.0\n",
            "1         2       139441  Status          12             3         10   0.0\n",
            "2         3       139441   Photo          12             3          3   0.0\n",
            "3         2       139441   Photo          12             2         10   1.0\n",
            "4         2       139441   Photo          12             2          3   0.0\n",
            "\n",
            "Columnas y\n",
            "   lpcm  lphlp    like\n",
            "0   109    119    79.0\n",
            "1  1361   1108   130.0\n",
            "2   113    132    66.0\n",
            "3   790   1386  1572.0\n",
            "4   410    396   325.0\n"
          ]
        }
      ],
      "source": [
        "#Determinamos las columnas del conjunto de entrada\n",
        "X = df[['category', 'total_likes', 'type', 'post_month', 'post_weekday', 'post_hour', 'paid']].copy()\n",
        "print(\"Columnas X\")\n",
        "print(X.head())\n",
        "\n",
        "#Determinamos las columnas del conjunto de salida\n",
        "y = df[['lpcm', 'lphlp', 'like']].copy()\n",
        "print(\"\\nColumnas y\")\n",
        "print(y.head())"
      ]
    },
    {
      "cell_type": "markdown",
      "metadata": {
        "id": "xZhr2hkECzVv"
      },
      "source": [
        "# **Ejercicio-2.**"
      ]
    },
    {
      "cell_type": "markdown",
      "metadata": {
        "id": "qZKQPUw1lr-R"
      },
      "source": [
        "Realiza una partición de los datos con 100 datos de Prueba y el resto para entrenamiento y \n",
        "validación.  "
      ]
    },
    {
      "cell_type": "code",
      "execution_count": null,
      "metadata": {
        "id": "kGfAoOPkC1PP",
        "colab": {
          "base_uri": "https://localhost:8080/"
        },
        "outputId": "3c61b766-e708-4935-d0a3-74d219fc2e79"
      },
      "outputs": [
        {
          "output_type": "stream",
          "name": "stdout",
          "text": [
            "Tamaño del conjunto de entrada para entrenamiento y validación:  (400, 7)\n",
            "Tamaño del conjunto de entrada para prueba:  (100, 7)\n",
            "-----\n",
            "Tamaño del conjunto de salida para entrenamiento y validación:  (400, 3)\n",
            "Tamaño del conjunto de salida para prueba:  (100, 3)\n"
          ]
        }
      ],
      "source": [
        "#creamos nuestros datos de validación con la función trains_test_split\n",
        "X_train, X_test, y_train, y_test = train_test_split(X, y, train_size=0.80, random_state=10)\n",
        "\n",
        "print(\"Tamaño del conjunto de entrada para entrenamiento y validación: \", X_train.shape)\n",
        "print(\"Tamaño del conjunto de entrada para prueba: \", X_test.shape)\n",
        "print(\"-----\")\n",
        "print(\"Tamaño del conjunto de salida para entrenamiento y validación: \", y_train.shape)\n",
        "print(\"Tamaño del conjunto de salida para prueba: \", y_test.shape)"
      ]
    },
    {
      "cell_type": "markdown",
      "metadata": {
        "id": "NCunuooTC2W3"
      },
      "source": [
        "# **Ejercicio-3.**"
      ]
    },
    {
      "cell_type": "markdown",
      "metadata": {
        "id": "tYSNs1fklr-S"
      },
      "source": [
        "Definirás tus propias funciones de errores para este problema de regresión. Los errores que \n",
        "utilizarás son la raíz cuadrada del error cuadrático medio RMSE, el error absoluto medio MAE y el \n",
        "error porcentual absoluto medio MAPE. "
      ]
    },
    {
      "cell_type": "code",
      "execution_count": null,
      "metadata": {
        "id": "YXlcSWA-C4Dj"
      },
      "outputs": [],
      "source": [
        "#Raíz del error cuadrático medio\n",
        "def rmse(y, y_hat):\n",
        "    substraction = (y - y_hat)\n",
        "    square = np.square(substraction)\n",
        "    MSE = square.mean()\n",
        "    RMSE = np.sqrt(MSE)\n",
        "\n",
        "    return RMSE"
      ]
    },
    {
      "cell_type": "code",
      "execution_count": null,
      "metadata": {
        "id": "BKI80-YdC4HN"
      },
      "outputs": [],
      "source": [
        "#Error absoluto medio\n",
        "def mae(y, y_hat):\n",
        "    absolute = np.abs(y - y_hat)\n",
        "    average = np.mean(absolute)\n",
        "\n",
        "    return average"
      ]
    },
    {
      "cell_type": "code",
      "execution_count": null,
      "metadata": {
        "id": "xgz8Keyplr-S"
      },
      "outputs": [],
      "source": [
        "#Error absoluto medio porcentual\n",
        "def mape(y, y_hat):\n",
        "    absolute = np.abs((y - y_hat) / y)\n",
        "    average = np.mean(absolute)\n",
        "    percentage = average * 100\n",
        "\n",
        "    return percentage"
      ]
    },
    {
      "cell_type": "markdown",
      "metadata": {
        "id": "chqk9jIDC5Pq"
      },
      "source": [
        "# **Ejercicio-4.**"
      ]
    },
    {
      "cell_type": "markdown",
      "metadata": {
        "id": "8tOT101Slr-S"
      },
      "source": [
        "En la página de la UCI, así como en el artículo de los autores previamente citado encuentras información en relación al significado de cada variable. Haz una análisis de tus datos y lleva a cabo las transformaciones que consideres adecuadas tanto en los datos de entrada, como en las de salida. Utiliza un Pipeline para evitar el filtrado de información. "
      ]
    },
    {
      "cell_type": "code",
      "source": [
        "#Función que grafica un histograma de acuerdo a los parámetros predefinidos\n",
        "def plot_hist(X_train_data):\n",
        "  #Tamaño de la figura\n",
        "  sns.set(rc={'figure.figsize':(12,4)})\n",
        "  len_col = len(X_train_data.columns)\n",
        "  # ventana de 1x3 nichos para incluir en cada uno de ellos un gráfico.\n",
        "  fig, axes = plt.subplots(1, len_col)\n",
        "  for k in range(0,len_col):\n",
        "    plt.subplot(1, len_col, k+1)\n",
        "    # X_train_data.columns devuelve una lista con los nombres de las columnas.\n",
        "    plt.hist(X_train_data[X_train_data.columns[k]], bins=20)\n",
        "    plt.xlabel(X_train_data.columns[k])\n",
        "  plt.show()\n",
        "\n",
        "  X_train_data.describe()"
      ],
      "metadata": {
        "id": "Eg0YGHURUO0q"
      },
      "execution_count": null,
      "outputs": []
    },
    {
      "cell_type": "code",
      "source": [
        "plot_hist(X_train[['category', 'total_likes', 'type', 'paid']])"
      ],
      "metadata": {
        "colab": {
          "base_uri": "https://localhost:8080/",
          "height": 285
        },
        "id": "sgg0h865Uby6",
        "outputId": "9eddb5f6-0241-4a4c-b98b-1f2b7f26641a"
      },
      "execution_count": null,
      "outputs": [
        {
          "output_type": "display_data",
          "data": {
            "text/plain": [
              "<Figure size 864x288 with 4 Axes>"
            ],
            "image/png": "[encoded data removed]"
          },
          "metadata": {}
        }
      ]
    },
    {
      "cell_type": "code",
      "source": [
        "plot_hist(X_train[['post_month', 'post_weekday', 'post_hour']])"
      ],
      "metadata": {
        "colab": {
          "base_uri": "https://localhost:8080/",
          "height": 285
        },
        "id": "OGGXiUOzV09D",
        "outputId": "31579996-8b9b-4dea-ef80-71246ca13c5a"
      },
      "execution_count": null,
      "outputs": [
        {
          "output_type": "display_data",
          "data": {
            "text/plain": [
              "<Figure size 864x288 with 3 Axes>"
            ],
            "image/png": "[encoded data removed]"
          },
          "metadata": {}
        }
      ]
    },
    {
      "cell_type": "code",
      "source": [],
      "metadata": {
        "id": "JicZq8E4V02J"
      },
      "execution_count": null,
      "outputs": []
    },
    {
      "cell_type": "code",
      "execution_count": null,
      "metadata": {
        "id": "RBVSFwK4C6g9"
      },
      "outputs": [],
      "source": [
        "None"
      ]
    },
    {
      "cell_type": "code",
      "execution_count": null,
      "metadata": {
        "id": "7KXnlNzAC69Y"
      },
      "outputs": [],
      "source": []
    },
    {
      "cell_type": "markdown",
      "metadata": {
        "id": "Rv7KFq-mC7PS"
      },
      "source": [
        "# **Ejercicio-5.**"
      ]
    },
    {
      "cell_type": "markdown",
      "metadata": {
        "id": "y1vNMScJlr-T"
      },
      "source": [
        "Utiliza la función Dummy para modelos de regresión de scikit-learn con el conjunto que tienes de datos de entrenamiento y validación. Para ello particiónalos en 100 para validación y 300 para  entrenamiento. Encuentra los errores RMSE, MAE y MAPE para los conjuntos de entrenamiento y  validación. Estos serán tus errores máximos que deberás tomar como referencia en el resto de la  actividad. Consulta su documentación correspondiente: https://scikit-learn.org/stable/modules/generated/sklearn.dummy.DummyRegressor.html"
      ]
    },
    {
      "cell_type": "code",
      "execution_count": null,
      "metadata": {
        "id": "jaDj3kawC9B6"
      },
      "outputs": [],
      "source": [
        "None"
      ]
    },
    {
      "cell_type": "code",
      "execution_count": null,
      "metadata": {
        "id": "4tQxQROVC9Us"
      },
      "outputs": [],
      "source": []
    },
    {
      "cell_type": "markdown",
      "metadata": {
        "id": "W2S7LI0NC9wE"
      },
      "source": [
        "# **Ejercicio-6.**"
      ]
    },
    {
      "cell_type": "markdown",
      "metadata": {
        "id": "0KPynkt7lr-T"
      },
      "source": [
        "Usando los modelos de regresión lineal múltiple, el bosque aleatorio y el perceptrón multicapa con  sus valores predeterminados, lleva a cabo su entrenamiento con repeticiones de validación cruzada (RepeatedKFold) y desplegando los errores RMSE, MAE y MAPE. Recuerda evitar el filtrado de información usando los datos que obtuviste en el ejercicio 2. Incluye las conclusiones sobre el mejor modelo encontrado en esta primera aproximación. En particular ¿hay alguno sobreentrenado o subentrenado? NOTA: Recuerda que puedes aumentar en dado caso el número máximo de iteraciones para que todos los modelos converjan."
      ]
    },
    {
      "cell_type": "code",
      "execution_count": null,
      "metadata": {
        "id": "x6uBleJUC_AU"
      },
      "outputs": [],
      "source": [
        "None"
      ]
    },
    {
      "cell_type": "code",
      "execution_count": null,
      "metadata": {
        "id": "n0P_AcyjC_Dh"
      },
      "outputs": [],
      "source": []
    },
    {
      "cell_type": "markdown",
      "metadata": {
        "id": "iCNGx4TQ8CFI"
      },
      "source": [
        "# **Ejercicio-7.**"
      ]
    },
    {
      "cell_type": "markdown",
      "metadata": {
        "id": "QtVR45Iclr-U"
      },
      "source": [
        "Obtener los diagramas de caja y bigote para los errores MAPE de los conjuntos de validación obtenidos. En particular compara estos primeros resultados de MAPE con el mejor resultado que  encuentran los autores del artículo citado al inicio. Incluye tus conclusiones."
      ]
    },
    {
      "cell_type": "code",
      "execution_count": null,
      "metadata": {
        "id": "ewvwUcJX78y1"
      },
      "outputs": [],
      "source": [
        "None"
      ]
    },
    {
      "cell_type": "code",
      "execution_count": null,
      "metadata": {
        "id": "F1aW0dQX8BLL"
      },
      "outputs": [],
      "source": []
    },
    {
      "cell_type": "markdown",
      "metadata": {
        "id": "tzQn5NR78GFg"
      },
      "source": [
        "# **Ejercicio-8.**"
      ]
    },
    {
      "cell_type": "markdown",
      "metadata": {
        "id": "SNIEdiKPlr-U"
      },
      "source": [
        "Usando una búsqueda de malla con validación cruzada (GridSearchCV), busca los mejores hiperparámetros para el modelo MLP. Al menos deberás realizar la búsqueda en los  hiperparámetros “hidden_layer_sizes”, “alpha” y “learning_rate_init”. Además aplica la validación  cruzada con repeticiones (RepeatedKFold). Muestra los mejores hiperparámetros encontrados. "
      ]
    },
    {
      "cell_type": "code",
      "execution_count": null,
      "metadata": {
        "id": "EBKcp0278IQV"
      },
      "outputs": [],
      "source": [
        "None"
      ]
    },
    {
      "cell_type": "code",
      "execution_count": null,
      "metadata": {
        "id": "vp8S0PFs8IMR"
      },
      "outputs": [],
      "source": []
    },
    {
      "cell_type": "markdown",
      "metadata": {
        "id": "mASNrZWs8JTh"
      },
      "source": [
        "# **Ejercicio-9.**"
      ]
    },
    {
      "cell_type": "markdown",
      "metadata": {
        "id": "quYHTBoDlr-U"
      },
      "source": [
        "Con los mejores valores de los hiperparámetros encontrados realiza un análisis de la importancia de los factores. Muestra un diagrama de barras de los resultados e incluye tus conclusiones."
      ]
    },
    {
      "cell_type": "code",
      "execution_count": null,
      "metadata": {
        "id": "X6HJP9hb8LCp"
      },
      "outputs": [],
      "source": [
        "None"
      ]
    },
    {
      "cell_type": "code",
      "execution_count": null,
      "metadata": {
        "id": "Xr6oe1VF8K_A"
      },
      "outputs": [],
      "source": []
    },
    {
      "cell_type": "markdown",
      "metadata": {
        "id": "VUIcDshs8MzG"
      },
      "source": [
        "# **Ejercicio-10.**"
      ]
    },
    {
      "cell_type": "markdown",
      "metadata": {
        "id": "P2NltBZ8lr-V"
      },
      "source": [
        "Repite el ejercicio 8 y 9 para el modelo de bosque aleatorio para buscar sus mejores hiperparámetros (realiza la búsqueda con aquellos hiperparámetros que consideres más adecuados) y usando el conjunto de Prueba. Y realiza igualmente el análisis de importancia de  factores con este modelo con un diagrama de barras. "
      ]
    },
    {
      "cell_type": "code",
      "execution_count": null,
      "metadata": {
        "id": "0lKNJNIt8N88"
      },
      "outputs": [],
      "source": [
        "None"
      ]
    },
    {
      "cell_type": "code",
      "execution_count": null,
      "metadata": {
        "id": "Inkq5YQe8PED"
      },
      "outputs": [],
      "source": []
    },
    {
      "cell_type": "markdown",
      "metadata": {
        "id": "5LJl6oql8Pc8"
      },
      "source": [
        "# **Ejercicio-11.**"
      ]
    },
    {
      "cell_type": "markdown",
      "metadata": {
        "id": "bc0X2EJ4lr-V"
      },
      "source": [
        "Repite el ejercicio 8 y 9 para el modelo de regresión lineal múltiple para buscar sus mejores hiperparámetros (realiza la búsqueda con aquellos hiperparámetros que consideres más adecuados) y usando el conjunto de Prueba. Y realiza igualmente el análisis de importancia de factores con este modelo con un diagrama de barras. "
      ]
    },
    {
      "cell_type": "code",
      "execution_count": null,
      "metadata": {
        "id": "-YiSnt9t8RfN"
      },
      "outputs": [],
      "source": [
        "None"
      ]
    },
    {
      "cell_type": "code",
      "execution_count": null,
      "metadata": {
        "id": "2iRA78ZC8Rbm"
      },
      "outputs": [],
      "source": []
    },
    {
      "cell_type": "markdown",
      "metadata": {
        "id": "IKW72uyk8Sbc"
      },
      "source": [
        "# **Ejercicio-12.**"
      ]
    },
    {
      "cell_type": "markdown",
      "metadata": {
        "id": "sV1suMT0lr-V"
      },
      "source": [
        "Compara tus resultados con los obtenidos por los autores del artículo de Moro-Rita-Vala con respecto a MAPE. Incluye tus conclusiones finales de la actividad."
      ]
    },
    {
      "cell_type": "code",
      "execution_count": null,
      "metadata": {
        "id": "gwpz77W38Uq0"
      },
      "outputs": [],
      "source": [
        "None"
      ]
    },
    {
      "cell_type": "code",
      "execution_count": null,
      "metadata": {
        "id": "8v8HL02W8UmW"
      },
      "outputs": [],
      "source": []
    },
    {
      "cell_type": "markdown",
      "metadata": {
        "id": "7ql_r2G-DB_m"
      },
      "source": [
        "### **Fin de la Actividad de la semana 7.**"
      ]
    }
  ],
  "metadata": {
    "colab": {
      "collapsed_sections": [],
      "provenance": [],
      "include_colab_link": true
    },
    "kernelspec": {
      "display_name": "Python 3.10.7 64-bit",
      "language": "python",
      "name": "python3"
    },
    "language_info": {
      "codemirror_mode": {
        "name": "ipython",
        "version": 3
      },
      "file_extension": ".py",
      "mimetype": "text/x-python",
      "name": "python",
      "nbconvert_exporter": "python",
      "pygments_lexer": "ipython3",
      "version": "3.10.7"
    },
    "vscode": {
      "interpreter": {
        "hash": "4435b413409b7307cd356ee89e19765aec4b40a42c29a345f39f43dd56cea7e2"
      }
    }
  },
  "nbformat": 4,
  "nbformat_minor": 0
}